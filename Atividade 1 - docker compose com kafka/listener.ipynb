{
 "cells": [
  {
   "cell_type": "code",
   "execution_count": 26,
   "metadata": {},
   "outputs": [
    {
     "name": "stdout",
     "output_type": "stream",
     "text": [
      "Requirement already satisfied: kafka-python in ./atividade_kafka/lib/python3.10/site-packages (2.0.2)\n",
      "Note: you may need to restart the kernel to use updated packages.\n"
     ]
    }
   ],
   "source": [
    "pip install kafka-python"
   ]
  },
  {
   "cell_type": "code",
   "execution_count": 27,
   "metadata": {},
   "outputs": [
    {
     "name": "stdout",
     "output_type": "stream",
     "text": [
      "Tabela 'movies' criada com sucesso!\n"
     ]
    }
   ],
   "source": [
    "from kafka import KafkaConsumer\n",
    "import sqlite3\n",
    "import json\n",
    "\n",
    "# Conexão ao SQLite\n",
    "conn = sqlite3.connect('movies.db')\n",
    "cursor = conn.cursor()\n",
    "\n",
    "# Criação da tabela com colunas correspondentes aos campos do JSON\n",
    "cursor.execute('''\n",
    "CREATE TABLE IF NOT EXISTS movies (\n",
    "    id INTEGER PRIMARY KEY,\n",
    "    adult BOOLEAN,\n",
    "    backdrop_path TEXT,\n",
    "    belongs_to_collection TEXT,\n",
    "    budget INTEGER,\n",
    "    homepage TEXT,\n",
    "    imdb_id TEXT,\n",
    "    original_language TEXT,\n",
    "    original_title TEXT,\n",
    "    overview TEXT,\n",
    "    popularity REAL,\n",
    "    poster_path TEXT,\n",
    "    video BOOLEAN,\n",
    "    vote_average REAL,\n",
    "    vote_count INTEGER,\n",
    "    name TEXT, \n",
    "    url TEXT  \n",
    ");\n",
    "''')\n",
    "conn.commit()\n",
    "\n",
    "print(\"Tabela 'movies' criada com sucesso!\")\n",
    "cursor.close()\n",
    "conn.close()\n"
   ]
  },
  {
   "cell_type": "code",
   "execution_count": 28,
   "metadata": {},
   "outputs": [
    {
     "name": "stdout",
     "output_type": "stream",
     "text": [
      "Todos os dados da tabela 'movies' foram deletados!\n"
     ]
    }
   ],
   "source": [
    "# Conexão ao SQLite para deletar todos os registros (pode ser ajustado)\n",
    "conn = sqlite3.connect('movies.db')\n",
    "cursor = conn.cursor()\n",
    "cursor.execute('DELETE FROM movies')\n",
    "conn.commit()\n",
    "\n",
    "print(\"Todos os dados da tabela 'movies' foram deletados!\")\n",
    "cursor.close()\n",
    "conn.close()"
   ]
  },
  {
   "cell_type": "markdown",
   "metadata": {},
   "source": [
    "### Inicialização do \"ouvinte\" da fila que, a cada leitura, faz uma inserção no banco de dados."
   ]
  },
  {
   "cell_type": "code",
   "execution_count": 29,
   "metadata": {},
   "outputs": [
    {
     "name": "stdout",
     "output_type": "stream",
     "text": [
      "Dados do filme Muzzle foram inseridos no SQLite.\n",
      "Mensagem do Kafka ouvida:  b'{\"adult\": false, \"backdrop_path\": \"/eSsMzJpzAwCa69tm6Wco2il44aJ.jpg\", \"belongs_to_collection\": null, \"budget\": 0, \"homepage\": \"https://muzzlemovie.com\", \"id\": 939335, \"imdb_id\": \"tt17663876\", \"original_language\": \"en\", \"original_title\": \"Muzzle\", \"overview\": \"LAPD K-9 officer Jake Rosser has just witnessed the shocking murder of his dedicated partner by a mysterious assailant. As he investigates the shooter\\\\u2019s identity, he uncovers a vast conspiracy that has a chokehold on the city in this thrilling journey through the tangled streets of Los Angeles and the corrupt bureaucracy of the LAPD.\", \"popularity\": 1451.551, \"poster_path\": \"/qXChf7MFL36BgoLkiB3BzXiwW82.jpg\", \"video\": false, \"vote_average\": 6.292, \"vote_count\": 48, \"name\": \"Muzzle\", \"url\": \"https://api.themoviedb.org/3/movie/939335?api_key=faa82585bb153b3362a84dc30fe51c35\"}'\n",
      "Dados do filme Desperation Road foram inseridos no SQLite.\n",
      "Mensagem do Kafka ouvida:  b'{\"adult\": false, \"backdrop_path\": \"/h7BoGo4NhckWRiMUCi3Qr8GwBDA.jpg\", \"belongs_to_collection\": null, \"budget\": 0, \"homepage\": \"\", \"id\": 1039690, \"imdb_id\": \"tt14633464\", \"original_language\": \"en\", \"original_title\": \"Desperation Road\", \"overview\": \"After 11 years in a Mississippi state prison, Russell Gaines struggles to leave his past sins behind him as he returns home to his stoic father, Mitchell. One fateful night he meets Maben, a young mother with nothing but a stolen gun and a murdered police deputy to her name. Desperate and on the run, Russell and Maben must trust one another to escape their own circumstances, before the truths of their intertwined violent past threatens to destroy them.\", \"popularity\": 1373.178, \"poster_path\": \"/tPyj6Gii1HrnzCbJXEF7JdSFkQ8.jpg\", \"video\": false, \"vote_average\": 7.65, \"vote_count\": 20, \"name\": \"Desperation Road\", \"url\": \"https://api.themoviedb.org/3/movie/1039690?api_key=faa82585bb153b3362a84dc30fe51c35\"}'\n",
      "Dados do filme Coco foram inseridos no SQLite.\n",
      "Mensagem do Kafka ouvida:  b'{\"adult\": false, \"backdrop_path\": \"/askg3SMvhqEl4OL52YuvdtY40Yb.jpg\", \"belongs_to_collection\": null, \"budget\": 175000000, \"homepage\": \"https://www.pixar.com/feature-films/coco\", \"id\": 354912, \"imdb_id\": \"tt2380307\", \"original_language\": \"en\", \"original_title\": \"Coco\", \"overview\": \"Despite his family\\\\u2019s baffling generations-old ban on music, Miguel dreams of becoming an accomplished musician like his idol, Ernesto de la Cruz. Desperate to prove his talent, Miguel finds himself in the stunning and colorful Land of the Dead following a mysterious chain of events. Along the way, he meets charming trickster Hector, and together, they set off on an extraordinary journey to unlock the real story behind Miguel\\'s family history.\", \"popularity\": 920.431, \"poster_path\": \"/gGEsBPAijhVUFoiNpgZXqRVWJt2.jpg\", \"video\": false, \"vote_average\": 8.22, \"vote_count\": 17949, \"name\": \"Coco\", \"url\": \"https://api.themoviedb.org/3/movie/354912?api_key=faa82585bb153b3362a84dc30fe51c35\"}'\n",
      "Dados do filme Sound of Freedom foram inseridos no SQLite.\n",
      "Mensagem do Kafka ouvida:  b'{\"adult\": false, \"backdrop_path\": \"/pA3vdhadJPxF5GA1uo8OPTiNQDT.jpg\", \"belongs_to_collection\": null, \"budget\": 14500000, \"homepage\": \"https://www.soundoffreedommovie.com/\", \"id\": 678512, \"imdb_id\": \"tt7599146\", \"original_language\": \"en\", \"original_title\": \"Sound of Freedom\", \"overview\": \"The story of Tim Ballard, a former US government agent, who quits his job in order to devote his life to rescuing children from global sex traffickers.\", \"popularity\": 869.925, \"poster_path\": \"/qA5kPYZA7FkVvqcEfJRoOy4kpHg.jpg\", \"video\": false, \"vote_average\": 8.135, \"vote_count\": 1063, \"name\": \"Sound of Freedom\", \"url\": \"https://api.themoviedb.org/3/movie/678512?api_key=faa82585bb153b3362a84dc30fe51c35\"}'\n",
      "Dados do filme Blue Beetle foram inseridos no SQLite.\n",
      "Mensagem do Kafka ouvida:  b'{\"adult\": false, \"backdrop_path\": \"/H6j5smdpRqP9a8UnhWp6zfl0SC.jpg\", \"belongs_to_collection\": null, \"budget\": 120000000, \"homepage\": \"https://www.dc.com/bluebeetle\", \"id\": 565770, \"imdb_id\": \"tt9362930\", \"original_language\": \"en\", \"original_title\": \"Blue Beetle\", \"overview\": \"Recent college grad Jaime Reyes returns home full of aspirations for his future, only to find that home is not quite as he left it. As he searches to find his purpose in the world, fate intervenes when Jaime unexpectedly finds himself in possession of an ancient relic of alien biotechnology: the Scarab.\", \"popularity\": 628.827, \"poster_path\": \"/mXLOHHc1Zeuwsl4xYKjKh2280oL.jpg\", \"video\": false, \"vote_average\": 7.031, \"vote_count\": 1434, \"name\": \"Blue Beetle\", \"url\": \"https://api.themoviedb.org/3/movie/565770?api_key=faa82585bb153b3362a84dc30fe51c35\"}'\n",
      "Dados do filme The Burial foram inseridos no SQLite.\n",
      "Mensagem do Kafka ouvida:  b'{\"adult\": false, \"backdrop_path\": \"/aOI3o06xhCgLmA6Bcpm4KRDeMXF.jpg\", \"belongs_to_collection\": null, \"budget\": 0, \"homepage\": \"https://www.amazon.com/dp/B0B8MY3YZN\", \"id\": 763165, \"imdb_id\": \"tt5648882\", \"original_language\": \"en\", \"original_title\": \"The Burial\", \"overview\": \"When a handshake deal goes sour, funeral home owner Jeremiah O\\'Keefe enlists charismatic, smooth-talking attorney Willie E. Gary to save his family business. Tempers flare and laughter ensues as the unlikely pair bond while exposing corporate corruption and racial injustice.\", \"popularity\": 438.491, \"poster_path\": \"/9ssNSfNKpzZwhbFsnW3wa82m2sG.jpg\", \"video\": false, \"vote_average\": 7.374, \"vote_count\": 179, \"name\": \"The Burial\", \"url\": \"https://api.themoviedb.org/3/movie/763165?api_key=faa82585bb153b3362a84dc30fe51c35\"}'\n",
      "Dados do filme Scarygirl foram inseridos no SQLite.\n",
      "Mensagem do Kafka ouvida:  b'{\"adult\": false, \"backdrop_path\": \"/nCiqQYXJdaw3SqY6XZFx4r1IZTI.jpg\", \"belongs_to_collection\": null, \"budget\": 0, \"homepage\": \"\", \"id\": 502345, \"imdb_id\": \"tt4556264\", \"original_language\": \"en\", \"original_title\": \"Scarygirl\", \"overview\": \"As her world is shrouded in darkness, a young girl must overcome her fears and travel to a mysterious city of light, save her father from a dangerous scientist and prevent the destruction of her planet.\", \"popularity\": 343.837, \"poster_path\": \"/1tcLXVaXFG9OObnCN3a5KrymrQG.jpg\", \"video\": false, \"vote_average\": 7.219, \"vote_count\": 32, \"name\": \"Scarygirl\", \"url\": \"https://api.themoviedb.org/3/movie/502345?api_key=faa82585bb153b3362a84dc30fe51c35\"}'\n"
     ]
    },
    {
     "ename": "KeyboardInterrupt",
     "evalue": "",
     "output_type": "error",
     "traceback": [
      "\u001b[0;31m---------------------------------------------------------------------------\u001b[0m",
      "\u001b[0;31mKeyboardInterrupt\u001b[0m                         Traceback (most recent call last)",
      "\u001b[1;32m/root/Projects/Modulo8/listener.ipynb Cell 5\u001b[0m line \u001b[0;36m8\n\u001b[1;32m     <a href='vscode-notebook-cell://wsl%2Bubuntu/root/Projects/Modulo8/listener.ipynb#W4sdnNjb2RlLXJlbW90ZQ%3D%3D?line=80'>81</a>\u001b[0m         \u001b[39mprint\u001b[39m(\u001b[39mf\u001b[39m\u001b[39m\"\u001b[39m\u001b[39mErro ao inserir no SQLite: \u001b[39m\u001b[39m{\u001b[39;00me\u001b[39m}\u001b[39;00m\u001b[39m\"\u001b[39m)\n\u001b[1;32m     <a href='vscode-notebook-cell://wsl%2Bubuntu/root/Projects/Modulo8/listener.ipynb#W4sdnNjb2RlLXJlbW90ZQ%3D%3D?line=82'>83</a>\u001b[0m \u001b[39m# Loop para consumir mensagens do Kafka\u001b[39;00m\n\u001b[0;32m---> <a href='vscode-notebook-cell://wsl%2Bubuntu/root/Projects/Modulo8/listener.ipynb#W4sdnNjb2RlLXJlbW90ZQ%3D%3D?line=83'>84</a>\u001b[0m \u001b[39mfor\u001b[39;00m message \u001b[39min\u001b[39;00m consumer:\n\u001b[1;32m     <a href='vscode-notebook-cell://wsl%2Bubuntu/root/Projects/Modulo8/listener.ipynb#W4sdnNjb2RlLXJlbW90ZQ%3D%3D?line=84'>85</a>\u001b[0m     kafka_callback(message)\n\u001b[1;32m     <a href='vscode-notebook-cell://wsl%2Bubuntu/root/Projects/Modulo8/listener.ipynb#W4sdnNjb2RlLXJlbW90ZQ%3D%3D?line=86'>87</a>\u001b[0m \u001b[39m# Fechando a conexão do SQLite\u001b[39;00m\n",
      "File \u001b[0;32m~/Projects/Modulo8/atividade_kafka/lib/python3.10/site-packages/kafka/consumer/group.py:1193\u001b[0m, in \u001b[0;36mKafkaConsumer.__next__\u001b[0;34m(self)\u001b[0m\n\u001b[1;32m   1191\u001b[0m     \u001b[39mreturn\u001b[39;00m \u001b[39mself\u001b[39m\u001b[39m.\u001b[39mnext_v1()\n\u001b[1;32m   1192\u001b[0m \u001b[39melse\u001b[39;00m:\n\u001b[0;32m-> 1193\u001b[0m     \u001b[39mreturn\u001b[39;00m \u001b[39mself\u001b[39;49m\u001b[39m.\u001b[39;49mnext_v2()\n",
      "File \u001b[0;32m~/Projects/Modulo8/atividade_kafka/lib/python3.10/site-packages/kafka/consumer/group.py:1201\u001b[0m, in \u001b[0;36mKafkaConsumer.next_v2\u001b[0;34m(self)\u001b[0m\n\u001b[1;32m   1199\u001b[0m     \u001b[39mself\u001b[39m\u001b[39m.\u001b[39m_iterator \u001b[39m=\u001b[39m \u001b[39mself\u001b[39m\u001b[39m.\u001b[39m_message_generator_v2()\n\u001b[1;32m   1200\u001b[0m \u001b[39mtry\u001b[39;00m:\n\u001b[0;32m-> 1201\u001b[0m     \u001b[39mreturn\u001b[39;00m \u001b[39mnext\u001b[39;49m(\u001b[39mself\u001b[39;49m\u001b[39m.\u001b[39;49m_iterator)\n\u001b[1;32m   1202\u001b[0m \u001b[39mexcept\u001b[39;00m \u001b[39mStopIteration\u001b[39;00m:\n\u001b[1;32m   1203\u001b[0m     \u001b[39mself\u001b[39m\u001b[39m.\u001b[39m_iterator \u001b[39m=\u001b[39m \u001b[39mNone\u001b[39;00m\n",
      "File \u001b[0;32m~/Projects/Modulo8/atividade_kafka/lib/python3.10/site-packages/kafka/consumer/group.py:1116\u001b[0m, in \u001b[0;36mKafkaConsumer._message_generator_v2\u001b[0;34m(self)\u001b[0m\n\u001b[1;32m   1114\u001b[0m \u001b[39mdef\u001b[39;00m \u001b[39m_message_generator_v2\u001b[39m(\u001b[39mself\u001b[39m):\n\u001b[1;32m   1115\u001b[0m     timeout_ms \u001b[39m=\u001b[39m \u001b[39m1000\u001b[39m \u001b[39m*\u001b[39m (\u001b[39mself\u001b[39m\u001b[39m.\u001b[39m_consumer_timeout \u001b[39m-\u001b[39m time\u001b[39m.\u001b[39mtime())\n\u001b[0;32m-> 1116\u001b[0m     record_map \u001b[39m=\u001b[39m \u001b[39mself\u001b[39;49m\u001b[39m.\u001b[39;49mpoll(timeout_ms\u001b[39m=\u001b[39;49mtimeout_ms, update_offsets\u001b[39m=\u001b[39;49m\u001b[39mFalse\u001b[39;49;00m)\n\u001b[1;32m   1117\u001b[0m     \u001b[39mfor\u001b[39;00m tp, records \u001b[39min\u001b[39;00m six\u001b[39m.\u001b[39miteritems(record_map):\n\u001b[1;32m   1118\u001b[0m         \u001b[39m# Generators are stateful, and it is possible that the tp / records\u001b[39;00m\n\u001b[1;32m   1119\u001b[0m         \u001b[39m# here may become stale during iteration -- i.e., we seek to a\u001b[39;00m\n\u001b[1;32m   1120\u001b[0m         \u001b[39m# different offset, pause consumption, or lose assignment.\u001b[39;00m\n\u001b[1;32m   1121\u001b[0m         \u001b[39mfor\u001b[39;00m record \u001b[39min\u001b[39;00m records:\n\u001b[1;32m   1122\u001b[0m             \u001b[39m# is_fetchable(tp) should handle assignment changes and offset\u001b[39;00m\n\u001b[1;32m   1123\u001b[0m             \u001b[39m# resets; for all other changes (e.g., seeks) we'll rely on the\u001b[39;00m\n\u001b[1;32m   1124\u001b[0m             \u001b[39m# outer function destroying the existing iterator/generator\u001b[39;00m\n\u001b[1;32m   1125\u001b[0m             \u001b[39m# via self._iterator = None\u001b[39;00m\n",
      "File \u001b[0;32m~/Projects/Modulo8/atividade_kafka/lib/python3.10/site-packages/kafka/consumer/group.py:655\u001b[0m, in \u001b[0;36mKafkaConsumer.poll\u001b[0;34m(self, timeout_ms, max_records, update_offsets)\u001b[0m\n\u001b[1;32m    653\u001b[0m remaining \u001b[39m=\u001b[39m timeout_ms\n\u001b[1;32m    654\u001b[0m \u001b[39mwhile\u001b[39;00m \u001b[39mTrue\u001b[39;00m:\n\u001b[0;32m--> 655\u001b[0m     records \u001b[39m=\u001b[39m \u001b[39mself\u001b[39;49m\u001b[39m.\u001b[39;49m_poll_once(remaining, max_records, update_offsets\u001b[39m=\u001b[39;49mupdate_offsets)\n\u001b[1;32m    656\u001b[0m     \u001b[39mif\u001b[39;00m records:\n\u001b[1;32m    657\u001b[0m         \u001b[39mreturn\u001b[39;00m records\n",
      "File \u001b[0;32m~/Projects/Modulo8/atividade_kafka/lib/python3.10/site-packages/kafka/consumer/group.py:702\u001b[0m, in \u001b[0;36mKafkaConsumer._poll_once\u001b[0;34m(self, timeout_ms, max_records, update_offsets)\u001b[0m\n\u001b[1;32m    699\u001b[0m     \u001b[39mself\u001b[39m\u001b[39m.\u001b[39m_client\u001b[39m.\u001b[39mpoll(timeout_ms\u001b[39m=\u001b[39m\u001b[39m0\u001b[39m)\n\u001b[1;32m    701\u001b[0m timeout_ms \u001b[39m=\u001b[39m \u001b[39mmin\u001b[39m(timeout_ms, \u001b[39mself\u001b[39m\u001b[39m.\u001b[39m_coordinator\u001b[39m.\u001b[39mtime_to_next_poll() \u001b[39m*\u001b[39m \u001b[39m1000\u001b[39m)\n\u001b[0;32m--> 702\u001b[0m \u001b[39mself\u001b[39;49m\u001b[39m.\u001b[39;49m_client\u001b[39m.\u001b[39;49mpoll(timeout_ms\u001b[39m=\u001b[39;49mtimeout_ms)\n\u001b[1;32m    703\u001b[0m \u001b[39m# after the long poll, we should check whether the group needs to rebalance\u001b[39;00m\n\u001b[1;32m    704\u001b[0m \u001b[39m# prior to returning data so that the group can stabilize faster\u001b[39;00m\n\u001b[1;32m    705\u001b[0m \u001b[39mif\u001b[39;00m \u001b[39mself\u001b[39m\u001b[39m.\u001b[39m_coordinator\u001b[39m.\u001b[39mneed_rejoin():\n",
      "File \u001b[0;32m~/Projects/Modulo8/atividade_kafka/lib/python3.10/site-packages/kafka/client_async.py:602\u001b[0m, in \u001b[0;36mKafkaClient.poll\u001b[0;34m(self, timeout_ms, future)\u001b[0m\n\u001b[1;32m    599\u001b[0m             timeout \u001b[39m=\u001b[39m \u001b[39mmin\u001b[39m(timeout, \u001b[39mself\u001b[39m\u001b[39m.\u001b[39mconfig[\u001b[39m'\u001b[39m\u001b[39mretry_backoff_ms\u001b[39m\u001b[39m'\u001b[39m])\n\u001b[1;32m    600\u001b[0m         timeout \u001b[39m=\u001b[39m \u001b[39mmax\u001b[39m(\u001b[39m0\u001b[39m, timeout)  \u001b[39m# avoid negative timeouts\u001b[39;00m\n\u001b[0;32m--> 602\u001b[0m     \u001b[39mself\u001b[39;49m\u001b[39m.\u001b[39;49m_poll(timeout \u001b[39m/\u001b[39;49m \u001b[39m1000\u001b[39;49m)\n\u001b[1;32m    604\u001b[0m \u001b[39m# called without the lock to avoid deadlock potential\u001b[39;00m\n\u001b[1;32m    605\u001b[0m \u001b[39m# if handlers need to acquire locks\u001b[39;00m\n\u001b[1;32m    606\u001b[0m responses\u001b[39m.\u001b[39mextend(\u001b[39mself\u001b[39m\u001b[39m.\u001b[39m_fire_pending_completed_requests())\n",
      "File \u001b[0;32m~/Projects/Modulo8/atividade_kafka/lib/python3.10/site-packages/kafka/client_async.py:634\u001b[0m, in \u001b[0;36mKafkaClient._poll\u001b[0;34m(self, timeout)\u001b[0m\n\u001b[1;32m    631\u001b[0m \u001b[39mself\u001b[39m\u001b[39m.\u001b[39m_register_send_sockets()\n\u001b[1;32m    633\u001b[0m start_select \u001b[39m=\u001b[39m time\u001b[39m.\u001b[39mtime()\n\u001b[0;32m--> 634\u001b[0m ready \u001b[39m=\u001b[39m \u001b[39mself\u001b[39;49m\u001b[39m.\u001b[39;49m_selector\u001b[39m.\u001b[39;49mselect(timeout)\n\u001b[1;32m    635\u001b[0m end_select \u001b[39m=\u001b[39m time\u001b[39m.\u001b[39mtime()\n\u001b[1;32m    636\u001b[0m \u001b[39mif\u001b[39;00m \u001b[39mself\u001b[39m\u001b[39m.\u001b[39m_sensors:\n",
      "File \u001b[0;32m~/.pyenv/versions/3.10.6/lib/python3.10/selectors.py:469\u001b[0m, in \u001b[0;36mEpollSelector.select\u001b[0;34m(self, timeout)\u001b[0m\n\u001b[1;32m    467\u001b[0m ready \u001b[39m=\u001b[39m []\n\u001b[1;32m    468\u001b[0m \u001b[39mtry\u001b[39;00m:\n\u001b[0;32m--> 469\u001b[0m     fd_event_list \u001b[39m=\u001b[39m \u001b[39mself\u001b[39;49m\u001b[39m.\u001b[39;49m_selector\u001b[39m.\u001b[39;49mpoll(timeout, max_ev)\n\u001b[1;32m    470\u001b[0m \u001b[39mexcept\u001b[39;00m \u001b[39mInterruptedError\u001b[39;00m:\n\u001b[1;32m    471\u001b[0m     \u001b[39mreturn\u001b[39;00m ready\n",
      "\u001b[0;31mKeyboardInterrupt\u001b[0m: "
     ]
    }
   ],
   "source": [
    "from kafka import KafkaConsumer\n",
    "import sqlite3\n",
    "import json\n",
    "\n",
    "# Configurações do Kafka Consumer\n",
    "consumer = KafkaConsumer('atividade_kafka', bootstrap_servers='localhost:9092')\n",
    "\n",
    "# Conexão ao SQLite\n",
    "conn = sqlite3.connect('movies.db')\n",
    "cursor = conn.cursor()\n",
    "\n",
    "# Função para verificar se um valor é numérico\n",
    "def is_numeric(value):\n",
    "    try:\n",
    "        float(value)\n",
    "        return True\n",
    "    except (ValueError, TypeError):\n",
    "        return False\n",
    "\n",
    "# Função para tratar os dados de cada coluna\n",
    "def process_data(data):\n",
    "    # Verifica e trata cada coluna\n",
    "    data['id'] = data.get('id', None)\n",
    "    data['adult'] = bool(data.get('adult', False))\n",
    "    data['backdrop_path'] = data.get('backdrop_path', None)\n",
    "    data['belongs_to_collection'] = data.get('belongs_to_collection', None)\n",
    "    data['budget'] = data.get('budget', None)\n",
    "    data['homepage'] = data.get('homepage', None)\n",
    "    data['imdb_id'] = data.get('imdb_id', None)\n",
    "    data['original_language'] = data.get('original_language', None)\n",
    "    data['original_title'] = data.get('original_title', None)\n",
    "    data['overview'] = data.get('overview', None)\n",
    "    data['popularity'] = data.get('popularity', None)\n",
    "    data['poster_path'] = data.get('poster_path', None)\n",
    "    data['video'] = bool(data.get('video', False))\n",
    "    data['vote_average'] = data.get('vote_average', None)\n",
    "    data['vote_count'] = data.get('vote_count', None)\n",
    "    data['name'] = data.get('name', 'Desconhecido')\n",
    "    data['url'] = data.get('url', None)\n",
    "\n",
    "    # Adicione verificações e tratamentos adicionais para outras colunas, se necessário\n",
    "\n",
    "    return data\n",
    "\n",
    "# Função callback para processar mensagens do Kafka\n",
    "def kafka_callback(message):\n",
    "    try:\n",
    "        if message.value:\n",
    "            data = json.loads(message.value)\n",
    "\n",
    "            if isinstance(data, dict):\n",
    "                # Processa os dados antes da inserção\n",
    "                data = process_data(data)\n",
    "\n",
    "                cursor.execute('''\n",
    "                INSERT INTO movies (\n",
    "                    id, adult, backdrop_path, belongs_to_collection, budget, homepage,\n",
    "                    imdb_id, original_language, original_title, overview, popularity,\n",
    "                    poster_path, video, vote_average, vote_count, name, url\n",
    "                )\n",
    "                VALUES (?, ?, ?, ?, ?, ?, ?, ?, ?, ?, ?, ?, ?, ?, ?, ?, ?)\n",
    "                ''', (\n",
    "                    data['id'], data['adult'], data['backdrop_path'], \n",
    "                    data['belongs_to_collection'], data['budget'], data['homepage'],\n",
    "                    data['imdb_id'], data['original_language'], data['original_title'], \n",
    "                    data['overview'], data['popularity'], data['poster_path'],\n",
    "                    data['video'], data['vote_average'], data['vote_count'], \n",
    "                    data['name'], data['url']\n",
    "                ))\n",
    "                conn.commit()\n",
    "\n",
    "                print(f\"Dados do filme {data['name']} foram inseridos no SQLite.\")\n",
    "            else:\n",
    "                print(\"Erro: Mensagem não está em formato JSON válido. Ignorando...\")\n",
    "\n",
    "        print(\"Mensagem do Kafka ouvida: \", message.value)\n",
    "\n",
    "    except json.JSONDecodeError as e:\n",
    "        print(f\"Erro ao decodificar a mensagem JSON: {e}\")\n",
    "    except Exception as e:\n",
    "        print(f\"Erro ao inserir no SQLite: {e}\")\n",
    "\n",
    "# Loop para consumir mensagens do Kafka\n",
    "for message in consumer:\n",
    "    kafka_callback(message)\n",
    "\n",
    "# Fechando a conexão do SQLite\n",
    "conn.close()\n"
   ]
  }
 ],
 "metadata": {
  "kernelspec": {
   "display_name": "atividade_kafka",
   "language": "python",
   "name": "python3"
  },
  "language_info": {
   "codemirror_mode": {
    "name": "ipython",
    "version": 3
   },
   "file_extension": ".py",
   "mimetype": "text/x-python",
   "name": "python",
   "nbconvert_exporter": "python",
   "pygments_lexer": "ipython3",
   "version": "3.10.6"
  }
 },
 "nbformat": 4,
 "nbformat_minor": 2
}
