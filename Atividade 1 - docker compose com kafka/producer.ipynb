{
 "cells": [
  {
   "cell_type": "markdown",
   "metadata": {},
   "source": [
    "## Producer"
   ]
  },
  {
   "cell_type": "markdown",
   "metadata": {},
   "source": [
    "### Instalação dos pacotes e bibliotecas necessários"
   ]
  },
  {
   "cell_type": "code",
   "execution_count": 19,
   "metadata": {},
   "outputs": [
    {
     "name": "stdout",
     "output_type": "stream",
     "text": [
      "Requirement already satisfied: pip in ./atividade_kafka/lib/python3.10/site-packages (23.3.1)\n",
      "Requirement already satisfied: pymongo in ./atividade_kafka/lib/python3.10/site-packages (4.5.0)\n",
      "Requirement already satisfied: dnspython<3.0.0,>=1.16.0 in ./atividade_kafka/lib/python3.10/site-packages (from pymongo) (2.4.2)\n",
      "Requirement already satisfied: requests in ./atividade_kafka/lib/python3.10/site-packages (2.31.0)\n",
      "Requirement already satisfied: charset-normalizer<4,>=2 in ./atividade_kafka/lib/python3.10/site-packages (from requests) (3.3.2)\n",
      "Requirement already satisfied: idna<4,>=2.5 in ./atividade_kafka/lib/python3.10/site-packages (from requests) (3.4)\n",
      "Requirement already satisfied: urllib3<3,>=1.21.1 in ./atividade_kafka/lib/python3.10/site-packages (from requests) (2.0.7)\n",
      "Requirement already satisfied: certifi>=2017.4.17 in ./atividade_kafka/lib/python3.10/site-packages (from requests) (2023.7.22)\n",
      "Requirement already satisfied: pika in ./atividade_kafka/lib/python3.10/site-packages (1.3.2)\n",
      "Requirement already satisfied: pysqlite3 in ./atividade_kafka/lib/python3.10/site-packages (0.5.2)\n"
     ]
    }
   ],
   "source": [
    "!pip install --upgrade pip\n",
    "!pip install requests\n",
    "!pip install pika\n",
    "!pip install pysqlite3"
   ]
  },
  {
   "cell_type": "code",
   "execution_count": 20,
   "metadata": {},
   "outputs": [],
   "source": [
    "import requests\n",
    "import json\n",
    "from kafka import KafkaProducer\n",
    "import requests\n",
    "import json"
   ]
  },
  {
   "cell_type": "markdown",
   "metadata": {},
   "source": [
    "### Conexão com a API \"the movie\" e envio dos filmes para o tópico \"atividade_kafka\" "
   ]
  },
  {
   "cell_type": "code",
   "execution_count": 26,
   "metadata": {},
   "outputs": [
    {
     "name": "stdout",
     "output_type": "stream",
     "text": [
      "Obtendo dados para o Filme 7/20: Muzzle\n",
      "Dados do filme Muzzle enviados para o Kafka.\n",
      "Obtendo dados para o Filme 8/20: Desperation Road\n",
      "Dados do filme Desperation Road enviados para o Kafka.\n",
      "Obtendo dados para o Filme 10/20: Coco\n",
      "Dados do filme Coco enviados para o Kafka.\n",
      "Obtendo dados para o Filme 12/20: Sound of Freedom\n",
      "Dados do filme Sound of Freedom enviados para o Kafka.\n",
      "Obtendo dados para o Filme 15/20: Blue Beetle\n",
      "Dados do filme Blue Beetle enviados para o Kafka.\n",
      "Obtendo dados para o Filme 16/20: The Burial\n",
      "Dados do filme The Burial enviados para o Kafka.\n",
      "Obtendo dados para o Filme 19/20: Scarygirl\n",
      "Dados do filme Scarygirl enviados para o Kafka.\n",
      "7 filmes enviados com sucesso para o tópico do Kafka!\n"
     ]
    }
   ],
   "source": [
    "# URL do endpoint da API de filmes\n",
    "url = \"https://api.themoviedb.org/3/movie/now_playing?api_key=faa82585bb153b3362a84dc30fe51c35&page=1&language=pt-BR®ion=br\"\n",
    "\n",
    "# Lista de títulos dos filmes desejados\n",
    "filmes_desejados = [\n",
    "    \"Five Nights at Freddy's\",\n",
    "    \"Retribution\",\n",
    "    \"Muzzle\",\n",
    "    \"Desperation Road\",\n",
    "    \"Coco\",\n",
    "    \"Sound of Freedom\",\n",
    "    \"Mavka: The Forest Song\",\n",
    "    \"Blue Beetle\",\n",
    "    \"The Burial\",\n",
    "    \"57 Seconds\",\n",
    "    \"Killers of the Flower Moon\",\n",
    "    \"Scarygirl\",\n",
    "    \"The Nightmare Before Christmas\"\n",
    "]\n",
    "\n",
    "# Configurando o produtor Kafka\n",
    "producer = KafkaProducer(bootstrap_servers='localhost:9092')\n",
    "\n",
    "# Fazendo a requisição HTTP\n",
    "response = requests.get(url)\n",
    "\n",
    "# Verificando se a requisição foi bem-sucedida (código de status 200)\n",
    "if response.status_code == 200:\n",
    "    # Convertendo a resposta para JSON\n",
    "    data = response.json()\n",
    "\n",
    "    # Obtendo a lista de filmes\n",
    "    filmes = data[\"results\"]\n",
    "\n",
    "    # Contador para controlar o número de filmes enviados\n",
    "    filmes_enviados = 0\n",
    "\n",
    "    for index, filme in enumerate(filmes):\n",
    "        # Verificar se o título do filme está na lista de filmes desejados\n",
    "        if filme['title'] in filmes_desejados:\n",
    "            filme_url = f\"https://api.themoviedb.org/3/movie/{filme['id']}?api_key=faa82585bb153b3362a84dc30fe51c35\"\n",
    "\n",
    "            print(f\"Obtendo dados para o Filme {index + 1}/{len(filmes)}: {filme['title']}\")\n",
    "\n",
    "            filme_data = requests.get(filme_url).json()\n",
    "\n",
    "            # Verifica se filme_data não está vazio\n",
    "            if filme_data:\n",
    "                # Estruturando os dados para envio ao Kafka\n",
    "                record = {\n",
    "                    \"adult\": filme_data.get(\"adult\"),\n",
    "                    \"backdrop_path\": filme_data.get(\"backdrop_path\"),\n",
    "                    \"belongs_to_collection\": filme_data.get(\"belongs_to_collection\"),\n",
    "                    \"budget\": filme_data.get(\"budget\"),\n",
    "                    \"homepage\": filme_data.get(\"homepage\"),\n",
    "                    \"id\": filme_data.get(\"id\"),\n",
    "                    \"imdb_id\": filme_data.get(\"imdb_id\"),\n",
    "                    \"original_language\": filme_data.get(\"original_language\"),\n",
    "                    \"original_title\": filme_data.get(\"original_title\"),\n",
    "                    \"overview\": filme_data.get(\"overview\"),\n",
    "                    \"popularity\": filme_data.get(\"popularity\"),\n",
    "                    \"poster_path\": filme_data.get(\"poster_path\"),\n",
    "                    \"video\": filme_data.get(\"video\"),\n",
    "                    \"vote_average\": filme_data.get(\"vote_average\"),\n",
    "                    \"vote_count\": filme_data.get(\"vote_count\"),\n",
    "                    \"name\": filme_data.get(\"title\"),\n",
    "                    \"url\": filme_url\n",
    "                }\n",
    "\n",
    "                # Convertendo os dados para formato JSON\n",
    "                json_record = json.dumps(record)\n",
    "\n",
    "                # Enviando o registro para o tópico do Kafka\n",
    "                producer.send('atividade_kafka', value=json_record.encode('utf-8'))\n",
    "\n",
    "                # Incrementar o contador de filmes enviados\n",
    "                filmes_enviados += 1\n",
    "\n",
    "                print(f\"Dados do filme {filme['title']} enviados para o Kafka.\")\n",
    "            else:\n",
    "                print(f\"Erro: Dados vazios para o filme {filme['title']}. Ignorando...\")\n",
    "    \n",
    "    producer.flush()\n",
    "    producer.close()\n",
    "\n",
    "    print(f\"{filmes_enviados} filmes enviados com sucesso para o tópico do Kafka!\")\n",
    "else:\n",
    "    print(f\"Erro ao acessar a API de filmes da TMDb. Código de status: {response.status_code}\")\n"
   ]
  }
 ],
 "metadata": {
  "kernelspec": {
   "display_name": "atividade_kafka",
   "language": "python",
   "name": "python3"
  },
  "language_info": {
   "codemirror_mode": {
    "name": "ipython",
    "version": 3
   },
   "file_extension": ".py",
   "mimetype": "text/x-python",
   "name": "python",
   "nbconvert_exporter": "python",
   "pygments_lexer": "ipython3",
   "version": "3.10.6"
  }
 },
 "nbformat": 4,
 "nbformat_minor": 2
}
