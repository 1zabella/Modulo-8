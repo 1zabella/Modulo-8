{
 "cells": [
  {
   "cell_type": "markdown",
   "metadata": {},
   "source": [
    "## Imports"
   ]
  },
  {
   "cell_type": "code",
   "execution_count": 136,
   "metadata": {
    "scrolled": true
   },
   "outputs": [
    {
     "name": "stdout",
     "output_type": "stream",
     "text": [
      "^C\n"
     ]
    }
   ],
   "source": [
    "!pip install nbresult matplotlib==3.5.3 matplotlib-inline==0.1.6 numpy==1.23.4 pandas seaborn==0.11.2 scipy xgboost scikit-learn\n"
   ]
  },
  {
   "cell_type": "code",
   "execution_count": null,
   "metadata": {},
   "outputs": [
    {
     "name": "stdout",
     "output_type": "stream",
     "text": [
      "Collecting xgboost\n",
      "  Using cached xgboost-2.0.3-py3-none-win_amd64.whl.metadata (2.0 kB)\n",
      "Requirement already satisfied: numpy in c:\\users\\inteli\\appdata\\local\\packages\\pythonsoftwarefoundation.python.3.11_qbz5n2kfra8p0\\localcache\\local-packages\\python311\\site-packages (from xgboost) (1.24.3)\n",
      "Requirement already satisfied: scipy in c:\\users\\inteli\\appdata\\local\\packages\\pythonsoftwarefoundation.python.3.11_qbz5n2kfra8p0\\localcache\\local-packages\\python311\\site-packages (from xgboost) (1.10.1)\n",
      "Using cached xgboost-2.0.3-py3-none-win_amd64.whl (99.8 MB)\n",
      "Installing collected packages: xgboost\n",
      "Successfully installed xgboost-2.0.3\n"
     ]
    },
    {
     "name": "stderr",
     "output_type": "stream",
     "text": [
      "DEPRECATION: codemetrics 0.11.7 has a non-standard dependency specifier pandas>=1<2. pip 24.0 will enforce this behaviour change. A possible replacement is to upgrade to a newer version of codemetrics or contact the author to suggest that they release a version with a conforming dependency specifiers. Discussion can be found at https://github.com/pypa/pip/issues/12063\n",
      "\n",
      "[notice] A new release of pip is available: 23.3.1 -> 23.3.2\n",
      "[notice] To update, run: C:\\Users\\Inteli\\AppData\\Local\\Microsoft\\WindowsApps\\PythonSoftwareFoundation.Python.3.11_qbz5n2kfra8p0\\python.exe -m pip install --upgrade pip\n"
     ]
    }
   ],
   "source": [
    "!pip install xgboost\n"
   ]
  },
  {
   "cell_type": "code",
   "execution_count": null,
   "metadata": {},
   "outputs": [],
   "source": [
    "# Carregue os imports\n",
    "import matplotlib.pyplot as plt\n",
    "import numpy as np\n",
    "import pandas as pd\n",
    "import seaborn as sns\n",
    "\n",
    "from scipy import stats\n",
    "from tempfile import mkdtemp\n",
    "from shutil import rmtree\n",
    "\n",
    "from xgboost import XGBRegressor\n",
    "\n",
    "from sklearn import set_config\n",
    "set_config(display = 'diagram')\n",
    "\n",
    "# Sklearn preprocessing\n",
    "from sklearn.base import BaseEstimator, TransformerMixin\n",
    "from sklearn.compose import make_column_transformer, make_column_selector\n",
    "from sklearn.ensemble import AdaBoostRegressor, VotingRegressor, GradientBoostingRegressor, StackingRegressor, RandomForestRegressor\n",
    "from sklearn.feature_selection import SelectPercentile, mutual_info_regression, VarianceThreshold, SelectFromModel\n",
    "from sklearn.impute import SimpleImputer, KNNImputer\n",
    "from sklearn.linear_model import Ridge, LinearRegression\n",
    "from sklearn.metrics import make_scorer, mean_squared_error, mean_squared_log_error\n",
    "from sklearn.model_selection import train_test_split, cross_val_score, GridSearchCV, RandomizedSearchCV\n",
    "from sklearn.neighbors import KNeighborsRegressor\n",
    "from sklearn.pipeline import make_pipeline\n",
    "from sklearn.preprocessing import MinMaxScaler, OneHotEncoder, OrdinalEncoder\n",
    "from sklearn.svm import SVR\n",
    "from sklearn.tree import DecisionTreeRegressor\n"
   ]
  },
  {
   "cell_type": "markdown",
   "metadata": {},
   "source": [
    "🏆 Desafio em Lote do Kaggle\n",
    "============================\n",
    "\n",
    "**Bem-vindo à sua primeira competição no Kaggle!**\n",
    "\n",
    "Seu objetivo é **submeter uma resposta (online)** para a competição aberta [Preços de Casas - Técnicas Avançadas de Regressão](https://www.kaggle.com/c/house-prices-advanced-regression-techniques/data) 🏠\n",
    "\n",
    "Você será semi-orientado para um **modelo de base**, e somente após criar esse modelo de base você estará livre para aprimorá-lo e refiná-lo. Abordaremos o problema usando **pipelines** (a melhor prática)!\n",
    "\n",
    "Algumas palavras sobre o Kaggle:\n",
    "\n",
    "* O Kaggle classificará sua submissão entre todos os participantes!\n",
    "* Todos são removidos do ranking público após 2 meses\n",
    "* Você pode fazer até 10 submissões por dia\n",
    "\n",
    "🧹 Hoje é o dia perfeito para praticar manter seu longo caderno **organizado** 🧹\n",
    "\n",
    "* Colapse todos os títulos a partir da paleta de comandos (`Cmd + Shift + P`)\n",
    "* Mantenha-se \"idempotente\" (`Restart & Run All` nunca deve falhar)\n",
    "* Nomeie e delete variáveis com cuidado"
   ]
  },
  {
   "cell_type": "markdown",
   "metadata": {},
   "source": [
    "Configuração do Kaggle\n",
    "----------------------\n",
    "\n",
    "👉 Crie uma conta no Kaggle se quiser participar da competição\n",
    "\n",
    "👉 Junte-se ao [Desafio de Preços de Casas](https://www.kaggle.com/c/house-prices-advanced-regression-techniques/data)"
   ]
  },
  {
   "cell_type": "markdown",
   "metadata": {},
   "source": [
    "Carregando Dados\n",
    "----------------\n",
    "\n",
    "Nas instruções do desafio, você já deveria ter executado os passos para baixar tudo o que precisa do Kaggle para a pasta atual do seu notebook:\n",
    "\n",
    "* `train.csv` é o seu conjunto de treinamento `(1460, 81)` contendo `X` e `y`\n",
    "* `test.csv` é o seu conjunto de teste `(1459, 80)` sem o alvo associado `y` 😈\n",
    "* `sample_submission.csv` descreve o formato necessário para submeter sua resposta\n",
    "\n",
    "Seu objetivo é prever o `y_pred` que falta no seu conjunto de teste e submetê-lo para descobrir seu `test_score` e classificação\n",
    "\n",
    "❓ Carregue o conjunto de dados de treinamento em um DataFrame chamado `data`, e crie seu `X` e `y`. Inspecione seus formatos.\n",
    "\n",
    "**Dica:** se você verificar o arquivo CSV, notará uma coluna chamada `Id`. Ao ler o arquivo CSV em um DF, certifique-se de definir `index_col=\"Id\"` para que você não tenha duas colunas de ID 😉"
   ]
  },
  {
   "cell_type": "code",
   "execution_count": 137,
   "metadata": {
    "tags": [
     "challengify"
    ]
   },
   "outputs": [
    {
     "data": {
      "text/html": [
       "<div>\n",
       "<style scoped>\n",
       "    .dataframe tbody tr th:only-of-type {\n",
       "        vertical-align: middle;\n",
       "    }\n",
       "\n",
       "    .dataframe tbody tr th {\n",
       "        vertical-align: top;\n",
       "    }\n",
       "\n",
       "    .dataframe thead th {\n",
       "        text-align: right;\n",
       "    }\n",
       "</style>\n",
       "<table border=\"1\" class=\"dataframe\">\n",
       "  <thead>\n",
       "    <tr style=\"text-align: right;\">\n",
       "      <th></th>\n",
       "      <th>MSSubClass</th>\n",
       "      <th>MSZoning</th>\n",
       "      <th>LotFrontage</th>\n",
       "      <th>LotArea</th>\n",
       "      <th>Street</th>\n",
       "      <th>Alley</th>\n",
       "      <th>LotShape</th>\n",
       "      <th>LandContour</th>\n",
       "      <th>Utilities</th>\n",
       "      <th>LotConfig</th>\n",
       "      <th>...</th>\n",
       "      <th>PoolArea</th>\n",
       "      <th>PoolQC</th>\n",
       "      <th>Fence</th>\n",
       "      <th>MiscFeature</th>\n",
       "      <th>MiscVal</th>\n",
       "      <th>MoSold</th>\n",
       "      <th>YrSold</th>\n",
       "      <th>SaleType</th>\n",
       "      <th>SaleCondition</th>\n",
       "      <th>SalePrice</th>\n",
       "    </tr>\n",
       "    <tr>\n",
       "      <th>Id</th>\n",
       "      <th></th>\n",
       "      <th></th>\n",
       "      <th></th>\n",
       "      <th></th>\n",
       "      <th></th>\n",
       "      <th></th>\n",
       "      <th></th>\n",
       "      <th></th>\n",
       "      <th></th>\n",
       "      <th></th>\n",
       "      <th></th>\n",
       "      <th></th>\n",
       "      <th></th>\n",
       "      <th></th>\n",
       "      <th></th>\n",
       "      <th></th>\n",
       "      <th></th>\n",
       "      <th></th>\n",
       "      <th></th>\n",
       "      <th></th>\n",
       "      <th></th>\n",
       "    </tr>\n",
       "  </thead>\n",
       "  <tbody>\n",
       "    <tr>\n",
       "      <th>1</th>\n",
       "      <td>60</td>\n",
       "      <td>RL</td>\n",
       "      <td>65.0</td>\n",
       "      <td>8450</td>\n",
       "      <td>Pave</td>\n",
       "      <td>NaN</td>\n",
       "      <td>Reg</td>\n",
       "      <td>Lvl</td>\n",
       "      <td>AllPub</td>\n",
       "      <td>Inside</td>\n",
       "      <td>...</td>\n",
       "      <td>0</td>\n",
       "      <td>NaN</td>\n",
       "      <td>NaN</td>\n",
       "      <td>NaN</td>\n",
       "      <td>0</td>\n",
       "      <td>2</td>\n",
       "      <td>2008</td>\n",
       "      <td>WD</td>\n",
       "      <td>Normal</td>\n",
       "      <td>208500</td>\n",
       "    </tr>\n",
       "    <tr>\n",
       "      <th>2</th>\n",
       "      <td>20</td>\n",
       "      <td>RL</td>\n",
       "      <td>80.0</td>\n",
       "      <td>9600</td>\n",
       "      <td>Pave</td>\n",
       "      <td>NaN</td>\n",
       "      <td>Reg</td>\n",
       "      <td>Lvl</td>\n",
       "      <td>AllPub</td>\n",
       "      <td>FR2</td>\n",
       "      <td>...</td>\n",
       "      <td>0</td>\n",
       "      <td>NaN</td>\n",
       "      <td>NaN</td>\n",
       "      <td>NaN</td>\n",
       "      <td>0</td>\n",
       "      <td>5</td>\n",
       "      <td>2007</td>\n",
       "      <td>WD</td>\n",
       "      <td>Normal</td>\n",
       "      <td>181500</td>\n",
       "    </tr>\n",
       "    <tr>\n",
       "      <th>3</th>\n",
       "      <td>60</td>\n",
       "      <td>RL</td>\n",
       "      <td>68.0</td>\n",
       "      <td>11250</td>\n",
       "      <td>Pave</td>\n",
       "      <td>NaN</td>\n",
       "      <td>IR1</td>\n",
       "      <td>Lvl</td>\n",
       "      <td>AllPub</td>\n",
       "      <td>Inside</td>\n",
       "      <td>...</td>\n",
       "      <td>0</td>\n",
       "      <td>NaN</td>\n",
       "      <td>NaN</td>\n",
       "      <td>NaN</td>\n",
       "      <td>0</td>\n",
       "      <td>9</td>\n",
       "      <td>2008</td>\n",
       "      <td>WD</td>\n",
       "      <td>Normal</td>\n",
       "      <td>223500</td>\n",
       "    </tr>\n",
       "    <tr>\n",
       "      <th>4</th>\n",
       "      <td>70</td>\n",
       "      <td>RL</td>\n",
       "      <td>60.0</td>\n",
       "      <td>9550</td>\n",
       "      <td>Pave</td>\n",
       "      <td>NaN</td>\n",
       "      <td>IR1</td>\n",
       "      <td>Lvl</td>\n",
       "      <td>AllPub</td>\n",
       "      <td>Corner</td>\n",
       "      <td>...</td>\n",
       "      <td>0</td>\n",
       "      <td>NaN</td>\n",
       "      <td>NaN</td>\n",
       "      <td>NaN</td>\n",
       "      <td>0</td>\n",
       "      <td>2</td>\n",
       "      <td>2006</td>\n",
       "      <td>WD</td>\n",
       "      <td>Abnorml</td>\n",
       "      <td>140000</td>\n",
       "    </tr>\n",
       "    <tr>\n",
       "      <th>5</th>\n",
       "      <td>60</td>\n",
       "      <td>RL</td>\n",
       "      <td>84.0</td>\n",
       "      <td>14260</td>\n",
       "      <td>Pave</td>\n",
       "      <td>NaN</td>\n",
       "      <td>IR1</td>\n",
       "      <td>Lvl</td>\n",
       "      <td>AllPub</td>\n",
       "      <td>FR2</td>\n",
       "      <td>...</td>\n",
       "      <td>0</td>\n",
       "      <td>NaN</td>\n",
       "      <td>NaN</td>\n",
       "      <td>NaN</td>\n",
       "      <td>0</td>\n",
       "      <td>12</td>\n",
       "      <td>2008</td>\n",
       "      <td>WD</td>\n",
       "      <td>Normal</td>\n",
       "      <td>250000</td>\n",
       "    </tr>\n",
       "    <tr>\n",
       "      <th>...</th>\n",
       "      <td>...</td>\n",
       "      <td>...</td>\n",
       "      <td>...</td>\n",
       "      <td>...</td>\n",
       "      <td>...</td>\n",
       "      <td>...</td>\n",
       "      <td>...</td>\n",
       "      <td>...</td>\n",
       "      <td>...</td>\n",
       "      <td>...</td>\n",
       "      <td>...</td>\n",
       "      <td>...</td>\n",
       "      <td>...</td>\n",
       "      <td>...</td>\n",
       "      <td>...</td>\n",
       "      <td>...</td>\n",
       "      <td>...</td>\n",
       "      <td>...</td>\n",
       "      <td>...</td>\n",
       "      <td>...</td>\n",
       "      <td>...</td>\n",
       "    </tr>\n",
       "    <tr>\n",
       "      <th>1456</th>\n",
       "      <td>60</td>\n",
       "      <td>RL</td>\n",
       "      <td>62.0</td>\n",
       "      <td>7917</td>\n",
       "      <td>Pave</td>\n",
       "      <td>NaN</td>\n",
       "      <td>Reg</td>\n",
       "      <td>Lvl</td>\n",
       "      <td>AllPub</td>\n",
       "      <td>Inside</td>\n",
       "      <td>...</td>\n",
       "      <td>0</td>\n",
       "      <td>NaN</td>\n",
       "      <td>NaN</td>\n",
       "      <td>NaN</td>\n",
       "      <td>0</td>\n",
       "      <td>8</td>\n",
       "      <td>2007</td>\n",
       "      <td>WD</td>\n",
       "      <td>Normal</td>\n",
       "      <td>175000</td>\n",
       "    </tr>\n",
       "    <tr>\n",
       "      <th>1457</th>\n",
       "      <td>20</td>\n",
       "      <td>RL</td>\n",
       "      <td>85.0</td>\n",
       "      <td>13175</td>\n",
       "      <td>Pave</td>\n",
       "      <td>NaN</td>\n",
       "      <td>Reg</td>\n",
       "      <td>Lvl</td>\n",
       "      <td>AllPub</td>\n",
       "      <td>Inside</td>\n",
       "      <td>...</td>\n",
       "      <td>0</td>\n",
       "      <td>NaN</td>\n",
       "      <td>MnPrv</td>\n",
       "      <td>NaN</td>\n",
       "      <td>0</td>\n",
       "      <td>2</td>\n",
       "      <td>2010</td>\n",
       "      <td>WD</td>\n",
       "      <td>Normal</td>\n",
       "      <td>210000</td>\n",
       "    </tr>\n",
       "    <tr>\n",
       "      <th>1458</th>\n",
       "      <td>70</td>\n",
       "      <td>RL</td>\n",
       "      <td>66.0</td>\n",
       "      <td>9042</td>\n",
       "      <td>Pave</td>\n",
       "      <td>NaN</td>\n",
       "      <td>Reg</td>\n",
       "      <td>Lvl</td>\n",
       "      <td>AllPub</td>\n",
       "      <td>Inside</td>\n",
       "      <td>...</td>\n",
       "      <td>0</td>\n",
       "      <td>NaN</td>\n",
       "      <td>GdPrv</td>\n",
       "      <td>Shed</td>\n",
       "      <td>2500</td>\n",
       "      <td>5</td>\n",
       "      <td>2010</td>\n",
       "      <td>WD</td>\n",
       "      <td>Normal</td>\n",
       "      <td>266500</td>\n",
       "    </tr>\n",
       "    <tr>\n",
       "      <th>1459</th>\n",
       "      <td>20</td>\n",
       "      <td>RL</td>\n",
       "      <td>68.0</td>\n",
       "      <td>9717</td>\n",
       "      <td>Pave</td>\n",
       "      <td>NaN</td>\n",
       "      <td>Reg</td>\n",
       "      <td>Lvl</td>\n",
       "      <td>AllPub</td>\n",
       "      <td>Inside</td>\n",
       "      <td>...</td>\n",
       "      <td>0</td>\n",
       "      <td>NaN</td>\n",
       "      <td>NaN</td>\n",
       "      <td>NaN</td>\n",
       "      <td>0</td>\n",
       "      <td>4</td>\n",
       "      <td>2010</td>\n",
       "      <td>WD</td>\n",
       "      <td>Normal</td>\n",
       "      <td>142125</td>\n",
       "    </tr>\n",
       "    <tr>\n",
       "      <th>1460</th>\n",
       "      <td>20</td>\n",
       "      <td>RL</td>\n",
       "      <td>75.0</td>\n",
       "      <td>9937</td>\n",
       "      <td>Pave</td>\n",
       "      <td>NaN</td>\n",
       "      <td>Reg</td>\n",
       "      <td>Lvl</td>\n",
       "      <td>AllPub</td>\n",
       "      <td>Inside</td>\n",
       "      <td>...</td>\n",
       "      <td>0</td>\n",
       "      <td>NaN</td>\n",
       "      <td>NaN</td>\n",
       "      <td>NaN</td>\n",
       "      <td>0</td>\n",
       "      <td>6</td>\n",
       "      <td>2008</td>\n",
       "      <td>WD</td>\n",
       "      <td>Normal</td>\n",
       "      <td>147500</td>\n",
       "    </tr>\n",
       "  </tbody>\n",
       "</table>\n",
       "<p>1460 rows × 80 columns</p>\n",
       "</div>"
      ],
      "text/plain": [
       "      MSSubClass MSZoning  LotFrontage  LotArea Street Alley LotShape  \\\n",
       "Id                                                                      \n",
       "1             60       RL         65.0     8450   Pave   NaN      Reg   \n",
       "2             20       RL         80.0     9600   Pave   NaN      Reg   \n",
       "3             60       RL         68.0    11250   Pave   NaN      IR1   \n",
       "4             70       RL         60.0     9550   Pave   NaN      IR1   \n",
       "5             60       RL         84.0    14260   Pave   NaN      IR1   \n",
       "...          ...      ...          ...      ...    ...   ...      ...   \n",
       "1456          60       RL         62.0     7917   Pave   NaN      Reg   \n",
       "1457          20       RL         85.0    13175   Pave   NaN      Reg   \n",
       "1458          70       RL         66.0     9042   Pave   NaN      Reg   \n",
       "1459          20       RL         68.0     9717   Pave   NaN      Reg   \n",
       "1460          20       RL         75.0     9937   Pave   NaN      Reg   \n",
       "\n",
       "     LandContour Utilities LotConfig  ... PoolArea PoolQC  Fence MiscFeature  \\\n",
       "Id                                    ...                                      \n",
       "1            Lvl    AllPub    Inside  ...        0    NaN    NaN         NaN   \n",
       "2            Lvl    AllPub       FR2  ...        0    NaN    NaN         NaN   \n",
       "3            Lvl    AllPub    Inside  ...        0    NaN    NaN         NaN   \n",
       "4            Lvl    AllPub    Corner  ...        0    NaN    NaN         NaN   \n",
       "5            Lvl    AllPub       FR2  ...        0    NaN    NaN         NaN   \n",
       "...          ...       ...       ...  ...      ...    ...    ...         ...   \n",
       "1456         Lvl    AllPub    Inside  ...        0    NaN    NaN         NaN   \n",
       "1457         Lvl    AllPub    Inside  ...        0    NaN  MnPrv         NaN   \n",
       "1458         Lvl    AllPub    Inside  ...        0    NaN  GdPrv        Shed   \n",
       "1459         Lvl    AllPub    Inside  ...        0    NaN    NaN         NaN   \n",
       "1460         Lvl    AllPub    Inside  ...        0    NaN    NaN         NaN   \n",
       "\n",
       "     MiscVal MoSold  YrSold  SaleType  SaleCondition  SalePrice  \n",
       "Id                                                               \n",
       "1          0      2    2008        WD         Normal     208500  \n",
       "2          0      5    2007        WD         Normal     181500  \n",
       "3          0      9    2008        WD         Normal     223500  \n",
       "4          0      2    2006        WD        Abnorml     140000  \n",
       "5          0     12    2008        WD         Normal     250000  \n",
       "...      ...    ...     ...       ...            ...        ...  \n",
       "1456       0      8    2007        WD         Normal     175000  \n",
       "1457       0      2    2010        WD         Normal     210000  \n",
       "1458    2500      5    2010        WD         Normal     266500  \n",
       "1459       0      4    2010        WD         Normal     142125  \n",
       "1460       0      6    2008        WD         Normal     147500  \n",
       "\n",
       "[1460 rows x 80 columns]"
      ]
     },
     "execution_count": 137,
     "metadata": {},
     "output_type": "execute_result"
    }
   ],
   "source": [
    "# Vamos fazer o load dos dados na variável 'data'\n",
    "data = pd.read_csv('data/houses_train_raw.csv', index_col='Id')\n",
    "data\n"
   ]
  },
  {
   "cell_type": "code",
   "execution_count": 138,
   "metadata": {
    "tags": [
     "delete"
    ]
   },
   "outputs": [
    {
     "data": {
      "text/plain": [
       "((1460, 79), (1460,))"
      ]
     },
     "execution_count": 138,
     "metadata": {},
     "output_type": "execute_result"
    }
   ],
   "source": [
    "# Vamos fazer o drop da coluna SalePrice\n",
    "\n",
    "X = data.drop(columns=['SalePrice'])\n",
    "y = data.SalePrice\n",
    "\n",
    "X.shape, y.shape\n"
   ]
  },
  {
   "cell_type": "markdown",
   "metadata": {},
   "source": [
    "# 🐣 1. BASELINE"
   ]
  },
  {
   "cell_type": "markdown",
   "metadata": {},
   "source": [
    "1.1 Visão inicial das características\n",
    "-------------------------------------\n",
    "\n",
    "80 características são demais para lidar individualmente para um primeiro pipeline de base! Vamos tratá-las baseando-nos somente em seu `dtype`:\n",
    "\n",
    "❓ Quantas características numéricas versus características categóricas temos?"
   ]
  },
  {
   "cell_type": "code",
   "execution_count": 139,
   "metadata": {
    "tags": [
     "challengify"
    ]
   },
   "outputs": [
    {
     "data": {
      "text/plain": [
       "object     43\n",
       "int64      33\n",
       "float64     3\n",
       "Name: count, dtype: int64"
      ]
     },
     "execution_count": 139,
     "metadata": {},
     "output_type": "execute_result"
    }
   ],
   "source": [
    "X.dtypes.value_counts()\n"
   ]
  },
  {
   "cell_type": "markdown",
   "metadata": {},
   "source": [
    "❓ Crie uma Série chamada `feat_categorical_nunique` contendo o número de **valores únicos** para cada característica categórica no nosso conjunto de treinamento. Quantas categorias únicas existem no total?"
   ]
  },
  {
   "cell_type": "code",
   "execution_count": 140,
   "metadata": {
    "tags": [
     "challengify"
    ]
   },
   "outputs": [],
   "source": [
    "feat_categorical_nunique = X.select_dtypes(include='object').nunique()\n"
   ]
  },
  {
   "cell_type": "code",
   "execution_count": 141,
   "metadata": {
    "tags": [
     "delete"
    ]
   },
   "outputs": [
    {
     "data": {
      "text/plain": [
       "251"
      ]
     },
     "execution_count": 141,
     "metadata": {},
     "output_type": "execute_result"
    }
   ],
   "source": [
    "feat_categorical_nunique.sum()\n"
   ]
  },
  {
   "cell_type": "markdown",
   "metadata": {},
   "source": [
    "🤔 Se fôssemos para o `OneHotEncode`, em todas as características categóricas, nossa matriz de características `X_preproc` se tornaria bastante grande e esparsa, com quase 300 características (altamente correlacionadas) para apenas 1400 observações. Idealmente, deveríamos visar alimentar nosso modelo com um máximo de ~50 características (📚 leia esta [regra prática](https://datascience.stackexchange.com/a/11480/98300))\n",
    "\n",
    "Conhecemos 2 principais estratégias para reduzir o número de características categóricas após o pré-processamento:\n",
    "\n",
    "1. **[Remover](https://scikit-learn.org/stable/modules/classes.html#module-sklearn.feature_selection)** características que trazem pouca explicação para nosso modelo; isso pode exigir análise estatística da importância das características\n",
    "2. **[Codificar ordinalmente](https://scikit-learn.org/stable/modules/generated/sklearn.preprocessing.OrdinalEncoder.html)** (em vez de usar one-hot encode) características categóricas em inteiros; isso, no entanto, cria uma noção de \"ordem\" (1 > 2 > 3 > ...) que pode ser prejudicial se não for manuseada corretamente!"
   ]
  },
  {
   "cell_type": "markdown",
   "metadata": {},
   "source": [
    "❓ Plote o histograma do número de valores únicos por característica categórica. Você vê alguns quick wins?"
   ]
  },
  {
   "cell_type": "code",
   "execution_count": 142,
   "metadata": {
    "tags": [
     "challengify"
    ]
   },
   "outputs": [
    {
     "data": {
      "image/png": "[encoded data removed]",
      "text/plain": [
       "<Figure size 640x480 with 1 Axes>"
      ]
     },
     "metadata": {},
     "output_type": "display_data"
    }
   ],
   "source": [
    "feat_categorical_nunique.hist();\n"
   ]
  },
  {
   "cell_type": "markdown",
   "metadata": {},
   "source": [
    "💡 Como ponto de partida, que tal simplesmente remover todas as características que têm 7 valores únicos ou mais e aplicar a codificação one-hot no restante? Vamos manter a codificação ordinal e a seleção de características estatísticas para a próxima iteração do nosso pipeline.\n",
    "\n",
    "❓ Armazene os nomes das características a serem codificadas em one-hot em uma lista chamada feat_categorical_small abaixo. Quantas características serão codificadas em one-hot?"
   ]
  },
  {
   "cell_type": "code",
   "execution_count": 143,
   "metadata": {
    "tags": [
     "challengify"
    ]
   },
   "outputs": [],
   "source": [
    "# categorical features para one-hot-encode\n",
    "feat_categorical_small = list(feat_categorical_nunique[feat_categorical_nunique < 7].index)\n"
   ]
  },
  {
   "cell_type": "code",
   "execution_count": 144,
   "metadata": {
    "tags": [
     "challengify"
    ]
   },
   "outputs": [
    {
     "data": {
      "text/plain": [
       "34"
      ]
     },
     "execution_count": 144,
     "metadata": {},
     "output_type": "execute_result"
    }
   ],
   "source": [
    "# Quantidade de catgorias\n",
    "len(feat_categorical_small)\n"
   ]
  },
  {
   "cell_type": "markdown",
   "metadata": {},
   "source": [
    "🧪 Teste o código!"
   ]
  },
  {
   "cell_type": "code",
   "execution_count": 145,
   "metadata": {},
   "outputs": [
    {
     "name": "stdout",
     "output_type": "stream",
     "text": [
      "Requirement already satisfied: nbresult in c:\\users\\inteli\\appdata\\local\\packages\\pythonsoftwarefoundation.python.3.11_qbz5n2kfra8p0\\localcache\\local-packages\\python311\\site-packages (0.0.9)\n",
      "Note: you may need to restart the kernel to use updated packages.\n"
     ]
    },
    {
     "name": "stderr",
     "output_type": "stream",
     "text": [
      "DEPRECATION: codemetrics 0.11.7 has a non-standard dependency specifier pandas>=1<2. pip 24.0 will enforce this behaviour change. A possible replacement is to upgrade to a newer version of codemetrics or contact the author to suggest that they release a version with a conforming dependency specifiers. Discussion can be found at https://github.com/pypa/pip/issues/12063\n",
      "\n",
      "[notice] A new release of pip is available: 23.3.1 -> 23.3.2\n",
      "[notice] To update, run: C:\\Users\\Inteli\\AppData\\Local\\Microsoft\\WindowsApps\\PythonSoftwareFoundation.Python.3.11_qbz5n2kfra8p0\\python.exe -m pip install --upgrade pip\n"
     ]
    }
   ],
   "source": [
    "pip install nbresult"
   ]
  },
  {
   "cell_type": "code",
   "execution_count": 146,
   "metadata": {},
   "outputs": [
    {
     "data": {
      "text/plain": [
       "\"\\n\\x1b[1m============================= test session starts =============================\\x1b[0m\\r\\nplatform win32 -- Python 3.11.7, pytest-7.4.3, pluggy-1.3.0 -- C:\\\\Users\\\\Inteli\\\\AppData\\\\Local\\\\Microsoft\\\\WindowsApps\\\\PythonSoftwareFoundation.Python.3.11_qbz5n2kfra8p0\\\\python.exe\\r\\ncachedir: .pytest_cache\\r\\nrootdir: c:\\\\Users\\\\Inteli\\\\Documents\\\\GitHub\\\\house_kaggle_competition\\\\tests\\r\\nplugins: anyio-3.6.2\\r\\n\\x1b[1mcollecting ... \\x1b[0mcollected 1 item\\r\\n\\r\\ntest_features_overview.py::TestFeaturesOverview::test_feat_categorical_small \\x1b[32mPASSED\\x1b[0m\\x1b[32m [100%]\\x1b[0m\\r\\n\\r\\n\\x1b[32m============================== \\x1b[32m\\x1b[1m1 passed\\x1b[0m\\x1b[32m in 0.05s\\x1b[0m\\x1b[32m ==============================\\x1b[0m\\r\\n\\n\\n💯 You can commit your code:\\n\\n\\x1b[1;32mgit\\x1b[39m add tests/features_overview.pickle\\n\\n\\x1b[32mgit\\x1b[39m commit -m \\x1b[33m'Completed features_overview step'\\x1b[39m\\n\\n\\x1b[32mgit\\x1b[39m push origin master\\n\""
      ]
     },
     "execution_count": 146,
     "metadata": {},
     "output_type": "execute_result"
    }
   ],
   "source": [
    "from nbresult import ChallengeResult\n",
    "\n",
    "result = ChallengeResult(\n",
    "    'features_overview',\n",
    "    n=len(feat_categorical_small)\n",
    ")\n",
    "\n",
    "result.write()\n",
    "result.check()\n"
   ]
  },
  {
   "cell_type": "markdown",
   "metadata": {},
   "source": [
    "## 1.2 Baseline Pipe"
   ]
  },
  {
   "cell_type": "markdown",
   "metadata": {},
   "source": [
    "### a) Pré-processamento\n",
    "\n",
    "❓ Vamos codificar a linha de base do pré-processamento conforme descrito abaixo. Salve-a como `preproc_baseline`.\n",
    "\n",
    "Para características categóricas:\n",
    "\n",
    "* Impute simples com os valores mais frequentes\n",
    "* Codificação One-Hot para características que têm menos de 7 valores únicos inicialmente\n",
    "* Remova todas as outras características\n",
    "\n",
    "Quanto às características numéricas:\n",
    "\n",
    "* Impute simples com estratégia `média`\n",
    "* Escala Min-Max\n",
    "\n",
    "<details> <summary>ℹ️ Clique aqui para uma dica profissional</summary>\n",
    "\n",
    "Se estiver confiante, você pode tentar a sintaxe mais curta do Sklearn, como `make_pipeline` ou `make_column_transformer`, em vez da sintaxe mais longa de `Pipeline` ou `ColumnTransformer`; também é útil se você quiser evitar dar nomes manualmente a cada etapa.\n",
    "\n",
    "</details>"
   ]
  },
  {
   "cell_type": "code",
   "execution_count": 147,
   "metadata": {
    "tags": [
     "challengify"
    ]
   },
   "outputs": [
    {
     "data": {
      "text/html": [
       "<style>#sk-container-id-11 {color: black;background-color: white;}#sk-container-id-11 pre{padding: 0;}#sk-container-id-11 div.sk-toggleable {background-color: white;}#sk-container-id-11 label.sk-toggleable__label {cursor: pointer;display: block;width: 100%;margin-bottom: 0;padding: 0.3em;box-sizing: border-box;text-align: center;}#sk-container-id-11 label.sk-toggleable__label-arrow:before {content: \"▸\";float: left;margin-right: 0.25em;color: #696969;}#sk-container-id-11 label.sk-toggleable__label-arrow:hover:before {color: black;}#sk-container-id-11 div.sk-estimator:hover label.sk-toggleable__label-arrow:before {color: black;}#sk-container-id-11 div.sk-toggleable__content {max-height: 0;max-width: 0;overflow: hidden;text-align: left;background-color: #f0f8ff;}#sk-container-id-11 div.sk-toggleable__content pre {margin: 0.2em;color: black;border-radius: 0.25em;background-color: #f0f8ff;}#sk-container-id-11 input.sk-toggleable__control:checked~div.sk-toggleable__content {max-height: 200px;max-width: 100%;overflow: auto;}#sk-container-id-11 input.sk-toggleable__control:checked~label.sk-toggleable__label-arrow:before {content: \"▾\";}#sk-container-id-11 div.sk-estimator input.sk-toggleable__control:checked~label.sk-toggleable__label {background-color: #d4ebff;}#sk-container-id-11 div.sk-label input.sk-toggleable__control:checked~label.sk-toggleable__label {background-color: #d4ebff;}#sk-container-id-11 input.sk-hidden--visually {border: 0;clip: rect(1px 1px 1px 1px);clip: rect(1px, 1px, 1px, 1px);height: 1px;margin: -1px;overflow: hidden;padding: 0;position: absolute;width: 1px;}#sk-container-id-11 div.sk-estimator {font-family: monospace;background-color: #f0f8ff;border: 1px dotted black;border-radius: 0.25em;box-sizing: border-box;margin-bottom: 0.5em;}#sk-container-id-11 div.sk-estimator:hover {background-color: #d4ebff;}#sk-container-id-11 div.sk-parallel-item::after {content: \"\";width: 100%;border-bottom: 1px solid gray;flex-grow: 1;}#sk-container-id-11 div.sk-label:hover label.sk-toggleable__label {background-color: #d4ebff;}#sk-container-id-11 div.sk-serial::before {content: \"\";position: absolute;border-left: 1px solid gray;box-sizing: border-box;top: 0;bottom: 0;left: 50%;z-index: 0;}#sk-container-id-11 div.sk-serial {display: flex;flex-direction: column;align-items: center;background-color: white;padding-right: 0.2em;padding-left: 0.2em;position: relative;}#sk-container-id-11 div.sk-item {position: relative;z-index: 1;}#sk-container-id-11 div.sk-parallel {display: flex;align-items: stretch;justify-content: center;background-color: white;position: relative;}#sk-container-id-11 div.sk-item::before, #sk-container-id-11 div.sk-parallel-item::before {content: \"\";position: absolute;border-left: 1px solid gray;box-sizing: border-box;top: 0;bottom: 0;left: 50%;z-index: -1;}#sk-container-id-11 div.sk-parallel-item {display: flex;flex-direction: column;z-index: 1;position: relative;background-color: white;}#sk-container-id-11 div.sk-parallel-item:first-child::after {align-self: flex-end;width: 50%;}#sk-container-id-11 div.sk-parallel-item:last-child::after {align-self: flex-start;width: 50%;}#sk-container-id-11 div.sk-parallel-item:only-child::after {width: 0;}#sk-container-id-11 div.sk-dashed-wrapped {border: 1px dashed gray;margin: 0 0.4em 0.5em 0.4em;box-sizing: border-box;padding-bottom: 0.4em;background-color: white;}#sk-container-id-11 div.sk-label label {font-family: monospace;font-weight: bold;display: inline-block;line-height: 1.2em;}#sk-container-id-11 div.sk-label-container {text-align: center;}#sk-container-id-11 div.sk-container {/* jupyter's `normalize.less` sets `[hidden] { display: none; }` but bootstrap.min.css set `[hidden] { display: none !important; }` so we also need the `!important` here to be able to override the default hidden behavior on the sphinx rendered scikit-learn.org. See: https://github.com/scikit-learn/scikit-learn/issues/21755 */display: inline-block !important;position: relative;}#sk-container-id-11 div.sk-text-repr-fallback {display: none;}</style><div id=\"sk-container-id-11\" class=\"sk-top-container\"><div class=\"sk-text-repr-fallback\"><pre>ColumnTransformer(transformers=[(&#x27;pipeline-1&#x27;,\n",
       "                                 Pipeline(steps=[(&#x27;simpleimputer&#x27;,\n",
       "                                                  SimpleImputer()),\n",
       "                                                 (&#x27;minmaxscaler&#x27;,\n",
       "                                                  MinMaxScaler())]),\n",
       "                                 &lt;sklearn.compose._column_transformer.make_column_selector object at 0x0000021ED91ED5D0&gt;),\n",
       "                                (&#x27;pipeline-2&#x27;,\n",
       "                                 Pipeline(steps=[(&#x27;simpleimputer&#x27;,\n",
       "                                                  SimpleImputer(strategy=&#x27;most_frequent&#x27;)),\n",
       "                                                 (&#x27;onehotencoder&#x27;,\n",
       "                                                  OneHotEncoder(handle_unknown=...\n",
       "                                 [&#x27;MSZoning&#x27;, &#x27;Street&#x27;, &#x27;Alley&#x27;, &#x27;LotShape&#x27;,\n",
       "                                  &#x27;LandContour&#x27;, &#x27;Utilities&#x27;, &#x27;LotConfig&#x27;,\n",
       "                                  &#x27;LandSlope&#x27;, &#x27;BldgType&#x27;, &#x27;RoofStyle&#x27;,\n",
       "                                  &#x27;MasVnrType&#x27;, &#x27;ExterQual&#x27;, &#x27;ExterCond&#x27;,\n",
       "                                  &#x27;Foundation&#x27;, &#x27;BsmtQual&#x27;, &#x27;BsmtCond&#x27;,\n",
       "                                  &#x27;BsmtExposure&#x27;, &#x27;BsmtFinType1&#x27;,\n",
       "                                  &#x27;BsmtFinType2&#x27;, &#x27;Heating&#x27;, &#x27;HeatingQC&#x27;,\n",
       "                                  &#x27;CentralAir&#x27;, &#x27;Electrical&#x27;, &#x27;KitchenQual&#x27;,\n",
       "                                  &#x27;FireplaceQu&#x27;, &#x27;GarageType&#x27;, &#x27;GarageFinish&#x27;,\n",
       "                                  &#x27;GarageQual&#x27;, &#x27;GarageCond&#x27;, &#x27;PavedDrive&#x27;, ...])])</pre><b>In a Jupyter environment, please rerun this cell to show the HTML representation or trust the notebook. <br />On GitHub, the HTML representation is unable to render, please try loading this page with nbviewer.org.</b></div><div class=\"sk-container\" hidden><div class=\"sk-item sk-dashed-wrapped\"><div class=\"sk-label-container\"><div class=\"sk-label sk-toggleable\"><input class=\"sk-toggleable__control sk-hidden--visually\" id=\"sk-estimator-id-96\" type=\"checkbox\" ><label for=\"sk-estimator-id-96\" class=\"sk-toggleable__label sk-toggleable__label-arrow\">ColumnTransformer</label><div class=\"sk-toggleable__content\"><pre>ColumnTransformer(transformers=[(&#x27;pipeline-1&#x27;,\n",
       "                                 Pipeline(steps=[(&#x27;simpleimputer&#x27;,\n",
       "                                                  SimpleImputer()),\n",
       "                                                 (&#x27;minmaxscaler&#x27;,\n",
       "                                                  MinMaxScaler())]),\n",
       "                                 &lt;sklearn.compose._column_transformer.make_column_selector object at 0x0000021ED91ED5D0&gt;),\n",
       "                                (&#x27;pipeline-2&#x27;,\n",
       "                                 Pipeline(steps=[(&#x27;simpleimputer&#x27;,\n",
       "                                                  SimpleImputer(strategy=&#x27;most_frequent&#x27;)),\n",
       "                                                 (&#x27;onehotencoder&#x27;,\n",
       "                                                  OneHotEncoder(handle_unknown=...\n",
       "                                 [&#x27;MSZoning&#x27;, &#x27;Street&#x27;, &#x27;Alley&#x27;, &#x27;LotShape&#x27;,\n",
       "                                  &#x27;LandContour&#x27;, &#x27;Utilities&#x27;, &#x27;LotConfig&#x27;,\n",
       "                                  &#x27;LandSlope&#x27;, &#x27;BldgType&#x27;, &#x27;RoofStyle&#x27;,\n",
       "                                  &#x27;MasVnrType&#x27;, &#x27;ExterQual&#x27;, &#x27;ExterCond&#x27;,\n",
       "                                  &#x27;Foundation&#x27;, &#x27;BsmtQual&#x27;, &#x27;BsmtCond&#x27;,\n",
       "                                  &#x27;BsmtExposure&#x27;, &#x27;BsmtFinType1&#x27;,\n",
       "                                  &#x27;BsmtFinType2&#x27;, &#x27;Heating&#x27;, &#x27;HeatingQC&#x27;,\n",
       "                                  &#x27;CentralAir&#x27;, &#x27;Electrical&#x27;, &#x27;KitchenQual&#x27;,\n",
       "                                  &#x27;FireplaceQu&#x27;, &#x27;GarageType&#x27;, &#x27;GarageFinish&#x27;,\n",
       "                                  &#x27;GarageQual&#x27;, &#x27;GarageCond&#x27;, &#x27;PavedDrive&#x27;, ...])])</pre></div></div></div><div class=\"sk-parallel\"><div class=\"sk-parallel-item\"><div class=\"sk-item\"><div class=\"sk-label-container\"><div class=\"sk-label sk-toggleable\"><input class=\"sk-toggleable__control sk-hidden--visually\" id=\"sk-estimator-id-97\" type=\"checkbox\" ><label for=\"sk-estimator-id-97\" class=\"sk-toggleable__label sk-toggleable__label-arrow\">pipeline-1</label><div class=\"sk-toggleable__content\"><pre>&lt;sklearn.compose._column_transformer.make_column_selector object at 0x0000021ED91ED5D0&gt;</pre></div></div></div><div class=\"sk-serial\"><div class=\"sk-item\"><div class=\"sk-serial\"><div class=\"sk-item\"><div class=\"sk-estimator sk-toggleable\"><input class=\"sk-toggleable__control sk-hidden--visually\" id=\"sk-estimator-id-98\" type=\"checkbox\" ><label for=\"sk-estimator-id-98\" class=\"sk-toggleable__label sk-toggleable__label-arrow\">SimpleImputer</label><div class=\"sk-toggleable__content\"><pre>SimpleImputer()</pre></div></div></div><div class=\"sk-item\"><div class=\"sk-estimator sk-toggleable\"><input class=\"sk-toggleable__control sk-hidden--visually\" id=\"sk-estimator-id-99\" type=\"checkbox\" ><label for=\"sk-estimator-id-99\" class=\"sk-toggleable__label sk-toggleable__label-arrow\">MinMaxScaler</label><div class=\"sk-toggleable__content\"><pre>MinMaxScaler()</pre></div></div></div></div></div></div></div></div><div class=\"sk-parallel-item\"><div class=\"sk-item\"><div class=\"sk-label-container\"><div class=\"sk-label sk-toggleable\"><input class=\"sk-toggleable__control sk-hidden--visually\" id=\"sk-estimator-id-100\" type=\"checkbox\" ><label for=\"sk-estimator-id-100\" class=\"sk-toggleable__label sk-toggleable__label-arrow\">pipeline-2</label><div class=\"sk-toggleable__content\"><pre>[&#x27;MSZoning&#x27;, &#x27;Street&#x27;, &#x27;Alley&#x27;, &#x27;LotShape&#x27;, &#x27;LandContour&#x27;, &#x27;Utilities&#x27;, &#x27;LotConfig&#x27;, &#x27;LandSlope&#x27;, &#x27;BldgType&#x27;, &#x27;RoofStyle&#x27;, &#x27;MasVnrType&#x27;, &#x27;ExterQual&#x27;, &#x27;ExterCond&#x27;, &#x27;Foundation&#x27;, &#x27;BsmtQual&#x27;, &#x27;BsmtCond&#x27;, &#x27;BsmtExposure&#x27;, &#x27;BsmtFinType1&#x27;, &#x27;BsmtFinType2&#x27;, &#x27;Heating&#x27;, &#x27;HeatingQC&#x27;, &#x27;CentralAir&#x27;, &#x27;Electrical&#x27;, &#x27;KitchenQual&#x27;, &#x27;FireplaceQu&#x27;, &#x27;GarageType&#x27;, &#x27;GarageFinish&#x27;, &#x27;GarageQual&#x27;, &#x27;GarageCond&#x27;, &#x27;PavedDrive&#x27;, &#x27;PoolQC&#x27;, &#x27;Fence&#x27;, &#x27;MiscFeature&#x27;, &#x27;SaleCondition&#x27;]</pre></div></div></div><div class=\"sk-serial\"><div class=\"sk-item\"><div class=\"sk-serial\"><div class=\"sk-item\"><div class=\"sk-estimator sk-toggleable\"><input class=\"sk-toggleable__control sk-hidden--visually\" id=\"sk-estimator-id-101\" type=\"checkbox\" ><label for=\"sk-estimator-id-101\" class=\"sk-toggleable__label sk-toggleable__label-arrow\">SimpleImputer</label><div class=\"sk-toggleable__content\"><pre>SimpleImputer(strategy=&#x27;most_frequent&#x27;)</pre></div></div></div><div class=\"sk-item\"><div class=\"sk-estimator sk-toggleable\"><input class=\"sk-toggleable__control sk-hidden--visually\" id=\"sk-estimator-id-102\" type=\"checkbox\" ><label for=\"sk-estimator-id-102\" class=\"sk-toggleable__label sk-toggleable__label-arrow\">OneHotEncoder</label><div class=\"sk-toggleable__content\"><pre>OneHotEncoder(handle_unknown=&#x27;ignore&#x27;)</pre></div></div></div></div></div></div></div></div></div></div></div></div>"
      ],
      "text/plain": [
       "ColumnTransformer(transformers=[('pipeline-1',\n",
       "                                 Pipeline(steps=[('simpleimputer',\n",
       "                                                  SimpleImputer()),\n",
       "                                                 ('minmaxscaler',\n",
       "                                                  MinMaxScaler())]),\n",
       "                                 <sklearn.compose._column_transformer.make_column_selector object at 0x0000021ED91ED5D0>),\n",
       "                                ('pipeline-2',\n",
       "                                 Pipeline(steps=[('simpleimputer',\n",
       "                                                  SimpleImputer(strategy='most_frequent')),\n",
       "                                                 ('onehotencoder',\n",
       "                                                  OneHotEncoder(handle_unknown=...\n",
       "                                 ['MSZoning', 'Street', 'Alley', 'LotShape',\n",
       "                                  'LandContour', 'Utilities', 'LotConfig',\n",
       "                                  'LandSlope', 'BldgType', 'RoofStyle',\n",
       "                                  'MasVnrType', 'ExterQual', 'ExterCond',\n",
       "                                  'Foundation', 'BsmtQual', 'BsmtCond',\n",
       "                                  'BsmtExposure', 'BsmtFinType1',\n",
       "                                  'BsmtFinType2', 'Heating', 'HeatingQC',\n",
       "                                  'CentralAir', 'Electrical', 'KitchenQual',\n",
       "                                  'FireplaceQu', 'GarageType', 'GarageFinish',\n",
       "                                  'GarageQual', 'GarageCond', 'PavedDrive', ...])])"
      ]
     },
     "execution_count": 147,
     "metadata": {},
     "output_type": "execute_result"
    }
   ],
   "source": [
    "preproc_numerical_baseline = make_pipeline(\n",
    "    SimpleImputer(),\n",
    "    MinMaxScaler()\n",
    ")\n",
    "\n",
    "preproc_categorical_baseline = make_pipeline(\n",
    "    SimpleImputer(strategy=\"most_frequent\"),\n",
    "    OneHotEncoder(handle_unknown=\"ignore\")\n",
    ")\n",
    "\n",
    "preproc_baseline = make_column_transformer(\n",
    "    (preproc_numerical_baseline, make_column_selector(dtype_include=[\"int64\", \"float64\"])),\n",
    "    (preproc_categorical_baseline, feat_categorical_small),\n",
    "    remainder=\"drop\"\n",
    ")\n",
    "\n",
    "preproc_baseline\n"
   ]
  },
  {
   "cell_type": "markdown",
   "metadata": {},
   "source": [
    "❓ Observe a **forma** do seu DataFrame após o pré-processamento e salve-a como `shape_preproc_baseline`."
   ]
  },
  {
   "cell_type": "code",
   "execution_count": 148,
   "metadata": {
    "tags": [
     "challengify"
    ]
   },
   "outputs": [
    {
     "data": {
      "text/plain": [
       "(1460, 182)"
      ]
     },
     "execution_count": 148,
     "metadata": {},
     "output_type": "execute_result"
    }
   ],
   "source": [
    "shape_preproc_baseline = preproc_baseline.fit_transform(X).shape\n",
    "shape_preproc_baseline\n"
   ]
  },
  {
   "cell_type": "markdown",
   "metadata": {},
   "source": [
    "🧪 Test your code below"
   ]
  },
  {
   "cell_type": "code",
   "execution_count": 149,
   "metadata": {},
   "outputs": [
    {
     "name": "stdout",
     "output_type": "stream",
     "text": [
      "\n",
      "\u001b[1m============================= test session starts =============================\u001b[0m\n",
      "platform win32 -- Python 3.11.7, pytest-7.4.3, pluggy-1.3.0 -- C:\\Users\\Inteli\\AppData\\Local\\Microsoft\\WindowsApps\\PythonSoftwareFoundation.Python.3.11_qbz5n2kfra8p0\\python.exe\n",
      "cachedir: .pytest_cache\n",
      "rootdir: c:\\Users\\Inteli\\Documents\\GitHub\\house_kaggle_competition\\tests\n",
      "plugins: anyio-3.6.2\n",
      "\u001b[1mcollecting ... \u001b[0mcollected 1 item\n",
      "\n",
      "test_preproc_baseline.py::TestPreprocBaseline::test_shape \u001b[32mPASSED\u001b[0m\u001b[32m         [100%]\u001b[0m\n",
      "\n",
      "\u001b[32m============================== \u001b[32m\u001b[1m1 passed\u001b[0m\u001b[32m in 0.05s\u001b[0m\u001b[32m ==============================\u001b[0m\n",
      "\n",
      "\n",
      "💯 You can commit your code:\n",
      "\n",
      "\u001b[1;32mgit\u001b[39m add tests/preproc_baseline.pickle\n",
      "\n",
      "\u001b[32mgit\u001b[39m commit -m \u001b[33m'Completed preproc_baseline step'\u001b[39m\n",
      "\n",
      "\u001b[32mgit\u001b[39m push origin master\n",
      "\n"
     ]
    }
   ],
   "source": [
    "from nbresult import ChallengeResult\n",
    "\n",
    "result = ChallengeResult(\n",
    "    'preproc_baseline',\n",
    "    shape=shape_preproc_baseline\n",
    ")\n",
    "\n",
    "result.write()\n",
    "print(result.check())\n"
   ]
  },
  {
   "cell_type": "markdown",
   "metadata": {},
   "source": [
    "### b) Add Estimator"
   ]
  },
  {
   "cell_type": "markdown",
   "metadata": {},
   "source": [
    "❓ Adicione um modelo simples de Árvore de Decisão ao seu preproc_baseline e armazene-o na variável pipe_baseline."
   ]
  },
  {
   "cell_type": "code",
   "execution_count": 150,
   "metadata": {
    "tags": [
     "challengify"
    ]
   },
   "outputs": [
    {
     "data": {
      "text/html": [
       "<style>#sk-container-id-12 {color: black;background-color: white;}#sk-container-id-12 pre{padding: 0;}#sk-container-id-12 div.sk-toggleable {background-color: white;}#sk-container-id-12 label.sk-toggleable__label {cursor: pointer;display: block;width: 100%;margin-bottom: 0;padding: 0.3em;box-sizing: border-box;text-align: center;}#sk-container-id-12 label.sk-toggleable__label-arrow:before {content: \"▸\";float: left;margin-right: 0.25em;color: #696969;}#sk-container-id-12 label.sk-toggleable__label-arrow:hover:before {color: black;}#sk-container-id-12 div.sk-estimator:hover label.sk-toggleable__label-arrow:before {color: black;}#sk-container-id-12 div.sk-toggleable__content {max-height: 0;max-width: 0;overflow: hidden;text-align: left;background-color: #f0f8ff;}#sk-container-id-12 div.sk-toggleable__content pre {margin: 0.2em;color: black;border-radius: 0.25em;background-color: #f0f8ff;}#sk-container-id-12 input.sk-toggleable__control:checked~div.sk-toggleable__content {max-height: 200px;max-width: 100%;overflow: auto;}#sk-container-id-12 input.sk-toggleable__control:checked~label.sk-toggleable__label-arrow:before {content: \"▾\";}#sk-container-id-12 div.sk-estimator input.sk-toggleable__control:checked~label.sk-toggleable__label {background-color: #d4ebff;}#sk-container-id-12 div.sk-label input.sk-toggleable__control:checked~label.sk-toggleable__label {background-color: #d4ebff;}#sk-container-id-12 input.sk-hidden--visually {border: 0;clip: rect(1px 1px 1px 1px);clip: rect(1px, 1px, 1px, 1px);height: 1px;margin: -1px;overflow: hidden;padding: 0;position: absolute;width: 1px;}#sk-container-id-12 div.sk-estimator {font-family: monospace;background-color: #f0f8ff;border: 1px dotted black;border-radius: 0.25em;box-sizing: border-box;margin-bottom: 0.5em;}#sk-container-id-12 div.sk-estimator:hover {background-color: #d4ebff;}#sk-container-id-12 div.sk-parallel-item::after {content: \"\";width: 100%;border-bottom: 1px solid gray;flex-grow: 1;}#sk-container-id-12 div.sk-label:hover label.sk-toggleable__label {background-color: #d4ebff;}#sk-container-id-12 div.sk-serial::before {content: \"\";position: absolute;border-left: 1px solid gray;box-sizing: border-box;top: 0;bottom: 0;left: 50%;z-index: 0;}#sk-container-id-12 div.sk-serial {display: flex;flex-direction: column;align-items: center;background-color: white;padding-right: 0.2em;padding-left: 0.2em;position: relative;}#sk-container-id-12 div.sk-item {position: relative;z-index: 1;}#sk-container-id-12 div.sk-parallel {display: flex;align-items: stretch;justify-content: center;background-color: white;position: relative;}#sk-container-id-12 div.sk-item::before, #sk-container-id-12 div.sk-parallel-item::before {content: \"\";position: absolute;border-left: 1px solid gray;box-sizing: border-box;top: 0;bottom: 0;left: 50%;z-index: -1;}#sk-container-id-12 div.sk-parallel-item {display: flex;flex-direction: column;z-index: 1;position: relative;background-color: white;}#sk-container-id-12 div.sk-parallel-item:first-child::after {align-self: flex-end;width: 50%;}#sk-container-id-12 div.sk-parallel-item:last-child::after {align-self: flex-start;width: 50%;}#sk-container-id-12 div.sk-parallel-item:only-child::after {width: 0;}#sk-container-id-12 div.sk-dashed-wrapped {border: 1px dashed gray;margin: 0 0.4em 0.5em 0.4em;box-sizing: border-box;padding-bottom: 0.4em;background-color: white;}#sk-container-id-12 div.sk-label label {font-family: monospace;font-weight: bold;display: inline-block;line-height: 1.2em;}#sk-container-id-12 div.sk-label-container {text-align: center;}#sk-container-id-12 div.sk-container {/* jupyter's `normalize.less` sets `[hidden] { display: none; }` but bootstrap.min.css set `[hidden] { display: none !important; }` so we also need the `!important` here to be able to override the default hidden behavior on the sphinx rendered scikit-learn.org. See: https://github.com/scikit-learn/scikit-learn/issues/21755 */display: inline-block !important;position: relative;}#sk-container-id-12 div.sk-text-repr-fallback {display: none;}</style><div id=\"sk-container-id-12\" class=\"sk-top-container\"><div class=\"sk-text-repr-fallback\"><pre>Pipeline(steps=[(&#x27;columntransformer&#x27;,\n",
       "                 ColumnTransformer(transformers=[(&#x27;pipeline-1&#x27;,\n",
       "                                                  Pipeline(steps=[(&#x27;simpleimputer&#x27;,\n",
       "                                                                   SimpleImputer()),\n",
       "                                                                  (&#x27;minmaxscaler&#x27;,\n",
       "                                                                   MinMaxScaler())]),\n",
       "                                                  &lt;sklearn.compose._column_transformer.make_column_selector object at 0x0000021ED91ED5D0&gt;),\n",
       "                                                 (&#x27;pipeline-2&#x27;,\n",
       "                                                  Pipeline(steps=[(&#x27;simpleimputer&#x27;,\n",
       "                                                                   SimpleImputer(strategy=&#x27;most_frequent&#x27;)),\n",
       "                                                                  (&#x27;onehote...\n",
       "                                                   &#x27;LotConfig&#x27;, &#x27;LandSlope&#x27;,\n",
       "                                                   &#x27;BldgType&#x27;, &#x27;RoofStyle&#x27;,\n",
       "                                                   &#x27;MasVnrType&#x27;, &#x27;ExterQual&#x27;,\n",
       "                                                   &#x27;ExterCond&#x27;, &#x27;Foundation&#x27;,\n",
       "                                                   &#x27;BsmtQual&#x27;, &#x27;BsmtCond&#x27;,\n",
       "                                                   &#x27;BsmtExposure&#x27;,\n",
       "                                                   &#x27;BsmtFinType1&#x27;,\n",
       "                                                   &#x27;BsmtFinType2&#x27;, &#x27;Heating&#x27;,\n",
       "                                                   &#x27;HeatingQC&#x27;, &#x27;CentralAir&#x27;,\n",
       "                                                   &#x27;Electrical&#x27;, &#x27;KitchenQual&#x27;,\n",
       "                                                   &#x27;FireplaceQu&#x27;, &#x27;GarageType&#x27;,\n",
       "                                                   &#x27;GarageFinish&#x27;, &#x27;GarageQual&#x27;,\n",
       "                                                   &#x27;GarageCond&#x27;, &#x27;PavedDrive&#x27;, ...])])),\n",
       "                (&#x27;decisiontreeregressor&#x27;, DecisionTreeRegressor())])</pre><b>In a Jupyter environment, please rerun this cell to show the HTML representation or trust the notebook. <br />On GitHub, the HTML representation is unable to render, please try loading this page with nbviewer.org.</b></div><div class=\"sk-container\" hidden><div class=\"sk-item sk-dashed-wrapped\"><div class=\"sk-label-container\"><div class=\"sk-label sk-toggleable\"><input class=\"sk-toggleable__control sk-hidden--visually\" id=\"sk-estimator-id-103\" type=\"checkbox\" ><label for=\"sk-estimator-id-103\" class=\"sk-toggleable__label sk-toggleable__label-arrow\">Pipeline</label><div class=\"sk-toggleable__content\"><pre>Pipeline(steps=[(&#x27;columntransformer&#x27;,\n",
       "                 ColumnTransformer(transformers=[(&#x27;pipeline-1&#x27;,\n",
       "                                                  Pipeline(steps=[(&#x27;simpleimputer&#x27;,\n",
       "                                                                   SimpleImputer()),\n",
       "                                                                  (&#x27;minmaxscaler&#x27;,\n",
       "                                                                   MinMaxScaler())]),\n",
       "                                                  &lt;sklearn.compose._column_transformer.make_column_selector object at 0x0000021ED91ED5D0&gt;),\n",
       "                                                 (&#x27;pipeline-2&#x27;,\n",
       "                                                  Pipeline(steps=[(&#x27;simpleimputer&#x27;,\n",
       "                                                                   SimpleImputer(strategy=&#x27;most_frequent&#x27;)),\n",
       "                                                                  (&#x27;onehote...\n",
       "                                                   &#x27;LotConfig&#x27;, &#x27;LandSlope&#x27;,\n",
       "                                                   &#x27;BldgType&#x27;, &#x27;RoofStyle&#x27;,\n",
       "                                                   &#x27;MasVnrType&#x27;, &#x27;ExterQual&#x27;,\n",
       "                                                   &#x27;ExterCond&#x27;, &#x27;Foundation&#x27;,\n",
       "                                                   &#x27;BsmtQual&#x27;, &#x27;BsmtCond&#x27;,\n",
       "                                                   &#x27;BsmtExposure&#x27;,\n",
       "                                                   &#x27;BsmtFinType1&#x27;,\n",
       "                                                   &#x27;BsmtFinType2&#x27;, &#x27;Heating&#x27;,\n",
       "                                                   &#x27;HeatingQC&#x27;, &#x27;CentralAir&#x27;,\n",
       "                                                   &#x27;Electrical&#x27;, &#x27;KitchenQual&#x27;,\n",
       "                                                   &#x27;FireplaceQu&#x27;, &#x27;GarageType&#x27;,\n",
       "                                                   &#x27;GarageFinish&#x27;, &#x27;GarageQual&#x27;,\n",
       "                                                   &#x27;GarageCond&#x27;, &#x27;PavedDrive&#x27;, ...])])),\n",
       "                (&#x27;decisiontreeregressor&#x27;, DecisionTreeRegressor())])</pre></div></div></div><div class=\"sk-serial\"><div class=\"sk-item sk-dashed-wrapped\"><div class=\"sk-label-container\"><div class=\"sk-label sk-toggleable\"><input class=\"sk-toggleable__control sk-hidden--visually\" id=\"sk-estimator-id-104\" type=\"checkbox\" ><label for=\"sk-estimator-id-104\" class=\"sk-toggleable__label sk-toggleable__label-arrow\">columntransformer: ColumnTransformer</label><div class=\"sk-toggleable__content\"><pre>ColumnTransformer(transformers=[(&#x27;pipeline-1&#x27;,\n",
       "                                 Pipeline(steps=[(&#x27;simpleimputer&#x27;,\n",
       "                                                  SimpleImputer()),\n",
       "                                                 (&#x27;minmaxscaler&#x27;,\n",
       "                                                  MinMaxScaler())]),\n",
       "                                 &lt;sklearn.compose._column_transformer.make_column_selector object at 0x0000021ED91ED5D0&gt;),\n",
       "                                (&#x27;pipeline-2&#x27;,\n",
       "                                 Pipeline(steps=[(&#x27;simpleimputer&#x27;,\n",
       "                                                  SimpleImputer(strategy=&#x27;most_frequent&#x27;)),\n",
       "                                                 (&#x27;onehotencoder&#x27;,\n",
       "                                                  OneHotEncoder(handle_unknown=...\n",
       "                                 [&#x27;MSZoning&#x27;, &#x27;Street&#x27;, &#x27;Alley&#x27;, &#x27;LotShape&#x27;,\n",
       "                                  &#x27;LandContour&#x27;, &#x27;Utilities&#x27;, &#x27;LotConfig&#x27;,\n",
       "                                  &#x27;LandSlope&#x27;, &#x27;BldgType&#x27;, &#x27;RoofStyle&#x27;,\n",
       "                                  &#x27;MasVnrType&#x27;, &#x27;ExterQual&#x27;, &#x27;ExterCond&#x27;,\n",
       "                                  &#x27;Foundation&#x27;, &#x27;BsmtQual&#x27;, &#x27;BsmtCond&#x27;,\n",
       "                                  &#x27;BsmtExposure&#x27;, &#x27;BsmtFinType1&#x27;,\n",
       "                                  &#x27;BsmtFinType2&#x27;, &#x27;Heating&#x27;, &#x27;HeatingQC&#x27;,\n",
       "                                  &#x27;CentralAir&#x27;, &#x27;Electrical&#x27;, &#x27;KitchenQual&#x27;,\n",
       "                                  &#x27;FireplaceQu&#x27;, &#x27;GarageType&#x27;, &#x27;GarageFinish&#x27;,\n",
       "                                  &#x27;GarageQual&#x27;, &#x27;GarageCond&#x27;, &#x27;PavedDrive&#x27;, ...])])</pre></div></div></div><div class=\"sk-parallel\"><div class=\"sk-parallel-item\"><div class=\"sk-item\"><div class=\"sk-label-container\"><div class=\"sk-label sk-toggleable\"><input class=\"sk-toggleable__control sk-hidden--visually\" id=\"sk-estimator-id-105\" type=\"checkbox\" ><label for=\"sk-estimator-id-105\" class=\"sk-toggleable__label sk-toggleable__label-arrow\">pipeline-1</label><div class=\"sk-toggleable__content\"><pre>&lt;sklearn.compose._column_transformer.make_column_selector object at 0x0000021ED91ED5D0&gt;</pre></div></div></div><div class=\"sk-serial\"><div class=\"sk-item\"><div class=\"sk-serial\"><div class=\"sk-item\"><div class=\"sk-estimator sk-toggleable\"><input class=\"sk-toggleable__control sk-hidden--visually\" id=\"sk-estimator-id-106\" type=\"checkbox\" ><label for=\"sk-estimator-id-106\" class=\"sk-toggleable__label sk-toggleable__label-arrow\">SimpleImputer</label><div class=\"sk-toggleable__content\"><pre>SimpleImputer()</pre></div></div></div><div class=\"sk-item\"><div class=\"sk-estimator sk-toggleable\"><input class=\"sk-toggleable__control sk-hidden--visually\" id=\"sk-estimator-id-107\" type=\"checkbox\" ><label for=\"sk-estimator-id-107\" class=\"sk-toggleable__label sk-toggleable__label-arrow\">MinMaxScaler</label><div class=\"sk-toggleable__content\"><pre>MinMaxScaler()</pre></div></div></div></div></div></div></div></div><div class=\"sk-parallel-item\"><div class=\"sk-item\"><div class=\"sk-label-container\"><div class=\"sk-label sk-toggleable\"><input class=\"sk-toggleable__control sk-hidden--visually\" id=\"sk-estimator-id-108\" type=\"checkbox\" ><label for=\"sk-estimator-id-108\" class=\"sk-toggleable__label sk-toggleable__label-arrow\">pipeline-2</label><div class=\"sk-toggleable__content\"><pre>[&#x27;MSZoning&#x27;, &#x27;Street&#x27;, &#x27;Alley&#x27;, &#x27;LotShape&#x27;, &#x27;LandContour&#x27;, &#x27;Utilities&#x27;, &#x27;LotConfig&#x27;, &#x27;LandSlope&#x27;, &#x27;BldgType&#x27;, &#x27;RoofStyle&#x27;, &#x27;MasVnrType&#x27;, &#x27;ExterQual&#x27;, &#x27;ExterCond&#x27;, &#x27;Foundation&#x27;, &#x27;BsmtQual&#x27;, &#x27;BsmtCond&#x27;, &#x27;BsmtExposure&#x27;, &#x27;BsmtFinType1&#x27;, &#x27;BsmtFinType2&#x27;, &#x27;Heating&#x27;, &#x27;HeatingQC&#x27;, &#x27;CentralAir&#x27;, &#x27;Electrical&#x27;, &#x27;KitchenQual&#x27;, &#x27;FireplaceQu&#x27;, &#x27;GarageType&#x27;, &#x27;GarageFinish&#x27;, &#x27;GarageQual&#x27;, &#x27;GarageCond&#x27;, &#x27;PavedDrive&#x27;, &#x27;PoolQC&#x27;, &#x27;Fence&#x27;, &#x27;MiscFeature&#x27;, &#x27;SaleCondition&#x27;]</pre></div></div></div><div class=\"sk-serial\"><div class=\"sk-item\"><div class=\"sk-serial\"><div class=\"sk-item\"><div class=\"sk-estimator sk-toggleable\"><input class=\"sk-toggleable__control sk-hidden--visually\" id=\"sk-estimator-id-109\" type=\"checkbox\" ><label for=\"sk-estimator-id-109\" class=\"sk-toggleable__label sk-toggleable__label-arrow\">SimpleImputer</label><div class=\"sk-toggleable__content\"><pre>SimpleImputer(strategy=&#x27;most_frequent&#x27;)</pre></div></div></div><div class=\"sk-item\"><div class=\"sk-estimator sk-toggleable\"><input class=\"sk-toggleable__control sk-hidden--visually\" id=\"sk-estimator-id-110\" type=\"checkbox\" ><label for=\"sk-estimator-id-110\" class=\"sk-toggleable__label sk-toggleable__label-arrow\">OneHotEncoder</label><div class=\"sk-toggleable__content\"><pre>OneHotEncoder(handle_unknown=&#x27;ignore&#x27;)</pre></div></div></div></div></div></div></div></div></div></div><div class=\"sk-item\"><div class=\"sk-estimator sk-toggleable\"><input class=\"sk-toggleable__control sk-hidden--visually\" id=\"sk-estimator-id-111\" type=\"checkbox\" ><label for=\"sk-estimator-id-111\" class=\"sk-toggleable__label sk-toggleable__label-arrow\">DecisionTreeRegressor</label><div class=\"sk-toggleable__content\"><pre>DecisionTreeRegressor()</pre></div></div></div></div></div></div></div>"
      ],
      "text/plain": [
       "Pipeline(steps=[('columntransformer',\n",
       "                 ColumnTransformer(transformers=[('pipeline-1',\n",
       "                                                  Pipeline(steps=[('simpleimputer',\n",
       "                                                                   SimpleImputer()),\n",
       "                                                                  ('minmaxscaler',\n",
       "                                                                   MinMaxScaler())]),\n",
       "                                                  <sklearn.compose._column_transformer.make_column_selector object at 0x0000021ED91ED5D0>),\n",
       "                                                 ('pipeline-2',\n",
       "                                                  Pipeline(steps=[('simpleimputer',\n",
       "                                                                   SimpleImputer(strategy='most_frequent')),\n",
       "                                                                  ('onehote...\n",
       "                                                   'LotConfig', 'LandSlope',\n",
       "                                                   'BldgType', 'RoofStyle',\n",
       "                                                   'MasVnrType', 'ExterQual',\n",
       "                                                   'ExterCond', 'Foundation',\n",
       "                                                   'BsmtQual', 'BsmtCond',\n",
       "                                                   'BsmtExposure',\n",
       "                                                   'BsmtFinType1',\n",
       "                                                   'BsmtFinType2', 'Heating',\n",
       "                                                   'HeatingQC', 'CentralAir',\n",
       "                                                   'Electrical', 'KitchenQual',\n",
       "                                                   'FireplaceQu', 'GarageType',\n",
       "                                                   'GarageFinish', 'GarageQual',\n",
       "                                                   'GarageCond', 'PavedDrive', ...])])),\n",
       "                ('decisiontreeregressor', DecisionTreeRegressor())])"
      ]
     },
     "execution_count": 150,
     "metadata": {},
     "output_type": "execute_result"
    },
    {
     "name": "stdout",
     "output_type": "stream",
     "text": [
      "Requirement already satisfied: nbresult in c:\\users\\inteli\\appdata\\local\\packages\\pythonsoftwarefoundation.python.3.11_qbz5n2kfra8p0\\localcache\\local-packages\\python311\\site-packages (0.0.9)\n",
      "Collecting matplotlib==3.5.3\n",
      "  Using cached matplotlib-3.5.3.tar.gz (35.2 MB)\n",
      "  Preparing metadata (setup.py): started\n",
      "  Preparing metadata (setup.py): finished with status 'done'\n",
      "Requirement already satisfied: matplotlib-inline==0.1.6 in c:\\users\\inteli\\appdata\\local\\packages\\pythonsoftwarefoundation.python.3.11_qbz5n2kfra8p0\\localcache\\local-packages\\python311\\site-packages (0.1.6)\n",
      "Collecting numpy==1.23.4\n",
      "  Using cached numpy-1.23.4-cp311-cp311-win_amd64.whl (14.6 MB)\n",
      "Requirement already satisfied: pandas in c:\\users\\inteli\\appdata\\local\\packages\\pythonsoftwarefoundation.python.3.11_qbz5n2kfra8p0\\localcache\\local-packages\\python311\\site-packages (2.1.4)\n",
      "Collecting seaborn==0.11.2\n",
      "  Using cached seaborn-0.11.2-py3-none-any.whl (292 kB)\n",
      "Requirement already satisfied: scipy in c:\\users\\inteli\\appdata\\local\\packages\\pythonsoftwarefoundation.python.3.11_qbz5n2kfra8p0\\localcache\\local-packages\\python311\\site-packages (1.10.1)\n",
      "Requirement already satisfied: xgboost in c:\\users\\inteli\\appdata\\local\\packages\\pythonsoftwarefoundation.python.3.11_qbz5n2kfra8p0\\localcache\\local-packages\\python311\\site-packages (2.0.3)\n",
      "Requirement already satisfied: scikit-learn in c:\\users\\inteli\\appdata\\local\\packages\\pythonsoftwarefoundation.python.3.11_qbz5n2kfra8p0\\localcache\\local-packages\\python311\\site-packages (1.2.2)\n",
      "Requirement already satisfied: cycler>=0.10 in c:\\users\\inteli\\appdata\\local\\packages\\pythonsoftwarefoundation.python.3.11_qbz5n2kfra8p0\\localcache\\local-packages\\python311\\site-packages (from matplotlib==3.5.3) (0.12.1)\n",
      "Requirement already satisfied: fonttools>=4.22.0 in c:\\users\\inteli\\appdata\\local\\packages\\pythonsoftwarefoundation.python.3.11_qbz5n2kfra8p0\\localcache\\local-packages\\python311\\site-packages (from matplotlib==3.5.3) (4.46.0)\n",
      "Requirement already satisfied: kiwisolver>=1.0.1 in c:\\users\\inteli\\appdata\\local\\packages\\pythonsoftwarefoundation.python.3.11_qbz5n2kfra8p0\\localcache\\local-packages\\python311\\site-packages (from matplotlib==3.5.3) (1.4.5)\n",
      "Requirement already satisfied: packaging>=20.0 in c:\\users\\inteli\\appdata\\local\\packages\\pythonsoftwarefoundation.python.3.11_qbz5n2kfra8p0\\localcache\\local-packages\\python311\\site-packages (from matplotlib==3.5.3) (23.1)\n",
      "Requirement already satisfied: pillow>=6.2.0 in c:\\users\\inteli\\appdata\\local\\packages\\pythonsoftwarefoundation.python.3.11_qbz5n2kfra8p0\\localcache\\local-packages\\python311\\site-packages (from matplotlib==3.5.3) (10.1.0)\n",
      "Requirement already satisfied: pyparsing>=2.2.1 in c:\\users\\inteli\\appdata\\local\\packages\\pythonsoftwarefoundation.python.3.11_qbz5n2kfra8p0\\localcache\\local-packages\\python311\\site-packages (from matplotlib==3.5.3) (3.0.9)\n",
      "Requirement already satisfied: python-dateutil>=2.7 in c:\\users\\inteli\\appdata\\local\\packages\\pythonsoftwarefoundation.python.3.11_qbz5n2kfra8p0\\localcache\\local-packages\\python311\\site-packages (from matplotlib==3.5.3) (2.8.2)\n",
      "Requirement already satisfied: traitlets in c:\\users\\inteli\\appdata\\local\\packages\\pythonsoftwarefoundation.python.3.11_qbz5n2kfra8p0\\localcache\\local-packages\\python311\\site-packages (from matplotlib-inline==0.1.6) (5.9.0)\n",
      "Requirement already satisfied: pytz>=2020.1 in c:\\users\\inteli\\appdata\\local\\packages\\pythonsoftwarefoundation.python.3.11_qbz5n2kfra8p0\\localcache\\local-packages\\python311\\site-packages (from pandas) (2023.3)\n",
      "Requirement already satisfied: tzdata>=2022.1 in c:\\users\\inteli\\appdata\\local\\packages\\pythonsoftwarefoundation.python.3.11_qbz5n2kfra8p0\\localcache\\local-packages\\python311\\site-packages (from pandas) (2023.3)\n",
      "Requirement already satisfied: joblib>=1.1.1 in c:\\users\\inteli\\appdata\\local\\packages\\pythonsoftwarefoundation.python.3.11_qbz5n2kfra8p0\\localcache\\local-packages\\python311\\site-packages (from scikit-learn) (1.2.0)\n",
      "Requirement already satisfied: threadpoolctl>=2.0.0 in c:\\users\\inteli\\appdata\\local\\packages\\pythonsoftwarefoundation.python.3.11_qbz5n2kfra8p0\\localcache\\local-packages\\python311\\site-packages (from scikit-learn) (3.1.0)\n",
      "Requirement already satisfied: six>=1.5 in c:\\users\\inteli\\appdata\\local\\packages\\pythonsoftwarefoundation.python.3.11_qbz5n2kfra8p0\\localcache\\local-packages\\python311\\site-packages (from python-dateutil>=2.7->matplotlib==3.5.3) (1.16.0)\n",
      "Building wheels for collected packages: matplotlib\n",
      "  Building wheel for matplotlib (setup.py): started\n",
      "  Building wheel for matplotlib (setup.py): finished with status 'error'\n",
      "  Running setup.py clean for matplotlib\n",
      "Failed to build matplotlib\n"
     ]
    },
    {
     "name": "stderr",
     "output_type": "stream",
     "text": [
      "  error: subprocess-exited-with-error\n",
      "  \n",
      "  × python setup.py bdist_wheel did not run successfully.\n",
      "  │ exit code: 1\n",
      "  ╰─> [557 lines of output]\n",
      "      \n",
      "      Edit mplsetup.cfg to change the build options; suppress output with --quiet.\n",
      "      \n",
      "      BUILDING MATPLOTLIB\n",
      "            python: yes [3.11.7 (tags/v3.11.7:fa7a6f2, Dec  4 2023, 19:24:49) [MSC\n",
      "                        v.1937 64 bit (AMD64)]]\n",
      "          platform: yes [win32]\n",
      "             tests: no  [skipping due to configuration]\n",
      "            macosx: no  [Mac OS-X only]\n",
      "      \n",
      "      C:\\Program Files\\WindowsApps\\PythonSoftwareFoundation.Python.3.11_3.11.2032.0_x64__qbz5n2kfra8p0\\Lib\\site-packages\\setuptools\\installer.py:27: SetuptoolsDeprecationWarning: setuptools.installer is deprecated. Requirements should be satisfied by a PEP 517 installer.\n",
      "        warnings.warn(\n",
      "      C:\\Program Files\\WindowsApps\\PythonSoftwareFoundation.Python.3.11_3.11.2032.0_x64__qbz5n2kfra8p0\\Lib\\site-packages\\setuptools\\dist.py:286: SetuptoolsDeprecationWarning: The namespace_packages parameter is deprecated, consider using implicit namespaces instead (PEP 420).\n",
      "        warnings.warn(msg, SetuptoolsDeprecationWarning)\n",
      "      running bdist_wheel\n",
      "      running build\n",
      "      running build_py\n",
      "      creating build\n",
      "      creating build\\lib.win-amd64-cpython-311\n",
      "      copying lib\\pylab.py -> build\\lib.win-amd64-cpython-311\n",
      "      creating build\\lib.win-amd64-cpython-311\\matplotlib\n",
      "      copying lib\\matplotlib\\afm.py -> build\\lib.win-amd64-cpython-311\\matplotlib\n",
      "      copying lib\\matplotlib\\animation.py -> build\\lib.win-amd64-cpython-311\\matplotlib\n",
      "      copying lib\\matplotlib\\artist.py -> build\\lib.win-amd64-cpython-311\\matplotlib\n",
      "      copying lib\\matplotlib\\axis.py -> build\\lib.win-amd64-cpython-311\\matplotlib\n",
      "      copying lib\\matplotlib\\backend_bases.py -> build\\lib.win-amd64-cpython-311\\matplotlib\n",
      "      copying lib\\matplotlib\\backend_managers.py -> build\\lib.win-amd64-cpython-311\\matplotlib\n",
      "      copying lib\\matplotlib\\backend_tools.py -> build\\lib.win-amd64-cpython-311\\matplotlib\n",
      "      copying lib\\matplotlib\\bezier.py -> build\\lib.win-amd64-cpython-311\\matplotlib\n",
      "      copying lib\\matplotlib\\blocking_input.py -> build\\lib.win-amd64-cpython-311\\matplotlib\n",
      "      copying lib\\matplotlib\\category.py -> build\\lib.win-amd64-cpython-311\\matplotlib\n",
      "      copying lib\\matplotlib\\cm.py -> build\\lib.win-amd64-cpython-311\\matplotlib\n",
      "      copying lib\\matplotlib\\collections.py -> build\\lib.win-amd64-cpython-311\\matplotlib\n",
      "      copying lib\\matplotlib\\colorbar.py -> build\\lib.win-amd64-cpython-311\\matplotlib\n",
      "      copying lib\\matplotlib\\colors.py -> build\\lib.win-amd64-cpython-311\\matplotlib\n",
      "      copying lib\\matplotlib\\container.py -> build\\lib.win-amd64-cpython-311\\matplotlib\n",
      "      copying lib\\matplotlib\\contour.py -> build\\lib.win-amd64-cpython-311\\matplotlib\n",
      "      copying lib\\matplotlib\\dates.py -> build\\lib.win-amd64-cpython-311\\matplotlib\n",
      "      copying lib\\matplotlib\\docstring.py -> build\\lib.win-amd64-cpython-311\\matplotlib\n",
      "      copying lib\\matplotlib\\dviread.py -> build\\lib.win-amd64-cpython-311\\matplotlib\n",
      "      copying lib\\matplotlib\\figure.py -> build\\lib.win-amd64-cpython-311\\matplotlib\n",
      "      copying lib\\matplotlib\\fontconfig_pattern.py -> build\\lib.win-amd64-cpython-311\\matplotlib\n",
      "      copying lib\\matplotlib\\font_manager.py -> build\\lib.win-amd64-cpython-311\\matplotlib\n",
      "      copying lib\\matplotlib\\gridspec.py -> build\\lib.win-amd64-cpython-311\\matplotlib\n",
      "      copying lib\\matplotlib\\hatch.py -> build\\lib.win-amd64-cpython-311\\matplotlib\n",
      "      copying lib\\matplotlib\\image.py -> build\\lib.win-amd64-cpython-311\\matplotlib\n",
      "      copying lib\\matplotlib\\legend.py -> build\\lib.win-amd64-cpython-311\\matplotlib\n",
      "      copying lib\\matplotlib\\legend_handler.py -> build\\lib.win-amd64-cpython-311\\matplotlib\n",
      "      copying lib\\matplotlib\\lines.py -> build\\lib.win-amd64-cpython-311\\matplotlib\n",
      "      copying lib\\matplotlib\\markers.py -> build\\lib.win-amd64-cpython-311\\matplotlib\n",
      "      copying lib\\matplotlib\\mathtext.py -> build\\lib.win-amd64-cpython-311\\matplotlib\n",
      "      copying lib\\matplotlib\\mlab.py -> build\\lib.win-amd64-cpython-311\\matplotlib\n",
      "      copying lib\\matplotlib\\offsetbox.py -> build\\lib.win-amd64-cpython-311\\matplotlib\n",
      "      copying lib\\matplotlib\\patches.py -> build\\lib.win-amd64-cpython-311\\matplotlib\n",
      "      copying lib\\matplotlib\\path.py -> build\\lib.win-amd64-cpython-311\\matplotlib\n",
      "      copying lib\\matplotlib\\patheffects.py -> build\\lib.win-amd64-cpython-311\\matplotlib\n",
      "      copying lib\\matplotlib\\pylab.py -> build\\lib.win-amd64-cpython-311\\matplotlib\n",
      "      copying lib\\matplotlib\\pyplot.py -> build\\lib.win-amd64-cpython-311\\matplotlib\n",
      "      copying lib\\matplotlib\\quiver.py -> build\\lib.win-amd64-cpython-311\\matplotlib\n",
      "      copying lib\\matplotlib\\rcsetup.py -> build\\lib.win-amd64-cpython-311\\matplotlib\n",
      "      copying lib\\matplotlib\\sankey.py -> build\\lib.win-amd64-cpython-311\\matplotlib\n",
      "      copying lib\\matplotlib\\scale.py -> build\\lib.win-amd64-cpython-311\\matplotlib\n",
      "      copying lib\\matplotlib\\spines.py -> build\\lib.win-amd64-cpython-311\\matplotlib\n",
      "      copying lib\\matplotlib\\stackplot.py -> build\\lib.win-amd64-cpython-311\\matplotlib\n",
      "      copying lib\\matplotlib\\streamplot.py -> build\\lib.win-amd64-cpython-311\\matplotlib\n",
      "      copying lib\\matplotlib\\table.py -> build\\lib.win-amd64-cpython-311\\matplotlib\n",
      "      copying lib\\matplotlib\\texmanager.py -> build\\lib.win-amd64-cpython-311\\matplotlib\n",
      "      copying lib\\matplotlib\\text.py -> build\\lib.win-amd64-cpython-311\\matplotlib\n",
      "      copying lib\\matplotlib\\textpath.py -> build\\lib.win-amd64-cpython-311\\matplotlib\n",
      "      copying lib\\matplotlib\\ticker.py -> build\\lib.win-amd64-cpython-311\\matplotlib\n",
      "      copying lib\\matplotlib\\tight_bbox.py -> build\\lib.win-amd64-cpython-311\\matplotlib\n",
      "      copying lib\\matplotlib\\tight_layout.py -> build\\lib.win-amd64-cpython-311\\matplotlib\n",
      "      copying lib\\matplotlib\\transforms.py -> build\\lib.win-amd64-cpython-311\\matplotlib\n",
      "      copying lib\\matplotlib\\type1font.py -> build\\lib.win-amd64-cpython-311\\matplotlib\n",
      "      copying lib\\matplotlib\\units.py -> build\\lib.win-amd64-cpython-311\\matplotlib\n",
      "      copying lib\\matplotlib\\widgets.py -> build\\lib.win-amd64-cpython-311\\matplotlib\n",
      "      copying lib\\matplotlib\\_animation_data.py -> build\\lib.win-amd64-cpython-311\\matplotlib\n",
      "      copying lib\\matplotlib\\_blocking_input.py -> build\\lib.win-amd64-cpython-311\\matplotlib\n",
      "      copying lib\\matplotlib\\_cm.py -> build\\lib.win-amd64-cpython-311\\matplotlib\n",
      "      copying lib\\matplotlib\\_cm_listed.py -> build\\lib.win-amd64-cpython-311\\matplotlib\n",
      "      copying lib\\matplotlib\\_color_data.py -> build\\lib.win-amd64-cpython-311\\matplotlib\n",
      "      copying lib\\matplotlib\\_constrained_layout.py -> build\\lib.win-amd64-cpython-311\\matplotlib\n",
      "      copying lib\\matplotlib\\_enums.py -> build\\lib.win-amd64-cpython-311\\matplotlib\n",
      "      copying lib\\matplotlib\\_internal_utils.py -> build\\lib.win-amd64-cpython-311\\matplotlib\n",
      "      copying lib\\matplotlib\\_layoutgrid.py -> build\\lib.win-amd64-cpython-311\\matplotlib\n",
      "      copying lib\\matplotlib\\_mathtext.py -> build\\lib.win-amd64-cpython-311\\matplotlib\n",
      "      copying lib\\matplotlib\\_mathtext_data.py -> build\\lib.win-amd64-cpython-311\\matplotlib\n",
      "      copying lib\\matplotlib\\_pylab_helpers.py -> build\\lib.win-amd64-cpython-311\\matplotlib\n",
      "      copying lib\\matplotlib\\_text_helpers.py -> build\\lib.win-amd64-cpython-311\\matplotlib\n",
      "      copying lib\\matplotlib\\_version.py -> build\\lib.win-amd64-cpython-311\\matplotlib\n",
      "      copying lib\\matplotlib\\__init__.py -> build\\lib.win-amd64-cpython-311\\matplotlib\n",
      "      creating build\\lib.win-amd64-cpython-311\\mpl_toolkits\n",
      "      copying lib\\mpl_toolkits\\__init__.py -> build\\lib.win-amd64-cpython-311\\mpl_toolkits\n",
      "      creating build\\lib.win-amd64-cpython-311\\matplotlib\\axes\n",
      "      copying lib\\matplotlib\\axes\\_axes.py -> build\\lib.win-amd64-cpython-311\\matplotlib\\axes\n",
      "      copying lib\\matplotlib\\axes\\_base.py -> build\\lib.win-amd64-cpython-311\\matplotlib\\axes\n",
      "      copying lib\\matplotlib\\axes\\_secondary_axes.py -> build\\lib.win-amd64-cpython-311\\matplotlib\\axes\n",
      "      copying lib\\matplotlib\\axes\\_subplots.py -> build\\lib.win-amd64-cpython-311\\matplotlib\\axes\n",
      "      copying lib\\matplotlib\\axes\\__init__.py -> build\\lib.win-amd64-cpython-311\\matplotlib\\axes\n",
      "      creating build\\lib.win-amd64-cpython-311\\matplotlib\\backends\n",
      "      copying lib\\matplotlib\\backends\\backend_agg.py -> build\\lib.win-amd64-cpython-311\\matplotlib\\backends\n",
      "      copying lib\\matplotlib\\backends\\backend_cairo.py -> build\\lib.win-amd64-cpython-311\\matplotlib\\backends\n",
      "      copying lib\\matplotlib\\backends\\backend_gtk3.py -> build\\lib.win-amd64-cpython-311\\matplotlib\\backends\n",
      "      copying lib\\matplotlib\\backends\\backend_gtk3agg.py -> build\\lib.win-amd64-cpython-311\\matplotlib\\backends\n",
      "      copying lib\\matplotlib\\backends\\backend_gtk3cairo.py -> build\\lib.win-amd64-cpython-311\\matplotlib\\backends\n",
      "      copying lib\\matplotlib\\backends\\backend_gtk4.py -> build\\lib.win-amd64-cpython-311\\matplotlib\\backends\n",
      "      copying lib\\matplotlib\\backends\\backend_gtk4agg.py -> build\\lib.win-amd64-cpython-311\\matplotlib\\backends\n",
      "      copying lib\\matplotlib\\backends\\backend_gtk4cairo.py -> build\\lib.win-amd64-cpython-311\\matplotlib\\backends\n",
      "      copying lib\\matplotlib\\backends\\backend_macosx.py -> build\\lib.win-amd64-cpython-311\\matplotlib\\backends\n",
      "      copying lib\\matplotlib\\backends\\backend_mixed.py -> build\\lib.win-amd64-cpython-311\\matplotlib\\backends\n",
      "      copying lib\\matplotlib\\backends\\backend_nbagg.py -> build\\lib.win-amd64-cpython-311\\matplotlib\\backends\n",
      "      copying lib\\matplotlib\\backends\\backend_pdf.py -> build\\lib.win-amd64-cpython-311\\matplotlib\\backends\n",
      "      copying lib\\matplotlib\\backends\\backend_pgf.py -> build\\lib.win-amd64-cpython-311\\matplotlib\\backends\n",
      "      copying lib\\matplotlib\\backends\\backend_ps.py -> build\\lib.win-amd64-cpython-311\\matplotlib\\backends\n",
      "      copying lib\\matplotlib\\backends\\backend_qt.py -> build\\lib.win-amd64-cpython-311\\matplotlib\\backends\n",
      "      copying lib\\matplotlib\\backends\\backend_qt5.py -> build\\lib.win-amd64-cpython-311\\matplotlib\\backends\n",
      "      copying lib\\matplotlib\\backends\\backend_qt5agg.py -> build\\lib.win-amd64-cpython-311\\matplotlib\\backends\n",
      "      copying lib\\matplotlib\\backends\\backend_qt5cairo.py -> build\\lib.win-amd64-cpython-311\\matplotlib\\backends\n",
      "      copying lib\\matplotlib\\backends\\backend_qtagg.py -> build\\lib.win-amd64-cpython-311\\matplotlib\\backends\n",
      "      copying lib\\matplotlib\\backends\\backend_qtcairo.py -> build\\lib.win-amd64-cpython-311\\matplotlib\\backends\n",
      "      copying lib\\matplotlib\\backends\\backend_svg.py -> build\\lib.win-amd64-cpython-311\\matplotlib\\backends\n",
      "      copying lib\\matplotlib\\backends\\backend_template.py -> build\\lib.win-amd64-cpython-311\\matplotlib\\backends\n",
      "      copying lib\\matplotlib\\backends\\backend_tkagg.py -> build\\lib.win-amd64-cpython-311\\matplotlib\\backends\n",
      "      copying lib\\matplotlib\\backends\\backend_tkcairo.py -> build\\lib.win-amd64-cpython-311\\matplotlib\\backends\n",
      "      copying lib\\matplotlib\\backends\\backend_webagg.py -> build\\lib.win-amd64-cpython-311\\matplotlib\\backends\n",
      "      copying lib\\matplotlib\\backends\\backend_webagg_core.py -> build\\lib.win-amd64-cpython-311\\matplotlib\\backends\n",
      "      copying lib\\matplotlib\\backends\\backend_wx.py -> build\\lib.win-amd64-cpython-311\\matplotlib\\backends\n",
      "      copying lib\\matplotlib\\backends\\backend_wxagg.py -> build\\lib.win-amd64-cpython-311\\matplotlib\\backends\n",
      "      copying lib\\matplotlib\\backends\\backend_wxcairo.py -> build\\lib.win-amd64-cpython-311\\matplotlib\\backends\n",
      "      copying lib\\matplotlib\\backends\\qt_compat.py -> build\\lib.win-amd64-cpython-311\\matplotlib\\backends\n",
      "      copying lib\\matplotlib\\backends\\_backend_gtk.py -> build\\lib.win-amd64-cpython-311\\matplotlib\\backends\n",
      "      copying lib\\matplotlib\\backends\\_backend_pdf_ps.py -> build\\lib.win-amd64-cpython-311\\matplotlib\\backends\n",
      "      copying lib\\matplotlib\\backends\\_backend_tk.py -> build\\lib.win-amd64-cpython-311\\matplotlib\\backends\n",
      "      copying lib\\matplotlib\\backends\\__init__.py -> build\\lib.win-amd64-cpython-311\\matplotlib\\backends\n",
      "      creating build\\lib.win-amd64-cpython-311\\matplotlib\\cbook\n",
      "      copying lib\\matplotlib\\cbook\\deprecation.py -> build\\lib.win-amd64-cpython-311\\matplotlib\\cbook\n",
      "      copying lib\\matplotlib\\cbook\\__init__.py -> build\\lib.win-amd64-cpython-311\\matplotlib\\cbook\n",
      "      creating build\\lib.win-amd64-cpython-311\\matplotlib\\projections\n",
      "      copying lib\\matplotlib\\projections\\geo.py -> build\\lib.win-amd64-cpython-311\\matplotlib\\projections\n",
      "      copying lib\\matplotlib\\projections\\polar.py -> build\\lib.win-amd64-cpython-311\\matplotlib\\projections\n",
      "      copying lib\\matplotlib\\projections\\__init__.py -> build\\lib.win-amd64-cpython-311\\matplotlib\\projections\n",
      "      creating build\\lib.win-amd64-cpython-311\\matplotlib\\sphinxext\n",
      "      copying lib\\matplotlib\\sphinxext\\mathmpl.py -> build\\lib.win-amd64-cpython-311\\matplotlib\\sphinxext\n",
      "      copying lib\\matplotlib\\sphinxext\\plot_directive.py -> build\\lib.win-amd64-cpython-311\\matplotlib\\sphinxext\n",
      "      copying lib\\matplotlib\\sphinxext\\__init__.py -> build\\lib.win-amd64-cpython-311\\matplotlib\\sphinxext\n",
      "      creating build\\lib.win-amd64-cpython-311\\matplotlib\\style\n",
      "      copying lib\\matplotlib\\style\\core.py -> build\\lib.win-amd64-cpython-311\\matplotlib\\style\n",
      "      copying lib\\matplotlib\\style\\__init__.py -> build\\lib.win-amd64-cpython-311\\matplotlib\\style\n",
      "      creating build\\lib.win-amd64-cpython-311\\matplotlib\\testing\n",
      "      copying lib\\matplotlib\\testing\\compare.py -> build\\lib.win-amd64-cpython-311\\matplotlib\\testing\n",
      "      copying lib\\matplotlib\\testing\\conftest.py -> build\\lib.win-amd64-cpython-311\\matplotlib\\testing\n",
      "      copying lib\\matplotlib\\testing\\decorators.py -> build\\lib.win-amd64-cpython-311\\matplotlib\\testing\n",
      "      copying lib\\matplotlib\\testing\\exceptions.py -> build\\lib.win-amd64-cpython-311\\matplotlib\\testing\n",
      "      copying lib\\matplotlib\\testing\\widgets.py -> build\\lib.win-amd64-cpython-311\\matplotlib\\testing\n",
      "      copying lib\\matplotlib\\testing\\__init__.py -> build\\lib.win-amd64-cpython-311\\matplotlib\\testing\n",
      "      creating build\\lib.win-amd64-cpython-311\\matplotlib\\tests\n",
      "      copying lib\\matplotlib\\tests\\conftest.py -> build\\lib.win-amd64-cpython-311\\matplotlib\\tests\n",
      "      copying lib\\matplotlib\\tests\\test_afm.py -> build\\lib.win-amd64-cpython-311\\matplotlib\\tests\n",
      "      copying lib\\matplotlib\\tests\\test_agg.py -> build\\lib.win-amd64-cpython-311\\matplotlib\\tests\n",
      "      copying lib\\matplotlib\\tests\\test_agg_filter.py -> build\\lib.win-amd64-cpython-311\\matplotlib\\tests\n",
      "      copying lib\\matplotlib\\tests\\test_animation.py -> build\\lib.win-amd64-cpython-311\\matplotlib\\tests\n",
      "      copying lib\\matplotlib\\tests\\test_api.py -> build\\lib.win-amd64-cpython-311\\matplotlib\\tests\n",
      "      copying lib\\matplotlib\\tests\\test_arrow_patches.py -> build\\lib.win-amd64-cpython-311\\matplotlib\\tests\n",
      "      copying lib\\matplotlib\\tests\\test_artist.py -> build\\lib.win-amd64-cpython-311\\matplotlib\\tests\n",
      "      copying lib\\matplotlib\\tests\\test_axes.py -> build\\lib.win-amd64-cpython-311\\matplotlib\\tests\n",
      "      copying lib\\matplotlib\\tests\\test_backends_interactive.py -> build\\lib.win-amd64-cpython-311\\matplotlib\\tests\n",
      "      copying lib\\matplotlib\\tests\\test_backend_bases.py -> build\\lib.win-amd64-cpython-311\\matplotlib\\tests\n",
      "      copying lib\\matplotlib\\tests\\test_backend_cairo.py -> build\\lib.win-amd64-cpython-311\\matplotlib\\tests\n",
      "      copying lib\\matplotlib\\tests\\test_backend_gtk3.py -> build\\lib.win-amd64-cpython-311\\matplotlib\\tests\n",
      "      copying lib\\matplotlib\\tests\\test_backend_macosx.py -> build\\lib.win-amd64-cpython-311\\matplotlib\\tests\n",
      "      copying lib\\matplotlib\\tests\\test_backend_nbagg.py -> build\\lib.win-amd64-cpython-311\\matplotlib\\tests\n",
      "      copying lib\\matplotlib\\tests\\test_backend_pdf.py -> build\\lib.win-amd64-cpython-311\\matplotlib\\tests\n",
      "      copying lib\\matplotlib\\tests\\test_backend_pgf.py -> build\\lib.win-amd64-cpython-311\\matplotlib\\tests\n",
      "      copying lib\\matplotlib\\tests\\test_backend_ps.py -> build\\lib.win-amd64-cpython-311\\matplotlib\\tests\n",
      "      copying lib\\matplotlib\\tests\\test_backend_qt.py -> build\\lib.win-amd64-cpython-311\\matplotlib\\tests\n",
      "      copying lib\\matplotlib\\tests\\test_backend_svg.py -> build\\lib.win-amd64-cpython-311\\matplotlib\\tests\n",
      "      copying lib\\matplotlib\\tests\\test_backend_tk.py -> build\\lib.win-amd64-cpython-311\\matplotlib\\tests\n",
      "      copying lib\\matplotlib\\tests\\test_backend_tools.py -> build\\lib.win-amd64-cpython-311\\matplotlib\\tests\n",
      "      copying lib\\matplotlib\\tests\\test_backend_webagg.py -> build\\lib.win-amd64-cpython-311\\matplotlib\\tests\n",
      "      copying lib\\matplotlib\\tests\\test_basic.py -> build\\lib.win-amd64-cpython-311\\matplotlib\\tests\n",
      "      copying lib\\matplotlib\\tests\\test_bbox_tight.py -> build\\lib.win-amd64-cpython-311\\matplotlib\\tests\n",
      "      copying lib\\matplotlib\\tests\\test_category.py -> build\\lib.win-amd64-cpython-311\\matplotlib\\tests\n",
      "      copying lib\\matplotlib\\tests\\test_cbook.py -> build\\lib.win-amd64-cpython-311\\matplotlib\\tests\n",
      "      copying lib\\matplotlib\\tests\\test_collections.py -> build\\lib.win-amd64-cpython-311\\matplotlib\\tests\n",
      "      copying lib\\matplotlib\\tests\\test_colorbar.py -> build\\lib.win-amd64-cpython-311\\matplotlib\\tests\n",
      "      copying lib\\matplotlib\\tests\\test_colors.py -> build\\lib.win-amd64-cpython-311\\matplotlib\\tests\n",
      "      copying lib\\matplotlib\\tests\\test_compare_images.py -> build\\lib.win-amd64-cpython-311\\matplotlib\\tests\n",
      "      copying lib\\matplotlib\\tests\\test_constrainedlayout.py -> build\\lib.win-amd64-cpython-311\\matplotlib\\tests\n",
      "      copying lib\\matplotlib\\tests\\test_container.py -> build\\lib.win-amd64-cpython-311\\matplotlib\\tests\n",
      "      copying lib\\matplotlib\\tests\\test_contour.py -> build\\lib.win-amd64-cpython-311\\matplotlib\\tests\n",
      "      copying lib\\matplotlib\\tests\\test_cycles.py -> build\\lib.win-amd64-cpython-311\\matplotlib\\tests\n",
      "      copying lib\\matplotlib\\tests\\test_dates.py -> build\\lib.win-amd64-cpython-311\\matplotlib\\tests\n",
      "      copying lib\\matplotlib\\tests\\test_determinism.py -> build\\lib.win-amd64-cpython-311\\matplotlib\\tests\n",
      "      copying lib\\matplotlib\\tests\\test_dviread.py -> build\\lib.win-amd64-cpython-311\\matplotlib\\tests\n",
      "      copying lib\\matplotlib\\tests\\test_figure.py -> build\\lib.win-amd64-cpython-311\\matplotlib\\tests\n",
      "      copying lib\\matplotlib\\tests\\test_fontconfig_pattern.py -> build\\lib.win-amd64-cpython-311\\matplotlib\\tests\n",
      "      copying lib\\matplotlib\\tests\\test_font_manager.py -> build\\lib.win-amd64-cpython-311\\matplotlib\\tests\n",
      "      copying lib\\matplotlib\\tests\\test_getattr.py -> build\\lib.win-amd64-cpython-311\\matplotlib\\tests\n",
      "      copying lib\\matplotlib\\tests\\test_gridspec.py -> build\\lib.win-amd64-cpython-311\\matplotlib\\tests\n",
      "      copying lib\\matplotlib\\tests\\test_image.py -> build\\lib.win-amd64-cpython-311\\matplotlib\\tests\n",
      "      copying lib\\matplotlib\\tests\\test_legend.py -> build\\lib.win-amd64-cpython-311\\matplotlib\\tests\n",
      "      copying lib\\matplotlib\\tests\\test_lines.py -> build\\lib.win-amd64-cpython-311\\matplotlib\\tests\n",
      "      copying lib\\matplotlib\\tests\\test_marker.py -> build\\lib.win-amd64-cpython-311\\matplotlib\\tests\n",
      "      copying lib\\matplotlib\\tests\\test_mathtext.py -> build\\lib.win-amd64-cpython-311\\matplotlib\\tests\n",
      "      copying lib\\matplotlib\\tests\\test_matplotlib.py -> build\\lib.win-amd64-cpython-311\\matplotlib\\tests\n",
      "      copying lib\\matplotlib\\tests\\test_mlab.py -> build\\lib.win-amd64-cpython-311\\matplotlib\\tests\n",
      "      copying lib\\matplotlib\\tests\\test_offsetbox.py -> build\\lib.win-amd64-cpython-311\\matplotlib\\tests\n",
      "      copying lib\\matplotlib\\tests\\test_patches.py -> build\\lib.win-amd64-cpython-311\\matplotlib\\tests\n",
      "      copying lib\\matplotlib\\tests\\test_path.py -> build\\lib.win-amd64-cpython-311\\matplotlib\\tests\n",
      "      copying lib\\matplotlib\\tests\\test_patheffects.py -> build\\lib.win-amd64-cpython-311\\matplotlib\\tests\n",
      "      copying lib\\matplotlib\\tests\\test_pickle.py -> build\\lib.win-amd64-cpython-311\\matplotlib\\tests\n",
      "      copying lib\\matplotlib\\tests\\test_png.py -> build\\lib.win-amd64-cpython-311\\matplotlib\\tests\n",
      "      copying lib\\matplotlib\\tests\\test_polar.py -> build\\lib.win-amd64-cpython-311\\matplotlib\\tests\n",
      "      copying lib\\matplotlib\\tests\\test_preprocess_data.py -> build\\lib.win-amd64-cpython-311\\matplotlib\\tests\n",
      "      copying lib\\matplotlib\\tests\\test_pyplot.py -> build\\lib.win-amd64-cpython-311\\matplotlib\\tests\n",
      "      copying lib\\matplotlib\\tests\\test_quiver.py -> build\\lib.win-amd64-cpython-311\\matplotlib\\tests\n",
      "      copying lib\\matplotlib\\tests\\test_rcparams.py -> build\\lib.win-amd64-cpython-311\\matplotlib\\tests\n",
      "      copying lib\\matplotlib\\tests\\test_sankey.py -> build\\lib.win-amd64-cpython-311\\matplotlib\\tests\n",
      "      copying lib\\matplotlib\\tests\\test_scale.py -> build\\lib.win-amd64-cpython-311\\matplotlib\\tests\n",
      "      copying lib\\matplotlib\\tests\\test_simplification.py -> build\\lib.win-amd64-cpython-311\\matplotlib\\tests\n",
      "      copying lib\\matplotlib\\tests\\test_skew.py -> build\\lib.win-amd64-cpython-311\\matplotlib\\tests\n",
      "      copying lib\\matplotlib\\tests\\test_sphinxext.py -> build\\lib.win-amd64-cpython-311\\matplotlib\\tests\n",
      "      copying lib\\matplotlib\\tests\\test_spines.py -> build\\lib.win-amd64-cpython-311\\matplotlib\\tests\n",
      "      copying lib\\matplotlib\\tests\\test_streamplot.py -> build\\lib.win-amd64-cpython-311\\matplotlib\\tests\n",
      "      copying lib\\matplotlib\\tests\\test_style.py -> build\\lib.win-amd64-cpython-311\\matplotlib\\tests\n",
      "      copying lib\\matplotlib\\tests\\test_subplots.py -> build\\lib.win-amd64-cpython-311\\matplotlib\\tests\n",
      "      copying lib\\matplotlib\\tests\\test_table.py -> build\\lib.win-amd64-cpython-311\\matplotlib\\tests\n",
      "      copying lib\\matplotlib\\tests\\test_testing.py -> build\\lib.win-amd64-cpython-311\\matplotlib\\tests\n",
      "      copying lib\\matplotlib\\tests\\test_texmanager.py -> build\\lib.win-amd64-cpython-311\\matplotlib\\tests\n",
      "      copying lib\\matplotlib\\tests\\test_text.py -> build\\lib.win-amd64-cpython-311\\matplotlib\\tests\n",
      "      copying lib\\matplotlib\\tests\\test_ticker.py -> build\\lib.win-amd64-cpython-311\\matplotlib\\tests\n",
      "      copying lib\\matplotlib\\tests\\test_tightlayout.py -> build\\lib.win-amd64-cpython-311\\matplotlib\\tests\n",
      "      copying lib\\matplotlib\\tests\\test_transforms.py -> build\\lib.win-amd64-cpython-311\\matplotlib\\tests\n",
      "      copying lib\\matplotlib\\tests\\test_triangulation.py -> build\\lib.win-amd64-cpython-311\\matplotlib\\tests\n",
      "      copying lib\\matplotlib\\tests\\test_ttconv.py -> build\\lib.win-amd64-cpython-311\\matplotlib\\tests\n",
      "      copying lib\\matplotlib\\tests\\test_type1font.py -> build\\lib.win-amd64-cpython-311\\matplotlib\\tests\n",
      "      copying lib\\matplotlib\\tests\\test_units.py -> build\\lib.win-amd64-cpython-311\\matplotlib\\tests\n",
      "      copying lib\\matplotlib\\tests\\test_usetex.py -> build\\lib.win-amd64-cpython-311\\matplotlib\\tests\n",
      "      copying lib\\matplotlib\\tests\\test_widgets.py -> build\\lib.win-amd64-cpython-311\\matplotlib\\tests\n",
      "      copying lib\\matplotlib\\tests\\__init__.py -> build\\lib.win-amd64-cpython-311\\matplotlib\\tests\n",
      "      creating build\\lib.win-amd64-cpython-311\\matplotlib\\tri\n",
      "      copying lib\\matplotlib\\tri\\triangulation.py -> build\\lib.win-amd64-cpython-311\\matplotlib\\tri\n",
      "      copying lib\\matplotlib\\tri\\tricontour.py -> build\\lib.win-amd64-cpython-311\\matplotlib\\tri\n",
      "      copying lib\\matplotlib\\tri\\trifinder.py -> build\\lib.win-amd64-cpython-311\\matplotlib\\tri\n",
      "      copying lib\\matplotlib\\tri\\triinterpolate.py -> build\\lib.win-amd64-cpython-311\\matplotlib\\tri\n",
      "      copying lib\\matplotlib\\tri\\tripcolor.py -> build\\lib.win-amd64-cpython-311\\matplotlib\\tri\n",
      "      copying lib\\matplotlib\\tri\\triplot.py -> build\\lib.win-amd64-cpython-311\\matplotlib\\tri\n",
      "      copying lib\\matplotlib\\tri\\trirefine.py -> build\\lib.win-amd64-cpython-311\\matplotlib\\tri\n",
      "      copying lib\\matplotlib\\tri\\tritools.py -> build\\lib.win-amd64-cpython-311\\matplotlib\\tri\n",
      "      copying lib\\matplotlib\\tri\\__init__.py -> build\\lib.win-amd64-cpython-311\\matplotlib\\tri\n",
      "      creating build\\lib.win-amd64-cpython-311\\matplotlib\\_api\n",
      "      copying lib\\matplotlib\\_api\\deprecation.py -> build\\lib.win-amd64-cpython-311\\matplotlib\\_api\n",
      "      copying lib\\matplotlib\\_api\\__init__.py -> build\\lib.win-amd64-cpython-311\\matplotlib\\_api\n",
      "      creating build\\lib.win-amd64-cpython-311\\matplotlib\\backends\\qt_editor\n",
      "      copying lib\\matplotlib\\backends\\qt_editor\\figureoptions.py -> build\\lib.win-amd64-cpython-311\\matplotlib\\backends\\qt_editor\n",
      "      copying lib\\matplotlib\\backends\\qt_editor\\_formlayout.py -> build\\lib.win-amd64-cpython-311\\matplotlib\\backends\\qt_editor\n",
      "      copying lib\\matplotlib\\backends\\qt_editor\\__init__.py -> build\\lib.win-amd64-cpython-311\\matplotlib\\backends\\qt_editor\n",
      "      creating build\\lib.win-amd64-cpython-311\\matplotlib\\testing\\jpl_units\n",
      "      copying lib\\matplotlib\\testing\\jpl_units\\Duration.py -> build\\lib.win-amd64-cpython-311\\matplotlib\\testing\\jpl_units\n",
      "      copying lib\\matplotlib\\testing\\jpl_units\\Epoch.py -> build\\lib.win-amd64-cpython-311\\matplotlib\\testing\\jpl_units\n",
      "      copying lib\\matplotlib\\testing\\jpl_units\\EpochConverter.py -> build\\lib.win-amd64-cpython-311\\matplotlib\\testing\\jpl_units\n",
      "      copying lib\\matplotlib\\testing\\jpl_units\\StrConverter.py -> build\\lib.win-amd64-cpython-311\\matplotlib\\testing\\jpl_units\n",
      "      copying lib\\matplotlib\\testing\\jpl_units\\UnitDbl.py -> build\\lib.win-amd64-cpython-311\\matplotlib\\testing\\jpl_units\n",
      "      copying lib\\matplotlib\\testing\\jpl_units\\UnitDblConverter.py -> build\\lib.win-amd64-cpython-311\\matplotlib\\testing\\jpl_units\n",
      "      copying lib\\matplotlib\\testing\\jpl_units\\UnitDblFormatter.py -> build\\lib.win-amd64-cpython-311\\matplotlib\\testing\\jpl_units\n",
      "      copying lib\\matplotlib\\testing\\jpl_units\\__init__.py -> build\\lib.win-amd64-cpython-311\\matplotlib\\testing\\jpl_units\n",
      "      creating build\\lib.win-amd64-cpython-311\\mpl_toolkits\\axes_grid\n",
      "      copying lib\\mpl_toolkits\\axes_grid\\anchored_artists.py -> build\\lib.win-amd64-cpython-311\\mpl_toolkits\\axes_grid\n",
      "      copying lib\\mpl_toolkits\\axes_grid\\angle_helper.py -> build\\lib.win-amd64-cpython-311\\mpl_toolkits\\axes_grid\n",
      "      copying lib\\mpl_toolkits\\axes_grid\\axes_divider.py -> build\\lib.win-amd64-cpython-311\\mpl_toolkits\\axes_grid\n",
      "      copying lib\\mpl_toolkits\\axes_grid\\axes_grid.py -> build\\lib.win-amd64-cpython-311\\mpl_toolkits\\axes_grid\n",
      "      copying lib\\mpl_toolkits\\axes_grid\\axes_rgb.py -> build\\lib.win-amd64-cpython-311\\mpl_toolkits\\axes_grid\n",
      "      copying lib\\mpl_toolkits\\axes_grid\\axes_size.py -> build\\lib.win-amd64-cpython-311\\mpl_toolkits\\axes_grid\n",
      "      copying lib\\mpl_toolkits\\axes_grid\\axislines.py -> build\\lib.win-amd64-cpython-311\\mpl_toolkits\\axes_grid\n",
      "      copying lib\\mpl_toolkits\\axes_grid\\axisline_style.py -> build\\lib.win-amd64-cpython-311\\mpl_toolkits\\axes_grid\n",
      "      copying lib\\mpl_toolkits\\axes_grid\\axis_artist.py -> build\\lib.win-amd64-cpython-311\\mpl_toolkits\\axes_grid\n",
      "      copying lib\\mpl_toolkits\\axes_grid\\clip_path.py -> build\\lib.win-amd64-cpython-311\\mpl_toolkits\\axes_grid\n",
      "      copying lib\\mpl_toolkits\\axes_grid\\floating_axes.py -> build\\lib.win-amd64-cpython-311\\mpl_toolkits\\axes_grid\n",
      "      copying lib\\mpl_toolkits\\axes_grid\\grid_finder.py -> build\\lib.win-amd64-cpython-311\\mpl_toolkits\\axes_grid\n",
      "      copying lib\\mpl_toolkits\\axes_grid\\grid_helper_curvelinear.py -> build\\lib.win-amd64-cpython-311\\mpl_toolkits\\axes_grid\n",
      "      copying lib\\mpl_toolkits\\axes_grid\\inset_locator.py -> build\\lib.win-amd64-cpython-311\\mpl_toolkits\\axes_grid\n",
      "      copying lib\\mpl_toolkits\\axes_grid\\parasite_axes.py -> build\\lib.win-amd64-cpython-311\\mpl_toolkits\\axes_grid\n",
      "      copying lib\\mpl_toolkits\\axes_grid\\__init__.py -> build\\lib.win-amd64-cpython-311\\mpl_toolkits\\axes_grid\n",
      "      creating build\\lib.win-amd64-cpython-311\\mpl_toolkits\\axes_grid1\n",
      "      copying lib\\mpl_toolkits\\axes_grid1\\anchored_artists.py -> build\\lib.win-amd64-cpython-311\\mpl_toolkits\\axes_grid1\n",
      "      copying lib\\mpl_toolkits\\axes_grid1\\axes_divider.py -> build\\lib.win-amd64-cpython-311\\mpl_toolkits\\axes_grid1\n",
      "      copying lib\\mpl_toolkits\\axes_grid1\\axes_grid.py -> build\\lib.win-amd64-cpython-311\\mpl_toolkits\\axes_grid1\n",
      "      copying lib\\mpl_toolkits\\axes_grid1\\axes_rgb.py -> build\\lib.win-amd64-cpython-311\\mpl_toolkits\\axes_grid1\n",
      "      copying lib\\mpl_toolkits\\axes_grid1\\axes_size.py -> build\\lib.win-amd64-cpython-311\\mpl_toolkits\\axes_grid1\n",
      "      copying lib\\mpl_toolkits\\axes_grid1\\inset_locator.py -> build\\lib.win-amd64-cpython-311\\mpl_toolkits\\axes_grid1\n",
      "      copying lib\\mpl_toolkits\\axes_grid1\\mpl_axes.py -> build\\lib.win-amd64-cpython-311\\mpl_toolkits\\axes_grid1\n",
      "      copying lib\\mpl_toolkits\\axes_grid1\\parasite_axes.py -> build\\lib.win-amd64-cpython-311\\mpl_toolkits\\axes_grid1\n",
      "      copying lib\\mpl_toolkits\\axes_grid1\\__init__.py -> build\\lib.win-amd64-cpython-311\\mpl_toolkits\\axes_grid1\n",
      "      creating build\\lib.win-amd64-cpython-311\\mpl_toolkits\\axisartist\n",
      "      copying lib\\mpl_toolkits\\axisartist\\angle_helper.py -> build\\lib.win-amd64-cpython-311\\mpl_toolkits\\axisartist\n",
      "      copying lib\\mpl_toolkits\\axisartist\\axes_divider.py -> build\\lib.win-amd64-cpython-311\\mpl_toolkits\\axisartist\n",
      "      copying lib\\mpl_toolkits\\axisartist\\axes_grid.py -> build\\lib.win-amd64-cpython-311\\mpl_toolkits\\axisartist\n",
      "      copying lib\\mpl_toolkits\\axisartist\\axes_rgb.py -> build\\lib.win-amd64-cpython-311\\mpl_toolkits\\axisartist\n",
      "      copying lib\\mpl_toolkits\\axisartist\\axislines.py -> build\\lib.win-amd64-cpython-311\\mpl_toolkits\\axisartist\n",
      "      copying lib\\mpl_toolkits\\axisartist\\axisline_style.py -> build\\lib.win-amd64-cpython-311\\mpl_toolkits\\axisartist\n",
      "      copying lib\\mpl_toolkits\\axisartist\\axis_artist.py -> build\\lib.win-amd64-cpython-311\\mpl_toolkits\\axisartist\n",
      "      copying lib\\mpl_toolkits\\axisartist\\clip_path.py -> build\\lib.win-amd64-cpython-311\\mpl_toolkits\\axisartist\n",
      "      copying lib\\mpl_toolkits\\axisartist\\floating_axes.py -> build\\lib.win-amd64-cpython-311\\mpl_toolkits\\axisartist\n",
      "      copying lib\\mpl_toolkits\\axisartist\\grid_finder.py -> build\\lib.win-amd64-cpython-311\\mpl_toolkits\\axisartist\n",
      "      copying lib\\mpl_toolkits\\axisartist\\grid_helper_curvelinear.py -> build\\lib.win-amd64-cpython-311\\mpl_toolkits\\axisartist\n",
      "      copying lib\\mpl_toolkits\\axisartist\\parasite_axes.py -> build\\lib.win-amd64-cpython-311\\mpl_toolkits\\axisartist\n",
      "      copying lib\\mpl_toolkits\\axisartist\\__init__.py -> build\\lib.win-amd64-cpython-311\\mpl_toolkits\\axisartist\n",
      "      creating build\\lib.win-amd64-cpython-311\\mpl_toolkits\\mplot3d\n",
      "      copying lib\\mpl_toolkits\\mplot3d\\art3d.py -> build\\lib.win-amd64-cpython-311\\mpl_toolkits\\mplot3d\n",
      "      copying lib\\mpl_toolkits\\mplot3d\\axes3d.py -> build\\lib.win-amd64-cpython-311\\mpl_toolkits\\mplot3d\n",
      "      copying lib\\mpl_toolkits\\mplot3d\\axis3d.py -> build\\lib.win-amd64-cpython-311\\mpl_toolkits\\mplot3d\n",
      "      copying lib\\mpl_toolkits\\mplot3d\\proj3d.py -> build\\lib.win-amd64-cpython-311\\mpl_toolkits\\mplot3d\n",
      "      copying lib\\mpl_toolkits\\mplot3d\\__init__.py -> build\\lib.win-amd64-cpython-311\\mpl_toolkits\\mplot3d\n",
      "      creating build\\lib.win-amd64-cpython-311\\mpl_toolkits\\tests\n",
      "      copying lib\\mpl_toolkits\\tests\\conftest.py -> build\\lib.win-amd64-cpython-311\\mpl_toolkits\\tests\n",
      "      copying lib\\mpl_toolkits\\tests\\test_axes_grid.py -> build\\lib.win-amd64-cpython-311\\mpl_toolkits\\tests\n",
      "      copying lib\\mpl_toolkits\\tests\\test_axes_grid1.py -> build\\lib.win-amd64-cpython-311\\mpl_toolkits\\tests\n",
      "      copying lib\\mpl_toolkits\\tests\\test_axisartist_angle_helper.py -> build\\lib.win-amd64-cpython-311\\mpl_toolkits\\tests\n",
      "      copying lib\\mpl_toolkits\\tests\\test_axisartist_axislines.py -> build\\lib.win-amd64-cpython-311\\mpl_toolkits\\tests\n",
      "      copying lib\\mpl_toolkits\\tests\\test_axisartist_axis_artist.py -> build\\lib.win-amd64-cpython-311\\mpl_toolkits\\tests\n",
      "      copying lib\\mpl_toolkits\\tests\\test_axisartist_clip_path.py -> build\\lib.win-amd64-cpython-311\\mpl_toolkits\\tests\n",
      "      copying lib\\mpl_toolkits\\tests\\test_axisartist_floating_axes.py -> build\\lib.win-amd64-cpython-311\\mpl_toolkits\\tests\n",
      "      copying lib\\mpl_toolkits\\tests\\test_axisartist_grid_finder.py -> build\\lib.win-amd64-cpython-311\\mpl_toolkits\\tests\n",
      "      copying lib\\mpl_toolkits\\tests\\test_axisartist_grid_helper_curvelinear.py -> build\\lib.win-amd64-cpython-311\\mpl_toolkits\\tests\n",
      "      copying lib\\mpl_toolkits\\tests\\test_mplot3d.py -> build\\lib.win-amd64-cpython-311\\mpl_toolkits\\tests\n",
      "      copying lib\\mpl_toolkits\\tests\\__init__.py -> build\\lib.win-amd64-cpython-311\\mpl_toolkits\\tests\n",
      "      creating build\\lib.win-amd64-cpython-311\\matplotlib\\backends\\web_backend\n",
      "      copying lib\\matplotlib\\backends\\web_backend\\nbagg_uat.ipynb -> build\\lib.win-amd64-cpython-311\\matplotlib\\backends\\web_backend\n",
      "      creating build\\lib.win-amd64-cpython-311\\matplotlib\\mpl-data\n",
      "      creating build\\lib.win-amd64-cpython-311\\matplotlib\\mpl-data\\fonts\n",
      "      creating build\\lib.win-amd64-cpython-311\\matplotlib\\mpl-data\\fonts\\afm\n",
      "      copying lib\\matplotlib\\mpl-data\\fonts\\afm\\pplr8a.afm -> build\\lib.win-amd64-cpython-311\\matplotlib\\mpl-data\\fonts\\afm\n",
      "      creating build\\lib.win-amd64-cpython-311\\matplotlib\\mpl-data\\images\n",
      "      copying lib\\matplotlib\\mpl-data\\images\\forward_large.png -> build\\lib.win-amd64-cpython-311\\matplotlib\\mpl-data\\images\n",
      "      creating build\\lib.win-amd64-cpython-311\\matplotlib\\mpl-data\\sample_data\n",
      "      copying lib\\matplotlib\\mpl-data\\sample_data\\membrane.dat -> build\\lib.win-amd64-cpython-311\\matplotlib\\mpl-data\\sample_data\n",
      "      creating build\\lib.win-amd64-cpython-311\\matplotlib\\mpl-data\\fonts\\ttf\n",
      "      copying lib\\matplotlib\\mpl-data\\fonts\\ttf\\STIXSizThreeSymReg.ttf -> build\\lib.win-amd64-cpython-311\\matplotlib\\mpl-data\\fonts\\ttf\n",
      "      copying lib\\matplotlib\\mpl-data\\fonts\\afm\\ptmr8a.afm -> build\\lib.win-amd64-cpython-311\\matplotlib\\mpl-data\\fonts\\afm\n",
      "      copying lib\\matplotlib\\mpl-data\\fonts\\afm\\pncr8a.afm -> build\\lib.win-amd64-cpython-311\\matplotlib\\mpl-data\\fonts\\afm\n",
      "      copying lib\\matplotlib\\mpl-data\\fonts\\afm\\pplri8a.afm -> build\\lib.win-amd64-cpython-311\\matplotlib\\mpl-data\\fonts\\afm\n",
      "      creating build\\lib.win-amd64-cpython-311\\matplotlib\\mpl-data\\fonts\\pdfcorefonts\n",
      "      copying lib\\matplotlib\\mpl-data\\fonts\\pdfcorefonts\\Courier-Bold.afm -> build\\lib.win-amd64-cpython-311\\matplotlib\\mpl-data\\fonts\\pdfcorefonts\n",
      "      copying lib\\matplotlib\\mpl-data\\images\\home.svg -> build\\lib.win-amd64-cpython-311\\matplotlib\\mpl-data\\images\n",
      "      copying lib\\matplotlib\\mpl-data\\fonts\\afm\\pzcmi8a.afm -> build\\lib.win-amd64-cpython-311\\matplotlib\\mpl-data\\fonts\\afm\n",
      "      copying lib\\matplotlib\\mpl-data\\sample_data\\grace_hopper.jpg -> build\\lib.win-amd64-cpython-311\\matplotlib\\mpl-data\\sample_data\n",
      "      copying lib\\matplotlib\\mpl-data\\fonts\\afm\\pcrro8a.afm -> build\\lib.win-amd64-cpython-311\\matplotlib\\mpl-data\\fonts\\afm\n",
      "      copying lib\\matplotlib\\mpl-data\\images\\subplots.png -> build\\lib.win-amd64-cpython-311\\matplotlib\\mpl-data\\images\n",
      "      copying lib\\matplotlib\\mpl-data\\fonts\\afm\\putr8a.afm -> build\\lib.win-amd64-cpython-311\\matplotlib\\mpl-data\\fonts\\afm\n",
      "      copying lib\\matplotlib\\mpl-data\\fonts\\ttf\\DejaVuSerif-Bold.ttf -> build\\lib.win-amd64-cpython-311\\matplotlib\\mpl-data\\fonts\\ttf\n",
      "      copying lib\\matplotlib\\mpl-data\\fonts\\afm\\phvlo8a.afm -> build\\lib.win-amd64-cpython-311\\matplotlib\\mpl-data\\fonts\\afm\n",
      "      copying lib\\matplotlib\\mpl-data\\fonts\\ttf\\DejaVuSans-Oblique.ttf -> build\\lib.win-amd64-cpython-311\\matplotlib\\mpl-data\\fonts\\ttf\n",
      "      copying lib\\matplotlib\\mpl-data\\fonts\\ttf\\DejaVuSansMono-Bold.ttf -> build\\lib.win-amd64-cpython-311\\matplotlib\\mpl-data\\fonts\\ttf\n",
      "      copying lib\\matplotlib\\mpl-data\\fonts\\afm\\cmex10.afm -> build\\lib.win-amd64-cpython-311\\matplotlib\\mpl-data\\fonts\\afm\n",
      "      copying lib\\matplotlib\\mpl-data\\fonts\\pdfcorefonts\\Helvetica-Bold.afm -> build\\lib.win-amd64-cpython-311\\matplotlib\\mpl-data\\fonts\\pdfcorefonts\n",
      "      creating build\\lib.win-amd64-cpython-311\\matplotlib\\mpl-data\\stylelib\n",
      "      copying lib\\matplotlib\\mpl-data\\stylelib\\seaborn-bright.mplstyle -> build\\lib.win-amd64-cpython-311\\matplotlib\\mpl-data\\stylelib\n",
      "      copying lib\\matplotlib\\mpl-data\\images\\move.svg -> build\\lib.win-amd64-cpython-311\\matplotlib\\mpl-data\\images\n",
      "      copying lib\\matplotlib\\mpl-data\\stylelib\\seaborn-muted.mplstyle -> build\\lib.win-amd64-cpython-311\\matplotlib\\mpl-data\\stylelib\n",
      "      copying lib\\matplotlib\\mpl-data\\fonts\\afm\\putb8a.afm -> build\\lib.win-amd64-cpython-311\\matplotlib\\mpl-data\\fonts\\afm\n",
      "      copying lib\\matplotlib\\mpl-data\\images\\back.svg -> build\\lib.win-amd64-cpython-311\\matplotlib\\mpl-data\\images\n",
      "      copying lib\\matplotlib\\mpl-data\\images\\subplots.pdf -> build\\lib.win-amd64-cpython-311\\matplotlib\\mpl-data\\images\n",
      "      copying lib\\matplotlib\\mpl-data\\fonts\\ttf\\cmmi10.ttf -> build\\lib.win-amd64-cpython-311\\matplotlib\\mpl-data\\fonts\\ttf\n",
      "      copying lib\\matplotlib\\mpl-data\\images\\home.png -> build\\lib.win-amd64-cpython-311\\matplotlib\\mpl-data\\images\n",
      "      copying lib\\matplotlib\\mpl-data\\fonts\\ttf\\cmtt10.ttf -> build\\lib.win-amd64-cpython-311\\matplotlib\\mpl-data\\fonts\\ttf\n",
      "      copying lib\\matplotlib\\mpl-data\\fonts\\afm\\pncb8a.afm -> build\\lib.win-amd64-cpython-311\\matplotlib\\mpl-data\\fonts\\afm\n",
      "      copying lib\\matplotlib\\mpl-data\\images\\help_large.png -> build\\lib.win-amd64-cpython-311\\matplotlib\\mpl-data\\images\n",
      "      copying lib\\matplotlib\\mpl-data\\images\\matplotlib_large.png -> build\\lib.win-amd64-cpython-311\\matplotlib\\mpl-data\\images\n",
      "      copying lib\\matplotlib\\mpl-data\\fonts\\ttf\\DejaVuSansDisplay.ttf -> build\\lib.win-amd64-cpython-311\\matplotlib\\mpl-data\\fonts\\ttf\n",
      "      creating build\\lib.win-amd64-cpython-311\\matplotlib\\backends\\web_backend\\js\n",
      "      copying lib\\matplotlib\\backends\\web_backend\\js\\nbagg_mpl.js -> build\\lib.win-amd64-cpython-311\\matplotlib\\backends\\web_backend\\js\n",
      "      copying lib\\matplotlib\\mpl-data\\images\\matplotlib_128.ppm -> build\\lib.win-amd64-cpython-311\\matplotlib\\mpl-data\\images\n",
      "      copying lib\\matplotlib\\mpl-data\\sample_data\\jacksboro_fault_dem.npz -> build\\lib.win-amd64-cpython-311\\matplotlib\\mpl-data\\sample_data\n",
      "      copying lib\\matplotlib\\mpl-data\\fonts\\pdfcorefonts\\Times-Roman.afm -> build\\lib.win-amd64-cpython-311\\matplotlib\\mpl-data\\fonts\\pdfcorefonts\n",
      "      copying lib\\matplotlib\\mpl-data\\fonts\\ttf\\cmss10.ttf -> build\\lib.win-amd64-cpython-311\\matplotlib\\mpl-data\\fonts\\ttf\n",
      "      copying lib\\matplotlib\\mpl-data\\images\\matplotlib.pdf -> build\\lib.win-amd64-cpython-311\\matplotlib\\mpl-data\\images\n",
      "      copying lib\\matplotlib\\mpl-data\\stylelib\\seaborn-notebook.mplstyle -> build\\lib.win-amd64-cpython-311\\matplotlib\\mpl-data\\stylelib\n",
      "      copying lib\\matplotlib\\mpl-data\\stylelib\\_mpl-gallery-nogrid.mplstyle -> build\\lib.win-amd64-cpython-311\\matplotlib\\mpl-data\\stylelib\n",
      "      copying lib\\matplotlib\\mpl-data\\stylelib\\seaborn-deep.mplstyle -> build\\lib.win-amd64-cpython-311\\matplotlib\\mpl-data\\stylelib\n",
      "      copying lib\\matplotlib\\mpl-data\\stylelib\\seaborn-paper.mplstyle -> build\\lib.win-amd64-cpython-311\\matplotlib\\mpl-data\\stylelib\n",
      "      copying lib\\matplotlib\\mpl-data\\fonts\\afm\\phvr8an.afm -> build\\lib.win-amd64-cpython-311\\matplotlib\\mpl-data\\fonts\\afm\n",
      "      copying lib\\matplotlib\\backends\\web_backend\\ipython_inline_figure.html -> build\\lib.win-amd64-cpython-311\\matplotlib\\backends\\web_backend\n",
      "      copying lib\\matplotlib\\mpl-data\\fonts\\afm\\pcrb8a.afm -> build\\lib.win-amd64-cpython-311\\matplotlib\\mpl-data\\fonts\\afm\n",
      "      copying lib\\matplotlib\\mpl-data\\fonts\\ttf\\STIXNonUniBolIta.ttf -> build\\lib.win-amd64-cpython-311\\matplotlib\\mpl-data\\fonts\\ttf\n",
      "      copying lib\\matplotlib\\mpl-data\\sample_data\\percent_bachelors_degrees_women_usa.csv -> build\\lib.win-amd64-cpython-311\\matplotlib\\mpl-data\\sample_data\n",
      "      copying lib\\matplotlib\\mpl-data\\stylelib\\seaborn-white.mplstyle -> build\\lib.win-amd64-cpython-311\\matplotlib\\mpl-data\\stylelib\n",
      "      copying lib\\matplotlib\\mpl-data\\fonts\\ttf\\STIXSizFiveSymReg.ttf -> build\\lib.win-amd64-cpython-311\\matplotlib\\mpl-data\\fonts\\ttf\n",
      "      copying lib\\matplotlib\\mpl-data\\images\\home_large.png -> build\\lib.win-amd64-cpython-311\\matplotlib\\mpl-data\\images\n",
      "      copying lib\\matplotlib\\mpl-data\\images\\filesave.pdf -> build\\lib.win-amd64-cpython-311\\matplotlib\\mpl-data\\images\n",
      "      copying lib\\matplotlib\\mpl-data\\kpsewhich.lua -> build\\lib.win-amd64-cpython-311\\matplotlib\\mpl-data\n",
      "      copying lib\\matplotlib\\mpl-data\\fonts\\ttf\\STIXNonUniBol.ttf -> build\\lib.win-amd64-cpython-311\\matplotlib\\mpl-data\\fonts\\ttf\n",
      "      copying lib\\matplotlib\\mpl-data\\stylelib\\fivethirtyeight.mplstyle -> build\\lib.win-amd64-cpython-311\\matplotlib\\mpl-data\\stylelib\n",
      "      copying lib\\matplotlib\\mpl-data\\fonts\\afm\\pcrr8a.afm -> build\\lib.win-amd64-cpython-311\\matplotlib\\mpl-data\\fonts\\afm\n",
      "      copying lib\\matplotlib\\mpl-data\\fonts\\ttf\\STIXGeneralBolIta.ttf -> build\\lib.win-amd64-cpython-311\\matplotlib\\mpl-data\\fonts\\ttf\n",
      "      copying lib\\matplotlib\\mpl-data\\fonts\\afm\\cmr10.afm -> build\\lib.win-amd64-cpython-311\\matplotlib\\mpl-data\\fonts\\afm\n",
      "      copying lib\\matplotlib\\mpl-data\\images\\zoom_to_rect.svg -> build\\lib.win-amd64-cpython-311\\matplotlib\\mpl-data\\images\n",
      "      copying lib\\matplotlib\\mpl-data\\fonts\\afm\\pagk8a.afm -> build\\lib.win-amd64-cpython-311\\matplotlib\\mpl-data\\fonts\\afm\n",
      "      copying lib\\matplotlib\\mpl-data\\images\\filesave.png -> build\\lib.win-amd64-cpython-311\\matplotlib\\mpl-data\\images\n",
      "      creating build\\lib.win-amd64-cpython-311\\matplotlib\\mpl-data\\sample_data\\axes_grid\n",
      "      copying lib\\matplotlib\\mpl-data\\sample_data\\axes_grid\\bivariate_normal.npy -> build\\lib.win-amd64-cpython-311\\matplotlib\\mpl-data\\sample_data\\axes_grid\n",
      "      copying lib\\matplotlib\\mpl-data\\stylelib\\seaborn-dark-palette.mplstyle -> build\\lib.win-amd64-cpython-311\\matplotlib\\mpl-data\\stylelib\n",
      "      copying lib\\matplotlib\\mpl-data\\images\\forward.png -> build\\lib.win-amd64-cpython-311\\matplotlib\\mpl-data\\images\n",
      "      copying lib\\matplotlib\\mpl-data\\images\\filesave-symbolic.svg -> build\\lib.win-amd64-cpython-311\\matplotlib\\mpl-data\\images\n",
      "      copying lib\\matplotlib\\mpl-data\\fonts\\afm\\putri8a.afm -> build\\lib.win-amd64-cpython-311\\matplotlib\\mpl-data\\fonts\\afm\n",
      "      copying lib\\matplotlib\\mpl-data\\fonts\\pdfcorefonts\\Helvetica-BoldOblique.afm -> build\\lib.win-amd64-cpython-311\\matplotlib\\mpl-data\\fonts\\pdfcorefonts\n",
      "      copying lib\\matplotlib\\mpl-data\\images\\zoom_to_rect_large.png -> build\\lib.win-amd64-cpython-311\\matplotlib\\mpl-data\\images\n",
      "      copying lib\\matplotlib\\mpl-data\\fonts\\pdfcorefonts\\Times-Italic.afm -> build\\lib.win-amd64-cpython-311\\matplotlib\\mpl-data\\fonts\\pdfcorefonts\n",
      "      copying lib\\matplotlib\\mpl-data\\stylelib\\seaborn-pastel.mplstyle -> build\\lib.win-amd64-cpython-311\\matplotlib\\mpl-data\\stylelib\n",
      "      creating build\\lib.win-amd64-cpython-311\\matplotlib\\backends\\web_backend\\css\n",
      "      copying lib\\matplotlib\\backends\\web_backend\\css\\page.css -> build\\lib.win-amd64-cpython-311\\matplotlib\\backends\\web_backend\\css\n",
      "      copying lib\\matplotlib\\mpl-data\\images\\move-symbolic.svg -> build\\lib.win-amd64-cpython-311\\matplotlib\\mpl-data\\images\n",
      "      copying lib\\matplotlib\\mpl-data\\fonts\\afm\\pbkd8a.afm -> build\\lib.win-amd64-cpython-311\\matplotlib\\mpl-data\\fonts\\afm\n",
      "      copying lib\\matplotlib\\mpl-data\\fonts\\pdfcorefonts\\Courier.afm -> build\\lib.win-amd64-cpython-311\\matplotlib\\mpl-data\\fonts\\pdfcorefonts\n",
      "      copying lib\\matplotlib\\mpl-data\\stylelib\\seaborn-dark.mplstyle -> build\\lib.win-amd64-cpython-311\\matplotlib\\mpl-data\\stylelib\n",
      "      copying lib\\matplotlib\\backends\\web_backend\\js\\mpl_tornado.js -> build\\lib.win-amd64-cpython-311\\matplotlib\\backends\\web_backend\\js\n",
      "      copying lib\\matplotlib\\mpl-data\\fonts\\ttf\\cmr10.ttf -> build\\lib.win-amd64-cpython-311\\matplotlib\\mpl-data\\fonts\\ttf\n",
      "      copying lib\\matplotlib\\mpl-data\\stylelib\\seaborn-talk.mplstyle -> build\\lib.win-amd64-cpython-311\\matplotlib\\mpl-data\\stylelib\n",
      "      copying lib\\matplotlib\\mpl-data\\fonts\\afm\\phvb8a.afm -> build\\lib.win-amd64-cpython-311\\matplotlib\\mpl-data\\fonts\\afm\n",
      "      copying lib\\matplotlib\\mpl-data\\fonts\\afm\\pncri8a.afm -> build\\lib.win-amd64-cpython-311\\matplotlib\\mpl-data\\fonts\\afm\n",
      "      copying lib\\matplotlib\\mpl-data\\images\\subplots-symbolic.svg -> build\\lib.win-amd64-cpython-311\\matplotlib\\mpl-data\\images\n",
      "      copying lib\\matplotlib\\mpl-data\\fonts\\ttf\\DejaVuSans-BoldOblique.ttf -> build\\lib.win-amd64-cpython-311\\matplotlib\\mpl-data\\fonts\\ttf\n",
      "      copying lib\\matplotlib\\mpl-data\\images\\help.svg -> build\\lib.win-amd64-cpython-311\\matplotlib\\mpl-data\\images\n",
      "      copying lib\\matplotlib\\mpl-data\\sample_data\\eeg.dat -> build\\lib.win-amd64-cpython-311\\matplotlib\\mpl-data\\sample_data\n",
      "      copying lib\\matplotlib\\mpl-data\\fonts\\ttf\\DejaVuSansMono-Oblique.ttf -> build\\lib.win-amd64-cpython-311\\matplotlib\\mpl-data\\fonts\\ttf\n",
      "      copying lib\\matplotlib\\mpl-data\\fonts\\ttf\\STIXSizOneSymBol.ttf -> build\\lib.win-amd64-cpython-311\\matplotlib\\mpl-data\\fonts\\ttf\n",
      "      copying lib\\matplotlib\\mpl-data\\matplotlibrc -> build\\lib.win-amd64-cpython-311\\matplotlib\\mpl-data\n",
      "      copying lib\\matplotlib\\mpl-data\\fonts\\afm\\pplb8a.afm -> build\\lib.win-amd64-cpython-311\\matplotlib\\mpl-data\\fonts\\afm\n",
      "      copying lib\\matplotlib\\mpl-data\\images\\move.pdf -> build\\lib.win-amd64-cpython-311\\matplotlib\\mpl-data\\images\n",
      "      copying lib\\matplotlib\\mpl-data\\sample_data\\Minduka_Present_Blue_Pack.png -> build\\lib.win-amd64-cpython-311\\matplotlib\\mpl-data\\sample_data\n",
      "      copying lib\\matplotlib\\mpl-data\\stylelib\\seaborn-ticks.mplstyle -> build\\lib.win-amd64-cpython-311\\matplotlib\\mpl-data\\stylelib\n",
      "      copying lib\\matplotlib\\mpl-data\\images\\matplotlib.png -> build\\lib.win-amd64-cpython-311\\matplotlib\\mpl-data\\images\n",
      "      copying lib\\matplotlib\\mpl-data\\fonts\\ttf\\cmb10.ttf -> build\\lib.win-amd64-cpython-311\\matplotlib\\mpl-data\\fonts\\ttf\n",
      "      copying lib\\matplotlib\\backends\\web_backend\\js\\mpl.js -> build\\lib.win-amd64-cpython-311\\matplotlib\\backends\\web_backend\\js\n",
      "      copying lib\\matplotlib\\mpl-data\\fonts\\afm\\pagdo8a.afm -> build\\lib.win-amd64-cpython-311\\matplotlib\\mpl-data\\fonts\\afm\n",
      "      copying lib\\matplotlib\\mpl-data\\fonts\\afm\\pagd8a.afm -> build\\lib.win-amd64-cpython-311\\matplotlib\\mpl-data\\fonts\\afm\n",
      "      copying lib\\matplotlib\\mpl-data\\fonts\\ttf\\LICENSE_STIX -> build\\lib.win-amd64-cpython-311\\matplotlib\\mpl-data\\fonts\\ttf\n",
      "      copying lib\\matplotlib\\mpl-data\\stylelib\\seaborn.mplstyle -> build\\lib.win-amd64-cpython-311\\matplotlib\\mpl-data\\stylelib\n",
      "      copying lib\\matplotlib\\mpl-data\\fonts\\ttf\\DejaVuSans-Bold.ttf -> build\\lib.win-amd64-cpython-311\\matplotlib\\mpl-data\\fonts\\ttf\n",
      "      copying lib\\matplotlib\\mpl-data\\images\\back_large.png -> build\\lib.win-amd64-cpython-311\\matplotlib\\mpl-data\\images\n",
      "      copying lib\\matplotlib\\mpl-data\\fonts\\afm\\phvl8a.afm -> build\\lib.win-amd64-cpython-311\\matplotlib\\mpl-data\\fonts\\afm\n",
      "      copying lib\\matplotlib\\mpl-data\\fonts\\afm\\cmsy10.afm -> build\\lib.win-amd64-cpython-311\\matplotlib\\mpl-data\\fonts\\afm\n",
      "      copying lib\\matplotlib\\mpl-data\\fonts\\ttf\\STIXSizTwoSymReg.ttf -> build\\lib.win-amd64-cpython-311\\matplotlib\\mpl-data\\fonts\\ttf\n",
      "      copying lib\\matplotlib\\mpl-data\\images\\qt4_editor_options.pdf -> build\\lib.win-amd64-cpython-311\\matplotlib\\mpl-data\\images\n",
      "      copying lib\\matplotlib\\mpl-data\\sample_data\\topobathy.npz -> build\\lib.win-amd64-cpython-311\\matplotlib\\mpl-data\\sample_data\n",
      "      copying lib\\matplotlib\\mpl-data\\fonts\\ttf\\DejaVuSerifDisplay.ttf -> build\\lib.win-amd64-cpython-311\\matplotlib\\mpl-data\\fonts\\ttf\n",
      "      copying lib\\matplotlib\\mpl-data\\fonts\\pdfcorefonts\\Times-Bold.afm -> build\\lib.win-amd64-cpython-311\\matplotlib\\mpl-data\\fonts\\pdfcorefonts\n",
      "      copying lib\\matplotlib\\mpl-data\\stylelib\\seaborn-whitegrid.mplstyle -> build\\lib.win-amd64-cpython-311\\matplotlib\\mpl-data\\stylelib\n",
      "      copying lib\\matplotlib\\mpl-data\\images\\forward.pdf -> build\\lib.win-amd64-cpython-311\\matplotlib\\mpl-data\\images\n",
      "      copying lib\\matplotlib\\mpl-data\\fonts\\ttf\\STIXSizFourSymReg.ttf -> build\\lib.win-amd64-cpython-311\\matplotlib\\mpl-data\\fonts\\ttf\n",
      "      copying lib\\matplotlib\\mpl-data\\fonts\\pdfcorefonts\\Helvetica-Oblique.afm -> build\\lib.win-amd64-cpython-311\\matplotlib\\mpl-data\\fonts\\pdfcorefonts\n",
      "      copying lib\\matplotlib\\mpl-data\\fonts\\afm\\phvr8a.afm -> build\\lib.win-amd64-cpython-311\\matplotlib\\mpl-data\\fonts\\afm\n",
      "      copying lib\\matplotlib\\mpl-data\\fonts\\ttf\\STIXSizThreeSymBol.ttf -> build\\lib.win-amd64-cpython-311\\matplotlib\\mpl-data\\fonts\\ttf\n",
      "      copying lib\\matplotlib\\mpl-data\\stylelib\\dark_background.mplstyle -> build\\lib.win-amd64-cpython-311\\matplotlib\\mpl-data\\stylelib\n",
      "      copying lib\\matplotlib\\mpl-data\\sample_data\\s1045.ima.gz -> build\\lib.win-amd64-cpython-311\\matplotlib\\mpl-data\\sample_data\n",
      "      copying lib\\matplotlib\\mpl-data\\images\\forward-symbolic.svg -> build\\lib.win-amd64-cpython-311\\matplotlib\\mpl-data\\images\n",
      "      copying lib\\matplotlib\\mpl-data\\fonts\\ttf\\STIXGeneralBol.ttf -> build\\lib.win-amd64-cpython-311\\matplotlib\\mpl-data\\fonts\\ttf\n",
      "      copying lib\\matplotlib\\backends\\web_backend\\single_figure.html -> build\\lib.win-amd64-cpython-311\\matplotlib\\backends\\web_backend\n",
      "      copying lib\\matplotlib\\mpl-data\\fonts\\afm\\ptmbi8a.afm -> build\\lib.win-amd64-cpython-311\\matplotlib\\mpl-data\\fonts\\afm\n",
      "      copying lib\\matplotlib\\mpl-data\\stylelib\\_classic_test_patch.mplstyle -> build\\lib.win-amd64-cpython-311\\matplotlib\\mpl-data\\stylelib\n",
      "      copying lib\\matplotlib\\mpl-data\\fonts\\afm\\pplbi8a.afm -> build\\lib.win-amd64-cpython-311\\matplotlib\\mpl-data\\fonts\\afm\n",
      "      copying lib\\matplotlib\\mpl-data\\fonts\\pdfcorefonts\\Symbol.afm -> build\\lib.win-amd64-cpython-311\\matplotlib\\mpl-data\\fonts\\pdfcorefonts\n",
      "      copying lib\\matplotlib\\mpl-data\\images\\filesave.svg -> build\\lib.win-amd64-cpython-311\\matplotlib\\mpl-data\\images\n",
      "      copying lib\\matplotlib\\mpl-data\\fonts\\ttf\\LICENSE_DEJAVU -> build\\lib.win-amd64-cpython-311\\matplotlib\\mpl-data\\fonts\\ttf\n",
      "      copying lib\\matplotlib\\mpl-data\\fonts\\afm\\pncbi8a.afm -> build\\lib.win-amd64-cpython-311\\matplotlib\\mpl-data\\fonts\\afm\n",
      "      copying lib\\matplotlib\\backends\\web_backend\\css\\fbm.css -> build\\lib.win-amd64-cpython-311\\matplotlib\\backends\\web_backend\\css\n",
      "      copying lib\\matplotlib\\mpl-data\\images\\subplots.svg -> build\\lib.win-amd64-cpython-311\\matplotlib\\mpl-data\\images\n",
      "      copying lib\\matplotlib\\mpl-data\\fonts\\ttf\\STIXNonUniIta.ttf -> build\\lib.win-amd64-cpython-311\\matplotlib\\mpl-data\\fonts\\ttf\n",
      "      copying lib\\matplotlib\\mpl-data\\fonts\\afm\\pbkl8a.afm -> build\\lib.win-amd64-cpython-311\\matplotlib\\mpl-data\\fonts\\afm\n",
      "      copying lib\\matplotlib\\mpl-data\\fonts\\afm\\pcrbo8a.afm -> build\\lib.win-amd64-cpython-311\\matplotlib\\mpl-data\\fonts\\afm\n",
      "      copying lib\\matplotlib\\mpl-data\\images\\help.pdf -> build\\lib.win-amd64-cpython-311\\matplotlib\\mpl-data\\images\n",
      "      copying lib\\matplotlib\\mpl-data\\fonts\\ttf\\STIXNonUni.ttf -> build\\lib.win-amd64-cpython-311\\matplotlib\\mpl-data\\fonts\\ttf\n",
      "      copying lib\\matplotlib\\backends\\web_backend\\.prettierignore -> build\\lib.win-amd64-cpython-311\\matplotlib\\backends\\web_backend\n",
      "      copying lib\\matplotlib\\mpl-data\\fonts\\afm\\psyr.afm -> build\\lib.win-amd64-cpython-311\\matplotlib\\mpl-data\\fonts\\afm\n",
      "      copying lib\\matplotlib\\mpl-data\\fonts\\pdfcorefonts\\Courier-Oblique.afm -> build\\lib.win-amd64-cpython-311\\matplotlib\\mpl-data\\fonts\\pdfcorefonts\n",
      "      copying lib\\matplotlib\\backends\\web_backend\\.eslintrc.js -> build\\lib.win-amd64-cpython-311\\matplotlib\\backends\\web_backend\n",
      "      copying lib\\matplotlib\\mpl-data\\stylelib\\grayscale.mplstyle -> build\\lib.win-amd64-cpython-311\\matplotlib\\mpl-data\\stylelib\n",
      "      copying lib\\matplotlib\\mpl-data\\images\\back-symbolic.svg -> build\\lib.win-amd64-cpython-311\\matplotlib\\mpl-data\\images\n",
      "      copying lib\\matplotlib\\mpl-data\\stylelib\\ggplot.mplstyle -> build\\lib.win-amd64-cpython-311\\matplotlib\\mpl-data\\stylelib\n",
      "      copying lib\\matplotlib\\backends\\web_backend\\css\\mpl.css -> build\\lib.win-amd64-cpython-311\\matplotlib\\backends\\web_backend\\css\n",
      "      copying lib\\matplotlib\\mpl-data\\images\\matplotlib.svg -> build\\lib.win-amd64-cpython-311\\matplotlib\\mpl-data\\images\n",
      "      copying lib\\matplotlib\\mpl-data\\stylelib\\_mpl-gallery.mplstyle -> build\\lib.win-amd64-cpython-311\\matplotlib\\mpl-data\\stylelib\n",
      "      copying lib\\matplotlib\\mpl-data\\fonts\\afm\\phvb8an.afm -> build\\lib.win-amd64-cpython-311\\matplotlib\\mpl-data\\fonts\\afm\n",
      "      copying lib\\matplotlib\\mpl-data\\fonts\\pdfcorefonts\\Helvetica.afm -> build\\lib.win-amd64-cpython-311\\matplotlib\\mpl-data\\fonts\\pdfcorefonts\n",
      "      copying lib\\matplotlib\\mpl-data\\images\\help.png -> build\\lib.win-amd64-cpython-311\\matplotlib\\mpl-data\\images\n",
      "      copying lib\\matplotlib\\mpl-data\\fonts\\afm\\phvbo8an.afm -> build\\lib.win-amd64-cpython-311\\matplotlib\\mpl-data\\fonts\\afm\n",
      "      copying lib\\matplotlib\\mpl-data\\fonts\\ttf\\DejaVuSansMono.ttf -> build\\lib.win-amd64-cpython-311\\matplotlib\\mpl-data\\fonts\\ttf\n",
      "      copying lib\\matplotlib\\mpl-data\\fonts\\afm\\phvro8a.afm -> build\\lib.win-amd64-cpython-311\\matplotlib\\mpl-data\\fonts\\afm\n",
      "      copying lib\\matplotlib\\mpl-data\\images\\home.pdf -> build\\lib.win-amd64-cpython-311\\matplotlib\\mpl-data\\images\n",
      "      copying lib\\matplotlib\\mpl-data\\images\\move.png -> build\\lib.win-amd64-cpython-311\\matplotlib\\mpl-data\\images\n",
      "      copying lib\\matplotlib\\mpl-data\\stylelib\\tableau-colorblind10.mplstyle -> build\\lib.win-amd64-cpython-311\\matplotlib\\mpl-data\\stylelib\n",
      "      copying lib\\matplotlib\\mpl-data\\fonts\\afm\\cmtt10.afm -> build\\lib.win-amd64-cpython-311\\matplotlib\\mpl-data\\fonts\\afm\n",
      "      copying lib\\matplotlib\\mpl-data\\fonts\\ttf\\STIXGeneral.ttf -> build\\lib.win-amd64-cpython-311\\matplotlib\\mpl-data\\fonts\\ttf\n",
      "      copying lib\\matplotlib\\mpl-data\\sample_data\\goog.npz -> build\\lib.win-amd64-cpython-311\\matplotlib\\mpl-data\\sample_data\n",
      "      copying lib\\matplotlib\\mpl-data\\fonts\\ttf\\STIXGeneralItalic.ttf -> build\\lib.win-amd64-cpython-311\\matplotlib\\mpl-data\\fonts\\ttf\n",
      "      copying lib\\matplotlib\\mpl-data\\images\\move_large.png -> build\\lib.win-amd64-cpython-311\\matplotlib\\mpl-data\\images\n",
      "      copying lib\\matplotlib\\mpl-data\\sample_data\\embedding_in_wx3.xrc -> build\\lib.win-amd64-cpython-311\\matplotlib\\mpl-data\\sample_data\n",
      "      copying lib\\matplotlib\\mpl-data\\stylelib\\classic.mplstyle -> build\\lib.win-amd64-cpython-311\\matplotlib\\mpl-data\\stylelib\n",
      "      copying lib\\matplotlib\\mpl-data\\images\\hand.png -> build\\lib.win-amd64-cpython-311\\matplotlib\\mpl-data\\images\n",
      "      copying lib\\matplotlib\\mpl-data\\fonts\\afm\\pagko8a.afm -> build\\lib.win-amd64-cpython-311\\matplotlib\\mpl-data\\fonts\\afm\n",
      "      copying lib\\matplotlib\\mpl-data\\sample_data\\logo2.png -> build\\lib.win-amd64-cpython-311\\matplotlib\\mpl-data\\sample_data\n",
      "      copying lib\\matplotlib\\mpl-data\\fonts\\ttf\\DejaVuSans.ttf -> build\\lib.win-amd64-cpython-311\\matplotlib\\mpl-data\\fonts\\ttf\n",
      "      copying lib\\matplotlib\\mpl-data\\fonts\\ttf\\cmex10.ttf -> build\\lib.win-amd64-cpython-311\\matplotlib\\mpl-data\\fonts\\ttf\n",
      "      copying lib\\matplotlib\\mpl-data\\fonts\\afm\\pzdr.afm -> build\\lib.win-amd64-cpython-311\\matplotlib\\mpl-data\\fonts\\afm\n",
      "      copying lib\\matplotlib\\mpl-data\\fonts\\afm\\cmmi10.afm -> build\\lib.win-amd64-cpython-311\\matplotlib\\mpl-data\\fonts\\afm\n",
      "      copying lib\\matplotlib\\mpl-data\\stylelib\\seaborn-poster.mplstyle -> build\\lib.win-amd64-cpython-311\\matplotlib\\mpl-data\\stylelib\n",
      "      copying lib\\matplotlib\\backends\\web_backend\\.prettierrc -> build\\lib.win-amd64-cpython-311\\matplotlib\\backends\\web_backend\n",
      "      copying lib\\matplotlib\\mpl-data\\fonts\\afm\\putbi8a.afm -> build\\lib.win-amd64-cpython-311\\matplotlib\\mpl-data\\fonts\\afm\n",
      "      copying lib\\matplotlib\\mpl-data\\fonts\\ttf\\cmsy10.ttf -> build\\lib.win-amd64-cpython-311\\matplotlib\\mpl-data\\fonts\\ttf\n",
      "      creating build\\lib.win-amd64-cpython-311\\matplotlib\\mpl-data\\plot_directive\n",
      "      copying lib\\matplotlib\\mpl-data\\plot_directive\\plot_directive.css -> build\\lib.win-amd64-cpython-311\\matplotlib\\mpl-data\\plot_directive\n",
      "      copying lib\\matplotlib\\mpl-data\\stylelib\\fast.mplstyle -> build\\lib.win-amd64-cpython-311\\matplotlib\\mpl-data\\stylelib\n",
      "      copying lib\\matplotlib\\mpl-data\\images\\back.pdf -> build\\lib.win-amd64-cpython-311\\matplotlib\\mpl-data\\images\n",
      "      copying lib\\matplotlib\\mpl-data\\fonts\\ttf\\STIXSizTwoSymBol.ttf -> build\\lib.win-amd64-cpython-311\\matplotlib\\mpl-data\\fonts\\ttf\n",
      "      copying lib\\matplotlib\\mpl-data\\fonts\\afm\\ptmb8a.afm -> build\\lib.win-amd64-cpython-311\\matplotlib\\mpl-data\\fonts\\afm\n",
      "      copying lib\\matplotlib\\mpl-data\\images\\qt4_editor_options.png -> build\\lib.win-amd64-cpython-311\\matplotlib\\mpl-data\\images\n",
      "      copying lib\\matplotlib\\mpl-data\\images\\qt4_editor_options_large.png -> build\\lib.win-amd64-cpython-311\\matplotlib\\mpl-data\\images\n",
      "      copying lib\\matplotlib\\mpl-data\\stylelib\\bmh.mplstyle -> build\\lib.win-amd64-cpython-311\\matplotlib\\mpl-data\\stylelib\n",
      "      copying lib\\matplotlib\\backends\\web_backend\\css\\boilerplate.css -> build\\lib.win-amd64-cpython-311\\matplotlib\\backends\\web_backend\\css\n",
      "      copying lib\\matplotlib\\mpl-data\\images\\zoom_to_rect.pdf -> build\\lib.win-amd64-cpython-311\\matplotlib\\mpl-data\\images\n",
      "      copying lib\\matplotlib\\mpl-data\\images\\back.png -> build\\lib.win-amd64-cpython-311\\matplotlib\\mpl-data\\images\n",
      "      copying lib\\matplotlib\\mpl-data\\images\\help-symbolic.svg -> build\\lib.win-amd64-cpython-311\\matplotlib\\mpl-data\\images\n",
      "      copying lib\\matplotlib\\mpl-data\\fonts\\ttf\\DejaVuSerif-Italic.ttf -> build\\lib.win-amd64-cpython-311\\matplotlib\\mpl-data\\fonts\\ttf\n",
      "      copying lib\\matplotlib\\mpl-data\\images\\qt4_editor_options.svg -> build\\lib.win-amd64-cpython-311\\matplotlib\\mpl-data\\images\n",
      "      copying lib\\matplotlib\\mpl-data\\fonts\\afm\\ptmri8a.afm -> build\\lib.win-amd64-cpython-311\\matplotlib\\mpl-data\\fonts\\afm\n",
      "      copying lib\\matplotlib\\mpl-data\\images\\zoom_to_rect.png -> build\\lib.win-amd64-cpython-311\\matplotlib\\mpl-data\\images\n",
      "      copying lib\\matplotlib\\mpl-data\\fonts\\afm\\phvbo8a.afm -> build\\lib.win-amd64-cpython-311\\matplotlib\\mpl-data\\fonts\\afm\n",
      "      copying lib\\matplotlib\\mpl-data\\images\\filesave_large.png -> build\\lib.win-amd64-cpython-311\\matplotlib\\mpl-data\\images\n",
      "      copying lib\\matplotlib\\mpl-data\\fonts\\ttf\\DejaVuSerif.ttf -> build\\lib.win-amd64-cpython-311\\matplotlib\\mpl-data\\fonts\\ttf\n",
      "      copying lib\\matplotlib\\mpl-data\\images\\hand.pdf -> build\\lib.win-amd64-cpython-311\\matplotlib\\mpl-data\\images\n",
      "      copying lib\\matplotlib\\mpl-data\\fonts\\pdfcorefonts\\Times-BoldItalic.afm -> build\\lib.win-amd64-cpython-311\\matplotlib\\mpl-data\\fonts\\pdfcorefonts\n",
      "      copying lib\\matplotlib\\mpl-data\\images\\subplots_large.png -> build\\lib.win-amd64-cpython-311\\matplotlib\\mpl-data\\images\n",
      "      copying lib\\matplotlib\\mpl-data\\fonts\\afm\\pbkdi8a.afm -> build\\lib.win-amd64-cpython-311\\matplotlib\\mpl-data\\fonts\\afm\n",
      "      copying lib\\matplotlib\\mpl-data\\fonts\\pdfcorefonts\\ZapfDingbats.afm -> build\\lib.win-amd64-cpython-311\\matplotlib\\mpl-data\\fonts\\pdfcorefonts\n",
      "      copying lib\\matplotlib\\mpl-data\\images\\home-symbolic.svg -> build\\lib.win-amd64-cpython-311\\matplotlib\\mpl-data\\images\n",
      "      copying lib\\matplotlib\\mpl-data\\images\\zoom_to_rect-symbolic.svg -> build\\lib.win-amd64-cpython-311\\matplotlib\\mpl-data\\images\n",
      "      copying lib\\matplotlib\\mpl-data\\stylelib\\Solarize_Light2.mplstyle -> build\\lib.win-amd64-cpython-311\\matplotlib\\mpl-data\\stylelib\n",
      "      copying lib\\matplotlib\\mpl-data\\stylelib\\seaborn-darkgrid.mplstyle -> build\\lib.win-amd64-cpython-311\\matplotlib\\mpl-data\\stylelib\n",
      "      copying lib\\matplotlib\\mpl-data\\fonts\\ttf\\DejaVuSerif-BoldItalic.ttf -> build\\lib.win-amd64-cpython-311\\matplotlib\\mpl-data\\fonts\\ttf\n",
      "      copying lib\\matplotlib\\mpl-data\\fonts\\afm\\phvro8an.afm -> build\\lib.win-amd64-cpython-311\\matplotlib\\mpl-data\\fonts\\afm\n",
      "      copying lib\\matplotlib\\mpl-data\\fonts\\ttf\\STIXSizFourSymBol.ttf -> build\\lib.win-amd64-cpython-311\\matplotlib\\mpl-data\\fonts\\ttf\n",
      "      copying lib\\matplotlib\\mpl-data\\fonts\\pdfcorefonts\\readme.txt -> build\\lib.win-amd64-cpython-311\\matplotlib\\mpl-data\\fonts\\pdfcorefonts\n",
      "      copying lib\\matplotlib\\mpl-data\\sample_data\\README.txt -> build\\lib.win-amd64-cpython-311\\matplotlib\\mpl-data\\sample_data\n",
      "      copying lib\\matplotlib\\mpl-data\\stylelib\\seaborn-colorblind.mplstyle -> build\\lib.win-amd64-cpython-311\\matplotlib\\mpl-data\\stylelib\n",
      "      copying lib\\matplotlib\\mpl-data\\images\\forward.svg -> build\\lib.win-amd64-cpython-311\\matplotlib\\mpl-data\\images\n",
      "      copying lib\\matplotlib\\mpl-data\\sample_data\\data_x_x2_x3.csv -> build\\lib.win-amd64-cpython-311\\matplotlib\\mpl-data\\sample_data\n",
      "      copying lib\\matplotlib\\mpl-data\\fonts\\pdfcorefonts\\Courier-BoldOblique.afm -> build\\lib.win-amd64-cpython-311\\matplotlib\\mpl-data\\fonts\\pdfcorefonts\n",
      "      copying lib\\matplotlib\\mpl-data\\sample_data\\msft.csv -> build\\lib.win-amd64-cpython-311\\matplotlib\\mpl-data\\sample_data\n",
      "      copying lib\\matplotlib\\mpl-data\\fonts\\afm\\pbkli8a.afm -> build\\lib.win-amd64-cpython-311\\matplotlib\\mpl-data\\fonts\\afm\n",
      "      copying lib\\matplotlib\\mpl-data\\fonts\\ttf\\STIXSizOneSymReg.ttf -> build\\lib.win-amd64-cpython-311\\matplotlib\\mpl-data\\fonts\\ttf\n",
      "      copying lib\\matplotlib\\mpl-data\\fonts\\ttf\\DejaVuSansMono-BoldOblique.ttf -> build\\lib.win-amd64-cpython-311\\matplotlib\\mpl-data\\fonts\\ttf\n",
      "      copying lib\\matplotlib\\backends\\web_backend\\package.json -> build\\lib.win-amd64-cpython-311\\matplotlib\\backends\\web_backend\n",
      "      copying lib\\matplotlib\\mpl-data\\images\\hand.svg -> build\\lib.win-amd64-cpython-311\\matplotlib\\mpl-data\\images\n",
      "      copying lib\\matplotlib\\backends\\web_backend\\all_figures.html -> build\\lib.win-amd64-cpython-311\\matplotlib\\backends\\web_backend\n",
      "      running build_ext\n",
      "      Extracting /project/freetype/freetype2/2.6.1/freetype-2.6.1.tar.gz\n",
      "      Building freetype in build\\freetype-2.6.1\n",
      "      error: Microsoft Visual C++ 14.0 or greater is required. Get it with \"Microsoft C++ Build Tools\": https://visualstudio.microsoft.com/visual-cpp-build-tools/\n",
      "      [end of output]\n",
      "  \n",
      "  note: This error originates from a subprocess, and is likely not a problem with pip.\n",
      "  ERROR: Failed building wheel for matplotlib\n",
      "ERROR: Could not build wheels for matplotlib, which is required to install pyproject.toml-based projects\n",
      "\n",
      "[notice] A new release of pip is available: 23.3.1 -> 23.3.2\n",
      "[notice] To update, run: C:\\Users\\Inteli\\AppData\\Local\\Microsoft\\WindowsApps\\PythonSoftwareFoundation.Python.3.11_qbz5n2kfra8p0\\python.exe -m pip install --upgrade pip\n"
     ]
    }
   ],
   "source": [
    "pipe_baseline = make_pipeline(preproc_baseline, DecisionTreeRegressor())\n",
    "pipe_baseline\n"
   ]
  },
  {
   "cell_type": "markdown",
   "metadata": {},
   "source": [
    "### c) Cross-Validação\n",
    "\n",
    "❓ Leia as [regras de avaliação do concurso Kaggle](https://www.kaggle.com/c/house-prices-advanced-regression-techniques/overview/evaluation). Qual métrica de desempenho você precisa? Ela está prontamente disponível no Sklearn?\n",
    "\n",
    "Infelizmente, não está! Precisaremos criar nosso objeto personalizado `sklearn.metrics.scorer` para passar para qualquer validação cruzada ou pesquisa em grade. O processo é descrito abaixo:\n",
    "\n",
    "1. Crie um scorer chamado `rmsle` usando [`make_scorer`](https://scikit-learn.org/stable/modules/generated/sklearn.metrics.make_scorer.html) que pode ser passado como valor para o `kwarg` `scoring` da seguinte maneira:\n",
    "    \n",
    "    ```python\n",
    "    cross_val_score(pipe_baseline, X, y, cv=5, scoring=rmsle)\n",
    "    ```\n",
    "    \n",
    "2. Crie sua contraparte negativa, `rmsle_neg`, que é melhor quando _maximizada_; isso será útil mais tarde, já que o `GridSearchCV` sempre tenta _maximizar_ uma pontuação 😉\n",
    "    \n",
    "    ```python\n",
    "    GridSearchCV(pipe_baseline, param_grid=..., cv=5, scoring=rmsle_neg)\n",
    "    ```"
   ]
  },
  {
   "cell_type": "markdown",
   "metadata": {},
   "source": [
    "RMSLE formula\n",
    "\n",
    "$$\\text{RMSLE}(y, \\hat{y}) = \\sqrt{\\frac{1}{n_\\text{samples}} \\sum_{i=0}^{n_\\text{samples} - 1} (\\log_e (1 + y_i) - \\log_e (1 + \\hat{y}_i) )^2.}$$"
   ]
  },
  {
   "cell_type": "code",
   "execution_count": 106,
   "metadata": {
    "tags": [
     "challengify"
    ]
   },
   "outputs": [],
   "source": [
    "# # OPTION 1: recode it all manually\n",
    "# def root_mean_squared_log_error(y_true, y_pred):\n",
    "#     t = np.array(y_true)\n",
    "#     p = np.array(y_pred)\n",
    "\n",
    "#     log_error = np.log(1+t) - np.log(1+p)\n",
    "\n",
    "#     return ((log_error**2).mean())**0.5\n",
    "\n",
    "# # This is our metric to minimize\n",
    "# rmsle = make_scorer(root_mean_squared_log_error)\n",
    "\n",
    "# # This is our score to maximize\n",
    "# rmsle_neg = make_scorer(lambda y_true, y_pred: -1 * root_mean_squared_log_error(y_true, y_pred))\n"
   ]
  },
  {
   "cell_type": "code",
   "execution_count": 151,
   "metadata": {
    "tags": [
     "delete"
    ]
   },
   "outputs": [],
   "source": [
    "# OPTION 2 - re-use Sklearn's \"mean_squared_log_error\"\n",
    "\n",
    "# This is our metric to minimize\n",
    "rmsle = make_scorer(lambda y_true, y_pred: mean_squared_log_error(y_true, y_pred)**0.5)\n",
    "\n",
    "# This is our score to maximize\n",
    "rmsle_neg = make_scorer(lambda y_true, y_pred: -1 * mean_squared_log_error(y_true, y_pred)**0.5)\n",
    "\n",
    "# Equivalent formulation\n",
    "rmsle_neg = make_scorer(\n",
    "    lambda y_true, y_pred: mean_squared_log_error(y_true, y_pred)**0.5,\n",
    "    greater_is_better=False\n",
    ")\n"
   ]
  },
  {
   "cell_type": "markdown",
   "metadata": {},
   "source": [
    "❓ Realize a validação cruzada de 5 folds no seu pipe_baseline usando essa métrica para obter uma primeira visão do desempenho básico.\n",
    "\n",
    "Armazene a pontuação média como score_baseline."
   ]
  },
  {
   "cell_type": "code",
   "execution_count": 152,
   "metadata": {
    "tags": [
     "challengify"
    ]
   },
   "outputs": [
    {
     "data": {
      "text/plain": [
       "0.21186954615503595"
      ]
     },
     "execution_count": 152,
     "metadata": {},
     "output_type": "execute_result"
    }
   ],
   "source": [
    "score_baseline = cross_val_score(pipe_baseline, X, y, cv=5, scoring=rmsle).mean()\n",
    "score_baseline\n"
   ]
  },
  {
   "cell_type": "markdown",
   "metadata": {},
   "source": [
    "### d) Predict Baseline"
   ]
  },
  {
   "cell_type": "markdown",
   "metadata": {},
   "source": [
    "❓ Faça previsões (y_pred_baseline) no conjunto de dados Kaggle test.csv que você armazenou na pasta data."
   ]
  },
  {
   "cell_type": "code",
   "execution_count": 153,
   "metadata": {
    "tags": [
     "challengify"
    ]
   },
   "outputs": [
    {
     "data": {
      "text/plain": [
       "array([129000., 157000., 192000., ..., 139000.,  93500., 176000.])"
      ]
     },
     "execution_count": 153,
     "metadata": {},
     "output_type": "execute_result"
    }
   ],
   "source": [
    "X_test = pd.read_csv(\"data/houses_test_raw.csv\")\n",
    "X_test_ids = X_test['Id'] # Keep ids\n",
    "X_test = X_test.drop(columns=['Id'])\n",
    "\n",
    "# Predict y_pred_baseline\n",
    "pipe_baseline.fit(X,y)\n",
    "y_pred_baseline = pipe_baseline.predict(X_test)\n",
    "y_pred_baseline\n"
   ]
  },
  {
   "cell_type": "markdown",
   "metadata": {},
   "source": [
    "❓ Por fim, armazene o seu arquivo CSV pronto para envio como submission_baseline.csv na pasta data. Leia cuidadosamente e compreenda o formato necessário do Kaggle e teste abaixo (você não precisa enviar esta linha de base para o Kaggle por enquanto)."
   ]
  },
  {
   "cell_type": "code",
   "execution_count": 154,
   "metadata": {
    "tags": [
     "challengify"
    ]
   },
   "outputs": [
    {
     "data": {
      "text/html": [
       "<div>\n",
       "<style scoped>\n",
       "    .dataframe tbody tr th:only-of-type {\n",
       "        vertical-align: middle;\n",
       "    }\n",
       "\n",
       "    .dataframe tbody tr th {\n",
       "        vertical-align: top;\n",
       "    }\n",
       "\n",
       "    .dataframe thead th {\n",
       "        text-align: right;\n",
       "    }\n",
       "</style>\n",
       "<table border=\"1\" class=\"dataframe\">\n",
       "  <thead>\n",
       "    <tr style=\"text-align: right;\">\n",
       "      <th></th>\n",
       "      <th>Id</th>\n",
       "      <th>SalePrice</th>\n",
       "    </tr>\n",
       "  </thead>\n",
       "  <tbody>\n",
       "    <tr>\n",
       "      <th>0</th>\n",
       "      <td>1461</td>\n",
       "      <td>129000.0</td>\n",
       "    </tr>\n",
       "    <tr>\n",
       "      <th>1</th>\n",
       "      <td>1462</td>\n",
       "      <td>157000.0</td>\n",
       "    </tr>\n",
       "    <tr>\n",
       "      <th>2</th>\n",
       "      <td>1463</td>\n",
       "      <td>192000.0</td>\n",
       "    </tr>\n",
       "    <tr>\n",
       "      <th>3</th>\n",
       "      <td>1464</td>\n",
       "      <td>168000.0</td>\n",
       "    </tr>\n",
       "    <tr>\n",
       "      <th>4</th>\n",
       "      <td>1465</td>\n",
       "      <td>213500.0</td>\n",
       "    </tr>\n",
       "    <tr>\n",
       "      <th>5</th>\n",
       "      <td>1466</td>\n",
       "      <td>174000.0</td>\n",
       "    </tr>\n",
       "    <tr>\n",
       "      <th>6</th>\n",
       "      <td>1467</td>\n",
       "      <td>141000.0</td>\n",
       "    </tr>\n",
       "    <tr>\n",
       "      <th>7</th>\n",
       "      <td>1468</td>\n",
       "      <td>179900.0</td>\n",
       "    </tr>\n",
       "    <tr>\n",
       "      <th>8</th>\n",
       "      <td>1469</td>\n",
       "      <td>206000.0</td>\n",
       "    </tr>\n",
       "    <tr>\n",
       "      <th>9</th>\n",
       "      <td>1470</td>\n",
       "      <td>115000.0</td>\n",
       "    </tr>\n",
       "  </tbody>\n",
       "</table>\n",
       "</div>"
      ],
      "text/plain": [
       "     Id  SalePrice\n",
       "0  1461   129000.0\n",
       "1  1462   157000.0\n",
       "2  1463   192000.0\n",
       "3  1464   168000.0\n",
       "4  1465   213500.0\n",
       "5  1466   174000.0\n",
       "6  1467   141000.0\n",
       "7  1468   179900.0\n",
       "8  1469   206000.0\n",
       "9  1470   115000.0"
      ]
     },
     "execution_count": 154,
     "metadata": {},
     "output_type": "execute_result"
    }
   ],
   "source": [
    "results = pd.concat([X_test_ids, pd.Series(y_pred_baseline, name=\"SalePrice\")], axis=1)\n",
    "results.head(10)\n"
   ]
  },
  {
   "cell_type": "code",
   "execution_count": 155,
   "metadata": {
    "tags": [
     "delete"
    ]
   },
   "outputs": [],
   "source": [
    "# Exporte os resultados\n",
    "results.to_csv(\"data/submission_baseline.csv\", header=True, index=False)\n"
   ]
  },
  {
   "cell_type": "markdown",
   "metadata": {},
   "source": [
    "🧪 Test your code"
   ]
  },
  {
   "cell_type": "code",
   "execution_count": 156,
   "metadata": {},
   "outputs": [
    {
     "name": "stdout",
     "output_type": "stream",
     "text": [
      "\n",
      "\u001b[1m============================= test session starts =============================\u001b[0m\n",
      "platform win32 -- Python 3.11.7, pytest-7.4.3, pluggy-1.3.0 -- C:\\Users\\Inteli\\AppData\\Local\\Microsoft\\WindowsApps\\PythonSoftwareFoundation.Python.3.11_qbz5n2kfra8p0\\python.exe\n",
      "cachedir: .pytest_cache\n",
      "rootdir: c:\\Users\\Inteli\\Documents\\GitHub\\house_kaggle_competition\\tests\n",
      "plugins: anyio-3.6.2\n",
      "\u001b[1mcollecting ... \u001b[0mcollected 4 items\n",
      "\n",
      "test_submission_baseline.py::TestSubmissionBaseline::test_score_baseline \u001b[32mPASSED\u001b[0m\u001b[32m [ 25%]\u001b[0m\n",
      "test_submission_baseline.py::TestSubmissionBaseline::test_submission_columns \u001b[32mPASSED\u001b[0m\u001b[32m [ 50%]\u001b[0m\n",
      "test_submission_baseline.py::TestSubmissionBaseline::test_submission_dtypes \u001b[32mPASSED\u001b[0m\u001b[32m [ 75%]\u001b[0m\n",
      "test_submission_baseline.py::TestSubmissionBaseline::test_submission_shape \u001b[32mPASSED\u001b[0m\u001b[32m [100%]\u001b[0m\n",
      "\n",
      "\u001b[32m============================== \u001b[32m\u001b[1m4 passed\u001b[0m\u001b[32m in 0.27s\u001b[0m\u001b[32m ==============================\u001b[0m\n",
      "\n",
      "\n",
      "💯 You can commit your code:\n",
      "\n",
      "\u001b[1;32mgit\u001b[39m add tests/submission_baseline.pickle\n",
      "\n",
      "\u001b[32mgit\u001b[39m commit -m \u001b[33m'Completed submission_baseline step'\u001b[39m\n",
      "\n",
      "\u001b[32mgit\u001b[39m push origin master\n",
      "\n"
     ]
    }
   ],
   "source": [
    "from nbresult import ChallengeResult\n",
    "\n",
    "tmp = pd.read_csv(\"data/submission_baseline.csv\")\n",
    "\n",
    "result = ChallengeResult(\n",
    "    'submission_baseline',\n",
    "    score_baseline = score_baseline,\n",
    "    submission_shape = tmp.shape,\n",
    "    submission_columns = list(tmp.columns),\n",
    "    submission_dtypes = str(list(tmp.dtypes)),\n",
    ")\n",
    "\n",
    "result.write()\n",
    "print(result.check())\n"
   ]
  },
  {
   "cell_type": "markdown",
   "metadata": {},
   "source": [
    "🏋️‍♀️ 2. ITERAÇÕES\n",
    "===================\n",
    "\n",
    "🎉 🎉 Parabéns por ter completamente construído um modelo básico! Agora, você verá o quão mais fácil é iterar e melhorar o desempenho 🚀\n",
    "\n",
    "Agora, seu objetivo é melhorar suas previsões e enviá-las para o Kaggle **pelo menos 30 minutos antes do Resumo ⏳**\n",
    "\n",
    "Temos algumas sugestões de melhorias abaixo: **escolha suas batalhas** e melhore **incrementalmente** seu pipeline conforme achar adequado!\n",
    "\n",
    "**Estimadores**\n",
    "\n",
    "* Conjuntos baseados em árvores (um must-try hoje); provavelmente os mais adequados para problemas com muitas características categóricas\n",
    "* Stacking!\n",
    "* XGBoost!\n",
    "\n",
    "**Pré-processamento** (quando seu primeiro modelo de conjunto estiver funcionando)\n",
    "\n",
    "* **Codificação Ordinal** de características categóricas com uma noção oculta de ordem em seus valores (por exemplo, \"ruim\", \"médio\", \"bom\")\n",
    "* **Seleção Estatística de Características** para remover características inúteis (evita overfitting e reduz o tempo de treinamento)\n",
    "* Prever `log(SalePrice)` em vez disso?\n",
    "* 🤷"
   ]
  },
  {
   "cell_type": "markdown",
   "metadata": {},
   "source": [
    "2.1 Iteração de Pré-processamento ♲\n",
    "-----------------------------------\n",
    "\n",
    "**⚠️ Volte aqui apenas depois de ter iterado nos seus estimadores na seção 2.2 ⚠️**\n",
    "\n",
    "⏩ Me colapse se eu não estiver sendo usado!"
   ]
  },
  {
   "cell_type": "markdown",
   "metadata": {},
   "source": [
    "### a) Ordinal Encoding (~1h)"
   ]
  },
  {
   "cell_type": "markdown",
   "metadata": {},
   "source": [
    "❓ Olhe para a seguinte característica. Não poderia ser codificada de maneira inteligente numericamente?\n",
    "\n",
    "```perl\n",
    "ExterQual: Avalia a qualidade do material no exterior\n",
    "\t\t\n",
    "       Ex\tExcelente\n",
    "       Gd\tBom\n",
    "       TA\tMédia/Típica\n",
    "       Fa\tRuim\n",
    "       Po\tPéssimo\n",
    "```\n",
    "\n",
    "💡 Felizmente, o `OrdinalEncoder` e seu argumento `categories` nos permite fazer exatamente isso! Confira abaixo e certifique-se de entender como isso funciona 👇"
   ]
  },
  {
   "cell_type": "code",
   "execution_count": 158,
   "metadata": {},
   "outputs": [
    {
     "data": {
      "text/plain": [
       "array([[ 0.,  0.],\n",
       "       [ 1.,  1.],\n",
       "       [ 2.,  2.],\n",
       "       [ 0., -1.]])"
      ]
     },
     "execution_count": 158,
     "metadata": {},
     "output_type": "execute_result"
    }
   ],
   "source": [
    "# Define uma ordem específica para as características\n",
    "# Observação: se você alterar esta ordem, ela mudará a saída para .transform()\n",
    "feature_A_sorted_values = ['bad', 'average', 'good']\n",
    "feature_B_sorted_values = ['dirty', 'clean', 'new']\n",
    "\n",
    "encoder = OrdinalEncoder(\n",
    "    categories=[\n",
    "        feature_A_sorted_values,\n",
    "        feature_B_sorted_values\n",
    "    ],\n",
    "    handle_unknown=\"use_encoded_value\",\n",
    "    unknown_value=-1\n",
    ")\n",
    "\n",
    "# Just some random training data\n",
    "XX = [\n",
    "    ['good', 'dirty'],\n",
    "    ['bad', 'new'],\n",
    "    ['average', 'clean'],\n",
    "]\n",
    "\n",
    "encoder.fit(XX)\n",
    "\n",
    "encoder.transform([\n",
    "        ['bad', \"dirty\"],\n",
    "        [\"average\", \"clean\"],\n",
    "        ['good', 'new'],\n",
    "        ['bad', 'oops never seen this label before']\n",
    "])\n"
   ]
  },
  {
   "cell_type": "markdown",
   "metadata": {},
   "source": [
    "❓ **Sua vez**: divida seu pré-processador categórico em\n",
    "\n",
    "* `preproc_ordinal` para codificar de forma ordinal **algumas características** (de sua escolha)\n",
    "* `preproc_nominal` para codificar one-hot as outras\n",
    "\n",
    "<details> <summary>Dicas</summary>\n",
    "\n",
    "* Você não conseguirá evitar a codificação direta dos nomes e valores ordenados das características! Seja organizado!\n",
    "* É uma boa prática ordenar suas características em ordem alfabética para evitar surpresas desagradáveis.\n",
    "\n",
    "</details>"
   ]
  },
  {
   "cell_type": "code",
   "execution_count": 159,
   "metadata": {
    "tags": [
     "challengify"
    ]
   },
   "outputs": [
    {
     "data": {
      "text/html": [
       "<style>#sk-container-id-13 {color: black;background-color: white;}#sk-container-id-13 pre{padding: 0;}#sk-container-id-13 div.sk-toggleable {background-color: white;}#sk-container-id-13 label.sk-toggleable__label {cursor: pointer;display: block;width: 100%;margin-bottom: 0;padding: 0.3em;box-sizing: border-box;text-align: center;}#sk-container-id-13 label.sk-toggleable__label-arrow:before {content: \"▸\";float: left;margin-right: 0.25em;color: #696969;}#sk-container-id-13 label.sk-toggleable__label-arrow:hover:before {color: black;}#sk-container-id-13 div.sk-estimator:hover label.sk-toggleable__label-arrow:before {color: black;}#sk-container-id-13 div.sk-toggleable__content {max-height: 0;max-width: 0;overflow: hidden;text-align: left;background-color: #f0f8ff;}#sk-container-id-13 div.sk-toggleable__content pre {margin: 0.2em;color: black;border-radius: 0.25em;background-color: #f0f8ff;}#sk-container-id-13 input.sk-toggleable__control:checked~div.sk-toggleable__content {max-height: 200px;max-width: 100%;overflow: auto;}#sk-container-id-13 input.sk-toggleable__control:checked~label.sk-toggleable__label-arrow:before {content: \"▾\";}#sk-container-id-13 div.sk-estimator input.sk-toggleable__control:checked~label.sk-toggleable__label {background-color: #d4ebff;}#sk-container-id-13 div.sk-label input.sk-toggleable__control:checked~label.sk-toggleable__label {background-color: #d4ebff;}#sk-container-id-13 input.sk-hidden--visually {border: 0;clip: rect(1px 1px 1px 1px);clip: rect(1px, 1px, 1px, 1px);height: 1px;margin: -1px;overflow: hidden;padding: 0;position: absolute;width: 1px;}#sk-container-id-13 div.sk-estimator {font-family: monospace;background-color: #f0f8ff;border: 1px dotted black;border-radius: 0.25em;box-sizing: border-box;margin-bottom: 0.5em;}#sk-container-id-13 div.sk-estimator:hover {background-color: #d4ebff;}#sk-container-id-13 div.sk-parallel-item::after {content: \"\";width: 100%;border-bottom: 1px solid gray;flex-grow: 1;}#sk-container-id-13 div.sk-label:hover label.sk-toggleable__label {background-color: #d4ebff;}#sk-container-id-13 div.sk-serial::before {content: \"\";position: absolute;border-left: 1px solid gray;box-sizing: border-box;top: 0;bottom: 0;left: 50%;z-index: 0;}#sk-container-id-13 div.sk-serial {display: flex;flex-direction: column;align-items: center;background-color: white;padding-right: 0.2em;padding-left: 0.2em;position: relative;}#sk-container-id-13 div.sk-item {position: relative;z-index: 1;}#sk-container-id-13 div.sk-parallel {display: flex;align-items: stretch;justify-content: center;background-color: white;position: relative;}#sk-container-id-13 div.sk-item::before, #sk-container-id-13 div.sk-parallel-item::before {content: \"\";position: absolute;border-left: 1px solid gray;box-sizing: border-box;top: 0;bottom: 0;left: 50%;z-index: -1;}#sk-container-id-13 div.sk-parallel-item {display: flex;flex-direction: column;z-index: 1;position: relative;background-color: white;}#sk-container-id-13 div.sk-parallel-item:first-child::after {align-self: flex-end;width: 50%;}#sk-container-id-13 div.sk-parallel-item:last-child::after {align-self: flex-start;width: 50%;}#sk-container-id-13 div.sk-parallel-item:only-child::after {width: 0;}#sk-container-id-13 div.sk-dashed-wrapped {border: 1px dashed gray;margin: 0 0.4em 0.5em 0.4em;box-sizing: border-box;padding-bottom: 0.4em;background-color: white;}#sk-container-id-13 div.sk-label label {font-family: monospace;font-weight: bold;display: inline-block;line-height: 1.2em;}#sk-container-id-13 div.sk-label-container {text-align: center;}#sk-container-id-13 div.sk-container {/* jupyter's `normalize.less` sets `[hidden] { display: none; }` but bootstrap.min.css set `[hidden] { display: none !important; }` so we also need the `!important` here to be able to override the default hidden behavior on the sphinx rendered scikit-learn.org. See: https://github.com/scikit-learn/scikit-learn/issues/21755 */display: inline-block !important;position: relative;}#sk-container-id-13 div.sk-text-repr-fallback {display: none;}</style><div id=\"sk-container-id-13\" class=\"sk-top-container\"><div class=\"sk-text-repr-fallback\"><pre>Pipeline(steps=[(&#x27;simpleimputer&#x27;,\n",
       "                 SimpleImputer(fill_value=&#x27;missing&#x27;, strategy=&#x27;constant&#x27;)),\n",
       "                (&#x27;ordinalencoder&#x27;,\n",
       "                 OrdinalEncoder(categories=[[&#x27;missing&#x27;, &#x27;Po&#x27;, &#x27;Fa&#x27;, &#x27;TA&#x27;, &#x27;Gd&#x27;],\n",
       "                                            [&#x27;missing&#x27;, &#x27;No&#x27;, &#x27;Mn&#x27;, &#x27;Av&#x27;, &#x27;Gd&#x27;],\n",
       "                                            [&#x27;missing&#x27;, &#x27;Unf&#x27;, &#x27;LwQ&#x27;, &#x27;Rec&#x27;,\n",
       "                                             &#x27;BLQ&#x27;, &#x27;ALQ&#x27;, &#x27;GLQ&#x27;],\n",
       "                                            [&#x27;missing&#x27;, &#x27;Unf&#x27;, &#x27;LwQ&#x27;, &#x27;Rec&#x27;,\n",
       "                                             &#x27;BLQ&#x27;, &#x27;ALQ&#x27;, &#x27;GLQ&#x27;],\n",
       "                                            [&#x27;missing&#x27;, &#x27;Fa&#x27;, &#x27;TA&#x27;, &#x27;Gd&#x27;, &#x27;Ex&#x27;],\n",
       "                                            [&#x27;missing&#x27;, &#x27;Mix&#x27;, &#x27;FuseP...\n",
       "                                            [&#x27;missing&#x27;, &#x27;Po&#x27;, &#x27;Fa&#x27;, &#x27;TA&#x27;, &#x27;Gd&#x27;,\n",
       "                                             &#x27;Ex&#x27;],\n",
       "                                            [&#x27;missing&#x27;, &#x27;Po&#x27;, &#x27;Fa&#x27;, &#x27;TA&#x27;, &#x27;Gd&#x27;,\n",
       "                                             &#x27;Ex&#x27;],\n",
       "                                            [&#x27;missing&#x27;, &#x27;Fa&#x27;, &#x27;TA&#x27;, &#x27;Gd&#x27;, &#x27;Ex&#x27;],\n",
       "                                            [&#x27;missing&#x27;, &#x27;Low&#x27;, &#x27;Bnk&#x27;, &#x27;HLS&#x27;,\n",
       "                                             &#x27;Lvl&#x27;],\n",
       "                                            [&#x27;missing&#x27;, &#x27;Sev&#x27;, &#x27;Mod&#x27;, &#x27;Gtl&#x27;],\n",
       "                                            [&#x27;missing&#x27;, &#x27;IR3&#x27;, &#x27;IR2&#x27;, &#x27;IR1&#x27;,\n",
       "                                             &#x27;Reg&#x27;],\n",
       "                                            [&#x27;missing&#x27;, &#x27;N&#x27;, &#x27;P&#x27;, &#x27;Y&#x27;],\n",
       "                                            [&#x27;missing&#x27;, &#x27;Fa&#x27;, &#x27;Gd&#x27;, &#x27;Ex&#x27;]],\n",
       "                                dtype=&lt;class &#x27;numpy.int64&#x27;&gt;,\n",
       "                                handle_unknown=&#x27;use_encoded_value&#x27;,\n",
       "                                unknown_value=-1)),\n",
       "                (&#x27;minmaxscaler&#x27;, MinMaxScaler())])</pre><b>In a Jupyter environment, please rerun this cell to show the HTML representation or trust the notebook. <br />On GitHub, the HTML representation is unable to render, please try loading this page with nbviewer.org.</b></div><div class=\"sk-container\" hidden><div class=\"sk-item sk-dashed-wrapped\"><div class=\"sk-label-container\"><div class=\"sk-label sk-toggleable\"><input class=\"sk-toggleable__control sk-hidden--visually\" id=\"sk-estimator-id-112\" type=\"checkbox\" ><label for=\"sk-estimator-id-112\" class=\"sk-toggleable__label sk-toggleable__label-arrow\">Pipeline</label><div class=\"sk-toggleable__content\"><pre>Pipeline(steps=[(&#x27;simpleimputer&#x27;,\n",
       "                 SimpleImputer(fill_value=&#x27;missing&#x27;, strategy=&#x27;constant&#x27;)),\n",
       "                (&#x27;ordinalencoder&#x27;,\n",
       "                 OrdinalEncoder(categories=[[&#x27;missing&#x27;, &#x27;Po&#x27;, &#x27;Fa&#x27;, &#x27;TA&#x27;, &#x27;Gd&#x27;],\n",
       "                                            [&#x27;missing&#x27;, &#x27;No&#x27;, &#x27;Mn&#x27;, &#x27;Av&#x27;, &#x27;Gd&#x27;],\n",
       "                                            [&#x27;missing&#x27;, &#x27;Unf&#x27;, &#x27;LwQ&#x27;, &#x27;Rec&#x27;,\n",
       "                                             &#x27;BLQ&#x27;, &#x27;ALQ&#x27;, &#x27;GLQ&#x27;],\n",
       "                                            [&#x27;missing&#x27;, &#x27;Unf&#x27;, &#x27;LwQ&#x27;, &#x27;Rec&#x27;,\n",
       "                                             &#x27;BLQ&#x27;, &#x27;ALQ&#x27;, &#x27;GLQ&#x27;],\n",
       "                                            [&#x27;missing&#x27;, &#x27;Fa&#x27;, &#x27;TA&#x27;, &#x27;Gd&#x27;, &#x27;Ex&#x27;],\n",
       "                                            [&#x27;missing&#x27;, &#x27;Mix&#x27;, &#x27;FuseP...\n",
       "                                            [&#x27;missing&#x27;, &#x27;Po&#x27;, &#x27;Fa&#x27;, &#x27;TA&#x27;, &#x27;Gd&#x27;,\n",
       "                                             &#x27;Ex&#x27;],\n",
       "                                            [&#x27;missing&#x27;, &#x27;Po&#x27;, &#x27;Fa&#x27;, &#x27;TA&#x27;, &#x27;Gd&#x27;,\n",
       "                                             &#x27;Ex&#x27;],\n",
       "                                            [&#x27;missing&#x27;, &#x27;Fa&#x27;, &#x27;TA&#x27;, &#x27;Gd&#x27;, &#x27;Ex&#x27;],\n",
       "                                            [&#x27;missing&#x27;, &#x27;Low&#x27;, &#x27;Bnk&#x27;, &#x27;HLS&#x27;,\n",
       "                                             &#x27;Lvl&#x27;],\n",
       "                                            [&#x27;missing&#x27;, &#x27;Sev&#x27;, &#x27;Mod&#x27;, &#x27;Gtl&#x27;],\n",
       "                                            [&#x27;missing&#x27;, &#x27;IR3&#x27;, &#x27;IR2&#x27;, &#x27;IR1&#x27;,\n",
       "                                             &#x27;Reg&#x27;],\n",
       "                                            [&#x27;missing&#x27;, &#x27;N&#x27;, &#x27;P&#x27;, &#x27;Y&#x27;],\n",
       "                                            [&#x27;missing&#x27;, &#x27;Fa&#x27;, &#x27;Gd&#x27;, &#x27;Ex&#x27;]],\n",
       "                                dtype=&lt;class &#x27;numpy.int64&#x27;&gt;,\n",
       "                                handle_unknown=&#x27;use_encoded_value&#x27;,\n",
       "                                unknown_value=-1)),\n",
       "                (&#x27;minmaxscaler&#x27;, MinMaxScaler())])</pre></div></div></div><div class=\"sk-serial\"><div class=\"sk-item\"><div class=\"sk-estimator sk-toggleable\"><input class=\"sk-toggleable__control sk-hidden--visually\" id=\"sk-estimator-id-113\" type=\"checkbox\" ><label for=\"sk-estimator-id-113\" class=\"sk-toggleable__label sk-toggleable__label-arrow\">SimpleImputer</label><div class=\"sk-toggleable__content\"><pre>SimpleImputer(fill_value=&#x27;missing&#x27;, strategy=&#x27;constant&#x27;)</pre></div></div></div><div class=\"sk-item\"><div class=\"sk-estimator sk-toggleable\"><input class=\"sk-toggleable__control sk-hidden--visually\" id=\"sk-estimator-id-114\" type=\"checkbox\" ><label for=\"sk-estimator-id-114\" class=\"sk-toggleable__label sk-toggleable__label-arrow\">OrdinalEncoder</label><div class=\"sk-toggleable__content\"><pre>OrdinalEncoder(categories=[[&#x27;missing&#x27;, &#x27;Po&#x27;, &#x27;Fa&#x27;, &#x27;TA&#x27;, &#x27;Gd&#x27;],\n",
       "                           [&#x27;missing&#x27;, &#x27;No&#x27;, &#x27;Mn&#x27;, &#x27;Av&#x27;, &#x27;Gd&#x27;],\n",
       "                           [&#x27;missing&#x27;, &#x27;Unf&#x27;, &#x27;LwQ&#x27;, &#x27;Rec&#x27;, &#x27;BLQ&#x27;, &#x27;ALQ&#x27;,\n",
       "                            &#x27;GLQ&#x27;],\n",
       "                           [&#x27;missing&#x27;, &#x27;Unf&#x27;, &#x27;LwQ&#x27;, &#x27;Rec&#x27;, &#x27;BLQ&#x27;, &#x27;ALQ&#x27;,\n",
       "                            &#x27;GLQ&#x27;],\n",
       "                           [&#x27;missing&#x27;, &#x27;Fa&#x27;, &#x27;TA&#x27;, &#x27;Gd&#x27;, &#x27;Ex&#x27;],\n",
       "                           [&#x27;missing&#x27;, &#x27;Mix&#x27;, &#x27;FuseP&#x27;, &#x27;FuseF&#x27;, &#x27;FuseA&#x27;,\n",
       "                            &#x27;SBrkr&#x27;],\n",
       "                           [&#x27;missing&#x27;, &#x27;Po&#x27;, &#x27;Fa&#x27;, &#x27;TA&#x27;, &#x27;Gd&#x27;, &#x27;Ex&#x27;],\n",
       "                           [&#x27;missing&#x27;, &#x27;Fa&#x27;, &#x27;TA&#x27;, &#x27;Gd&#x27;, &#x27;Ex&#x27;],\n",
       "                           [&#x27;missing&#x27;, &#x27;...\n",
       "                           [&#x27;missing&#x27;, &#x27;Unf&#x27;, &#x27;RFn&#x27;, &#x27;Fin&#x27;],\n",
       "                           [&#x27;missing&#x27;, &#x27;Po&#x27;, &#x27;Fa&#x27;, &#x27;TA&#x27;, &#x27;Gd&#x27;, &#x27;Ex&#x27;],\n",
       "                           [&#x27;missing&#x27;, &#x27;Po&#x27;, &#x27;Fa&#x27;, &#x27;TA&#x27;, &#x27;Gd&#x27;, &#x27;Ex&#x27;],\n",
       "                           [&#x27;missing&#x27;, &#x27;Fa&#x27;, &#x27;TA&#x27;, &#x27;Gd&#x27;, &#x27;Ex&#x27;],\n",
       "                           [&#x27;missing&#x27;, &#x27;Low&#x27;, &#x27;Bnk&#x27;, &#x27;HLS&#x27;, &#x27;Lvl&#x27;],\n",
       "                           [&#x27;missing&#x27;, &#x27;Sev&#x27;, &#x27;Mod&#x27;, &#x27;Gtl&#x27;],\n",
       "                           [&#x27;missing&#x27;, &#x27;IR3&#x27;, &#x27;IR2&#x27;, &#x27;IR1&#x27;, &#x27;Reg&#x27;],\n",
       "                           [&#x27;missing&#x27;, &#x27;N&#x27;, &#x27;P&#x27;, &#x27;Y&#x27;],\n",
       "                           [&#x27;missing&#x27;, &#x27;Fa&#x27;, &#x27;Gd&#x27;, &#x27;Ex&#x27;]],\n",
       "               dtype=&lt;class &#x27;numpy.int64&#x27;&gt;, handle_unknown=&#x27;use_encoded_value&#x27;,\n",
       "               unknown_value=-1)</pre></div></div></div><div class=\"sk-item\"><div class=\"sk-estimator sk-toggleable\"><input class=\"sk-toggleable__control sk-hidden--visually\" id=\"sk-estimator-id-115\" type=\"checkbox\" ><label for=\"sk-estimator-id-115\" class=\"sk-toggleable__label sk-toggleable__label-arrow\">MinMaxScaler</label><div class=\"sk-toggleable__content\"><pre>MinMaxScaler()</pre></div></div></div></div></div></div></div>"
      ],
      "text/plain": [
       "Pipeline(steps=[('simpleimputer',\n",
       "                 SimpleImputer(fill_value='missing', strategy='constant')),\n",
       "                ('ordinalencoder',\n",
       "                 OrdinalEncoder(categories=[['missing', 'Po', 'Fa', 'TA', 'Gd'],\n",
       "                                            ['missing', 'No', 'Mn', 'Av', 'Gd'],\n",
       "                                            ['missing', 'Unf', 'LwQ', 'Rec',\n",
       "                                             'BLQ', 'ALQ', 'GLQ'],\n",
       "                                            ['missing', 'Unf', 'LwQ', 'Rec',\n",
       "                                             'BLQ', 'ALQ', 'GLQ'],\n",
       "                                            ['missing', 'Fa', 'TA', 'Gd', 'Ex'],\n",
       "                                            ['missing', 'Mix', 'FuseP...\n",
       "                                            ['missing', 'Po', 'Fa', 'TA', 'Gd',\n",
       "                                             'Ex'],\n",
       "                                            ['missing', 'Po', 'Fa', 'TA', 'Gd',\n",
       "                                             'Ex'],\n",
       "                                            ['missing', 'Fa', 'TA', 'Gd', 'Ex'],\n",
       "                                            ['missing', 'Low', 'Bnk', 'HLS',\n",
       "                                             'Lvl'],\n",
       "                                            ['missing', 'Sev', 'Mod', 'Gtl'],\n",
       "                                            ['missing', 'IR3', 'IR2', 'IR1',\n",
       "                                             'Reg'],\n",
       "                                            ['missing', 'N', 'P', 'Y'],\n",
       "                                            ['missing', 'Fa', 'Gd', 'Ex']],\n",
       "                                dtype=<class 'numpy.int64'>,\n",
       "                                handle_unknown='use_encoded_value',\n",
       "                                unknown_value=-1)),\n",
       "                ('minmaxscaler', MinMaxScaler())])"
      ]
     },
     "execution_count": 159,
     "metadata": {},
     "output_type": "execute_result"
    }
   ],
   "source": [
    "feat_ordinal_dict = {\n",
    "    # Considers \"missing\" as \"neutral\"\n",
    "    \"BsmtCond\": ['missing', 'Po', 'Fa', 'TA', 'Gd'],\n",
    "    \"BsmtExposure\": ['missing', 'No', 'Mn', 'Av', 'Gd'],\n",
    "    \"BsmtFinType1\": ['missing', 'Unf', 'LwQ', 'Rec', 'BLQ', 'ALQ', 'GLQ'],\n",
    "    \"BsmtFinType2\": ['missing', 'Unf', 'LwQ', 'Rec', 'BLQ', 'ALQ', 'GLQ'],\n",
    "    \"BsmtQual\": ['missing', 'Fa', 'TA', 'Gd', 'Ex'],\n",
    "    \"Electrical\": ['missing', 'Mix', 'FuseP', 'FuseF', 'FuseA', 'SBrkr'],\n",
    "    \"ExterCond\": ['missing', 'Po', 'Fa', 'TA', 'Gd', 'Ex'],\n",
    "    \"ExterQual\": ['missing', 'Fa', 'TA', 'Gd', 'Ex'],\n",
    "    \"Fence\": ['missing', 'MnWw', 'GdWo', 'MnPrv', 'GdPrv'],\n",
    "    \"FireplaceQu\": ['missing', 'Po', 'Fa', 'TA', 'Gd', 'Ex'],\n",
    "    \"Functional\": ['missing', 'Sev', 'Maj2', 'Maj1', 'Mod', 'Min2', 'Min1', 'Typ'],\n",
    "    \"GarageCond\": ['missing', 'Po', 'Fa', 'TA', 'Gd', 'Ex'],\n",
    "    \"GarageFinish\": ['missing', 'Unf', 'RFn', 'Fin'],\n",
    "    \"GarageQual\": ['missing', 'Po', 'Fa', 'TA', 'Gd', 'Ex'],\n",
    "    \"HeatingQC\": ['missing', 'Po', 'Fa', 'TA', 'Gd', 'Ex'],\n",
    "    \"KitchenQual\": ['missing', 'Fa', 'TA', 'Gd', 'Ex'],\n",
    "    \"LandContour\": ['missing', 'Low', 'Bnk', 'HLS', 'Lvl'],\n",
    "    \"LandSlope\": ['missing', 'Sev', 'Mod', 'Gtl'],\n",
    "    \"LotShape\": ['missing', 'IR3', 'IR2', 'IR1', 'Reg'],\n",
    "    \"PavedDrive\": ['missing', 'N', 'P', 'Y'],\n",
    "    \"PoolQC\": ['missing', 'Fa', 'Gd', 'Ex']\n",
    "}\n",
    "\n",
    "feat_ordinal = sorted(feat_ordinal_dict.keys()) # sort alphabetically\n",
    "feat_ordinal_values_sorted = [feat_ordinal_dict[i] for i in feat_ordinal]\n",
    "\n",
    "encoder_ordinal = OrdinalEncoder(\n",
    "    categories=feat_ordinal_values_sorted,\n",
    "    dtype= np.int64,\n",
    "    handle_unknown=\"use_encoded_value\",\n",
    "    unknown_value=-1 # Considers unknown values as worse than \"missing\"\n",
    ")\n",
    "\n",
    "preproc_ordinal = make_pipeline(\n",
    "    SimpleImputer(strategy=\"constant\", fill_value=\"missing\"),\n",
    "    encoder_ordinal,\n",
    "    MinMaxScaler()\n",
    ")\n",
    "\n",
    "preproc_ordinal\n"
   ]
  },
  {
   "cell_type": "code",
   "execution_count": 160,
   "metadata": {
    "tags": [
     "delete_begin"
    ]
   },
   "outputs": [],
   "source": [
    "# Define características numéricas de uma vez por todas.\n",
    "\n",
    "feat_numerical = sorted(X.select_dtypes(include=[\"int64\", \"float64\"]).columns)\n",
    "\n",
    "preproc_numerical = make_pipeline(\n",
    "    KNNImputer(),\n",
    "    MinMaxScaler()\n",
    ")\n"
   ]
  },
  {
   "cell_type": "code",
   "execution_count": 161,
   "metadata": {},
   "outputs": [],
   "source": [
    "# Define características nominais para codificar one-hot como as restantes (não numéricas, não ordinais)\n",
    "feat_nominal = sorted(list(set(X.columns) - set(feat_numerical) - set(feat_ordinal)))\n",
    "\n",
    "preproc_nominal = make_pipeline(\n",
    "    SimpleImputer(strategy=\"most_frequent\"),\n",
    "    OneHotEncoder(handle_unknown=\"ignore\")\n",
    ")\n"
   ]
  },
  {
   "cell_type": "code",
   "execution_count": 162,
   "metadata": {},
   "outputs": [
    {
     "data": {
      "text/html": [
       "<style>#sk-container-id-14 {color: black;background-color: white;}#sk-container-id-14 pre{padding: 0;}#sk-container-id-14 div.sk-toggleable {background-color: white;}#sk-container-id-14 label.sk-toggleable__label {cursor: pointer;display: block;width: 100%;margin-bottom: 0;padding: 0.3em;box-sizing: border-box;text-align: center;}#sk-container-id-14 label.sk-toggleable__label-arrow:before {content: \"▸\";float: left;margin-right: 0.25em;color: #696969;}#sk-container-id-14 label.sk-toggleable__label-arrow:hover:before {color: black;}#sk-container-id-14 div.sk-estimator:hover label.sk-toggleable__label-arrow:before {color: black;}#sk-container-id-14 div.sk-toggleable__content {max-height: 0;max-width: 0;overflow: hidden;text-align: left;background-color: #f0f8ff;}#sk-container-id-14 div.sk-toggleable__content pre {margin: 0.2em;color: black;border-radius: 0.25em;background-color: #f0f8ff;}#sk-container-id-14 input.sk-toggleable__control:checked~div.sk-toggleable__content {max-height: 200px;max-width: 100%;overflow: auto;}#sk-container-id-14 input.sk-toggleable__control:checked~label.sk-toggleable__label-arrow:before {content: \"▾\";}#sk-container-id-14 div.sk-estimator input.sk-toggleable__control:checked~label.sk-toggleable__label {background-color: #d4ebff;}#sk-container-id-14 div.sk-label input.sk-toggleable__control:checked~label.sk-toggleable__label {background-color: #d4ebff;}#sk-container-id-14 input.sk-hidden--visually {border: 0;clip: rect(1px 1px 1px 1px);clip: rect(1px, 1px, 1px, 1px);height: 1px;margin: -1px;overflow: hidden;padding: 0;position: absolute;width: 1px;}#sk-container-id-14 div.sk-estimator {font-family: monospace;background-color: #f0f8ff;border: 1px dotted black;border-radius: 0.25em;box-sizing: border-box;margin-bottom: 0.5em;}#sk-container-id-14 div.sk-estimator:hover {background-color: #d4ebff;}#sk-container-id-14 div.sk-parallel-item::after {content: \"\";width: 100%;border-bottom: 1px solid gray;flex-grow: 1;}#sk-container-id-14 div.sk-label:hover label.sk-toggleable__label {background-color: #d4ebff;}#sk-container-id-14 div.sk-serial::before {content: \"\";position: absolute;border-left: 1px solid gray;box-sizing: border-box;top: 0;bottom: 0;left: 50%;z-index: 0;}#sk-container-id-14 div.sk-serial {display: flex;flex-direction: column;align-items: center;background-color: white;padding-right: 0.2em;padding-left: 0.2em;position: relative;}#sk-container-id-14 div.sk-item {position: relative;z-index: 1;}#sk-container-id-14 div.sk-parallel {display: flex;align-items: stretch;justify-content: center;background-color: white;position: relative;}#sk-container-id-14 div.sk-item::before, #sk-container-id-14 div.sk-parallel-item::before {content: \"\";position: absolute;border-left: 1px solid gray;box-sizing: border-box;top: 0;bottom: 0;left: 50%;z-index: -1;}#sk-container-id-14 div.sk-parallel-item {display: flex;flex-direction: column;z-index: 1;position: relative;background-color: white;}#sk-container-id-14 div.sk-parallel-item:first-child::after {align-self: flex-end;width: 50%;}#sk-container-id-14 div.sk-parallel-item:last-child::after {align-self: flex-start;width: 50%;}#sk-container-id-14 div.sk-parallel-item:only-child::after {width: 0;}#sk-container-id-14 div.sk-dashed-wrapped {border: 1px dashed gray;margin: 0 0.4em 0.5em 0.4em;box-sizing: border-box;padding-bottom: 0.4em;background-color: white;}#sk-container-id-14 div.sk-label label {font-family: monospace;font-weight: bold;display: inline-block;line-height: 1.2em;}#sk-container-id-14 div.sk-label-container {text-align: center;}#sk-container-id-14 div.sk-container {/* jupyter's `normalize.less` sets `[hidden] { display: none; }` but bootstrap.min.css set `[hidden] { display: none !important; }` so we also need the `!important` here to be able to override the default hidden behavior on the sphinx rendered scikit-learn.org. See: https://github.com/scikit-learn/scikit-learn/issues/21755 */display: inline-block !important;position: relative;}#sk-container-id-14 div.sk-text-repr-fallback {display: none;}</style><div id=\"sk-container-id-14\" class=\"sk-top-container\"><div class=\"sk-text-repr-fallback\"><pre>ColumnTransformer(transformers=[(&#x27;pipeline-1&#x27;,\n",
       "                                 Pipeline(steps=[(&#x27;knnimputer&#x27;, KNNImputer()),\n",
       "                                                 (&#x27;minmaxscaler&#x27;,\n",
       "                                                  MinMaxScaler())]),\n",
       "                                 [&#x27;1stFlrSF&#x27;, &#x27;2ndFlrSF&#x27;, &#x27;3SsnPorch&#x27;,\n",
       "                                  &#x27;BedroomAbvGr&#x27;, &#x27;BsmtFinSF1&#x27;, &#x27;BsmtFinSF2&#x27;,\n",
       "                                  &#x27;BsmtFullBath&#x27;, &#x27;BsmtHalfBath&#x27;, &#x27;BsmtUnfSF&#x27;,\n",
       "                                  &#x27;EnclosedPorch&#x27;, &#x27;Fireplaces&#x27;, &#x27;FullBath&#x27;,\n",
       "                                  &#x27;GarageArea&#x27;, &#x27;GarageCars&#x27;, &#x27;GarageYrBlt&#x27;,\n",
       "                                  &#x27;GrLivArea&#x27;, &#x27;HalfBath&#x27;, &#x27;Kitc...\n",
       "                                                  SimpleImputer(strategy=&#x27;most_frequent&#x27;)),\n",
       "                                                 (&#x27;onehotencoder&#x27;,\n",
       "                                                  OneHotEncoder(handle_unknown=&#x27;ignore&#x27;))]),\n",
       "                                 [&#x27;Alley&#x27;, &#x27;BldgType&#x27;, &#x27;CentralAir&#x27;,\n",
       "                                  &#x27;Condition1&#x27;, &#x27;Condition2&#x27;, &#x27;Exterior1st&#x27;,\n",
       "                                  &#x27;Exterior2nd&#x27;, &#x27;Foundation&#x27;, &#x27;GarageType&#x27;,\n",
       "                                  &#x27;Heating&#x27;, &#x27;HouseStyle&#x27;, &#x27;LotConfig&#x27;,\n",
       "                                  &#x27;MSZoning&#x27;, &#x27;MasVnrType&#x27;, &#x27;MiscFeature&#x27;,\n",
       "                                  &#x27;Neighborhood&#x27;, &#x27;RoofMatl&#x27;, &#x27;RoofStyle&#x27;,\n",
       "                                  &#x27;SaleCondition&#x27;, &#x27;SaleType&#x27;, &#x27;Street&#x27;,\n",
       "                                  &#x27;Utilities&#x27;])])</pre><b>In a Jupyter environment, please rerun this cell to show the HTML representation or trust the notebook. <br />On GitHub, the HTML representation is unable to render, please try loading this page with nbviewer.org.</b></div><div class=\"sk-container\" hidden><div class=\"sk-item sk-dashed-wrapped\"><div class=\"sk-label-container\"><div class=\"sk-label sk-toggleable\"><input class=\"sk-toggleable__control sk-hidden--visually\" id=\"sk-estimator-id-116\" type=\"checkbox\" ><label for=\"sk-estimator-id-116\" class=\"sk-toggleable__label sk-toggleable__label-arrow\">ColumnTransformer</label><div class=\"sk-toggleable__content\"><pre>ColumnTransformer(transformers=[(&#x27;pipeline-1&#x27;,\n",
       "                                 Pipeline(steps=[(&#x27;knnimputer&#x27;, KNNImputer()),\n",
       "                                                 (&#x27;minmaxscaler&#x27;,\n",
       "                                                  MinMaxScaler())]),\n",
       "                                 [&#x27;1stFlrSF&#x27;, &#x27;2ndFlrSF&#x27;, &#x27;3SsnPorch&#x27;,\n",
       "                                  &#x27;BedroomAbvGr&#x27;, &#x27;BsmtFinSF1&#x27;, &#x27;BsmtFinSF2&#x27;,\n",
       "                                  &#x27;BsmtFullBath&#x27;, &#x27;BsmtHalfBath&#x27;, &#x27;BsmtUnfSF&#x27;,\n",
       "                                  &#x27;EnclosedPorch&#x27;, &#x27;Fireplaces&#x27;, &#x27;FullBath&#x27;,\n",
       "                                  &#x27;GarageArea&#x27;, &#x27;GarageCars&#x27;, &#x27;GarageYrBlt&#x27;,\n",
       "                                  &#x27;GrLivArea&#x27;, &#x27;HalfBath&#x27;, &#x27;Kitc...\n",
       "                                                  SimpleImputer(strategy=&#x27;most_frequent&#x27;)),\n",
       "                                                 (&#x27;onehotencoder&#x27;,\n",
       "                                                  OneHotEncoder(handle_unknown=&#x27;ignore&#x27;))]),\n",
       "                                 [&#x27;Alley&#x27;, &#x27;BldgType&#x27;, &#x27;CentralAir&#x27;,\n",
       "                                  &#x27;Condition1&#x27;, &#x27;Condition2&#x27;, &#x27;Exterior1st&#x27;,\n",
       "                                  &#x27;Exterior2nd&#x27;, &#x27;Foundation&#x27;, &#x27;GarageType&#x27;,\n",
       "                                  &#x27;Heating&#x27;, &#x27;HouseStyle&#x27;, &#x27;LotConfig&#x27;,\n",
       "                                  &#x27;MSZoning&#x27;, &#x27;MasVnrType&#x27;, &#x27;MiscFeature&#x27;,\n",
       "                                  &#x27;Neighborhood&#x27;, &#x27;RoofMatl&#x27;, &#x27;RoofStyle&#x27;,\n",
       "                                  &#x27;SaleCondition&#x27;, &#x27;SaleType&#x27;, &#x27;Street&#x27;,\n",
       "                                  &#x27;Utilities&#x27;])])</pre></div></div></div><div class=\"sk-parallel\"><div class=\"sk-parallel-item\"><div class=\"sk-item\"><div class=\"sk-label-container\"><div class=\"sk-label sk-toggleable\"><input class=\"sk-toggleable__control sk-hidden--visually\" id=\"sk-estimator-id-117\" type=\"checkbox\" ><label for=\"sk-estimator-id-117\" class=\"sk-toggleable__label sk-toggleable__label-arrow\">pipeline-1</label><div class=\"sk-toggleable__content\"><pre>[&#x27;1stFlrSF&#x27;, &#x27;2ndFlrSF&#x27;, &#x27;3SsnPorch&#x27;, &#x27;BedroomAbvGr&#x27;, &#x27;BsmtFinSF1&#x27;, &#x27;BsmtFinSF2&#x27;, &#x27;BsmtFullBath&#x27;, &#x27;BsmtHalfBath&#x27;, &#x27;BsmtUnfSF&#x27;, &#x27;EnclosedPorch&#x27;, &#x27;Fireplaces&#x27;, &#x27;FullBath&#x27;, &#x27;GarageArea&#x27;, &#x27;GarageCars&#x27;, &#x27;GarageYrBlt&#x27;, &#x27;GrLivArea&#x27;, &#x27;HalfBath&#x27;, &#x27;KitchenAbvGr&#x27;, &#x27;LotArea&#x27;, &#x27;LotFrontage&#x27;, &#x27;LowQualFinSF&#x27;, &#x27;MSSubClass&#x27;, &#x27;MasVnrArea&#x27;, &#x27;MiscVal&#x27;, &#x27;MoSold&#x27;, &#x27;OpenPorchSF&#x27;, &#x27;OverallCond&#x27;, &#x27;OverallQual&#x27;, &#x27;PoolArea&#x27;, &#x27;ScreenPorch&#x27;, &#x27;TotRmsAbvGrd&#x27;, &#x27;TotalBsmtSF&#x27;, &#x27;WoodDeckSF&#x27;, &#x27;YearBuilt&#x27;, &#x27;YearRemodAdd&#x27;, &#x27;YrSold&#x27;]</pre></div></div></div><div class=\"sk-serial\"><div class=\"sk-item\"><div class=\"sk-serial\"><div class=\"sk-item\"><div class=\"sk-estimator sk-toggleable\"><input class=\"sk-toggleable__control sk-hidden--visually\" id=\"sk-estimator-id-118\" type=\"checkbox\" ><label for=\"sk-estimator-id-118\" class=\"sk-toggleable__label sk-toggleable__label-arrow\">KNNImputer</label><div class=\"sk-toggleable__content\"><pre>KNNImputer()</pre></div></div></div><div class=\"sk-item\"><div class=\"sk-estimator sk-toggleable\"><input class=\"sk-toggleable__control sk-hidden--visually\" id=\"sk-estimator-id-119\" type=\"checkbox\" ><label for=\"sk-estimator-id-119\" class=\"sk-toggleable__label sk-toggleable__label-arrow\">MinMaxScaler</label><div class=\"sk-toggleable__content\"><pre>MinMaxScaler()</pre></div></div></div></div></div></div></div></div><div class=\"sk-parallel-item\"><div class=\"sk-item\"><div class=\"sk-label-container\"><div class=\"sk-label sk-toggleable\"><input class=\"sk-toggleable__control sk-hidden--visually\" id=\"sk-estimator-id-120\" type=\"checkbox\" ><label for=\"sk-estimator-id-120\" class=\"sk-toggleable__label sk-toggleable__label-arrow\">pipeline-2</label><div class=\"sk-toggleable__content\"><pre>[&#x27;BsmtCond&#x27;, &#x27;BsmtExposure&#x27;, &#x27;BsmtFinType1&#x27;, &#x27;BsmtFinType2&#x27;, &#x27;BsmtQual&#x27;, &#x27;Electrical&#x27;, &#x27;ExterCond&#x27;, &#x27;ExterQual&#x27;, &#x27;Fence&#x27;, &#x27;FireplaceQu&#x27;, &#x27;Functional&#x27;, &#x27;GarageCond&#x27;, &#x27;GarageFinish&#x27;, &#x27;GarageQual&#x27;, &#x27;HeatingQC&#x27;, &#x27;KitchenQual&#x27;, &#x27;LandContour&#x27;, &#x27;LandSlope&#x27;, &#x27;LotShape&#x27;, &#x27;PavedDrive&#x27;, &#x27;PoolQC&#x27;]</pre></div></div></div><div class=\"sk-serial\"><div class=\"sk-item\"><div class=\"sk-serial\"><div class=\"sk-item\"><div class=\"sk-estimator sk-toggleable\"><input class=\"sk-toggleable__control sk-hidden--visually\" id=\"sk-estimator-id-121\" type=\"checkbox\" ><label for=\"sk-estimator-id-121\" class=\"sk-toggleable__label sk-toggleable__label-arrow\">SimpleImputer</label><div class=\"sk-toggleable__content\"><pre>SimpleImputer(fill_value=&#x27;missing&#x27;, strategy=&#x27;constant&#x27;)</pre></div></div></div><div class=\"sk-item\"><div class=\"sk-estimator sk-toggleable\"><input class=\"sk-toggleable__control sk-hidden--visually\" id=\"sk-estimator-id-122\" type=\"checkbox\" ><label for=\"sk-estimator-id-122\" class=\"sk-toggleable__label sk-toggleable__label-arrow\">OrdinalEncoder</label><div class=\"sk-toggleable__content\"><pre>OrdinalEncoder(categories=[[&#x27;missing&#x27;, &#x27;Po&#x27;, &#x27;Fa&#x27;, &#x27;TA&#x27;, &#x27;Gd&#x27;],\n",
       "                           [&#x27;missing&#x27;, &#x27;No&#x27;, &#x27;Mn&#x27;, &#x27;Av&#x27;, &#x27;Gd&#x27;],\n",
       "                           [&#x27;missing&#x27;, &#x27;Unf&#x27;, &#x27;LwQ&#x27;, &#x27;Rec&#x27;, &#x27;BLQ&#x27;, &#x27;ALQ&#x27;,\n",
       "                            &#x27;GLQ&#x27;],\n",
       "                           [&#x27;missing&#x27;, &#x27;Unf&#x27;, &#x27;LwQ&#x27;, &#x27;Rec&#x27;, &#x27;BLQ&#x27;, &#x27;ALQ&#x27;,\n",
       "                            &#x27;GLQ&#x27;],\n",
       "                           [&#x27;missing&#x27;, &#x27;Fa&#x27;, &#x27;TA&#x27;, &#x27;Gd&#x27;, &#x27;Ex&#x27;],\n",
       "                           [&#x27;missing&#x27;, &#x27;Mix&#x27;, &#x27;FuseP&#x27;, &#x27;FuseF&#x27;, &#x27;FuseA&#x27;,\n",
       "                            &#x27;SBrkr&#x27;],\n",
       "                           [&#x27;missing&#x27;, &#x27;Po&#x27;, &#x27;Fa&#x27;, &#x27;TA&#x27;, &#x27;Gd&#x27;, &#x27;Ex&#x27;],\n",
       "                           [&#x27;missing&#x27;, &#x27;Fa&#x27;, &#x27;TA&#x27;, &#x27;Gd&#x27;, &#x27;Ex&#x27;],\n",
       "                           [&#x27;missing&#x27;, &#x27;...\n",
       "                           [&#x27;missing&#x27;, &#x27;Unf&#x27;, &#x27;RFn&#x27;, &#x27;Fin&#x27;],\n",
       "                           [&#x27;missing&#x27;, &#x27;Po&#x27;, &#x27;Fa&#x27;, &#x27;TA&#x27;, &#x27;Gd&#x27;, &#x27;Ex&#x27;],\n",
       "                           [&#x27;missing&#x27;, &#x27;Po&#x27;, &#x27;Fa&#x27;, &#x27;TA&#x27;, &#x27;Gd&#x27;, &#x27;Ex&#x27;],\n",
       "                           [&#x27;missing&#x27;, &#x27;Fa&#x27;, &#x27;TA&#x27;, &#x27;Gd&#x27;, &#x27;Ex&#x27;],\n",
       "                           [&#x27;missing&#x27;, &#x27;Low&#x27;, &#x27;Bnk&#x27;, &#x27;HLS&#x27;, &#x27;Lvl&#x27;],\n",
       "                           [&#x27;missing&#x27;, &#x27;Sev&#x27;, &#x27;Mod&#x27;, &#x27;Gtl&#x27;],\n",
       "                           [&#x27;missing&#x27;, &#x27;IR3&#x27;, &#x27;IR2&#x27;, &#x27;IR1&#x27;, &#x27;Reg&#x27;],\n",
       "                           [&#x27;missing&#x27;, &#x27;N&#x27;, &#x27;P&#x27;, &#x27;Y&#x27;],\n",
       "                           [&#x27;missing&#x27;, &#x27;Fa&#x27;, &#x27;Gd&#x27;, &#x27;Ex&#x27;]],\n",
       "               dtype=&lt;class &#x27;numpy.int64&#x27;&gt;, handle_unknown=&#x27;use_encoded_value&#x27;,\n",
       "               unknown_value=-1)</pre></div></div></div><div class=\"sk-item\"><div class=\"sk-estimator sk-toggleable\"><input class=\"sk-toggleable__control sk-hidden--visually\" id=\"sk-estimator-id-123\" type=\"checkbox\" ><label for=\"sk-estimator-id-123\" class=\"sk-toggleable__label sk-toggleable__label-arrow\">MinMaxScaler</label><div class=\"sk-toggleable__content\"><pre>MinMaxScaler()</pre></div></div></div></div></div></div></div></div><div class=\"sk-parallel-item\"><div class=\"sk-item\"><div class=\"sk-label-container\"><div class=\"sk-label sk-toggleable\"><input class=\"sk-toggleable__control sk-hidden--visually\" id=\"sk-estimator-id-124\" type=\"checkbox\" ><label for=\"sk-estimator-id-124\" class=\"sk-toggleable__label sk-toggleable__label-arrow\">pipeline-3</label><div class=\"sk-toggleable__content\"><pre>[&#x27;Alley&#x27;, &#x27;BldgType&#x27;, &#x27;CentralAir&#x27;, &#x27;Condition1&#x27;, &#x27;Condition2&#x27;, &#x27;Exterior1st&#x27;, &#x27;Exterior2nd&#x27;, &#x27;Foundation&#x27;, &#x27;GarageType&#x27;, &#x27;Heating&#x27;, &#x27;HouseStyle&#x27;, &#x27;LotConfig&#x27;, &#x27;MSZoning&#x27;, &#x27;MasVnrType&#x27;, &#x27;MiscFeature&#x27;, &#x27;Neighborhood&#x27;, &#x27;RoofMatl&#x27;, &#x27;RoofStyle&#x27;, &#x27;SaleCondition&#x27;, &#x27;SaleType&#x27;, &#x27;Street&#x27;, &#x27;Utilities&#x27;]</pre></div></div></div><div class=\"sk-serial\"><div class=\"sk-item\"><div class=\"sk-serial\"><div class=\"sk-item\"><div class=\"sk-estimator sk-toggleable\"><input class=\"sk-toggleable__control sk-hidden--visually\" id=\"sk-estimator-id-125\" type=\"checkbox\" ><label for=\"sk-estimator-id-125\" class=\"sk-toggleable__label sk-toggleable__label-arrow\">SimpleImputer</label><div class=\"sk-toggleable__content\"><pre>SimpleImputer(strategy=&#x27;most_frequent&#x27;)</pre></div></div></div><div class=\"sk-item\"><div class=\"sk-estimator sk-toggleable\"><input class=\"sk-toggleable__control sk-hidden--visually\" id=\"sk-estimator-id-126\" type=\"checkbox\" ><label for=\"sk-estimator-id-126\" class=\"sk-toggleable__label sk-toggleable__label-arrow\">OneHotEncoder</label><div class=\"sk-toggleable__content\"><pre>OneHotEncoder(handle_unknown=&#x27;ignore&#x27;)</pre></div></div></div></div></div></div></div></div></div></div></div></div>"
      ],
      "text/plain": [
       "ColumnTransformer(transformers=[('pipeline-1',\n",
       "                                 Pipeline(steps=[('knnimputer', KNNImputer()),\n",
       "                                                 ('minmaxscaler',\n",
       "                                                  MinMaxScaler())]),\n",
       "                                 ['1stFlrSF', '2ndFlrSF', '3SsnPorch',\n",
       "                                  'BedroomAbvGr', 'BsmtFinSF1', 'BsmtFinSF2',\n",
       "                                  'BsmtFullBath', 'BsmtHalfBath', 'BsmtUnfSF',\n",
       "                                  'EnclosedPorch', 'Fireplaces', 'FullBath',\n",
       "                                  'GarageArea', 'GarageCars', 'GarageYrBlt',\n",
       "                                  'GrLivArea', 'HalfBath', 'Kitc...\n",
       "                                                  SimpleImputer(strategy='most_frequent')),\n",
       "                                                 ('onehotencoder',\n",
       "                                                  OneHotEncoder(handle_unknown='ignore'))]),\n",
       "                                 ['Alley', 'BldgType', 'CentralAir',\n",
       "                                  'Condition1', 'Condition2', 'Exterior1st',\n",
       "                                  'Exterior2nd', 'Foundation', 'GarageType',\n",
       "                                  'Heating', 'HouseStyle', 'LotConfig',\n",
       "                                  'MSZoning', 'MasVnrType', 'MiscFeature',\n",
       "                                  'Neighborhood', 'RoofMatl', 'RoofStyle',\n",
       "                                  'SaleCondition', 'SaleType', 'Street',\n",
       "                                  'Utilities'])])"
      ]
     },
     "execution_count": 162,
     "metadata": {},
     "output_type": "execute_result"
    }
   ],
   "source": [
    "preproc = make_column_transformer(\n",
    "    (preproc_numerical, feat_numerical),\n",
    "    (preproc_ordinal, feat_ordinal),\n",
    "    (preproc_nominal, feat_nominal),\n",
    "    remainder=\"drop\"\n",
    ")\n",
    "\n",
    "preproc\n"
   ]
  },
  {
   "cell_type": "code",
   "execution_count": 163,
   "metadata": {
    "tags": [
     "delete_end"
    ]
   },
   "outputs": [
    {
     "data": {
      "text/html": [
       "<div>\n",
       "<style scoped>\n",
       "    .dataframe tbody tr th:only-of-type {\n",
       "        vertical-align: middle;\n",
       "    }\n",
       "\n",
       "    .dataframe tbody tr th {\n",
       "        vertical-align: top;\n",
       "    }\n",
       "\n",
       "    .dataframe thead th {\n",
       "        text-align: right;\n",
       "    }\n",
       "</style>\n",
       "<table border=\"1\" class=\"dataframe\">\n",
       "  <thead>\n",
       "    <tr style=\"text-align: right;\">\n",
       "      <th></th>\n",
       "      <th>0</th>\n",
       "      <th>1</th>\n",
       "      <th>2</th>\n",
       "      <th>3</th>\n",
       "      <th>4</th>\n",
       "      <th>5</th>\n",
       "      <th>6</th>\n",
       "      <th>7</th>\n",
       "      <th>8</th>\n",
       "      <th>9</th>\n",
       "      <th>...</th>\n",
       "      <th>205</th>\n",
       "      <th>206</th>\n",
       "      <th>207</th>\n",
       "      <th>208</th>\n",
       "      <th>209</th>\n",
       "      <th>210</th>\n",
       "      <th>211</th>\n",
       "      <th>212</th>\n",
       "      <th>213</th>\n",
       "      <th>214</th>\n",
       "    </tr>\n",
       "  </thead>\n",
       "  <tbody>\n",
       "    <tr>\n",
       "      <th>0</th>\n",
       "      <td>0.119780</td>\n",
       "      <td>0.413559</td>\n",
       "      <td>0.0</td>\n",
       "      <td>0.375</td>\n",
       "      <td>0.125089</td>\n",
       "      <td>0.0</td>\n",
       "      <td>0.333333</td>\n",
       "      <td>0.0</td>\n",
       "      <td>0.064212</td>\n",
       "      <td>0.000000</td>\n",
       "      <td>...</td>\n",
       "      <td>0.0</td>\n",
       "      <td>0.0</td>\n",
       "      <td>0.0</td>\n",
       "      <td>0.0</td>\n",
       "      <td>0.0</td>\n",
       "      <td>1.0</td>\n",
       "      <td>0.0</td>\n",
       "      <td>1.0</td>\n",
       "      <td>1.0</td>\n",
       "      <td>0.0</td>\n",
       "    </tr>\n",
       "    <tr>\n",
       "      <th>1</th>\n",
       "      <td>0.212942</td>\n",
       "      <td>0.000000</td>\n",
       "      <td>0.0</td>\n",
       "      <td>0.375</td>\n",
       "      <td>0.173281</td>\n",
       "      <td>0.0</td>\n",
       "      <td>0.000000</td>\n",
       "      <td>0.5</td>\n",
       "      <td>0.121575</td>\n",
       "      <td>0.000000</td>\n",
       "      <td>...</td>\n",
       "      <td>0.0</td>\n",
       "      <td>0.0</td>\n",
       "      <td>0.0</td>\n",
       "      <td>0.0</td>\n",
       "      <td>0.0</td>\n",
       "      <td>1.0</td>\n",
       "      <td>0.0</td>\n",
       "      <td>1.0</td>\n",
       "      <td>1.0</td>\n",
       "      <td>0.0</td>\n",
       "    </tr>\n",
       "    <tr>\n",
       "      <th>2</th>\n",
       "      <td>0.134465</td>\n",
       "      <td>0.419370</td>\n",
       "      <td>0.0</td>\n",
       "      <td>0.375</td>\n",
       "      <td>0.086109</td>\n",
       "      <td>0.0</td>\n",
       "      <td>0.333333</td>\n",
       "      <td>0.0</td>\n",
       "      <td>0.185788</td>\n",
       "      <td>0.000000</td>\n",
       "      <td>...</td>\n",
       "      <td>0.0</td>\n",
       "      <td>0.0</td>\n",
       "      <td>0.0</td>\n",
       "      <td>0.0</td>\n",
       "      <td>0.0</td>\n",
       "      <td>1.0</td>\n",
       "      <td>0.0</td>\n",
       "      <td>1.0</td>\n",
       "      <td>1.0</td>\n",
       "      <td>0.0</td>\n",
       "    </tr>\n",
       "    <tr>\n",
       "      <th>3</th>\n",
       "      <td>0.143873</td>\n",
       "      <td>0.366102</td>\n",
       "      <td>0.0</td>\n",
       "      <td>0.375</td>\n",
       "      <td>0.038271</td>\n",
       "      <td>0.0</td>\n",
       "      <td>0.333333</td>\n",
       "      <td>0.0</td>\n",
       "      <td>0.231164</td>\n",
       "      <td>0.492754</td>\n",
       "      <td>...</td>\n",
       "      <td>0.0</td>\n",
       "      <td>0.0</td>\n",
       "      <td>0.0</td>\n",
       "      <td>0.0</td>\n",
       "      <td>0.0</td>\n",
       "      <td>1.0</td>\n",
       "      <td>0.0</td>\n",
       "      <td>1.0</td>\n",
       "      <td>1.0</td>\n",
       "      <td>0.0</td>\n",
       "    </tr>\n",
       "    <tr>\n",
       "      <th>4</th>\n",
       "      <td>0.186095</td>\n",
       "      <td>0.509927</td>\n",
       "      <td>0.0</td>\n",
       "      <td>0.500</td>\n",
       "      <td>0.116052</td>\n",
       "      <td>0.0</td>\n",
       "      <td>0.333333</td>\n",
       "      <td>0.0</td>\n",
       "      <td>0.209760</td>\n",
       "      <td>0.000000</td>\n",
       "      <td>...</td>\n",
       "      <td>0.0</td>\n",
       "      <td>0.0</td>\n",
       "      <td>0.0</td>\n",
       "      <td>0.0</td>\n",
       "      <td>0.0</td>\n",
       "      <td>1.0</td>\n",
       "      <td>0.0</td>\n",
       "      <td>1.0</td>\n",
       "      <td>1.0</td>\n",
       "      <td>0.0</td>\n",
       "    </tr>\n",
       "  </tbody>\n",
       "</table>\n",
       "<p>5 rows × 215 columns</p>\n",
       "</div>"
      ],
      "text/plain": [
       "        0         1    2      3         4    5         6    7         8    \\\n",
       "0  0.119780  0.413559  0.0  0.375  0.125089  0.0  0.333333  0.0  0.064212   \n",
       "1  0.212942  0.000000  0.0  0.375  0.173281  0.0  0.000000  0.5  0.121575   \n",
       "2  0.134465  0.419370  0.0  0.375  0.086109  0.0  0.333333  0.0  0.185788   \n",
       "3  0.143873  0.366102  0.0  0.375  0.038271  0.0  0.333333  0.0  0.231164   \n",
       "4  0.186095  0.509927  0.0  0.500  0.116052  0.0  0.333333  0.0  0.209760   \n",
       "\n",
       "        9    ...  205  206  207  208  209  210  211  212  213  214  \n",
       "0  0.000000  ...  0.0  0.0  0.0  0.0  0.0  1.0  0.0  1.0  1.0  0.0  \n",
       "1  0.000000  ...  0.0  0.0  0.0  0.0  0.0  1.0  0.0  1.0  1.0  0.0  \n",
       "2  0.000000  ...  0.0  0.0  0.0  0.0  0.0  1.0  0.0  1.0  1.0  0.0  \n",
       "3  0.492754  ...  0.0  0.0  0.0  0.0  0.0  1.0  0.0  1.0  1.0  0.0  \n",
       "4  0.000000  ...  0.0  0.0  0.0  0.0  0.0  1.0  0.0  1.0  1.0  0.0  \n",
       "\n",
       "[5 rows x 215 columns]"
      ]
     },
     "execution_count": 163,
     "metadata": {},
     "output_type": "execute_result"
    }
   ],
   "source": [
    "pd.DataFrame(preproc.fit_transform(X,y)).head()\n"
   ]
  },
  {
   "cell_type": "markdown",
   "metadata": {},
   "source": [
    "### b) Seleção Estatística de Características (~30min)\n",
    "\n",
    "Nosso objetivo é remover as características menos interessantes para limitar o overfitting e reduzir o tempo de treinamento.\n",
    "\n",
    "🔥 Vamos fazer uso dos transformadores de [seleção de características](https://scikit-learn.org/stable/modules/classes.html#module-sklearn.feature_selection) do Sklearn diretamente no seu pipeline!\n",
    "\n",
    "❗️ Recomendamos que você tente **apenas a Opção 1 hoje**, para começar. As Opções 2 e 3 serão corrigidas no Resumo!"
   ]
  },
  {
   "cell_type": "markdown",
   "metadata": {},
   "source": [
    "#### Opção 1 (Recomendada) - <font color=green>Seleção de Características Univariada</font>\n",
    "\n",
    "_com base na informação mútua com o alvo `y`_\n",
    "\n",
    "* Sinta-se à vontade para adicionar um filtro `SelectPercentile` ao final do seu pipeline `preproc`.\n",
    "* Isso filtrará características que, individualmente, explicam menos o seu alvo!\n",
    "* O teste estatístico que recomendamos passar para o `SelectPercentile` é o `mutual_info_regression`\n",
    "\n",
    "<details> <summary markdown='span'>🤔 O que é informação mútua? Clique aqui!</summary>\n",
    "\n",
    "* [Informação Mútua](https://en.wikipedia.org/wiki/Mutual_information) é uma distância **estatística** entre duas distribuições de probabilidade.\n",
    "* A correlação é uma distância **linear** entre duas variáveis aleatórias.\n",
    "* A Informação Mútua é mais geral e mede a redução de incerteza em Y após observar X.\n",
    "* Por outro lado, se você já sabe que está lidando com variáveis suaves (como variáveis numéricas contínuas), às vezes a correlação pode fornecer mais informações sobre elas, por exemplo, se a relação entre elas for monótona.\n",
    "\n",
    "Veja [esta animação](https://twitter.com/ari_seff/status/1409296508634152964)\n",
    "\n",
    "</details>"
   ]
  },
  {
   "cell_type": "code",
   "execution_count": 164,
   "metadata": {
    "tags": [
     "challengify"
    ]
   },
   "outputs": [
    {
     "data": {
      "text/html": [
       "<style>#sk-container-id-15 {color: black;background-color: white;}#sk-container-id-15 pre{padding: 0;}#sk-container-id-15 div.sk-toggleable {background-color: white;}#sk-container-id-15 label.sk-toggleable__label {cursor: pointer;display: block;width: 100%;margin-bottom: 0;padding: 0.3em;box-sizing: border-box;text-align: center;}#sk-container-id-15 label.sk-toggleable__label-arrow:before {content: \"▸\";float: left;margin-right: 0.25em;color: #696969;}#sk-container-id-15 label.sk-toggleable__label-arrow:hover:before {color: black;}#sk-container-id-15 div.sk-estimator:hover label.sk-toggleable__label-arrow:before {color: black;}#sk-container-id-15 div.sk-toggleable__content {max-height: 0;max-width: 0;overflow: hidden;text-align: left;background-color: #f0f8ff;}#sk-container-id-15 div.sk-toggleable__content pre {margin: 0.2em;color: black;border-radius: 0.25em;background-color: #f0f8ff;}#sk-container-id-15 input.sk-toggleable__control:checked~div.sk-toggleable__content {max-height: 200px;max-width: 100%;overflow: auto;}#sk-container-id-15 input.sk-toggleable__control:checked~label.sk-toggleable__label-arrow:before {content: \"▾\";}#sk-container-id-15 div.sk-estimator input.sk-toggleable__control:checked~label.sk-toggleable__label {background-color: #d4ebff;}#sk-container-id-15 div.sk-label input.sk-toggleable__control:checked~label.sk-toggleable__label {background-color: #d4ebff;}#sk-container-id-15 input.sk-hidden--visually {border: 0;clip: rect(1px 1px 1px 1px);clip: rect(1px, 1px, 1px, 1px);height: 1px;margin: -1px;overflow: hidden;padding: 0;position: absolute;width: 1px;}#sk-container-id-15 div.sk-estimator {font-family: monospace;background-color: #f0f8ff;border: 1px dotted black;border-radius: 0.25em;box-sizing: border-box;margin-bottom: 0.5em;}#sk-container-id-15 div.sk-estimator:hover {background-color: #d4ebff;}#sk-container-id-15 div.sk-parallel-item::after {content: \"\";width: 100%;border-bottom: 1px solid gray;flex-grow: 1;}#sk-container-id-15 div.sk-label:hover label.sk-toggleable__label {background-color: #d4ebff;}#sk-container-id-15 div.sk-serial::before {content: \"\";position: absolute;border-left: 1px solid gray;box-sizing: border-box;top: 0;bottom: 0;left: 50%;z-index: 0;}#sk-container-id-15 div.sk-serial {display: flex;flex-direction: column;align-items: center;background-color: white;padding-right: 0.2em;padding-left: 0.2em;position: relative;}#sk-container-id-15 div.sk-item {position: relative;z-index: 1;}#sk-container-id-15 div.sk-parallel {display: flex;align-items: stretch;justify-content: center;background-color: white;position: relative;}#sk-container-id-15 div.sk-item::before, #sk-container-id-15 div.sk-parallel-item::before {content: \"\";position: absolute;border-left: 1px solid gray;box-sizing: border-box;top: 0;bottom: 0;left: 50%;z-index: -1;}#sk-container-id-15 div.sk-parallel-item {display: flex;flex-direction: column;z-index: 1;position: relative;background-color: white;}#sk-container-id-15 div.sk-parallel-item:first-child::after {align-self: flex-end;width: 50%;}#sk-container-id-15 div.sk-parallel-item:last-child::after {align-self: flex-start;width: 50%;}#sk-container-id-15 div.sk-parallel-item:only-child::after {width: 0;}#sk-container-id-15 div.sk-dashed-wrapped {border: 1px dashed gray;margin: 0 0.4em 0.5em 0.4em;box-sizing: border-box;padding-bottom: 0.4em;background-color: white;}#sk-container-id-15 div.sk-label label {font-family: monospace;font-weight: bold;display: inline-block;line-height: 1.2em;}#sk-container-id-15 div.sk-label-container {text-align: center;}#sk-container-id-15 div.sk-container {/* jupyter's `normalize.less` sets `[hidden] { display: none; }` but bootstrap.min.css set `[hidden] { display: none !important; }` so we also need the `!important` here to be able to override the default hidden behavior on the sphinx rendered scikit-learn.org. See: https://github.com/scikit-learn/scikit-learn/issues/21755 */display: inline-block !important;position: relative;}#sk-container-id-15 div.sk-text-repr-fallback {display: none;}</style><div id=\"sk-container-id-15\" class=\"sk-top-container\"><div class=\"sk-text-repr-fallback\"><pre>Pipeline(steps=[(&#x27;columntransformer&#x27;,\n",
       "                 ColumnTransformer(transformers=[(&#x27;pipeline-1&#x27;,\n",
       "                                                  Pipeline(steps=[(&#x27;knnimputer&#x27;,\n",
       "                                                                   KNNImputer()),\n",
       "                                                                  (&#x27;minmaxscaler&#x27;,\n",
       "                                                                   MinMaxScaler())]),\n",
       "                                                  &lt;sklearn.compose._column_transformer.make_column_selector object at 0x0000021EC5509790&gt;),\n",
       "                                                 (&#x27;pipeline-2&#x27;,\n",
       "                                                  Pipeline(steps=[(&#x27;simpleimputer&#x27;,\n",
       "                                                                   SimpleImputer(fill_value=&#x27;missing&#x27;,\n",
       "                                                                                 strategy=&#x27;constant&#x27;))...\n",
       "                                                   &#x27;CentralAir&#x27;, &#x27;Condition1&#x27;,\n",
       "                                                   &#x27;Condition2&#x27;, &#x27;Exterior1st&#x27;,\n",
       "                                                   &#x27;Exterior2nd&#x27;, &#x27;Foundation&#x27;,\n",
       "                                                   &#x27;GarageType&#x27;, &#x27;Heating&#x27;,\n",
       "                                                   &#x27;HouseStyle&#x27;, &#x27;LotConfig&#x27;,\n",
       "                                                   &#x27;MSZoning&#x27;, &#x27;MasVnrType&#x27;,\n",
       "                                                   &#x27;MiscFeature&#x27;,\n",
       "                                                   &#x27;Neighborhood&#x27;, &#x27;RoofMatl&#x27;,\n",
       "                                                   &#x27;RoofStyle&#x27;, &#x27;SaleCondition&#x27;,\n",
       "                                                   &#x27;SaleType&#x27;, &#x27;Street&#x27;,\n",
       "                                                   &#x27;Utilities&#x27;])])),\n",
       "                (&#x27;selectpercentile&#x27;,\n",
       "                 SelectPercentile(percentile=25,\n",
       "                                  score_func=&lt;function mutual_info_regression at 0x0000021EC4F7E020&gt;))])</pre><b>In a Jupyter environment, please rerun this cell to show the HTML representation or trust the notebook. <br />On GitHub, the HTML representation is unable to render, please try loading this page with nbviewer.org.</b></div><div class=\"sk-container\" hidden><div class=\"sk-item sk-dashed-wrapped\"><div class=\"sk-label-container\"><div class=\"sk-label sk-toggleable\"><input class=\"sk-toggleable__control sk-hidden--visually\" id=\"sk-estimator-id-127\" type=\"checkbox\" ><label for=\"sk-estimator-id-127\" class=\"sk-toggleable__label sk-toggleable__label-arrow\">Pipeline</label><div class=\"sk-toggleable__content\"><pre>Pipeline(steps=[(&#x27;columntransformer&#x27;,\n",
       "                 ColumnTransformer(transformers=[(&#x27;pipeline-1&#x27;,\n",
       "                                                  Pipeline(steps=[(&#x27;knnimputer&#x27;,\n",
       "                                                                   KNNImputer()),\n",
       "                                                                  (&#x27;minmaxscaler&#x27;,\n",
       "                                                                   MinMaxScaler())]),\n",
       "                                                  &lt;sklearn.compose._column_transformer.make_column_selector object at 0x0000021EC5509790&gt;),\n",
       "                                                 (&#x27;pipeline-2&#x27;,\n",
       "                                                  Pipeline(steps=[(&#x27;simpleimputer&#x27;,\n",
       "                                                                   SimpleImputer(fill_value=&#x27;missing&#x27;,\n",
       "                                                                                 strategy=&#x27;constant&#x27;))...\n",
       "                                                   &#x27;CentralAir&#x27;, &#x27;Condition1&#x27;,\n",
       "                                                   &#x27;Condition2&#x27;, &#x27;Exterior1st&#x27;,\n",
       "                                                   &#x27;Exterior2nd&#x27;, &#x27;Foundation&#x27;,\n",
       "                                                   &#x27;GarageType&#x27;, &#x27;Heating&#x27;,\n",
       "                                                   &#x27;HouseStyle&#x27;, &#x27;LotConfig&#x27;,\n",
       "                                                   &#x27;MSZoning&#x27;, &#x27;MasVnrType&#x27;,\n",
       "                                                   &#x27;MiscFeature&#x27;,\n",
       "                                                   &#x27;Neighborhood&#x27;, &#x27;RoofMatl&#x27;,\n",
       "                                                   &#x27;RoofStyle&#x27;, &#x27;SaleCondition&#x27;,\n",
       "                                                   &#x27;SaleType&#x27;, &#x27;Street&#x27;,\n",
       "                                                   &#x27;Utilities&#x27;])])),\n",
       "                (&#x27;selectpercentile&#x27;,\n",
       "                 SelectPercentile(percentile=25,\n",
       "                                  score_func=&lt;function mutual_info_regression at 0x0000021EC4F7E020&gt;))])</pre></div></div></div><div class=\"sk-serial\"><div class=\"sk-item sk-dashed-wrapped\"><div class=\"sk-label-container\"><div class=\"sk-label sk-toggleable\"><input class=\"sk-toggleable__control sk-hidden--visually\" id=\"sk-estimator-id-128\" type=\"checkbox\" ><label for=\"sk-estimator-id-128\" class=\"sk-toggleable__label sk-toggleable__label-arrow\">columntransformer: ColumnTransformer</label><div class=\"sk-toggleable__content\"><pre>ColumnTransformer(transformers=[(&#x27;pipeline-1&#x27;,\n",
       "                                 Pipeline(steps=[(&#x27;knnimputer&#x27;, KNNImputer()),\n",
       "                                                 (&#x27;minmaxscaler&#x27;,\n",
       "                                                  MinMaxScaler())]),\n",
       "                                 &lt;sklearn.compose._column_transformer.make_column_selector object at 0x0000021EC5509790&gt;),\n",
       "                                (&#x27;pipeline-2&#x27;,\n",
       "                                 Pipeline(steps=[(&#x27;simpleimputer&#x27;,\n",
       "                                                  SimpleImputer(fill_value=&#x27;missing&#x27;,\n",
       "                                                                strategy=&#x27;constant&#x27;)),\n",
       "                                                 (&#x27;ordinalencoder&#x27;,\n",
       "                                                  OrdinalEncoder(cat...\n",
       "                                                  SimpleImputer(strategy=&#x27;most_frequent&#x27;)),\n",
       "                                                 (&#x27;onehotencoder&#x27;,\n",
       "                                                  OneHotEncoder(handle_unknown=&#x27;ignore&#x27;))]),\n",
       "                                 [&#x27;Alley&#x27;, &#x27;BldgType&#x27;, &#x27;CentralAir&#x27;,\n",
       "                                  &#x27;Condition1&#x27;, &#x27;Condition2&#x27;, &#x27;Exterior1st&#x27;,\n",
       "                                  &#x27;Exterior2nd&#x27;, &#x27;Foundation&#x27;, &#x27;GarageType&#x27;,\n",
       "                                  &#x27;Heating&#x27;, &#x27;HouseStyle&#x27;, &#x27;LotConfig&#x27;,\n",
       "                                  &#x27;MSZoning&#x27;, &#x27;MasVnrType&#x27;, &#x27;MiscFeature&#x27;,\n",
       "                                  &#x27;Neighborhood&#x27;, &#x27;RoofMatl&#x27;, &#x27;RoofStyle&#x27;,\n",
       "                                  &#x27;SaleCondition&#x27;, &#x27;SaleType&#x27;, &#x27;Street&#x27;,\n",
       "                                  &#x27;Utilities&#x27;])])</pre></div></div></div><div class=\"sk-parallel\"><div class=\"sk-parallel-item\"><div class=\"sk-item\"><div class=\"sk-label-container\"><div class=\"sk-label sk-toggleable\"><input class=\"sk-toggleable__control sk-hidden--visually\" id=\"sk-estimator-id-129\" type=\"checkbox\" ><label for=\"sk-estimator-id-129\" class=\"sk-toggleable__label sk-toggleable__label-arrow\">pipeline-1</label><div class=\"sk-toggleable__content\"><pre>&lt;sklearn.compose._column_transformer.make_column_selector object at 0x0000021EC5509790&gt;</pre></div></div></div><div class=\"sk-serial\"><div class=\"sk-item\"><div class=\"sk-serial\"><div class=\"sk-item\"><div class=\"sk-estimator sk-toggleable\"><input class=\"sk-toggleable__control sk-hidden--visually\" id=\"sk-estimator-id-130\" type=\"checkbox\" ><label for=\"sk-estimator-id-130\" class=\"sk-toggleable__label sk-toggleable__label-arrow\">KNNImputer</label><div class=\"sk-toggleable__content\"><pre>KNNImputer()</pre></div></div></div><div class=\"sk-item\"><div class=\"sk-estimator sk-toggleable\"><input class=\"sk-toggleable__control sk-hidden--visually\" id=\"sk-estimator-id-131\" type=\"checkbox\" ><label for=\"sk-estimator-id-131\" class=\"sk-toggleable__label sk-toggleable__label-arrow\">MinMaxScaler</label><div class=\"sk-toggleable__content\"><pre>MinMaxScaler()</pre></div></div></div></div></div></div></div></div><div class=\"sk-parallel-item\"><div class=\"sk-item\"><div class=\"sk-label-container\"><div class=\"sk-label sk-toggleable\"><input class=\"sk-toggleable__control sk-hidden--visually\" id=\"sk-estimator-id-132\" type=\"checkbox\" ><label for=\"sk-estimator-id-132\" class=\"sk-toggleable__label sk-toggleable__label-arrow\">pipeline-2</label><div class=\"sk-toggleable__content\"><pre>[&#x27;BsmtCond&#x27;, &#x27;BsmtExposure&#x27;, &#x27;BsmtFinType1&#x27;, &#x27;BsmtFinType2&#x27;, &#x27;BsmtQual&#x27;, &#x27;Electrical&#x27;, &#x27;ExterCond&#x27;, &#x27;ExterQual&#x27;, &#x27;Fence&#x27;, &#x27;FireplaceQu&#x27;, &#x27;Functional&#x27;, &#x27;GarageCond&#x27;, &#x27;GarageFinish&#x27;, &#x27;GarageQual&#x27;, &#x27;HeatingQC&#x27;, &#x27;KitchenQual&#x27;, &#x27;LandContour&#x27;, &#x27;LandSlope&#x27;, &#x27;LotShape&#x27;, &#x27;PavedDrive&#x27;, &#x27;PoolQC&#x27;]</pre></div></div></div><div class=\"sk-serial\"><div class=\"sk-item\"><div class=\"sk-serial\"><div class=\"sk-item\"><div class=\"sk-estimator sk-toggleable\"><input class=\"sk-toggleable__control sk-hidden--visually\" id=\"sk-estimator-id-133\" type=\"checkbox\" ><label for=\"sk-estimator-id-133\" class=\"sk-toggleable__label sk-toggleable__label-arrow\">SimpleImputer</label><div class=\"sk-toggleable__content\"><pre>SimpleImputer(fill_value=&#x27;missing&#x27;, strategy=&#x27;constant&#x27;)</pre></div></div></div><div class=\"sk-item\"><div class=\"sk-estimator sk-toggleable\"><input class=\"sk-toggleable__control sk-hidden--visually\" id=\"sk-estimator-id-134\" type=\"checkbox\" ><label for=\"sk-estimator-id-134\" class=\"sk-toggleable__label sk-toggleable__label-arrow\">OrdinalEncoder</label><div class=\"sk-toggleable__content\"><pre>OrdinalEncoder(categories=[[&#x27;missing&#x27;, &#x27;Po&#x27;, &#x27;Fa&#x27;, &#x27;TA&#x27;, &#x27;Gd&#x27;],\n",
       "                           [&#x27;missing&#x27;, &#x27;No&#x27;, &#x27;Mn&#x27;, &#x27;Av&#x27;, &#x27;Gd&#x27;],\n",
       "                           [&#x27;missing&#x27;, &#x27;Unf&#x27;, &#x27;LwQ&#x27;, &#x27;Rec&#x27;, &#x27;BLQ&#x27;, &#x27;ALQ&#x27;,\n",
       "                            &#x27;GLQ&#x27;],\n",
       "                           [&#x27;missing&#x27;, &#x27;Unf&#x27;, &#x27;LwQ&#x27;, &#x27;Rec&#x27;, &#x27;BLQ&#x27;, &#x27;ALQ&#x27;,\n",
       "                            &#x27;GLQ&#x27;],\n",
       "                           [&#x27;missing&#x27;, &#x27;Fa&#x27;, &#x27;TA&#x27;, &#x27;Gd&#x27;, &#x27;Ex&#x27;],\n",
       "                           [&#x27;missing&#x27;, &#x27;Mix&#x27;, &#x27;FuseP&#x27;, &#x27;FuseF&#x27;, &#x27;FuseA&#x27;,\n",
       "                            &#x27;SBrkr&#x27;],\n",
       "                           [&#x27;missing&#x27;, &#x27;Po&#x27;, &#x27;Fa&#x27;, &#x27;TA&#x27;, &#x27;Gd&#x27;, &#x27;Ex&#x27;],\n",
       "                           [&#x27;missing&#x27;, &#x27;Fa&#x27;, &#x27;TA&#x27;, &#x27;Gd&#x27;, &#x27;Ex&#x27;],\n",
       "                           [&#x27;missing&#x27;, &#x27;...\n",
       "                           [&#x27;missing&#x27;, &#x27;Unf&#x27;, &#x27;RFn&#x27;, &#x27;Fin&#x27;],\n",
       "                           [&#x27;missing&#x27;, &#x27;Po&#x27;, &#x27;Fa&#x27;, &#x27;TA&#x27;, &#x27;Gd&#x27;, &#x27;Ex&#x27;],\n",
       "                           [&#x27;missing&#x27;, &#x27;Po&#x27;, &#x27;Fa&#x27;, &#x27;TA&#x27;, &#x27;Gd&#x27;, &#x27;Ex&#x27;],\n",
       "                           [&#x27;missing&#x27;, &#x27;Fa&#x27;, &#x27;TA&#x27;, &#x27;Gd&#x27;, &#x27;Ex&#x27;],\n",
       "                           [&#x27;missing&#x27;, &#x27;Low&#x27;, &#x27;Bnk&#x27;, &#x27;HLS&#x27;, &#x27;Lvl&#x27;],\n",
       "                           [&#x27;missing&#x27;, &#x27;Sev&#x27;, &#x27;Mod&#x27;, &#x27;Gtl&#x27;],\n",
       "                           [&#x27;missing&#x27;, &#x27;IR3&#x27;, &#x27;IR2&#x27;, &#x27;IR1&#x27;, &#x27;Reg&#x27;],\n",
       "                           [&#x27;missing&#x27;, &#x27;N&#x27;, &#x27;P&#x27;, &#x27;Y&#x27;],\n",
       "                           [&#x27;missing&#x27;, &#x27;Fa&#x27;, &#x27;Gd&#x27;, &#x27;Ex&#x27;]],\n",
       "               dtype=&lt;class &#x27;numpy.int64&#x27;&gt;, handle_unknown=&#x27;use_encoded_value&#x27;,\n",
       "               unknown_value=-1)</pre></div></div></div><div class=\"sk-item\"><div class=\"sk-estimator sk-toggleable\"><input class=\"sk-toggleable__control sk-hidden--visually\" id=\"sk-estimator-id-135\" type=\"checkbox\" ><label for=\"sk-estimator-id-135\" class=\"sk-toggleable__label sk-toggleable__label-arrow\">MinMaxScaler</label><div class=\"sk-toggleable__content\"><pre>MinMaxScaler()</pre></div></div></div></div></div></div></div></div><div class=\"sk-parallel-item\"><div class=\"sk-item\"><div class=\"sk-label-container\"><div class=\"sk-label sk-toggleable\"><input class=\"sk-toggleable__control sk-hidden--visually\" id=\"sk-estimator-id-136\" type=\"checkbox\" ><label for=\"sk-estimator-id-136\" class=\"sk-toggleable__label sk-toggleable__label-arrow\">pipeline-3</label><div class=\"sk-toggleable__content\"><pre>[&#x27;Alley&#x27;, &#x27;BldgType&#x27;, &#x27;CentralAir&#x27;, &#x27;Condition1&#x27;, &#x27;Condition2&#x27;, &#x27;Exterior1st&#x27;, &#x27;Exterior2nd&#x27;, &#x27;Foundation&#x27;, &#x27;GarageType&#x27;, &#x27;Heating&#x27;, &#x27;HouseStyle&#x27;, &#x27;LotConfig&#x27;, &#x27;MSZoning&#x27;, &#x27;MasVnrType&#x27;, &#x27;MiscFeature&#x27;, &#x27;Neighborhood&#x27;, &#x27;RoofMatl&#x27;, &#x27;RoofStyle&#x27;, &#x27;SaleCondition&#x27;, &#x27;SaleType&#x27;, &#x27;Street&#x27;, &#x27;Utilities&#x27;]</pre></div></div></div><div class=\"sk-serial\"><div class=\"sk-item\"><div class=\"sk-serial\"><div class=\"sk-item\"><div class=\"sk-estimator sk-toggleable\"><input class=\"sk-toggleable__control sk-hidden--visually\" id=\"sk-estimator-id-137\" type=\"checkbox\" ><label for=\"sk-estimator-id-137\" class=\"sk-toggleable__label sk-toggleable__label-arrow\">SimpleImputer</label><div class=\"sk-toggleable__content\"><pre>SimpleImputer(strategy=&#x27;most_frequent&#x27;)</pre></div></div></div><div class=\"sk-item\"><div class=\"sk-estimator sk-toggleable\"><input class=\"sk-toggleable__control sk-hidden--visually\" id=\"sk-estimator-id-138\" type=\"checkbox\" ><label for=\"sk-estimator-id-138\" class=\"sk-toggleable__label sk-toggleable__label-arrow\">OneHotEncoder</label><div class=\"sk-toggleable__content\"><pre>OneHotEncoder(handle_unknown=&#x27;ignore&#x27;)</pre></div></div></div></div></div></div></div></div></div></div><div class=\"sk-item\"><div class=\"sk-estimator sk-toggleable\"><input class=\"sk-toggleable__control sk-hidden--visually\" id=\"sk-estimator-id-139\" type=\"checkbox\" ><label for=\"sk-estimator-id-139\" class=\"sk-toggleable__label sk-toggleable__label-arrow\">SelectPercentile</label><div class=\"sk-toggleable__content\"><pre>SelectPercentile(percentile=25,\n",
       "                 score_func=&lt;function mutual_info_regression at 0x0000021EC4F7E020&gt;)</pre></div></div></div></div></div></div></div>"
      ],
      "text/plain": [
       "Pipeline(steps=[('columntransformer',\n",
       "                 ColumnTransformer(transformers=[('pipeline-1',\n",
       "                                                  Pipeline(steps=[('knnimputer',\n",
       "                                                                   KNNImputer()),\n",
       "                                                                  ('minmaxscaler',\n",
       "                                                                   MinMaxScaler())]),\n",
       "                                                  <sklearn.compose._column_transformer.make_column_selector object at 0x0000021EC5509790>),\n",
       "                                                 ('pipeline-2',\n",
       "                                                  Pipeline(steps=[('simpleimputer',\n",
       "                                                                   SimpleImputer(fill_value='missing',\n",
       "                                                                                 strategy='constant'))...\n",
       "                                                   'CentralAir', 'Condition1',\n",
       "                                                   'Condition2', 'Exterior1st',\n",
       "                                                   'Exterior2nd', 'Foundation',\n",
       "                                                   'GarageType', 'Heating',\n",
       "                                                   'HouseStyle', 'LotConfig',\n",
       "                                                   'MSZoning', 'MasVnrType',\n",
       "                                                   'MiscFeature',\n",
       "                                                   'Neighborhood', 'RoofMatl',\n",
       "                                                   'RoofStyle', 'SaleCondition',\n",
       "                                                   'SaleType', 'Street',\n",
       "                                                   'Utilities'])])),\n",
       "                ('selectpercentile',\n",
       "                 SelectPercentile(percentile=25,\n",
       "                                  score_func=<function mutual_info_regression at 0x0000021EC4F7E020>))])"
      ]
     },
     "execution_count": 164,
     "metadata": {},
     "output_type": "execute_result"
    }
   ],
   "source": [
    "preproc_transformer = make_column_transformer(\n",
    "    (preproc_numerical, make_column_selector(dtype_include=[\"int64\", \"float64\"])),\n",
    "    (preproc_ordinal, feat_ordinal),\n",
    "    (preproc_nominal, feat_nominal),\n",
    "    remainder=\"drop\"\n",
    ")\n",
    "\n",
    "preproc_selector = SelectPercentile(\n",
    "    mutual_info_regression,\n",
    "    percentile=25, # keep only 25% of all features\n",
    ")\n",
    "\n",
    "preproc = make_pipeline(\n",
    "    preproc_transformer,\n",
    "    preproc_selector\n",
    ")\n",
    "\n",
    "preproc\n"
   ]
  },
  {
   "cell_type": "code",
   "execution_count": 165,
   "metadata": {
    "tags": [
     "delete"
    ]
   },
   "outputs": [
    {
     "data": {
      "text/plain": [
       "(1460, 54)"
      ]
     },
     "execution_count": 165,
     "metadata": {},
     "output_type": "execute_result"
    }
   ],
   "source": [
    "preproc.fit_transform(X, y).shape\n"
   ]
  },
  {
   "cell_type": "markdown",
   "metadata": {},
   "source": [
    "#### Opção 2 - <font color=green>Seleção de Características Multivariada</font>\n",
    "\n",
    "_com base em sua relação combinada com o alvo `y`_\n",
    "\n",
    "🤔 Queremos remover características que não ajudam a prever nosso alvo mesmo quando combinadas com todas as outras.\n",
    "\n",
    "1️⃣ Para fazer isso, lembre-se de que podemos usar a métrica [`permutation_importance`](https://scikit-learn.org/stable/modules/permutation_importance.html) em combinação com um estimador! Ele treina um pipeline por característica para estimar qual característica faz nosso escore de desempenho _diminuir_ mais quando ela é embaralhada aleatoriamente. Essas seriam nossas características mais importantes, que não queremos remover.\n",
    "\n",
    "A melhor parte é que o `scikit-learn` permite que você integre essa metodologia diretamente no seu pipeline `preproc` graças ao transformador [`SequentialFeatureSelector`](https://scikit-learn.org/stable/modules/generated/sklearn.feature_selection.SequentialFeatureSelector.html); isso removerá recursivamente as características menos importantes de acordo com o `cross_val_score`.\n",
    "\n",
    "Quando você tem muitas características, no entanto, esse processo pode levar muito tempo para treinar.\n",
    "\n",
    "2️⃣ Alternativamente, uma maneira mais rápida seria fazer uso de modelos que já produzem alguma medida de `feature_importance` ao serem ajustados. Por exemplo, árvores com `feature_importance_` baseado em Gini, ou regressões Lasso com `coef_` L1. O `scikit-learn` já possui o transformador [`SelectFromModel`](https://scikit-learn.org/stable/modules/generated/sklearn.feature_selection.SelectFromModel.html) para fazer exatamente isso."
   ]
  },
  {
   "cell_type": "code",
   "execution_count": 166,
   "metadata": {
    "tags": [
     "challengify"
    ]
   },
   "outputs": [
    {
     "data": {
      "text/html": [
       "<style>#sk-container-id-16 {color: black;background-color: white;}#sk-container-id-16 pre{padding: 0;}#sk-container-id-16 div.sk-toggleable {background-color: white;}#sk-container-id-16 label.sk-toggleable__label {cursor: pointer;display: block;width: 100%;margin-bottom: 0;padding: 0.3em;box-sizing: border-box;text-align: center;}#sk-container-id-16 label.sk-toggleable__label-arrow:before {content: \"▸\";float: left;margin-right: 0.25em;color: #696969;}#sk-container-id-16 label.sk-toggleable__label-arrow:hover:before {color: black;}#sk-container-id-16 div.sk-estimator:hover label.sk-toggleable__label-arrow:before {color: black;}#sk-container-id-16 div.sk-toggleable__content {max-height: 0;max-width: 0;overflow: hidden;text-align: left;background-color: #f0f8ff;}#sk-container-id-16 div.sk-toggleable__content pre {margin: 0.2em;color: black;border-radius: 0.25em;background-color: #f0f8ff;}#sk-container-id-16 input.sk-toggleable__control:checked~div.sk-toggleable__content {max-height: 200px;max-width: 100%;overflow: auto;}#sk-container-id-16 input.sk-toggleable__control:checked~label.sk-toggleable__label-arrow:before {content: \"▾\";}#sk-container-id-16 div.sk-estimator input.sk-toggleable__control:checked~label.sk-toggleable__label {background-color: #d4ebff;}#sk-container-id-16 div.sk-label input.sk-toggleable__control:checked~label.sk-toggleable__label {background-color: #d4ebff;}#sk-container-id-16 input.sk-hidden--visually {border: 0;clip: rect(1px 1px 1px 1px);clip: rect(1px, 1px, 1px, 1px);height: 1px;margin: -1px;overflow: hidden;padding: 0;position: absolute;width: 1px;}#sk-container-id-16 div.sk-estimator {font-family: monospace;background-color: #f0f8ff;border: 1px dotted black;border-radius: 0.25em;box-sizing: border-box;margin-bottom: 0.5em;}#sk-container-id-16 div.sk-estimator:hover {background-color: #d4ebff;}#sk-container-id-16 div.sk-parallel-item::after {content: \"\";width: 100%;border-bottom: 1px solid gray;flex-grow: 1;}#sk-container-id-16 div.sk-label:hover label.sk-toggleable__label {background-color: #d4ebff;}#sk-container-id-16 div.sk-serial::before {content: \"\";position: absolute;border-left: 1px solid gray;box-sizing: border-box;top: 0;bottom: 0;left: 50%;z-index: 0;}#sk-container-id-16 div.sk-serial {display: flex;flex-direction: column;align-items: center;background-color: white;padding-right: 0.2em;padding-left: 0.2em;position: relative;}#sk-container-id-16 div.sk-item {position: relative;z-index: 1;}#sk-container-id-16 div.sk-parallel {display: flex;align-items: stretch;justify-content: center;background-color: white;position: relative;}#sk-container-id-16 div.sk-item::before, #sk-container-id-16 div.sk-parallel-item::before {content: \"\";position: absolute;border-left: 1px solid gray;box-sizing: border-box;top: 0;bottom: 0;left: 50%;z-index: -1;}#sk-container-id-16 div.sk-parallel-item {display: flex;flex-direction: column;z-index: 1;position: relative;background-color: white;}#sk-container-id-16 div.sk-parallel-item:first-child::after {align-self: flex-end;width: 50%;}#sk-container-id-16 div.sk-parallel-item:last-child::after {align-self: flex-start;width: 50%;}#sk-container-id-16 div.sk-parallel-item:only-child::after {width: 0;}#sk-container-id-16 div.sk-dashed-wrapped {border: 1px dashed gray;margin: 0 0.4em 0.5em 0.4em;box-sizing: border-box;padding-bottom: 0.4em;background-color: white;}#sk-container-id-16 div.sk-label label {font-family: monospace;font-weight: bold;display: inline-block;line-height: 1.2em;}#sk-container-id-16 div.sk-label-container {text-align: center;}#sk-container-id-16 div.sk-container {/* jupyter's `normalize.less` sets `[hidden] { display: none; }` but bootstrap.min.css set `[hidden] { display: none !important; }` so we also need the `!important` here to be able to override the default hidden behavior on the sphinx rendered scikit-learn.org. See: https://github.com/scikit-learn/scikit-learn/issues/21755 */display: inline-block !important;position: relative;}#sk-container-id-16 div.sk-text-repr-fallback {display: none;}</style><div id=\"sk-container-id-16\" class=\"sk-top-container\"><div class=\"sk-text-repr-fallback\"><pre>Pipeline(steps=[(&#x27;columntransformer&#x27;,\n",
       "                 ColumnTransformer(transformers=[(&#x27;pipeline-1&#x27;,\n",
       "                                                  Pipeline(steps=[(&#x27;knnimputer&#x27;,\n",
       "                                                                   KNNImputer()),\n",
       "                                                                  (&#x27;minmaxscaler&#x27;,\n",
       "                                                                   MinMaxScaler())]),\n",
       "                                                  &lt;sklearn.compose._column_transformer.make_column_selector object at 0x0000021EC54ECC10&gt;),\n",
       "                                                 (&#x27;pipeline-2&#x27;,\n",
       "                                                  Pipeline(steps=[(&#x27;simpleimputer&#x27;,\n",
       "                                                                   SimpleImputer(fill_value=&#x27;missing&#x27;,\n",
       "                                                                                 strategy=&#x27;constant&#x27;))...\n",
       "                                                  [&#x27;Alley&#x27;, &#x27;BldgType&#x27;,\n",
       "                                                   &#x27;CentralAir&#x27;, &#x27;Condition1&#x27;,\n",
       "                                                   &#x27;Condition2&#x27;, &#x27;Exterior1st&#x27;,\n",
       "                                                   &#x27;Exterior2nd&#x27;, &#x27;Foundation&#x27;,\n",
       "                                                   &#x27;GarageType&#x27;, &#x27;Heating&#x27;,\n",
       "                                                   &#x27;HouseStyle&#x27;, &#x27;LotConfig&#x27;,\n",
       "                                                   &#x27;MSZoning&#x27;, &#x27;MasVnrType&#x27;,\n",
       "                                                   &#x27;MiscFeature&#x27;,\n",
       "                                                   &#x27;Neighborhood&#x27;, &#x27;RoofMatl&#x27;,\n",
       "                                                   &#x27;RoofStyle&#x27;, &#x27;SaleCondition&#x27;,\n",
       "                                                   &#x27;SaleType&#x27;, &#x27;Street&#x27;,\n",
       "                                                   &#x27;Utilities&#x27;])])),\n",
       "                (&#x27;selectfrommodel&#x27;,\n",
       "                 SelectFromModel(estimator=RandomForestRegressor(),\n",
       "                                 threshold=&#x27;median&#x27;))])</pre><b>In a Jupyter environment, please rerun this cell to show the HTML representation or trust the notebook. <br />On GitHub, the HTML representation is unable to render, please try loading this page with nbviewer.org.</b></div><div class=\"sk-container\" hidden><div class=\"sk-item sk-dashed-wrapped\"><div class=\"sk-label-container\"><div class=\"sk-label sk-toggleable\"><input class=\"sk-toggleable__control sk-hidden--visually\" id=\"sk-estimator-id-140\" type=\"checkbox\" ><label for=\"sk-estimator-id-140\" class=\"sk-toggleable__label sk-toggleable__label-arrow\">Pipeline</label><div class=\"sk-toggleable__content\"><pre>Pipeline(steps=[(&#x27;columntransformer&#x27;,\n",
       "                 ColumnTransformer(transformers=[(&#x27;pipeline-1&#x27;,\n",
       "                                                  Pipeline(steps=[(&#x27;knnimputer&#x27;,\n",
       "                                                                   KNNImputer()),\n",
       "                                                                  (&#x27;minmaxscaler&#x27;,\n",
       "                                                                   MinMaxScaler())]),\n",
       "                                                  &lt;sklearn.compose._column_transformer.make_column_selector object at 0x0000021EC54ECC10&gt;),\n",
       "                                                 (&#x27;pipeline-2&#x27;,\n",
       "                                                  Pipeline(steps=[(&#x27;simpleimputer&#x27;,\n",
       "                                                                   SimpleImputer(fill_value=&#x27;missing&#x27;,\n",
       "                                                                                 strategy=&#x27;constant&#x27;))...\n",
       "                                                  [&#x27;Alley&#x27;, &#x27;BldgType&#x27;,\n",
       "                                                   &#x27;CentralAir&#x27;, &#x27;Condition1&#x27;,\n",
       "                                                   &#x27;Condition2&#x27;, &#x27;Exterior1st&#x27;,\n",
       "                                                   &#x27;Exterior2nd&#x27;, &#x27;Foundation&#x27;,\n",
       "                                                   &#x27;GarageType&#x27;, &#x27;Heating&#x27;,\n",
       "                                                   &#x27;HouseStyle&#x27;, &#x27;LotConfig&#x27;,\n",
       "                                                   &#x27;MSZoning&#x27;, &#x27;MasVnrType&#x27;,\n",
       "                                                   &#x27;MiscFeature&#x27;,\n",
       "                                                   &#x27;Neighborhood&#x27;, &#x27;RoofMatl&#x27;,\n",
       "                                                   &#x27;RoofStyle&#x27;, &#x27;SaleCondition&#x27;,\n",
       "                                                   &#x27;SaleType&#x27;, &#x27;Street&#x27;,\n",
       "                                                   &#x27;Utilities&#x27;])])),\n",
       "                (&#x27;selectfrommodel&#x27;,\n",
       "                 SelectFromModel(estimator=RandomForestRegressor(),\n",
       "                                 threshold=&#x27;median&#x27;))])</pre></div></div></div><div class=\"sk-serial\"><div class=\"sk-item sk-dashed-wrapped\"><div class=\"sk-label-container\"><div class=\"sk-label sk-toggleable\"><input class=\"sk-toggleable__control sk-hidden--visually\" id=\"sk-estimator-id-141\" type=\"checkbox\" ><label for=\"sk-estimator-id-141\" class=\"sk-toggleable__label sk-toggleable__label-arrow\">columntransformer: ColumnTransformer</label><div class=\"sk-toggleable__content\"><pre>ColumnTransformer(transformers=[(&#x27;pipeline-1&#x27;,\n",
       "                                 Pipeline(steps=[(&#x27;knnimputer&#x27;, KNNImputer()),\n",
       "                                                 (&#x27;minmaxscaler&#x27;,\n",
       "                                                  MinMaxScaler())]),\n",
       "                                 &lt;sklearn.compose._column_transformer.make_column_selector object at 0x0000021EC54ECC10&gt;),\n",
       "                                (&#x27;pipeline-2&#x27;,\n",
       "                                 Pipeline(steps=[(&#x27;simpleimputer&#x27;,\n",
       "                                                  SimpleImputer(fill_value=&#x27;missing&#x27;,\n",
       "                                                                strategy=&#x27;constant&#x27;)),\n",
       "                                                 (&#x27;ordinalencoder&#x27;,\n",
       "                                                  OrdinalEncoder(cat...\n",
       "                                                  SimpleImputer(strategy=&#x27;most_frequent&#x27;)),\n",
       "                                                 (&#x27;onehotencoder&#x27;,\n",
       "                                                  OneHotEncoder(handle_unknown=&#x27;ignore&#x27;))]),\n",
       "                                 [&#x27;Alley&#x27;, &#x27;BldgType&#x27;, &#x27;CentralAir&#x27;,\n",
       "                                  &#x27;Condition1&#x27;, &#x27;Condition2&#x27;, &#x27;Exterior1st&#x27;,\n",
       "                                  &#x27;Exterior2nd&#x27;, &#x27;Foundation&#x27;, &#x27;GarageType&#x27;,\n",
       "                                  &#x27;Heating&#x27;, &#x27;HouseStyle&#x27;, &#x27;LotConfig&#x27;,\n",
       "                                  &#x27;MSZoning&#x27;, &#x27;MasVnrType&#x27;, &#x27;MiscFeature&#x27;,\n",
       "                                  &#x27;Neighborhood&#x27;, &#x27;RoofMatl&#x27;, &#x27;RoofStyle&#x27;,\n",
       "                                  &#x27;SaleCondition&#x27;, &#x27;SaleType&#x27;, &#x27;Street&#x27;,\n",
       "                                  &#x27;Utilities&#x27;])])</pre></div></div></div><div class=\"sk-parallel\"><div class=\"sk-parallel-item\"><div class=\"sk-item\"><div class=\"sk-label-container\"><div class=\"sk-label sk-toggleable\"><input class=\"sk-toggleable__control sk-hidden--visually\" id=\"sk-estimator-id-142\" type=\"checkbox\" ><label for=\"sk-estimator-id-142\" class=\"sk-toggleable__label sk-toggleable__label-arrow\">pipeline-1</label><div class=\"sk-toggleable__content\"><pre>&lt;sklearn.compose._column_transformer.make_column_selector object at 0x0000021EC54ECC10&gt;</pre></div></div></div><div class=\"sk-serial\"><div class=\"sk-item\"><div class=\"sk-serial\"><div class=\"sk-item\"><div class=\"sk-estimator sk-toggleable\"><input class=\"sk-toggleable__control sk-hidden--visually\" id=\"sk-estimator-id-143\" type=\"checkbox\" ><label for=\"sk-estimator-id-143\" class=\"sk-toggleable__label sk-toggleable__label-arrow\">KNNImputer</label><div class=\"sk-toggleable__content\"><pre>KNNImputer()</pre></div></div></div><div class=\"sk-item\"><div class=\"sk-estimator sk-toggleable\"><input class=\"sk-toggleable__control sk-hidden--visually\" id=\"sk-estimator-id-144\" type=\"checkbox\" ><label for=\"sk-estimator-id-144\" class=\"sk-toggleable__label sk-toggleable__label-arrow\">MinMaxScaler</label><div class=\"sk-toggleable__content\"><pre>MinMaxScaler()</pre></div></div></div></div></div></div></div></div><div class=\"sk-parallel-item\"><div class=\"sk-item\"><div class=\"sk-label-container\"><div class=\"sk-label sk-toggleable\"><input class=\"sk-toggleable__control sk-hidden--visually\" id=\"sk-estimator-id-145\" type=\"checkbox\" ><label for=\"sk-estimator-id-145\" class=\"sk-toggleable__label sk-toggleable__label-arrow\">pipeline-2</label><div class=\"sk-toggleable__content\"><pre>[&#x27;BsmtCond&#x27;, &#x27;BsmtExposure&#x27;, &#x27;BsmtFinType1&#x27;, &#x27;BsmtFinType2&#x27;, &#x27;BsmtQual&#x27;, &#x27;Electrical&#x27;, &#x27;ExterCond&#x27;, &#x27;ExterQual&#x27;, &#x27;Fence&#x27;, &#x27;FireplaceQu&#x27;, &#x27;Functional&#x27;, &#x27;GarageCond&#x27;, &#x27;GarageFinish&#x27;, &#x27;GarageQual&#x27;, &#x27;HeatingQC&#x27;, &#x27;KitchenQual&#x27;, &#x27;LandContour&#x27;, &#x27;LandSlope&#x27;, &#x27;LotShape&#x27;, &#x27;PavedDrive&#x27;, &#x27;PoolQC&#x27;]</pre></div></div></div><div class=\"sk-serial\"><div class=\"sk-item\"><div class=\"sk-serial\"><div class=\"sk-item\"><div class=\"sk-estimator sk-toggleable\"><input class=\"sk-toggleable__control sk-hidden--visually\" id=\"sk-estimator-id-146\" type=\"checkbox\" ><label for=\"sk-estimator-id-146\" class=\"sk-toggleable__label sk-toggleable__label-arrow\">SimpleImputer</label><div class=\"sk-toggleable__content\"><pre>SimpleImputer(fill_value=&#x27;missing&#x27;, strategy=&#x27;constant&#x27;)</pre></div></div></div><div class=\"sk-item\"><div class=\"sk-estimator sk-toggleable\"><input class=\"sk-toggleable__control sk-hidden--visually\" id=\"sk-estimator-id-147\" type=\"checkbox\" ><label for=\"sk-estimator-id-147\" class=\"sk-toggleable__label sk-toggleable__label-arrow\">OrdinalEncoder</label><div class=\"sk-toggleable__content\"><pre>OrdinalEncoder(categories=[[&#x27;missing&#x27;, &#x27;Po&#x27;, &#x27;Fa&#x27;, &#x27;TA&#x27;, &#x27;Gd&#x27;],\n",
       "                           [&#x27;missing&#x27;, &#x27;No&#x27;, &#x27;Mn&#x27;, &#x27;Av&#x27;, &#x27;Gd&#x27;],\n",
       "                           [&#x27;missing&#x27;, &#x27;Unf&#x27;, &#x27;LwQ&#x27;, &#x27;Rec&#x27;, &#x27;BLQ&#x27;, &#x27;ALQ&#x27;,\n",
       "                            &#x27;GLQ&#x27;],\n",
       "                           [&#x27;missing&#x27;, &#x27;Unf&#x27;, &#x27;LwQ&#x27;, &#x27;Rec&#x27;, &#x27;BLQ&#x27;, &#x27;ALQ&#x27;,\n",
       "                            &#x27;GLQ&#x27;],\n",
       "                           [&#x27;missing&#x27;, &#x27;Fa&#x27;, &#x27;TA&#x27;, &#x27;Gd&#x27;, &#x27;Ex&#x27;],\n",
       "                           [&#x27;missing&#x27;, &#x27;Mix&#x27;, &#x27;FuseP&#x27;, &#x27;FuseF&#x27;, &#x27;FuseA&#x27;,\n",
       "                            &#x27;SBrkr&#x27;],\n",
       "                           [&#x27;missing&#x27;, &#x27;Po&#x27;, &#x27;Fa&#x27;, &#x27;TA&#x27;, &#x27;Gd&#x27;, &#x27;Ex&#x27;],\n",
       "                           [&#x27;missing&#x27;, &#x27;Fa&#x27;, &#x27;TA&#x27;, &#x27;Gd&#x27;, &#x27;Ex&#x27;],\n",
       "                           [&#x27;missing&#x27;, &#x27;...\n",
       "                           [&#x27;missing&#x27;, &#x27;Unf&#x27;, &#x27;RFn&#x27;, &#x27;Fin&#x27;],\n",
       "                           [&#x27;missing&#x27;, &#x27;Po&#x27;, &#x27;Fa&#x27;, &#x27;TA&#x27;, &#x27;Gd&#x27;, &#x27;Ex&#x27;],\n",
       "                           [&#x27;missing&#x27;, &#x27;Po&#x27;, &#x27;Fa&#x27;, &#x27;TA&#x27;, &#x27;Gd&#x27;, &#x27;Ex&#x27;],\n",
       "                           [&#x27;missing&#x27;, &#x27;Fa&#x27;, &#x27;TA&#x27;, &#x27;Gd&#x27;, &#x27;Ex&#x27;],\n",
       "                           [&#x27;missing&#x27;, &#x27;Low&#x27;, &#x27;Bnk&#x27;, &#x27;HLS&#x27;, &#x27;Lvl&#x27;],\n",
       "                           [&#x27;missing&#x27;, &#x27;Sev&#x27;, &#x27;Mod&#x27;, &#x27;Gtl&#x27;],\n",
       "                           [&#x27;missing&#x27;, &#x27;IR3&#x27;, &#x27;IR2&#x27;, &#x27;IR1&#x27;, &#x27;Reg&#x27;],\n",
       "                           [&#x27;missing&#x27;, &#x27;N&#x27;, &#x27;P&#x27;, &#x27;Y&#x27;],\n",
       "                           [&#x27;missing&#x27;, &#x27;Fa&#x27;, &#x27;Gd&#x27;, &#x27;Ex&#x27;]],\n",
       "               dtype=&lt;class &#x27;numpy.int64&#x27;&gt;, handle_unknown=&#x27;use_encoded_value&#x27;,\n",
       "               unknown_value=-1)</pre></div></div></div><div class=\"sk-item\"><div class=\"sk-estimator sk-toggleable\"><input class=\"sk-toggleable__control sk-hidden--visually\" id=\"sk-estimator-id-148\" type=\"checkbox\" ><label for=\"sk-estimator-id-148\" class=\"sk-toggleable__label sk-toggleable__label-arrow\">MinMaxScaler</label><div class=\"sk-toggleable__content\"><pre>MinMaxScaler()</pre></div></div></div></div></div></div></div></div><div class=\"sk-parallel-item\"><div class=\"sk-item\"><div class=\"sk-label-container\"><div class=\"sk-label sk-toggleable\"><input class=\"sk-toggleable__control sk-hidden--visually\" id=\"sk-estimator-id-149\" type=\"checkbox\" ><label for=\"sk-estimator-id-149\" class=\"sk-toggleable__label sk-toggleable__label-arrow\">pipeline-3</label><div class=\"sk-toggleable__content\"><pre>[&#x27;Alley&#x27;, &#x27;BldgType&#x27;, &#x27;CentralAir&#x27;, &#x27;Condition1&#x27;, &#x27;Condition2&#x27;, &#x27;Exterior1st&#x27;, &#x27;Exterior2nd&#x27;, &#x27;Foundation&#x27;, &#x27;GarageType&#x27;, &#x27;Heating&#x27;, &#x27;HouseStyle&#x27;, &#x27;LotConfig&#x27;, &#x27;MSZoning&#x27;, &#x27;MasVnrType&#x27;, &#x27;MiscFeature&#x27;, &#x27;Neighborhood&#x27;, &#x27;RoofMatl&#x27;, &#x27;RoofStyle&#x27;, &#x27;SaleCondition&#x27;, &#x27;SaleType&#x27;, &#x27;Street&#x27;, &#x27;Utilities&#x27;]</pre></div></div></div><div class=\"sk-serial\"><div class=\"sk-item\"><div class=\"sk-serial\"><div class=\"sk-item\"><div class=\"sk-estimator sk-toggleable\"><input class=\"sk-toggleable__control sk-hidden--visually\" id=\"sk-estimator-id-150\" type=\"checkbox\" ><label for=\"sk-estimator-id-150\" class=\"sk-toggleable__label sk-toggleable__label-arrow\">SimpleImputer</label><div class=\"sk-toggleable__content\"><pre>SimpleImputer(strategy=&#x27;most_frequent&#x27;)</pre></div></div></div><div class=\"sk-item\"><div class=\"sk-estimator sk-toggleable\"><input class=\"sk-toggleable__control sk-hidden--visually\" id=\"sk-estimator-id-151\" type=\"checkbox\" ><label for=\"sk-estimator-id-151\" class=\"sk-toggleable__label sk-toggleable__label-arrow\">OneHotEncoder</label><div class=\"sk-toggleable__content\"><pre>OneHotEncoder(handle_unknown=&#x27;ignore&#x27;)</pre></div></div></div></div></div></div></div></div></div></div><div class=\"sk-item sk-dashed-wrapped\"><div class=\"sk-label-container\"><div class=\"sk-label sk-toggleable\"><input class=\"sk-toggleable__control sk-hidden--visually\" id=\"sk-estimator-id-152\" type=\"checkbox\" ><label for=\"sk-estimator-id-152\" class=\"sk-toggleable__label sk-toggleable__label-arrow\">selectfrommodel: SelectFromModel</label><div class=\"sk-toggleable__content\"><pre>SelectFromModel(estimator=RandomForestRegressor(), threshold=&#x27;median&#x27;)</pre></div></div></div><div class=\"sk-parallel\"><div class=\"sk-parallel-item\"><div class=\"sk-item\"><div class=\"sk-label-container\"><div class=\"sk-label sk-toggleable\"><input class=\"sk-toggleable__control sk-hidden--visually\" id=\"sk-estimator-id-153\" type=\"checkbox\" ><label for=\"sk-estimator-id-153\" class=\"sk-toggleable__label sk-toggleable__label-arrow\">estimator: RandomForestRegressor</label><div class=\"sk-toggleable__content\"><pre>RandomForestRegressor()</pre></div></div></div><div class=\"sk-serial\"><div class=\"sk-item\"><div class=\"sk-estimator sk-toggleable\"><input class=\"sk-toggleable__control sk-hidden--visually\" id=\"sk-estimator-id-154\" type=\"checkbox\" ><label for=\"sk-estimator-id-154\" class=\"sk-toggleable__label sk-toggleable__label-arrow\">RandomForestRegressor</label><div class=\"sk-toggleable__content\"><pre>RandomForestRegressor()</pre></div></div></div></div></div></div></div></div></div></div></div></div>"
      ],
      "text/plain": [
       "Pipeline(steps=[('columntransformer',\n",
       "                 ColumnTransformer(transformers=[('pipeline-1',\n",
       "                                                  Pipeline(steps=[('knnimputer',\n",
       "                                                                   KNNImputer()),\n",
       "                                                                  ('minmaxscaler',\n",
       "                                                                   MinMaxScaler())]),\n",
       "                                                  <sklearn.compose._column_transformer.make_column_selector object at 0x0000021EC54ECC10>),\n",
       "                                                 ('pipeline-2',\n",
       "                                                  Pipeline(steps=[('simpleimputer',\n",
       "                                                                   SimpleImputer(fill_value='missing',\n",
       "                                                                                 strategy='constant'))...\n",
       "                                                  ['Alley', 'BldgType',\n",
       "                                                   'CentralAir', 'Condition1',\n",
       "                                                   'Condition2', 'Exterior1st',\n",
       "                                                   'Exterior2nd', 'Foundation',\n",
       "                                                   'GarageType', 'Heating',\n",
       "                                                   'HouseStyle', 'LotConfig',\n",
       "                                                   'MSZoning', 'MasVnrType',\n",
       "                                                   'MiscFeature',\n",
       "                                                   'Neighborhood', 'RoofMatl',\n",
       "                                                   'RoofStyle', 'SaleCondition',\n",
       "                                                   'SaleType', 'Street',\n",
       "                                                   'Utilities'])])),\n",
       "                ('selectfrommodel',\n",
       "                 SelectFromModel(estimator=RandomForestRegressor(),\n",
       "                                 threshold='median'))])"
      ]
     },
     "execution_count": 166,
     "metadata": {},
     "output_type": "execute_result"
    }
   ],
   "source": [
    "preproc_transformer_multi = make_column_transformer(\n",
    "    (preproc_numerical, make_column_selector(dtype_include=[\"int64\", \"float64\"])),\n",
    "    (preproc_ordinal, feat_ordinal),\n",
    "    (preproc_nominal, feat_nominal),\n",
    "    remainder=\"drop\"\n",
    ")\n",
    "\n",
    "preproc_selector_multi = SelectFromModel(\n",
    "    RandomForestRegressor(),\n",
    "    threshold = \"median\", # drop all multivariate features lower than the median correlation\n",
    ")\n",
    "\n",
    "preproc_multi = make_pipeline(\n",
    "    preproc_transformer_multi,\n",
    "    preproc_selector_multi\n",
    ")\n",
    "\n",
    "preproc_multi\n"
   ]
  },
  {
   "cell_type": "markdown",
   "metadata": {},
   "source": [
    "#### Opção 3 - Seleção <font color=green>Não Supervisionada</font>?\n",
    "\n",
    "_filtre baseado apenas nas propriedades de `X`_"
   ]
  },
  {
   "cell_type": "markdown",
   "metadata": {},
   "source": [
    "❓ Uma vitória rápida é remover características com a menor variância. Pense sobre isso: uma característica que só tem um valor é inútil (e tem uma variância de 0).\n",
    "\n",
    "Sinta-se à vontade para adicionar um [`VarianceThreshold`](https://scikit-learn.org/stable/modules/generated/sklearn.feature_selection.VarianceThreshold.html) ao final do seu pipeline!"
   ]
  },
  {
   "cell_type": "code",
   "execution_count": 47,
   "metadata": {
    "tags": [
     "challengify"
    ]
   },
   "outputs": [],
   "source": [
    "def number_feature_remaining(cutoff=0):\n",
    "    preproc_transformer = make_column_transformer(\n",
    "        (preproc_numerical, feat_numerical),\n",
    "        (preproc_ordinal, feat_ordinal),\n",
    "        (preproc_nominal, feat_nominal),\n",
    "        remainder=\"drop\"\n",
    "    )\n",
    "\n",
    "    preproc_selector = VarianceThreshold(cutoff)\n",
    "\n",
    "    preproc = make_pipeline(\n",
    "        preproc_transformer,\n",
    "        preproc_selector\n",
    "    )\n",
    "\n",
    "    return preproc.fit_transform(X).shape[1]\n"
   ]
  },
  {
   "cell_type": "code",
   "execution_count": 48,
   "metadata": {
    "tags": [
     "delete"
    ]
   },
   "outputs": [
    {
     "data": {
      "image/png": "[encoded data removed]",
      "text/plain": [
       "<Figure size 640x480 with 1 Axes>"
      ]
     },
     "metadata": {},
     "output_type": "display_data"
    }
   ],
   "source": [
    "cutoff_values = np.arange(0, 0.2, 0.01)\n",
    "\n",
    "plt.plot(cutoff_values, [number_feature_remaining(t) for t in cutoff_values], marker='x')\n",
    "\n",
    "plt.xlabel(\"chosen feature variance cutoff values\")\n",
    "plt.title(\"Number of Feature Remaining\");\n"
   ]
  },
  {
   "cell_type": "markdown",
   "metadata": {},
   "source": [
    "☝️ Poderíamos decidir colocar um limite de 0.025 nas características categóricas para reduzir o número delas pela metade ou mais."
   ]
  },
  {
   "cell_type": "markdown",
   "metadata": {},
   "source": [
    "❓ Além disso, podemos verificar a correlação entre nossas **características numéricas** apenas\n",
    "\n",
    "* Use a [correlação de Pearson](https://en.wikipedia.org/wiki/Pearson_correlation_coefficient) combinada com um mapa de calor para verificar visualmente se alguma característica **numérica** se correlaciona quase que inteiramente com outras\n",
    "* Use o `VIF` de `statsmodels` para verificar quais características têm a maior multicolinearidade"
   ]
  },
  {
   "cell_type": "code",
   "execution_count": 49,
   "metadata": {
    "tags": [
     "challengify"
    ]
   },
   "outputs": [
    {
     "data": {
      "image/png": "[encoded data removed]",
      "text/plain": [
       "<Figure size 1000x800 with 2 Axes>"
      ]
     },
     "metadata": {},
     "output_type": "display_data"
    }
   ],
   "source": [
    "corr_num = X[feat_numerical].corr()\n",
    "\n",
    "plt.figure(figsize=(10, 8))\n",
    "sns.heatmap(corr_num, cmap='coolwarm',vmin=-1, vmax=1);\n"
   ]
  },
  {
   "cell_type": "code",
   "execution_count": 52,
   "metadata": {
    "tags": [
     "delete"
    ]
   },
   "outputs": [
    {
     "data": {
      "text/plain": [
       "[]"
      ]
     },
     "execution_count": 52,
     "metadata": {},
     "output_type": "execute_result"
    }
   ],
   "source": [
    "# Verifique quais colunas remover com base na alta correlação\n",
    "num_corr_threshold = 0.95\n",
    "\n",
    "corr_num = X[feat_numerical].corr()\n",
    "corr_num_upper_triangle = corr_num.where(np.triu(np.ones(corr_num.shape), k=1).astype(bool)).abs()\n",
    "\n",
    "num_col_to_drop = [column for column in corr_num_upper_triangle.columns if any(corr_num_upper_triangle[column] > num_corr_threshold)]\n",
    "num_col_to_drop\n"
   ]
  },
  {
   "cell_type": "markdown",
   "metadata": {},
   "source": [
    "❓ Para **características ordinais**, podemos usar a [correlação de postos de Spearman](https://en.wikipedia.org/wiki/Spearman%27s_rank_correlation_coefficient) para verificar se algumas características **codificadas ordinalmente** são quase inteiramente \"ordenadas\" de maneira semelhante às outras. Sinta-se à vontade para plotar um mapa de calor novamente."
   ]
  },
  {
   "cell_type": "code",
   "execution_count": 53,
   "metadata": {
    "tags": [
     "challengify"
    ]
   },
   "outputs": [
    {
     "data": {
      "image/png": "[encoded data removed]",
      "text/plain": [
       "<Figure size 640x480 with 2 Axes>"
      ]
     },
     "metadata": {},
     "output_type": "display_data"
    }
   ],
   "source": [
    "X_ordinally_encoded = pd.DataFrame(preproc_ordinal.fit_transform(X[feat_ordinal]))\n",
    "\n",
    "sns.heatmap(X_ordinally_encoded.corr(method='spearman'), cmap='coolwarm', vmin=-1, vmax=1);\n"
   ]
  },
  {
   "cell_type": "markdown",
   "metadata": {},
   "source": [
    "❓ Agora, sinta-se à vontade para criar um \"filtro\" em seu pipeline que remove qualquer característica além de um determinado limite de correlação (Spearman + Pearson); você precisará de uma classe de transformador personalizada."
   ]
  },
  {
   "cell_type": "code",
   "execution_count": 55,
   "metadata": {
    "tags": [
     "challengify"
    ]
   },
   "outputs": [
    {
     "data": {
      "text/html": [
       "<div>\n",
       "<style scoped>\n",
       "    .dataframe tbody tr th:only-of-type {\n",
       "        vertical-align: middle;\n",
       "    }\n",
       "\n",
       "    .dataframe tbody tr th {\n",
       "        vertical-align: top;\n",
       "    }\n",
       "\n",
       "    .dataframe thead th {\n",
       "        text-align: right;\n",
       "    }\n",
       "</style>\n",
       "<table border=\"1\" class=\"dataframe\">\n",
       "  <thead>\n",
       "    <tr style=\"text-align: right;\">\n",
       "      <th></th>\n",
       "      <th>1stFlrSF</th>\n",
       "      <th>3SsnPorch</th>\n",
       "      <th>BsmtFinSF2</th>\n",
       "      <th>BsmtHalfBath</th>\n",
       "      <th>EnclosedPorch</th>\n",
       "      <th>KitchenAbvGr</th>\n",
       "      <th>LowQualFinSF</th>\n",
       "      <th>MiscVal</th>\n",
       "      <th>MoSold</th>\n",
       "      <th>ScreenPorch</th>\n",
       "      <th>YrSold</th>\n",
       "    </tr>\n",
       "    <tr>\n",
       "      <th>Id</th>\n",
       "      <th></th>\n",
       "      <th></th>\n",
       "      <th></th>\n",
       "      <th></th>\n",
       "      <th></th>\n",
       "      <th></th>\n",
       "      <th></th>\n",
       "      <th></th>\n",
       "      <th></th>\n",
       "      <th></th>\n",
       "      <th></th>\n",
       "    </tr>\n",
       "  </thead>\n",
       "  <tbody>\n",
       "    <tr>\n",
       "      <th>1</th>\n",
       "      <td>856</td>\n",
       "      <td>0</td>\n",
       "      <td>0</td>\n",
       "      <td>0</td>\n",
       "      <td>0</td>\n",
       "      <td>1</td>\n",
       "      <td>0</td>\n",
       "      <td>0</td>\n",
       "      <td>2</td>\n",
       "      <td>0</td>\n",
       "      <td>2008</td>\n",
       "    </tr>\n",
       "    <tr>\n",
       "      <th>2</th>\n",
       "      <td>1262</td>\n",
       "      <td>0</td>\n",
       "      <td>0</td>\n",
       "      <td>1</td>\n",
       "      <td>0</td>\n",
       "      <td>1</td>\n",
       "      <td>0</td>\n",
       "      <td>0</td>\n",
       "      <td>5</td>\n",
       "      <td>0</td>\n",
       "      <td>2007</td>\n",
       "    </tr>\n",
       "  </tbody>\n",
       "</table>\n",
       "</div>"
      ],
      "text/plain": [
       "    1stFlrSF  3SsnPorch  BsmtFinSF2  BsmtHalfBath  EnclosedPorch  \\\n",
       "Id                                                                 \n",
       "1        856          0           0             0              0   \n",
       "2       1262          0           0             1              0   \n",
       "\n",
       "    KitchenAbvGr  LowQualFinSF  MiscVal  MoSold  ScreenPorch  YrSold  \n",
       "Id                                                                    \n",
       "1              1             0        0       2            0    2008  \n",
       "2              1             0        0       5            0    2007  "
      ]
     },
     "execution_count": 55,
     "metadata": {},
     "output_type": "execute_result"
    }
   ],
   "source": [
    "class CustomFeatureSelector(BaseEstimator, TransformerMixin):\n",
    "    def __init__(self, num_corr_threshold=0.95):\n",
    "        self.num_corr_threshold = num_corr_threshold\n",
    "\n",
    "    def fit(self, X, y=None):\n",
    "        feat_numerical = sorted(X.select_dtypes(include=[\"int64\", \"float64\"]).columns)\n",
    "\n",
    "        corr_num = X[feat_numerical].corr()\n",
    "        upper = corr_num.where(np.triu(np.ones(corr_num.shape), k=1).astype(bool)).abs()\n",
    "\n",
    "        self.num_col_to_drop = [column for column in upper.columns if any(upper[column] > self.num_corr_threshold)]\n",
    "        self.num_col = X[feat_numerical].columns\n",
    "\n",
    "        return self\n",
    "\n",
    "    def transform(self, X, y=None):\n",
    "        df = pd.DataFrame(X, columns=self.num_col)\n",
    "\n",
    "        return df.drop(columns=self.num_col_to_drop)\n",
    "\n",
    "# Test it here\n",
    "CustomFeatureSelector(num_corr_threshold=0.2).fit_transform(X[feat_numerical]).head(2)\n"
   ]
  },
  {
   "cell_type": "markdown",
   "metadata": {
    "tags": [
     "delete"
    ]
   },
   "source": [
    "### 🥷 Solução Apenas: Outras Transformações?"
   ]
  },
  {
   "cell_type": "markdown",
   "metadata": {},
   "source": [
    "### c) Tratar Características Cíclicas"
   ]
  },
  {
   "cell_type": "markdown",
   "metadata": {},
   "source": [
    "❓ Temos algumas características relacionadas ao tempo, por que não transformá-las em características cíclicas?"
   ]
  },
  {
   "cell_type": "code",
   "execution_count": 167,
   "metadata": {
    "tags": [
     "challengify"
    ]
   },
   "outputs": [
    {
     "data": {
      "text/html": [
       "<div>\n",
       "<style scoped>\n",
       "    .dataframe tbody tr th:only-of-type {\n",
       "        vertical-align: middle;\n",
       "    }\n",
       "\n",
       "    .dataframe tbody tr th {\n",
       "        vertical-align: top;\n",
       "    }\n",
       "\n",
       "    .dataframe thead th {\n",
       "        text-align: right;\n",
       "    }\n",
       "</style>\n",
       "<table border=\"1\" class=\"dataframe\">\n",
       "  <thead>\n",
       "    <tr style=\"text-align: right;\">\n",
       "      <th></th>\n",
       "      <th>MSSubClass</th>\n",
       "      <th>MSZoning</th>\n",
       "      <th>LotFrontage</th>\n",
       "      <th>LotArea</th>\n",
       "      <th>Street</th>\n",
       "      <th>Alley</th>\n",
       "      <th>LotShape</th>\n",
       "      <th>LandContour</th>\n",
       "      <th>Utilities</th>\n",
       "      <th>LotConfig</th>\n",
       "      <th>...</th>\n",
       "      <th>PoolArea</th>\n",
       "      <th>PoolQC</th>\n",
       "      <th>Fence</th>\n",
       "      <th>MiscFeature</th>\n",
       "      <th>MiscVal</th>\n",
       "      <th>YrSold</th>\n",
       "      <th>SaleType</th>\n",
       "      <th>SaleCondition</th>\n",
       "      <th>sin_MoSold</th>\n",
       "      <th>cos_MoSold</th>\n",
       "    </tr>\n",
       "    <tr>\n",
       "      <th>Id</th>\n",
       "      <th></th>\n",
       "      <th></th>\n",
       "      <th></th>\n",
       "      <th></th>\n",
       "      <th></th>\n",
       "      <th></th>\n",
       "      <th></th>\n",
       "      <th></th>\n",
       "      <th></th>\n",
       "      <th></th>\n",
       "      <th></th>\n",
       "      <th></th>\n",
       "      <th></th>\n",
       "      <th></th>\n",
       "      <th></th>\n",
       "      <th></th>\n",
       "      <th></th>\n",
       "      <th></th>\n",
       "      <th></th>\n",
       "      <th></th>\n",
       "      <th></th>\n",
       "    </tr>\n",
       "  </thead>\n",
       "  <tbody>\n",
       "    <tr>\n",
       "      <th>1</th>\n",
       "      <td>60</td>\n",
       "      <td>RL</td>\n",
       "      <td>65.0</td>\n",
       "      <td>8450</td>\n",
       "      <td>Pave</td>\n",
       "      <td>NaN</td>\n",
       "      <td>Reg</td>\n",
       "      <td>Lvl</td>\n",
       "      <td>AllPub</td>\n",
       "      <td>Inside</td>\n",
       "      <td>...</td>\n",
       "      <td>0</td>\n",
       "      <td>NaN</td>\n",
       "      <td>NaN</td>\n",
       "      <td>NaN</td>\n",
       "      <td>0</td>\n",
       "      <td>2008</td>\n",
       "      <td>WD</td>\n",
       "      <td>Normal</td>\n",
       "      <td>0.500000</td>\n",
       "      <td>0.866025</td>\n",
       "    </tr>\n",
       "    <tr>\n",
       "      <th>2</th>\n",
       "      <td>20</td>\n",
       "      <td>RL</td>\n",
       "      <td>80.0</td>\n",
       "      <td>9600</td>\n",
       "      <td>Pave</td>\n",
       "      <td>NaN</td>\n",
       "      <td>Reg</td>\n",
       "      <td>Lvl</td>\n",
       "      <td>AllPub</td>\n",
       "      <td>FR2</td>\n",
       "      <td>...</td>\n",
       "      <td>0</td>\n",
       "      <td>NaN</td>\n",
       "      <td>NaN</td>\n",
       "      <td>NaN</td>\n",
       "      <td>0</td>\n",
       "      <td>2007</td>\n",
       "      <td>WD</td>\n",
       "      <td>Normal</td>\n",
       "      <td>0.866025</td>\n",
       "      <td>-0.500000</td>\n",
       "    </tr>\n",
       "    <tr>\n",
       "      <th>3</th>\n",
       "      <td>60</td>\n",
       "      <td>RL</td>\n",
       "      <td>68.0</td>\n",
       "      <td>11250</td>\n",
       "      <td>Pave</td>\n",
       "      <td>NaN</td>\n",
       "      <td>IR1</td>\n",
       "      <td>Lvl</td>\n",
       "      <td>AllPub</td>\n",
       "      <td>Inside</td>\n",
       "      <td>...</td>\n",
       "      <td>0</td>\n",
       "      <td>NaN</td>\n",
       "      <td>NaN</td>\n",
       "      <td>NaN</td>\n",
       "      <td>0</td>\n",
       "      <td>2008</td>\n",
       "      <td>WD</td>\n",
       "      <td>Normal</td>\n",
       "      <td>-0.866025</td>\n",
       "      <td>-0.500000</td>\n",
       "    </tr>\n",
       "    <tr>\n",
       "      <th>4</th>\n",
       "      <td>70</td>\n",
       "      <td>RL</td>\n",
       "      <td>60.0</td>\n",
       "      <td>9550</td>\n",
       "      <td>Pave</td>\n",
       "      <td>NaN</td>\n",
       "      <td>IR1</td>\n",
       "      <td>Lvl</td>\n",
       "      <td>AllPub</td>\n",
       "      <td>Corner</td>\n",
       "      <td>...</td>\n",
       "      <td>0</td>\n",
       "      <td>NaN</td>\n",
       "      <td>NaN</td>\n",
       "      <td>NaN</td>\n",
       "      <td>0</td>\n",
       "      <td>2006</td>\n",
       "      <td>WD</td>\n",
       "      <td>Abnorml</td>\n",
       "      <td>0.500000</td>\n",
       "      <td>0.866025</td>\n",
       "    </tr>\n",
       "    <tr>\n",
       "      <th>5</th>\n",
       "      <td>60</td>\n",
       "      <td>RL</td>\n",
       "      <td>84.0</td>\n",
       "      <td>14260</td>\n",
       "      <td>Pave</td>\n",
       "      <td>NaN</td>\n",
       "      <td>IR1</td>\n",
       "      <td>Lvl</td>\n",
       "      <td>AllPub</td>\n",
       "      <td>FR2</td>\n",
       "      <td>...</td>\n",
       "      <td>0</td>\n",
       "      <td>NaN</td>\n",
       "      <td>NaN</td>\n",
       "      <td>NaN</td>\n",
       "      <td>0</td>\n",
       "      <td>2008</td>\n",
       "      <td>WD</td>\n",
       "      <td>Normal</td>\n",
       "      <td>-0.500000</td>\n",
       "      <td>0.866025</td>\n",
       "    </tr>\n",
       "  </tbody>\n",
       "</table>\n",
       "<p>5 rows × 80 columns</p>\n",
       "</div>"
      ],
      "text/plain": [
       "    MSSubClass MSZoning  LotFrontage  LotArea Street Alley LotShape  \\\n",
       "Id                                                                    \n",
       "1           60       RL         65.0     8450   Pave   NaN      Reg   \n",
       "2           20       RL         80.0     9600   Pave   NaN      Reg   \n",
       "3           60       RL         68.0    11250   Pave   NaN      IR1   \n",
       "4           70       RL         60.0     9550   Pave   NaN      IR1   \n",
       "5           60       RL         84.0    14260   Pave   NaN      IR1   \n",
       "\n",
       "   LandContour Utilities LotConfig  ... PoolArea PoolQC Fence MiscFeature  \\\n",
       "Id                                  ...                                     \n",
       "1          Lvl    AllPub    Inside  ...        0    NaN   NaN         NaN   \n",
       "2          Lvl    AllPub       FR2  ...        0    NaN   NaN         NaN   \n",
       "3          Lvl    AllPub    Inside  ...        0    NaN   NaN         NaN   \n",
       "4          Lvl    AllPub    Corner  ...        0    NaN   NaN         NaN   \n",
       "5          Lvl    AllPub       FR2  ...        0    NaN   NaN         NaN   \n",
       "\n",
       "   MiscVal YrSold  SaleType  SaleCondition  sin_MoSold  cos_MoSold  \n",
       "Id                                                                  \n",
       "1        0   2008        WD         Normal    0.500000    0.866025  \n",
       "2        0   2007        WD         Normal    0.866025   -0.500000  \n",
       "3        0   2008        WD         Normal   -0.866025   -0.500000  \n",
       "4        0   2006        WD        Abnorml    0.500000    0.866025  \n",
       "5        0   2008        WD         Normal   -0.500000    0.866025  \n",
       "\n",
       "[5 rows x 80 columns]"
      ]
     },
     "execution_count": 167,
     "metadata": {},
     "output_type": "execute_result"
    }
   ],
   "source": [
    "# Tratar Características Cíclicas\n",
    "months_in_a_year = 12\n",
    "\n",
    "X['sin_MoSold'] = np.sin(2 * np.pi * (X.MoSold - 1) / months_in_a_year)\n",
    "X['cos_MoSold'] = np.cos(2 * np.pi * (X.MoSold - 1) / months_in_a_year)\n",
    "\n",
    "X.drop(columns=['MoSold'], inplace=True)\n",
    "\n",
    "X.head()\n"
   ]
  },
  {
   "cell_type": "markdown",
   "metadata": {},
   "source": [
    "### d) Engenharia do Alvo (~15min)"
   ]
  },
  {
   "cell_type": "markdown",
   "metadata": {},
   "source": [
    "❓ Nos foi pedido para minimizar o RMS**L**E. Que tal transformarmos nosso alvo para prever diretamente seu `log`?\n",
    "\n",
    "* Confira o histograma do alvo `y`\n",
    "* Variáveis normalmente distribuídas devem ser mais fáceis de prever com modelos lineares ou paramétricos\n",
    "* Crie `y_log` e suas novas métricas de desempenho\n",
    "* Não se esqueça de tomar a exponencial de suas previsões no final!"
   ]
  },
  {
   "cell_type": "code",
   "execution_count": 168,
   "metadata": {
    "tags": [
     "challengify"
    ]
   },
   "outputs": [
    {
     "data": {
      "image/png": "[encoded data removed]",
      "text/plain": [
       "<Figure size 1700x500 with 2 Axes>"
      ]
     },
     "metadata": {},
     "output_type": "display_data"
    }
   ],
   "source": [
    "y_log = np.log(y)\n",
    "\n",
    "plt.figure(figsize=(17, 5))\n",
    "\n",
    "# Subplot para o histograma original\n",
    "plt.subplot(1, 2, 1)\n",
    "plt.hist(y, bins=30, color='blue', edgecolor='black')\n",
    "plt.title('Histograma de SalePrice')\n",
    "plt.xlabel('SalePrice')\n",
    "plt.ylabel('Frequência')\n",
    "\n",
    "# Subplot para o histograma dos dados transformados\n",
    "plt.subplot(1, 2, 2)\n",
    "plt.hist(y_log, bins=30, color='green', edgecolor='black')\n",
    "plt.title('Histograma do log(SalePrice)')\n",
    "plt.xlabel('log(SalePrice)')\n",
    "plt.ylabel('Frequência')\n",
    "\n",
    "plt.show()\n"
   ]
  },
  {
   "cell_type": "code",
   "execution_count": 169,
   "metadata": {
    "tags": [
     "delete"
    ]
   },
   "outputs": [],
   "source": [
    "# Crie seu novo marcador para minimizar\n",
    "rmse = make_scorer(lambda y_true, y_pred: mean_squared_error(y_true, y_pred)**0.5)\n",
    "\n",
    "# Crie seu novo artilheiro para maximizar\n",
    "rmse_neg = make_scorer(lambda y_true, y_pred: -1 * mean_squared_error(y_true, y_pred)**0.5)\n"
   ]
  },
  {
   "cell_type": "markdown",
   "metadata": {},
   "source": [
    "### 2.2 Model Iteration ♻"
   ]
  },
  {
   "cell_type": "markdown",
   "metadata": {},
   "source": [
    "#### a) Versão Final do Pipeline de Pré-processamento\n",
    "\n",
    "❓ Aconselhamos que você comece com uma definição nova abaixo para que você possa atualizá-la rapidamente conforme necessário e, em seguida, experimentar muitos tipos de modelos para encontrar o melhor possível (você pode tentar GridSearch ou ir modelo por modelo)"
   ]
  },
  {
   "cell_type": "code",
   "execution_count": 170,
   "metadata": {
    "tags": [
     "challengify"
    ]
   },
   "outputs": [
    {
     "data": {
      "text/html": [
       "<style>#sk-container-id-17 {color: black;background-color: white;}#sk-container-id-17 pre{padding: 0;}#sk-container-id-17 div.sk-toggleable {background-color: white;}#sk-container-id-17 label.sk-toggleable__label {cursor: pointer;display: block;width: 100%;margin-bottom: 0;padding: 0.3em;box-sizing: border-box;text-align: center;}#sk-container-id-17 label.sk-toggleable__label-arrow:before {content: \"▸\";float: left;margin-right: 0.25em;color: #696969;}#sk-container-id-17 label.sk-toggleable__label-arrow:hover:before {color: black;}#sk-container-id-17 div.sk-estimator:hover label.sk-toggleable__label-arrow:before {color: black;}#sk-container-id-17 div.sk-toggleable__content {max-height: 0;max-width: 0;overflow: hidden;text-align: left;background-color: #f0f8ff;}#sk-container-id-17 div.sk-toggleable__content pre {margin: 0.2em;color: black;border-radius: 0.25em;background-color: #f0f8ff;}#sk-container-id-17 input.sk-toggleable__control:checked~div.sk-toggleable__content {max-height: 200px;max-width: 100%;overflow: auto;}#sk-container-id-17 input.sk-toggleable__control:checked~label.sk-toggleable__label-arrow:before {content: \"▾\";}#sk-container-id-17 div.sk-estimator input.sk-toggleable__control:checked~label.sk-toggleable__label {background-color: #d4ebff;}#sk-container-id-17 div.sk-label input.sk-toggleable__control:checked~label.sk-toggleable__label {background-color: #d4ebff;}#sk-container-id-17 input.sk-hidden--visually {border: 0;clip: rect(1px 1px 1px 1px);clip: rect(1px, 1px, 1px, 1px);height: 1px;margin: -1px;overflow: hidden;padding: 0;position: absolute;width: 1px;}#sk-container-id-17 div.sk-estimator {font-family: monospace;background-color: #f0f8ff;border: 1px dotted black;border-radius: 0.25em;box-sizing: border-box;margin-bottom: 0.5em;}#sk-container-id-17 div.sk-estimator:hover {background-color: #d4ebff;}#sk-container-id-17 div.sk-parallel-item::after {content: \"\";width: 100%;border-bottom: 1px solid gray;flex-grow: 1;}#sk-container-id-17 div.sk-label:hover label.sk-toggleable__label {background-color: #d4ebff;}#sk-container-id-17 div.sk-serial::before {content: \"\";position: absolute;border-left: 1px solid gray;box-sizing: border-box;top: 0;bottom: 0;left: 50%;z-index: 0;}#sk-container-id-17 div.sk-serial {display: flex;flex-direction: column;align-items: center;background-color: white;padding-right: 0.2em;padding-left: 0.2em;position: relative;}#sk-container-id-17 div.sk-item {position: relative;z-index: 1;}#sk-container-id-17 div.sk-parallel {display: flex;align-items: stretch;justify-content: center;background-color: white;position: relative;}#sk-container-id-17 div.sk-item::before, #sk-container-id-17 div.sk-parallel-item::before {content: \"\";position: absolute;border-left: 1px solid gray;box-sizing: border-box;top: 0;bottom: 0;left: 50%;z-index: -1;}#sk-container-id-17 div.sk-parallel-item {display: flex;flex-direction: column;z-index: 1;position: relative;background-color: white;}#sk-container-id-17 div.sk-parallel-item:first-child::after {align-self: flex-end;width: 50%;}#sk-container-id-17 div.sk-parallel-item:last-child::after {align-self: flex-start;width: 50%;}#sk-container-id-17 div.sk-parallel-item:only-child::after {width: 0;}#sk-container-id-17 div.sk-dashed-wrapped {border: 1px dashed gray;margin: 0 0.4em 0.5em 0.4em;box-sizing: border-box;padding-bottom: 0.4em;background-color: white;}#sk-container-id-17 div.sk-label label {font-family: monospace;font-weight: bold;display: inline-block;line-height: 1.2em;}#sk-container-id-17 div.sk-label-container {text-align: center;}#sk-container-id-17 div.sk-container {/* jupyter's `normalize.less` sets `[hidden] { display: none; }` but bootstrap.min.css set `[hidden] { display: none !important; }` so we also need the `!important` here to be able to override the default hidden behavior on the sphinx rendered scikit-learn.org. See: https://github.com/scikit-learn/scikit-learn/issues/21755 */display: inline-block !important;position: relative;}#sk-container-id-17 div.sk-text-repr-fallback {display: none;}</style><div id=\"sk-container-id-17\" class=\"sk-top-container\"><div class=\"sk-text-repr-fallback\"><pre>Pipeline(steps=[(&#x27;columntransformer&#x27;,\n",
       "                 ColumnTransformer(transformers=[(&#x27;pipeline-1&#x27;,\n",
       "                                                  Pipeline(steps=[(&#x27;knnimputer&#x27;,\n",
       "                                                                   KNNImputer()),\n",
       "                                                                  (&#x27;minmaxscaler&#x27;,\n",
       "                                                                   MinMaxScaler())]),\n",
       "                                                  &lt;sklearn.compose._column_transformer.make_column_selector object at 0x0000021ED9318DD0&gt;),\n",
       "                                                 (&#x27;pipeline-2&#x27;,\n",
       "                                                  Pipeline(steps=[(&#x27;simpleimputer&#x27;,\n",
       "                                                                   SimpleImputer(fill_value=&#x27;missing&#x27;,\n",
       "                                                                                 strategy=&#x27;constant&#x27;))...\n",
       "                                                   &#x27;CentralAir&#x27;, &#x27;Condition1&#x27;,\n",
       "                                                   &#x27;Condition2&#x27;, &#x27;Exterior1st&#x27;,\n",
       "                                                   &#x27;Exterior2nd&#x27;, &#x27;Foundation&#x27;,\n",
       "                                                   &#x27;GarageType&#x27;, &#x27;Heating&#x27;,\n",
       "                                                   &#x27;HouseStyle&#x27;, &#x27;LotConfig&#x27;,\n",
       "                                                   &#x27;MSZoning&#x27;, &#x27;MasVnrType&#x27;,\n",
       "                                                   &#x27;MiscFeature&#x27;,\n",
       "                                                   &#x27;Neighborhood&#x27;, &#x27;RoofMatl&#x27;,\n",
       "                                                   &#x27;RoofStyle&#x27;, &#x27;SaleCondition&#x27;,\n",
       "                                                   &#x27;SaleType&#x27;, &#x27;Street&#x27;,\n",
       "                                                   &#x27;Utilities&#x27;])])),\n",
       "                (&#x27;selectpercentile&#x27;,\n",
       "                 SelectPercentile(percentile=50,\n",
       "                                  score_func=&lt;function mutual_info_regression at 0x0000021EC4F7E020&gt;))])</pre><b>In a Jupyter environment, please rerun this cell to show the HTML representation or trust the notebook. <br />On GitHub, the HTML representation is unable to render, please try loading this page with nbviewer.org.</b></div><div class=\"sk-container\" hidden><div class=\"sk-item sk-dashed-wrapped\"><div class=\"sk-label-container\"><div class=\"sk-label sk-toggleable\"><input class=\"sk-toggleable__control sk-hidden--visually\" id=\"sk-estimator-id-155\" type=\"checkbox\" ><label for=\"sk-estimator-id-155\" class=\"sk-toggleable__label sk-toggleable__label-arrow\">Pipeline</label><div class=\"sk-toggleable__content\"><pre>Pipeline(steps=[(&#x27;columntransformer&#x27;,\n",
       "                 ColumnTransformer(transformers=[(&#x27;pipeline-1&#x27;,\n",
       "                                                  Pipeline(steps=[(&#x27;knnimputer&#x27;,\n",
       "                                                                   KNNImputer()),\n",
       "                                                                  (&#x27;minmaxscaler&#x27;,\n",
       "                                                                   MinMaxScaler())]),\n",
       "                                                  &lt;sklearn.compose._column_transformer.make_column_selector object at 0x0000021ED9318DD0&gt;),\n",
       "                                                 (&#x27;pipeline-2&#x27;,\n",
       "                                                  Pipeline(steps=[(&#x27;simpleimputer&#x27;,\n",
       "                                                                   SimpleImputer(fill_value=&#x27;missing&#x27;,\n",
       "                                                                                 strategy=&#x27;constant&#x27;))...\n",
       "                                                   &#x27;CentralAir&#x27;, &#x27;Condition1&#x27;,\n",
       "                                                   &#x27;Condition2&#x27;, &#x27;Exterior1st&#x27;,\n",
       "                                                   &#x27;Exterior2nd&#x27;, &#x27;Foundation&#x27;,\n",
       "                                                   &#x27;GarageType&#x27;, &#x27;Heating&#x27;,\n",
       "                                                   &#x27;HouseStyle&#x27;, &#x27;LotConfig&#x27;,\n",
       "                                                   &#x27;MSZoning&#x27;, &#x27;MasVnrType&#x27;,\n",
       "                                                   &#x27;MiscFeature&#x27;,\n",
       "                                                   &#x27;Neighborhood&#x27;, &#x27;RoofMatl&#x27;,\n",
       "                                                   &#x27;RoofStyle&#x27;, &#x27;SaleCondition&#x27;,\n",
       "                                                   &#x27;SaleType&#x27;, &#x27;Street&#x27;,\n",
       "                                                   &#x27;Utilities&#x27;])])),\n",
       "                (&#x27;selectpercentile&#x27;,\n",
       "                 SelectPercentile(percentile=50,\n",
       "                                  score_func=&lt;function mutual_info_regression at 0x0000021EC4F7E020&gt;))])</pre></div></div></div><div class=\"sk-serial\"><div class=\"sk-item sk-dashed-wrapped\"><div class=\"sk-label-container\"><div class=\"sk-label sk-toggleable\"><input class=\"sk-toggleable__control sk-hidden--visually\" id=\"sk-estimator-id-156\" type=\"checkbox\" ><label for=\"sk-estimator-id-156\" class=\"sk-toggleable__label sk-toggleable__label-arrow\">columntransformer: ColumnTransformer</label><div class=\"sk-toggleable__content\"><pre>ColumnTransformer(transformers=[(&#x27;pipeline-1&#x27;,\n",
       "                                 Pipeline(steps=[(&#x27;knnimputer&#x27;, KNNImputer()),\n",
       "                                                 (&#x27;minmaxscaler&#x27;,\n",
       "                                                  MinMaxScaler())]),\n",
       "                                 &lt;sklearn.compose._column_transformer.make_column_selector object at 0x0000021ED9318DD0&gt;),\n",
       "                                (&#x27;pipeline-2&#x27;,\n",
       "                                 Pipeline(steps=[(&#x27;simpleimputer&#x27;,\n",
       "                                                  SimpleImputer(fill_value=&#x27;missing&#x27;,\n",
       "                                                                strategy=&#x27;constant&#x27;)),\n",
       "                                                 (&#x27;ordinalencoder&#x27;,\n",
       "                                                  OrdinalEncoder(cat...\n",
       "                                                  SimpleImputer(strategy=&#x27;most_frequent&#x27;)),\n",
       "                                                 (&#x27;onehotencoder&#x27;,\n",
       "                                                  OneHotEncoder(handle_unknown=&#x27;ignore&#x27;))]),\n",
       "                                 [&#x27;Alley&#x27;, &#x27;BldgType&#x27;, &#x27;CentralAir&#x27;,\n",
       "                                  &#x27;Condition1&#x27;, &#x27;Condition2&#x27;, &#x27;Exterior1st&#x27;,\n",
       "                                  &#x27;Exterior2nd&#x27;, &#x27;Foundation&#x27;, &#x27;GarageType&#x27;,\n",
       "                                  &#x27;Heating&#x27;, &#x27;HouseStyle&#x27;, &#x27;LotConfig&#x27;,\n",
       "                                  &#x27;MSZoning&#x27;, &#x27;MasVnrType&#x27;, &#x27;MiscFeature&#x27;,\n",
       "                                  &#x27;Neighborhood&#x27;, &#x27;RoofMatl&#x27;, &#x27;RoofStyle&#x27;,\n",
       "                                  &#x27;SaleCondition&#x27;, &#x27;SaleType&#x27;, &#x27;Street&#x27;,\n",
       "                                  &#x27;Utilities&#x27;])])</pre></div></div></div><div class=\"sk-parallel\"><div class=\"sk-parallel-item\"><div class=\"sk-item\"><div class=\"sk-label-container\"><div class=\"sk-label sk-toggleable\"><input class=\"sk-toggleable__control sk-hidden--visually\" id=\"sk-estimator-id-157\" type=\"checkbox\" ><label for=\"sk-estimator-id-157\" class=\"sk-toggleable__label sk-toggleable__label-arrow\">pipeline-1</label><div class=\"sk-toggleable__content\"><pre>&lt;sklearn.compose._column_transformer.make_column_selector object at 0x0000021ED9318DD0&gt;</pre></div></div></div><div class=\"sk-serial\"><div class=\"sk-item\"><div class=\"sk-serial\"><div class=\"sk-item\"><div class=\"sk-estimator sk-toggleable\"><input class=\"sk-toggleable__control sk-hidden--visually\" id=\"sk-estimator-id-158\" type=\"checkbox\" ><label for=\"sk-estimator-id-158\" class=\"sk-toggleable__label sk-toggleable__label-arrow\">KNNImputer</label><div class=\"sk-toggleable__content\"><pre>KNNImputer()</pre></div></div></div><div class=\"sk-item\"><div class=\"sk-estimator sk-toggleable\"><input class=\"sk-toggleable__control sk-hidden--visually\" id=\"sk-estimator-id-159\" type=\"checkbox\" ><label for=\"sk-estimator-id-159\" class=\"sk-toggleable__label sk-toggleable__label-arrow\">MinMaxScaler</label><div class=\"sk-toggleable__content\"><pre>MinMaxScaler()</pre></div></div></div></div></div></div></div></div><div class=\"sk-parallel-item\"><div class=\"sk-item\"><div class=\"sk-label-container\"><div class=\"sk-label sk-toggleable\"><input class=\"sk-toggleable__control sk-hidden--visually\" id=\"sk-estimator-id-160\" type=\"checkbox\" ><label for=\"sk-estimator-id-160\" class=\"sk-toggleable__label sk-toggleable__label-arrow\">pipeline-2</label><div class=\"sk-toggleable__content\"><pre>[&#x27;BsmtCond&#x27;, &#x27;BsmtExposure&#x27;, &#x27;BsmtFinType1&#x27;, &#x27;BsmtFinType2&#x27;, &#x27;BsmtQual&#x27;, &#x27;Electrical&#x27;, &#x27;ExterCond&#x27;, &#x27;ExterQual&#x27;, &#x27;Fence&#x27;, &#x27;FireplaceQu&#x27;, &#x27;Functional&#x27;, &#x27;GarageCond&#x27;, &#x27;GarageFinish&#x27;, &#x27;GarageQual&#x27;, &#x27;HeatingQC&#x27;, &#x27;KitchenQual&#x27;, &#x27;LandContour&#x27;, &#x27;LandSlope&#x27;, &#x27;LotShape&#x27;, &#x27;PavedDrive&#x27;, &#x27;PoolQC&#x27;]</pre></div></div></div><div class=\"sk-serial\"><div class=\"sk-item\"><div class=\"sk-serial\"><div class=\"sk-item\"><div class=\"sk-estimator sk-toggleable\"><input class=\"sk-toggleable__control sk-hidden--visually\" id=\"sk-estimator-id-161\" type=\"checkbox\" ><label for=\"sk-estimator-id-161\" class=\"sk-toggleable__label sk-toggleable__label-arrow\">SimpleImputer</label><div class=\"sk-toggleable__content\"><pre>SimpleImputer(fill_value=&#x27;missing&#x27;, strategy=&#x27;constant&#x27;)</pre></div></div></div><div class=\"sk-item\"><div class=\"sk-estimator sk-toggleable\"><input class=\"sk-toggleable__control sk-hidden--visually\" id=\"sk-estimator-id-162\" type=\"checkbox\" ><label for=\"sk-estimator-id-162\" class=\"sk-toggleable__label sk-toggleable__label-arrow\">OrdinalEncoder</label><div class=\"sk-toggleable__content\"><pre>OrdinalEncoder(categories=[[&#x27;missing&#x27;, &#x27;Po&#x27;, &#x27;Fa&#x27;, &#x27;TA&#x27;, &#x27;Gd&#x27;],\n",
       "                           [&#x27;missing&#x27;, &#x27;No&#x27;, &#x27;Mn&#x27;, &#x27;Av&#x27;, &#x27;Gd&#x27;],\n",
       "                           [&#x27;missing&#x27;, &#x27;Unf&#x27;, &#x27;LwQ&#x27;, &#x27;Rec&#x27;, &#x27;BLQ&#x27;, &#x27;ALQ&#x27;,\n",
       "                            &#x27;GLQ&#x27;],\n",
       "                           [&#x27;missing&#x27;, &#x27;Unf&#x27;, &#x27;LwQ&#x27;, &#x27;Rec&#x27;, &#x27;BLQ&#x27;, &#x27;ALQ&#x27;,\n",
       "                            &#x27;GLQ&#x27;],\n",
       "                           [&#x27;missing&#x27;, &#x27;Fa&#x27;, &#x27;TA&#x27;, &#x27;Gd&#x27;, &#x27;Ex&#x27;],\n",
       "                           [&#x27;missing&#x27;, &#x27;Mix&#x27;, &#x27;FuseP&#x27;, &#x27;FuseF&#x27;, &#x27;FuseA&#x27;,\n",
       "                            &#x27;SBrkr&#x27;],\n",
       "                           [&#x27;missing&#x27;, &#x27;Po&#x27;, &#x27;Fa&#x27;, &#x27;TA&#x27;, &#x27;Gd&#x27;, &#x27;Ex&#x27;],\n",
       "                           [&#x27;missing&#x27;, &#x27;Fa&#x27;, &#x27;TA&#x27;, &#x27;Gd&#x27;, &#x27;Ex&#x27;],\n",
       "                           [&#x27;missing&#x27;, &#x27;...\n",
       "                           [&#x27;missing&#x27;, &#x27;Unf&#x27;, &#x27;RFn&#x27;, &#x27;Fin&#x27;],\n",
       "                           [&#x27;missing&#x27;, &#x27;Po&#x27;, &#x27;Fa&#x27;, &#x27;TA&#x27;, &#x27;Gd&#x27;, &#x27;Ex&#x27;],\n",
       "                           [&#x27;missing&#x27;, &#x27;Po&#x27;, &#x27;Fa&#x27;, &#x27;TA&#x27;, &#x27;Gd&#x27;, &#x27;Ex&#x27;],\n",
       "                           [&#x27;missing&#x27;, &#x27;Fa&#x27;, &#x27;TA&#x27;, &#x27;Gd&#x27;, &#x27;Ex&#x27;],\n",
       "                           [&#x27;missing&#x27;, &#x27;Low&#x27;, &#x27;Bnk&#x27;, &#x27;HLS&#x27;, &#x27;Lvl&#x27;],\n",
       "                           [&#x27;missing&#x27;, &#x27;Sev&#x27;, &#x27;Mod&#x27;, &#x27;Gtl&#x27;],\n",
       "                           [&#x27;missing&#x27;, &#x27;IR3&#x27;, &#x27;IR2&#x27;, &#x27;IR1&#x27;, &#x27;Reg&#x27;],\n",
       "                           [&#x27;missing&#x27;, &#x27;N&#x27;, &#x27;P&#x27;, &#x27;Y&#x27;],\n",
       "                           [&#x27;missing&#x27;, &#x27;Fa&#x27;, &#x27;Gd&#x27;, &#x27;Ex&#x27;]],\n",
       "               dtype=&lt;class &#x27;numpy.int64&#x27;&gt;, handle_unknown=&#x27;use_encoded_value&#x27;,\n",
       "               unknown_value=-1)</pre></div></div></div><div class=\"sk-item\"><div class=\"sk-estimator sk-toggleable\"><input class=\"sk-toggleable__control sk-hidden--visually\" id=\"sk-estimator-id-163\" type=\"checkbox\" ><label for=\"sk-estimator-id-163\" class=\"sk-toggleable__label sk-toggleable__label-arrow\">MinMaxScaler</label><div class=\"sk-toggleable__content\"><pre>MinMaxScaler()</pre></div></div></div></div></div></div></div></div><div class=\"sk-parallel-item\"><div class=\"sk-item\"><div class=\"sk-label-container\"><div class=\"sk-label sk-toggleable\"><input class=\"sk-toggleable__control sk-hidden--visually\" id=\"sk-estimator-id-164\" type=\"checkbox\" ><label for=\"sk-estimator-id-164\" class=\"sk-toggleable__label sk-toggleable__label-arrow\">pipeline-3</label><div class=\"sk-toggleable__content\"><pre>[&#x27;Alley&#x27;, &#x27;BldgType&#x27;, &#x27;CentralAir&#x27;, &#x27;Condition1&#x27;, &#x27;Condition2&#x27;, &#x27;Exterior1st&#x27;, &#x27;Exterior2nd&#x27;, &#x27;Foundation&#x27;, &#x27;GarageType&#x27;, &#x27;Heating&#x27;, &#x27;HouseStyle&#x27;, &#x27;LotConfig&#x27;, &#x27;MSZoning&#x27;, &#x27;MasVnrType&#x27;, &#x27;MiscFeature&#x27;, &#x27;Neighborhood&#x27;, &#x27;RoofMatl&#x27;, &#x27;RoofStyle&#x27;, &#x27;SaleCondition&#x27;, &#x27;SaleType&#x27;, &#x27;Street&#x27;, &#x27;Utilities&#x27;]</pre></div></div></div><div class=\"sk-serial\"><div class=\"sk-item\"><div class=\"sk-serial\"><div class=\"sk-item\"><div class=\"sk-estimator sk-toggleable\"><input class=\"sk-toggleable__control sk-hidden--visually\" id=\"sk-estimator-id-165\" type=\"checkbox\" ><label for=\"sk-estimator-id-165\" class=\"sk-toggleable__label sk-toggleable__label-arrow\">SimpleImputer</label><div class=\"sk-toggleable__content\"><pre>SimpleImputer(strategy=&#x27;most_frequent&#x27;)</pre></div></div></div><div class=\"sk-item\"><div class=\"sk-estimator sk-toggleable\"><input class=\"sk-toggleable__control sk-hidden--visually\" id=\"sk-estimator-id-166\" type=\"checkbox\" ><label for=\"sk-estimator-id-166\" class=\"sk-toggleable__label sk-toggleable__label-arrow\">OneHotEncoder</label><div class=\"sk-toggleable__content\"><pre>OneHotEncoder(handle_unknown=&#x27;ignore&#x27;)</pre></div></div></div></div></div></div></div></div></div></div><div class=\"sk-item\"><div class=\"sk-estimator sk-toggleable\"><input class=\"sk-toggleable__control sk-hidden--visually\" id=\"sk-estimator-id-167\" type=\"checkbox\" ><label for=\"sk-estimator-id-167\" class=\"sk-toggleable__label sk-toggleable__label-arrow\">SelectPercentile</label><div class=\"sk-toggleable__content\"><pre>SelectPercentile(percentile=50,\n",
       "                 score_func=&lt;function mutual_info_regression at 0x0000021EC4F7E020&gt;)</pre></div></div></div></div></div></div></div>"
      ],
      "text/plain": [
       "Pipeline(steps=[('columntransformer',\n",
       "                 ColumnTransformer(transformers=[('pipeline-1',\n",
       "                                                  Pipeline(steps=[('knnimputer',\n",
       "                                                                   KNNImputer()),\n",
       "                                                                  ('minmaxscaler',\n",
       "                                                                   MinMaxScaler())]),\n",
       "                                                  <sklearn.compose._column_transformer.make_column_selector object at 0x0000021ED9318DD0>),\n",
       "                                                 ('pipeline-2',\n",
       "                                                  Pipeline(steps=[('simpleimputer',\n",
       "                                                                   SimpleImputer(fill_value='missing',\n",
       "                                                                                 strategy='constant'))...\n",
       "                                                   'CentralAir', 'Condition1',\n",
       "                                                   'Condition2', 'Exterior1st',\n",
       "                                                   'Exterior2nd', 'Foundation',\n",
       "                                                   'GarageType', 'Heating',\n",
       "                                                   'HouseStyle', 'LotConfig',\n",
       "                                                   'MSZoning', 'MasVnrType',\n",
       "                                                   'MiscFeature',\n",
       "                                                   'Neighborhood', 'RoofMatl',\n",
       "                                                   'RoofStyle', 'SaleCondition',\n",
       "                                                   'SaleType', 'Street',\n",
       "                                                   'Utilities'])])),\n",
       "                ('selectpercentile',\n",
       "                 SelectPercentile(percentile=50,\n",
       "                                  score_func=<function mutual_info_regression at 0x0000021EC4F7E020>))])"
      ]
     },
     "execution_count": 170,
     "metadata": {},
     "output_type": "execute_result"
    }
   ],
   "source": [
    "encoder_ordinal = OrdinalEncoder(\n",
    "    categories=feat_ordinal_values_sorted,\n",
    "    dtype= np.int64,\n",
    "    handle_unknown=\"use_encoded_value\",\n",
    "    unknown_value=-1 # Considers unknown values as worse than \"missing\"\n",
    ")\n",
    "\n",
    "preproc_ordinal = make_pipeline(\n",
    "    SimpleImputer(strategy=\"constant\", fill_value=\"missing\"),\n",
    "    encoder_ordinal,\n",
    "    MinMaxScaler()\n",
    ")\n",
    "\n",
    "preproc_numerical = make_pipeline(\n",
    "    KNNImputer(),\n",
    "    MinMaxScaler()\n",
    ")\n",
    "\n",
    "preproc_transformer = make_column_transformer(\n",
    "    (preproc_numerical, make_column_selector(dtype_include=[\"int64\", \"float64\"])),\n",
    "    (preproc_ordinal, feat_ordinal),\n",
    "    (preproc_nominal, feat_nominal),\n",
    "    remainder=\"drop\"\n",
    ")\n",
    "\n",
    "preproc_selector = SelectPercentile(\n",
    "    mutual_info_regression,\n",
    "    percentile=50, # keep only xx% of all features )\n",
    ")\n",
    "preproc = make_pipeline(\n",
    "    preproc_transformer,\n",
    "    preproc_selector\n",
    ")\n",
    "\n",
    "preproc\n"
   ]
  },
  {
   "cell_type": "code",
   "execution_count": 171,
   "metadata": {
    "tags": [
     "delete"
    ]
   },
   "outputs": [
    {
     "data": {
      "text/plain": [
       "(1460, 108)"
      ]
     },
     "execution_count": 171,
     "metadata": {},
     "output_type": "execute_result"
    }
   ],
   "source": [
    "# Check shape\n",
    "preproc_fitted = preproc.fit(X,y)\n",
    "preproc_fitted_log = preproc.fit(X,y_log)\n",
    "\n",
    "preproc_fitted_log.transform(X).shape\n"
   ]
  },
  {
   "cell_type": "code",
   "execution_count": 172,
   "metadata": {
    "tags": [
     "delete"
    ]
   },
   "outputs": [],
   "source": [
    "# SOLUCAO\n",
    "allow_grid_searching = True # Use True para ativar o GridSearch nas células do notebook abaixo\n",
    "\n",
    "# Armazenar em cache a etapa de pré-processamento do pipeline\n",
    "cachedir = mkdtemp()\n"
   ]
  },
  {
   "cell_type": "markdown",
   "metadata": {
    "tags": [
     "delete_begin"
    ]
   },
   "source": [
    "#### b) Modelos Lineares (Lasso, Ridge, ElasticNet, SGDRegressor, etc.)"
   ]
  },
  {
   "cell_type": "code",
   "execution_count": 62,
   "metadata": {},
   "outputs": [
    {
     "name": "stderr",
     "output_type": "stream",
     "text": [
      "C:\\Users\\Inteli\\AppData\\Local\\Packages\\PythonSoftwareFoundation.Python.3.11_qbz5n2kfra8p0\\LocalCache\\local-packages\\Python311\\site-packages\\sklearn\\model_selection\\_validation.py:794: UserWarning: Scoring failed. The score on this train-test partition for these parameters will be set to nan. Details: \n",
      "Traceback (most recent call last):\n",
      "  File \"C:\\Users\\Inteli\\AppData\\Local\\Packages\\PythonSoftwareFoundation.Python.3.11_qbz5n2kfra8p0\\LocalCache\\local-packages\\Python311\\site-packages\\sklearn\\metrics\\_scorer.py\", line 115, in __call__\n",
      "    score = scorer._score(cached_call, estimator, *args, **kwargs)\n",
      "            ^^^^^^^^^^^^^^^^^^^^^^^^^^^^^^^^^^^^^^^^^^^^^^^^^^^^^^\n",
      "  File \"C:\\Users\\Inteli\\AppData\\Local\\Packages\\PythonSoftwareFoundation.Python.3.11_qbz5n2kfra8p0\\LocalCache\\local-packages\\Python311\\site-packages\\sklearn\\metrics\\_scorer.py\", line 282, in _score\n",
      "    return self._sign * self._score_func(y_true, y_pred, **self._kwargs)\n",
      "                        ^^^^^^^^^^^^^^^^^^^^^^^^^^^^^^^^^^^^^^^^^^^^^^^^\n",
      "  File \"C:\\Users\\Inteli\\AppData\\Local\\Temp\\ipykernel_11816\\1300514440.py\", line 4, in <lambda>\n",
      "    rmsle = make_scorer(lambda y_true, y_pred: mean_squared_log_error(y_true, y_pred)**0.5)\n",
      "                                               ^^^^^^^^^^^^^^^^^^^^^^^^^^^^^^^^^^^^^^\n",
      "  File \"C:\\Users\\Inteli\\AppData\\Local\\Packages\\PythonSoftwareFoundation.Python.3.11_qbz5n2kfra8p0\\LocalCache\\local-packages\\Python311\\site-packages\\sklearn\\metrics\\_regression.py\", line 525, in mean_squared_log_error\n",
      "    raise ValueError(\n",
      "ValueError: Mean Squared Logarithmic Error cannot be used when targets contain negative values.\n",
      "\n",
      "  warnings.warn(\n"
     ]
    },
    {
     "data": {
      "text/plain": [
       "nan"
      ]
     },
     "execution_count": 62,
     "metadata": {},
     "output_type": "execute_result"
    }
   ],
   "source": [
    "# Ridge com normal target\n",
    "model = Ridge()\n",
    "\n",
    "pipe_ridge = make_pipeline(preproc, model, memory=cachedir)\n",
    "\n",
    "cross_val_score(pipe_ridge, X, y, cv=5, scoring=rmsle).mean()\n"
   ]
  },
  {
   "cell_type": "code",
   "execution_count": 63,
   "metadata": {},
   "outputs": [
    {
     "data": {
      "text/plain": [
       "0.13927172909464827"
      ]
     },
     "execution_count": 63,
     "metadata": {},
     "output_type": "execute_result"
    }
   ],
   "source": [
    "# Ridge com log-target (much better)\n",
    "model = Ridge()\n",
    "\n",
    "pipe_ridge = make_pipeline(preproc, model, memory=cachedir)\n",
    "\n",
    "cross_val_score(pipe_ridge, X, y_log, cv=5, scoring=rmse).mean()\n"
   ]
  },
  {
   "cell_type": "code",
   "execution_count": 64,
   "metadata": {},
   "outputs": [
    {
     "name": "stdout",
     "output_type": "stream",
     "text": [
      "Fitting 5 folds for each of 20 candidates, totalling 100 fits\n",
      "\n",
      "----------------------------------------\n",
      "\n",
      "Best params 👉 {'ridge__alpha': 2.0}\n",
      "Best score 👉 -0.13897909295201033\n"
     ]
    }
   ],
   "source": [
    "# GridSearch the Ridge regularization\n",
    "if allow_grid_searching:\n",
    "    param_grid =  {'ridge__alpha': np.linspace(0.5, 2, num=20)}\n",
    "\n",
    "    search_ridge = GridSearchCV(\n",
    "        pipe_ridge,\n",
    "        param_grid=param_grid,\n",
    "        cv=5,\n",
    "        n_jobs=-1,\n",
    "        verbose=2,\n",
    "        scoring=rmse_neg\n",
    "    )\n",
    "\n",
    "    search_ridge.fit(X, y_log);\n",
    "\n",
    "    print('\\n----------------------------------------\\n')\n",
    "    print(f'Best params 👉 {search_ridge.best_params_}')\n",
    "    print(f'Best score 👉 {search_ridge.best_score_}')\n"
   ]
  },
  {
   "cell_type": "markdown",
   "metadata": {},
   "source": [
    "#### c) KNN"
   ]
  },
  {
   "cell_type": "code",
   "execution_count": 65,
   "metadata": {},
   "outputs": [],
   "source": [
    "model = KNeighborsRegressor()\n",
    "\n",
    "pipe_knn = make_pipeline(preproc, model)\n"
   ]
  },
  {
   "cell_type": "code",
   "execution_count": 66,
   "metadata": {},
   "outputs": [
    {
     "data": {
      "text/plain": [
       "0.20050767151697163"
      ]
     },
     "execution_count": 66,
     "metadata": {},
     "output_type": "execute_result"
    }
   ],
   "source": [
    "scores = cross_val_score(pipe_knn, X, y_log, cv=5, scoring=rmse)\n",
    "scores.mean()\n"
   ]
  },
  {
   "cell_type": "code",
   "execution_count": 67,
   "metadata": {},
   "outputs": [
    {
     "name": "stdout",
     "output_type": "stream",
     "text": [
      "Fitting 3 folds for each of 11 candidates, totalling 33 fits\n",
      "\n",
      "----------------------------------------\n",
      "\n",
      "Best params 👉 {'kneighborsregressor__n_neighbors': 5}\n",
      "Best score 👉 -0.2028751029113486\n"
     ]
    }
   ],
   "source": [
    "# GridSearch the KNN\n",
    "if allow_grid_searching:\n",
    "    param_grid =  {'kneighborsregressor__n_neighbors': [3, 4, 5, 6, 7, 8, 9, 10, 15, 20, 30]}\n",
    "\n",
    "    search_knn = GridSearchCV(\n",
    "        pipe_knn,\n",
    "        param_grid=param_grid,\n",
    "        cv=3,\n",
    "        n_jobs=-1,\n",
    "        verbose=2,\n",
    "        scoring=rmse_neg\n",
    "    )\n",
    "\n",
    "    search_knn.fit(X, y_log);\n",
    "\n",
    "    print('\\n----------------------------------------\\n')\n",
    "    print(f'Best params 👉 {search_knn.best_params_}')\n",
    "    print(f'Best score 👉 {search_knn.best_score_}')\n"
   ]
  },
  {
   "cell_type": "markdown",
   "metadata": {},
   "source": [
    "#### d) SVM"
   ]
  },
  {
   "cell_type": "code",
   "execution_count": 68,
   "metadata": {},
   "outputs": [
    {
     "data": {
      "text/plain": [
       "0.13724561616661962"
      ]
     },
     "execution_count": 68,
     "metadata": {},
     "output_type": "execute_result"
    }
   ],
   "source": [
    "model = SVR(kernel='linear')\n",
    "\n",
    "pipe_svm = make_pipeline(preproc, model, memory=cachedir)\n",
    "\n",
    "cross_val_score(pipe_svm, X, y_log, cv=5, scoring=rmse).mean()\n"
   ]
  },
  {
   "cell_type": "code",
   "execution_count": 69,
   "metadata": {},
   "outputs": [
    {
     "data": {
      "text/plain": [
       "0.13597058904953366"
      ]
     },
     "execution_count": 69,
     "metadata": {},
     "output_type": "execute_result"
    }
   ],
   "source": [
    "model = SVR(kernel='rbf', C = 10)\n",
    "\n",
    "pipe_svm_rbf = make_pipeline(preproc, model, memory=cachedir)\n",
    "\n",
    "cross_val_score(pipe_svm_rbf, X, y_log, cv=5, scoring=rmse).mean()\n"
   ]
  },
  {
   "cell_type": "code",
   "execution_count": 70,
   "metadata": {},
   "outputs": [
    {
     "name": "stdout",
     "output_type": "stream",
     "text": [
      "Fitting 5 folds for each of 30 candidates, totalling 150 fits\n",
      "\n",
      "----------------------------------------\n",
      "\n",
      "Best params 👉 {'svr__C': 2, 'svr__epsilon': 0.05}\n",
      "Best score 👉 -0.12625631213212277\n"
     ]
    }
   ],
   "source": [
    "# GridSearch\n",
    "if allow_grid_searching:\n",
    "    param_grid =  {\n",
    "        'svr__C': [0.5, 0.7, 1, 2, 5, 10],\n",
    "        'svr__epsilon': [0.01, 0.05, 0.1, 0.2, 0.5],\n",
    "        #'svr__coef0': [0.0, 0.1, 0.5,1],\n",
    "    }\n",
    "\n",
    "    search_svm_rbf = GridSearchCV(\n",
    "        pipe_svm_rbf,\n",
    "        param_grid=param_grid,\n",
    "        cv=5,\n",
    "        n_jobs=-1,\n",
    "        verbose=2,\n",
    "        scoring=rmse_neg\n",
    "    )\n",
    "\n",
    "    search_svm_rbf.fit(X, y_log);\n",
    "\n",
    "    svm_rbf_best = search_svm_rbf.best_estimator_\n",
    "\n",
    "    print('\\n----------------------------------------\\n')\n",
    "    print(f'Best params 👉 {search_svm_rbf.best_params_}')\n",
    "    print(f'Best score 👉 {search_svm_rbf.best_score_}')\n"
   ]
  },
  {
   "cell_type": "markdown",
   "metadata": {},
   "source": [
    "#### e) Árvores"
   ]
  },
  {
   "cell_type": "code",
   "execution_count": 173,
   "metadata": {},
   "outputs": [
    {
     "name": "stdout",
     "output_type": "stream",
     "text": [
      "0.010003816656193933\n",
      "0.18894277772061635\n"
     ]
    }
   ],
   "source": [
    "model = DecisionTreeRegressor(max_depth=50, min_samples_leaf=20)\n",
    "\n",
    "pipe = make_pipeline(preproc, model, memory=cachedir)\n",
    "\n",
    "score = cross_val_score(pipe, X, y_log, cv=5, scoring=rmse)\n",
    "\n",
    "print(score.std())\n",
    "print(score.mean())\n"
   ]
  },
  {
   "cell_type": "markdown",
   "metadata": {},
   "source": [
    "#### f) Floresta Aleatória"
   ]
  },
  {
   "cell_type": "code",
   "execution_count": 174,
   "metadata": {},
   "outputs": [
    {
     "name": "stdout",
     "output_type": "stream",
     "text": [
      "0.007830970122856846\n",
      "0.16262231978863514\n"
     ]
    }
   ],
   "source": [
    "model = RandomForestRegressor(max_depth=50,min_samples_leaf=20)\n",
    "\n",
    "pipe = make_pipeline(preproc, model, memory=cachedir)\n",
    "\n",
    "score = cross_val_score(pipe, X, y_log, cv=5, scoring=rmse)\n",
    "\n",
    "print(score.std())\n",
    "print(score.mean())\n"
   ]
  },
  {
   "cell_type": "markdown",
   "metadata": {},
   "source": [
    "#### g) Boosted Trees"
   ]
  },
  {
   "cell_type": "code",
   "execution_count": 175,
   "metadata": {},
   "outputs": [
    {
     "name": "stderr",
     "output_type": "stream",
     "text": [
      "C:\\Users\\Inteli\\AppData\\Local\\Packages\\PythonSoftwareFoundation.Python.3.11_qbz5n2kfra8p0\\LocalCache\\local-packages\\Python311\\site-packages\\sklearn\\ensemble\\_base.py:166: FutureWarning: `base_estimator` was renamed to `estimator` in version 1.2 and will be removed in 1.4.\n",
      "  warnings.warn(\n",
      "C:\\Users\\Inteli\\AppData\\Local\\Packages\\PythonSoftwareFoundation.Python.3.11_qbz5n2kfra8p0\\LocalCache\\local-packages\\Python311\\site-packages\\sklearn\\ensemble\\_base.py:166: FutureWarning: `base_estimator` was renamed to `estimator` in version 1.2 and will be removed in 1.4.\n",
      "  warnings.warn(\n",
      "C:\\Users\\Inteli\\AppData\\Local\\Packages\\PythonSoftwareFoundation.Python.3.11_qbz5n2kfra8p0\\LocalCache\\local-packages\\Python311\\site-packages\\sklearn\\ensemble\\_base.py:166: FutureWarning: `base_estimator` was renamed to `estimator` in version 1.2 and will be removed in 1.4.\n",
      "  warnings.warn(\n",
      "C:\\Users\\Inteli\\AppData\\Local\\Packages\\PythonSoftwareFoundation.Python.3.11_qbz5n2kfra8p0\\LocalCache\\local-packages\\Python311\\site-packages\\sklearn\\ensemble\\_base.py:166: FutureWarning: `base_estimator` was renamed to `estimator` in version 1.2 and will be removed in 1.4.\n",
      "  warnings.warn(\n",
      "C:\\Users\\Inteli\\AppData\\Local\\Packages\\PythonSoftwareFoundation.Python.3.11_qbz5n2kfra8p0\\LocalCache\\local-packages\\Python311\\site-packages\\sklearn\\ensemble\\_base.py:166: FutureWarning: `base_estimator` was renamed to `estimator` in version 1.2 and will be removed in 1.4.\n",
      "  warnings.warn(\n"
     ]
    },
    {
     "name": "stdout",
     "output_type": "stream",
     "text": [
      "0.010469277247301649\n",
      "0.1418863249809317\n"
     ]
    }
   ],
   "source": [
    "model = AdaBoostRegressor(base_estimator=DecisionTreeRegressor(max_depth=None))\n",
    "\n",
    "pipe = make_pipeline(preproc, model, memory=cachedir)\n",
    "\n",
    "score = cross_val_score(pipe, X, y_log, cv=5, scoring=rmse)\n",
    "\n",
    "print(score.std())\n",
    "print(score.mean())\n"
   ]
  },
  {
   "cell_type": "code",
   "execution_count": 176,
   "metadata": {},
   "outputs": [
    {
     "name": "stdout",
     "output_type": "stream",
     "text": [
      "0.009919089000814854\n",
      "0.12610926132106953\n"
     ]
    }
   ],
   "source": [
    "model = GradientBoostingRegressor(n_estimators=100, verbose=0)\n",
    "\n",
    "pipe_gb = make_pipeline(preproc, model, memory=cachedir)\n",
    "\n",
    "score = cross_val_score(pipe_gb, X, y_log, cv=5, scoring=rmse)\n",
    "\n",
    "print(score.std())\n",
    "print(score.mean())\n"
   ]
  },
  {
   "cell_type": "code",
   "execution_count": 177,
   "metadata": {},
   "outputs": [
    {
     "ename": "ValueError",
     "evalue": "Domain error in arguments. The `scale` parameter must be positive for all distributions, and many distributions have restrictions on shape parameters. Please see the `scipy.stats.randint` documentation for details.",
     "output_type": "error",
     "traceback": [
      "\u001b[1;31m---------------------------------------------------------------------------\u001b[0m",
      "\u001b[1;31mValueError\u001b[0m                                Traceback (most recent call last)",
      "Cell \u001b[1;32mIn[177], line 15\u001b[0m\n\u001b[0;32m     12\u001b[0m search_gb \u001b[38;5;241m=\u001b[39m RandomizedSearchCV(pipe_gb, grid, scoring\u001b[38;5;241m=\u001b[39mrmse_neg, n_iter\u001b[38;5;241m=\u001b[39m\u001b[38;5;241m8\u001b[39m, cv\u001b[38;5;241m=\u001b[39m\u001b[38;5;241m5\u001b[39m, n_jobs\u001b[38;5;241m=\u001b[39m\u001b[38;5;241m1\u001b[39m, verbose\u001b[38;5;241m=\u001b[39m\u001b[38;5;241m2\u001b[39m)\n\u001b[0;32m     14\u001b[0m \u001b[38;5;66;03m# Fit data to GridSearch\u001b[39;00m\n\u001b[1;32m---> 15\u001b[0m \u001b[43msearch_gb\u001b[49m\u001b[38;5;241;43m.\u001b[39;49m\u001b[43mfit\u001b[49m\u001b[43m(\u001b[49m\u001b[43mX\u001b[49m\u001b[43m,\u001b[49m\u001b[43m \u001b[49m\u001b[43my_log\u001b[49m\u001b[43m)\u001b[49m;\n\u001b[0;32m     17\u001b[0m \u001b[38;5;28mprint\u001b[39m(\u001b[38;5;124m'\u001b[39m\u001b[38;5;130;01m\\n\u001b[39;00m\u001b[38;5;124m----------------------------------------\u001b[39m\u001b[38;5;130;01m\\n\u001b[39;00m\u001b[38;5;124m'\u001b[39m)\n\u001b[0;32m     18\u001b[0m \u001b[38;5;28mprint\u001b[39m(\u001b[38;5;124mf\u001b[39m\u001b[38;5;124m'\u001b[39m\u001b[38;5;124mBest params 👉 \u001b[39m\u001b[38;5;132;01m{\u001b[39;00msearch_gb\u001b[38;5;241m.\u001b[39mbest_params_\u001b[38;5;132;01m}\u001b[39;00m\u001b[38;5;124m'\u001b[39m)\n",
      "File \u001b[1;32m~\\AppData\\Local\\Packages\\PythonSoftwareFoundation.Python.3.11_qbz5n2kfra8p0\\LocalCache\\local-packages\\Python311\\site-packages\\sklearn\\model_selection\\_search.py:874\u001b[0m, in \u001b[0;36mBaseSearchCV.fit\u001b[1;34m(self, X, y, groups, **fit_params)\u001b[0m\n\u001b[0;32m    868\u001b[0m     results \u001b[38;5;241m=\u001b[39m \u001b[38;5;28mself\u001b[39m\u001b[38;5;241m.\u001b[39m_format_results(\n\u001b[0;32m    869\u001b[0m         all_candidate_params, n_splits, all_out, all_more_results\n\u001b[0;32m    870\u001b[0m     )\n\u001b[0;32m    872\u001b[0m     \u001b[38;5;28;01mreturn\u001b[39;00m results\n\u001b[1;32m--> 874\u001b[0m \u001b[38;5;28;43mself\u001b[39;49m\u001b[38;5;241;43m.\u001b[39;49m\u001b[43m_run_search\u001b[49m\u001b[43m(\u001b[49m\u001b[43mevaluate_candidates\u001b[49m\u001b[43m)\u001b[49m\n\u001b[0;32m    876\u001b[0m \u001b[38;5;66;03m# multimetric is determined here because in the case of a callable\u001b[39;00m\n\u001b[0;32m    877\u001b[0m \u001b[38;5;66;03m# self.scoring the return type is only known after calling\u001b[39;00m\n\u001b[0;32m    878\u001b[0m first_test_score \u001b[38;5;241m=\u001b[39m all_out[\u001b[38;5;241m0\u001b[39m][\u001b[38;5;124m\"\u001b[39m\u001b[38;5;124mtest_scores\u001b[39m\u001b[38;5;124m\"\u001b[39m]\n",
      "File \u001b[1;32m~\\AppData\\Local\\Packages\\PythonSoftwareFoundation.Python.3.11_qbz5n2kfra8p0\\LocalCache\\local-packages\\Python311\\site-packages\\sklearn\\model_selection\\_search.py:1768\u001b[0m, in \u001b[0;36mRandomizedSearchCV._run_search\u001b[1;34m(self, evaluate_candidates)\u001b[0m\n\u001b[0;32m   1766\u001b[0m \u001b[38;5;28;01mdef\u001b[39;00m \u001b[38;5;21m_run_search\u001b[39m(\u001b[38;5;28mself\u001b[39m, evaluate_candidates):\n\u001b[0;32m   1767\u001b[0m \u001b[38;5;250m    \u001b[39m\u001b[38;5;124;03m\"\"\"Search n_iter candidates from param_distributions\"\"\"\u001b[39;00m\n\u001b[1;32m-> 1768\u001b[0m     \u001b[43mevaluate_candidates\u001b[49m\u001b[43m(\u001b[49m\n\u001b[0;32m   1769\u001b[0m \u001b[43m        \u001b[49m\u001b[43mParameterSampler\u001b[49m\u001b[43m(\u001b[49m\n\u001b[0;32m   1770\u001b[0m \u001b[43m            \u001b[49m\u001b[38;5;28;43mself\u001b[39;49m\u001b[38;5;241;43m.\u001b[39;49m\u001b[43mparam_distributions\u001b[49m\u001b[43m,\u001b[49m\u001b[43m \u001b[49m\u001b[38;5;28;43mself\u001b[39;49m\u001b[38;5;241;43m.\u001b[39;49m\u001b[43mn_iter\u001b[49m\u001b[43m,\u001b[49m\u001b[43m \u001b[49m\u001b[43mrandom_state\u001b[49m\u001b[38;5;241;43m=\u001b[39;49m\u001b[38;5;28;43mself\u001b[39;49m\u001b[38;5;241;43m.\u001b[39;49m\u001b[43mrandom_state\u001b[49m\n\u001b[0;32m   1771\u001b[0m \u001b[43m        \u001b[49m\u001b[43m)\u001b[49m\n\u001b[0;32m   1772\u001b[0m \u001b[43m    \u001b[49m\u001b[43m)\u001b[49m\n",
      "File \u001b[1;32m~\\AppData\\Local\\Packages\\PythonSoftwareFoundation.Python.3.11_qbz5n2kfra8p0\\LocalCache\\local-packages\\Python311\\site-packages\\sklearn\\model_selection\\_search.py:810\u001b[0m, in \u001b[0;36mBaseSearchCV.fit.<locals>.evaluate_candidates\u001b[1;34m(candidate_params, cv, more_results)\u001b[0m\n\u001b[0;32m    808\u001b[0m \u001b[38;5;28;01mdef\u001b[39;00m \u001b[38;5;21mevaluate_candidates\u001b[39m(candidate_params, cv\u001b[38;5;241m=\u001b[39m\u001b[38;5;28;01mNone\u001b[39;00m, more_results\u001b[38;5;241m=\u001b[39m\u001b[38;5;28;01mNone\u001b[39;00m):\n\u001b[0;32m    809\u001b[0m     cv \u001b[38;5;241m=\u001b[39m cv \u001b[38;5;129;01mor\u001b[39;00m cv_orig\n\u001b[1;32m--> 810\u001b[0m     candidate_params \u001b[38;5;241m=\u001b[39m \u001b[38;5;28;43mlist\u001b[39;49m\u001b[43m(\u001b[49m\u001b[43mcandidate_params\u001b[49m\u001b[43m)\u001b[49m\n\u001b[0;32m    811\u001b[0m     n_candidates \u001b[38;5;241m=\u001b[39m \u001b[38;5;28mlen\u001b[39m(candidate_params)\n\u001b[0;32m    813\u001b[0m     \u001b[38;5;28;01mif\u001b[39;00m \u001b[38;5;28mself\u001b[39m\u001b[38;5;241m.\u001b[39mverbose \u001b[38;5;241m>\u001b[39m \u001b[38;5;241m0\u001b[39m:\n",
      "File \u001b[1;32m~\\AppData\\Local\\Packages\\PythonSoftwareFoundation.Python.3.11_qbz5n2kfra8p0\\LocalCache\\local-packages\\Python311\\site-packages\\sklearn\\model_selection\\_search.py:323\u001b[0m, in \u001b[0;36mParameterSampler.__iter__\u001b[1;34m(self)\u001b[0m\n\u001b[0;32m    321\u001b[0m \u001b[38;5;28;01mfor\u001b[39;00m k, v \u001b[38;5;129;01min\u001b[39;00m items:\n\u001b[0;32m    322\u001b[0m     \u001b[38;5;28;01mif\u001b[39;00m \u001b[38;5;28mhasattr\u001b[39m(v, \u001b[38;5;124m\"\u001b[39m\u001b[38;5;124mrvs\u001b[39m\u001b[38;5;124m\"\u001b[39m):\n\u001b[1;32m--> 323\u001b[0m         params[k] \u001b[38;5;241m=\u001b[39m \u001b[43mv\u001b[49m\u001b[38;5;241;43m.\u001b[39;49m\u001b[43mrvs\u001b[49m\u001b[43m(\u001b[49m\u001b[43mrandom_state\u001b[49m\u001b[38;5;241;43m=\u001b[39;49m\u001b[43mrng\u001b[49m\u001b[43m)\u001b[49m\n\u001b[0;32m    324\u001b[0m     \u001b[38;5;28;01melse\u001b[39;00m:\n\u001b[0;32m    325\u001b[0m         params[k] \u001b[38;5;241m=\u001b[39m v[rng\u001b[38;5;241m.\u001b[39mrandint(\u001b[38;5;28mlen\u001b[39m(v))]\n",
      "File \u001b[1;32m~\\AppData\\Local\\Packages\\PythonSoftwareFoundation.Python.3.11_qbz5n2kfra8p0\\LocalCache\\local-packages\\Python311\\site-packages\\scipy\\stats\\_distn_infrastructure.py:468\u001b[0m, in \u001b[0;36mrv_frozen.rvs\u001b[1;34m(self, size, random_state)\u001b[0m\n\u001b[0;32m    466\u001b[0m kwds \u001b[38;5;241m=\u001b[39m \u001b[38;5;28mself\u001b[39m\u001b[38;5;241m.\u001b[39mkwds\u001b[38;5;241m.\u001b[39mcopy()\n\u001b[0;32m    467\u001b[0m kwds\u001b[38;5;241m.\u001b[39mupdate({\u001b[38;5;124m'\u001b[39m\u001b[38;5;124msize\u001b[39m\u001b[38;5;124m'\u001b[39m: size, \u001b[38;5;124m'\u001b[39m\u001b[38;5;124mrandom_state\u001b[39m\u001b[38;5;124m'\u001b[39m: random_state})\n\u001b[1;32m--> 468\u001b[0m \u001b[38;5;28;01mreturn\u001b[39;00m \u001b[38;5;28;43mself\u001b[39;49m\u001b[38;5;241;43m.\u001b[39;49m\u001b[43mdist\u001b[49m\u001b[38;5;241;43m.\u001b[39;49m\u001b[43mrvs\u001b[49m\u001b[43m(\u001b[49m\u001b[38;5;241;43m*\u001b[39;49m\u001b[38;5;28;43mself\u001b[39;49m\u001b[38;5;241;43m.\u001b[39;49m\u001b[43margs\u001b[49m\u001b[43m,\u001b[49m\u001b[43m \u001b[49m\u001b[38;5;241;43m*\u001b[39;49m\u001b[38;5;241;43m*\u001b[39;49m\u001b[43mkwds\u001b[49m\u001b[43m)\u001b[49m\n",
      "File \u001b[1;32m~\\AppData\\Local\\Packages\\PythonSoftwareFoundation.Python.3.11_qbz5n2kfra8p0\\LocalCache\\local-packages\\Python311\\site-packages\\scipy\\stats\\_distn_infrastructure.py:3357\u001b[0m, in \u001b[0;36mrv_discrete.rvs\u001b[1;34m(self, *args, **kwargs)\u001b[0m\n\u001b[0;32m   3328\u001b[0m \u001b[38;5;250m\u001b[39m\u001b[38;5;124;03m\"\"\"Random variates of given type.\u001b[39;00m\n\u001b[0;32m   3329\u001b[0m \n\u001b[0;32m   3330\u001b[0m \u001b[38;5;124;03mParameters\u001b[39;00m\n\u001b[1;32m   (...)\u001b[0m\n\u001b[0;32m   3354\u001b[0m \n\u001b[0;32m   3355\u001b[0m \u001b[38;5;124;03m\"\"\"\u001b[39;00m\n\u001b[0;32m   3356\u001b[0m kwargs[\u001b[38;5;124m'\u001b[39m\u001b[38;5;124mdiscrete\u001b[39m\u001b[38;5;124m'\u001b[39m] \u001b[38;5;241m=\u001b[39m \u001b[38;5;28;01mTrue\u001b[39;00m\n\u001b[1;32m-> 3357\u001b[0m \u001b[38;5;28;01mreturn\u001b[39;00m \u001b[38;5;28;43msuper\u001b[39;49m\u001b[43m(\u001b[49m\u001b[43m)\u001b[49m\u001b[38;5;241;43m.\u001b[39;49m\u001b[43mrvs\u001b[49m\u001b[43m(\u001b[49m\u001b[38;5;241;43m*\u001b[39;49m\u001b[43margs\u001b[49m\u001b[43m,\u001b[49m\u001b[43m \u001b[49m\u001b[38;5;241;43m*\u001b[39;49m\u001b[38;5;241;43m*\u001b[39;49m\u001b[43mkwargs\u001b[49m\u001b[43m)\u001b[49m\n",
      "File \u001b[1;32m~\\AppData\\Local\\Packages\\PythonSoftwareFoundation.Python.3.11_qbz5n2kfra8p0\\LocalCache\\local-packages\\Python311\\site-packages\\scipy\\stats\\_distn_infrastructure.py:1036\u001b[0m, in \u001b[0;36mrv_generic.rvs\u001b[1;34m(self, *args, **kwds)\u001b[0m\n\u001b[0;32m   1030\u001b[0m \u001b[38;5;28;01mif\u001b[39;00m \u001b[38;5;129;01mnot\u001b[39;00m np\u001b[38;5;241m.\u001b[39mall(cond):\n\u001b[0;32m   1031\u001b[0m     message \u001b[38;5;241m=\u001b[39m (\u001b[38;5;124m\"\u001b[39m\u001b[38;5;124mDomain error in arguments. The `scale` parameter must \u001b[39m\u001b[38;5;124m\"\u001b[39m\n\u001b[0;32m   1032\u001b[0m                \u001b[38;5;124m\"\u001b[39m\u001b[38;5;124mbe positive for all distributions, and many \u001b[39m\u001b[38;5;124m\"\u001b[39m\n\u001b[0;32m   1033\u001b[0m                \u001b[38;5;124m\"\u001b[39m\u001b[38;5;124mdistributions have restrictions on shape parameters. \u001b[39m\u001b[38;5;124m\"\u001b[39m\n\u001b[0;32m   1034\u001b[0m                \u001b[38;5;124mf\u001b[39m\u001b[38;5;124m\"\u001b[39m\u001b[38;5;124mPlease see the `scipy.stats.\u001b[39m\u001b[38;5;132;01m{\u001b[39;00m\u001b[38;5;28mself\u001b[39m\u001b[38;5;241m.\u001b[39mname\u001b[38;5;132;01m}\u001b[39;00m\u001b[38;5;124m` \u001b[39m\u001b[38;5;124m\"\u001b[39m\n\u001b[0;32m   1035\u001b[0m                \u001b[38;5;124m\"\u001b[39m\u001b[38;5;124mdocumentation for details.\u001b[39m\u001b[38;5;124m\"\u001b[39m)\n\u001b[1;32m-> 1036\u001b[0m     \u001b[38;5;28;01mraise\u001b[39;00m \u001b[38;5;167;01mValueError\u001b[39;00m(message)\n\u001b[0;32m   1038\u001b[0m \u001b[38;5;28;01mif\u001b[39;00m np\u001b[38;5;241m.\u001b[39mall(scale \u001b[38;5;241m==\u001b[39m \u001b[38;5;241m0\u001b[39m):\n\u001b[0;32m   1039\u001b[0m     \u001b[38;5;28;01mreturn\u001b[39;00m loc\u001b[38;5;241m*\u001b[39mones(size, \u001b[38;5;124m'\u001b[39m\u001b[38;5;124md\u001b[39m\u001b[38;5;124m'\u001b[39m)\n",
      "\u001b[1;31mValueError\u001b[0m: Domain error in arguments. The `scale` parameter must be positive for all distributions, and many distributions have restrictions on shape parameters. Please see the `scipy.stats.randint` documentation for details."
     ]
    }
   ],
   "source": [
    "if allow_grid_searching:\n",
    "     grid = {\n",
    "          'gradientboostingregressor__n_estimators': stats.randint(50,300),\n",
    "          'gradientboostingregressor__learning_rate': stats.uniform(0.05, 0.3),\n",
    "          'gradientboostingregressor__loss': ['lad', 'huber', 'quantile'],\n",
    "          'gradientboostingregressor__max_depth': stats.randint(3, 5),\n",
    "          'gradientboostingregressor__min_samples_split': stats.randint(2, 10),\n",
    "          'gradientboostingregressor__subsample': [0.95, 1], # 1 default\n",
    "          'gradientboostingregressor__max_features': stats.randint(0.9, len(X.columns)) # default None, i.e = n_features\n",
    "     }\n",
    "\n",
    "     search_gb = RandomizedSearchCV(pipe_gb, grid, scoring=rmse_neg, n_iter=8, cv=5, n_jobs=1, verbose=2)\n",
    "\n",
    "     # Fit data to GridSearch\n",
    "     search_gb.fit(X, y_log);\n",
    "\n",
    "     print('\\n----------------------------------------\\n')\n",
    "     print(f'Best params 👉 {search_gb.best_params_}')\n",
    "     print(f'Best score 👉 {search_gb.best_score_}')\n",
    "\n",
    "     # Plot results of GridSearch\n",
    "     df_cv_results_ = pd.DataFrame(search_gb.cv_results_)\n",
    "\n",
    "     sns.scatterplot(x=\"param_gradientboostingregressor__n_estimators\", y='mean_test_score', data=df_cv_results_)\n",
    "     sns.scatterplot(x=\"param_gradientboostingregressor__max_features\", y='mean_test_score', data=df_cv_results_)\n"
   ]
  },
  {
   "cell_type": "markdown",
   "metadata": {},
   "source": [
    "#### h) Stacking"
   ]
  },
  {
   "cell_type": "code",
   "execution_count": 178,
   "metadata": {},
   "outputs": [
    {
     "name": "stdout",
     "output_type": "stream",
     "text": [
      "0.011107430380106998\n",
      "0.12071481428910498\n"
     ]
    }
   ],
   "source": [
    "gboost = GradientBoostingRegressor(n_estimators=100)\n",
    "ridge = Ridge()\n",
    "svm = SVR(C=1, epsilon=0.05)\n",
    "adaboost = AdaBoostRegressor(base_estimator=DecisionTreeRegressor(max_depth=None))\n",
    "\n",
    "\n",
    "model = VotingRegressor(\n",
    "    estimators = [(\"gboost\", gboost), (\"adaboost\", adaboost), (\"ridge\", ridge), (\"svm_rbf\", svm)],\n",
    "    weights = [1, 1, 1, 1], # to equally weight the models\n",
    "    n_jobs=-1\n",
    ")\n",
    "\n",
    "pipe_ensemble = make_pipeline(preproc, model, memory=cachedir)\n",
    "\n",
    "score = cross_val_score(pipe_ensemble, X, y_log, cv=5, scoring=rmse, n_jobs=-1)\n",
    "\n",
    "print(score.std())\n",
    "print(score.mean())\n"
   ]
  },
  {
   "cell_type": "code",
   "execution_count": 179,
   "metadata": {},
   "outputs": [
    {
     "name": "stdout",
     "output_type": "stream",
     "text": [
      "0.010987543687295678\n",
      "0.12043450859852918\n"
     ]
    }
   ],
   "source": [
    "gboost = GradientBoostingRegressor(n_estimators=100)\n",
    "ridge = Ridge()\n",
    "svm = SVR(C=1, epsilon=0.05)\n",
    "adaboost = AdaBoostRegressor(base_estimator=DecisionTreeRegressor(max_depth=None))\n",
    "\n",
    "model = StackingRegressor(\n",
    "    estimators=[(\"gboost\", gboost), (\"adaboost\", adaboost), (\"ridge\", ridge), (\"svm_rbf\", svm)],\n",
    "    final_estimator=LinearRegression(),\n",
    "    cv=5,\n",
    "    n_jobs=-1\n",
    ")\n",
    "\n",
    "pipe_stacking = make_pipeline(preproc, model, memory=cachedir)\n",
    "\n",
    "score = cross_val_score(pipe_stacking, X, y_log, cv=5, scoring=rmse, n_jobs=-1)\n",
    "\n",
    "print(score.std())\n",
    "print(score.mean())\n"
   ]
  },
  {
   "cell_type": "markdown",
   "metadata": {},
   "source": [
    "#### i) XGBoost"
   ]
  },
  {
   "cell_type": "code",
   "execution_count": 180,
   "metadata": {},
   "outputs": [],
   "source": [
    "# Cria um teste de avaliação apenas para fins de parada antecipada (XGBOOST e Deep Learning)\n",
    "X_train, X_eval, y_train_log, y_eval_log = train_test_split(X, y_log, random_state=42)\n"
   ]
  },
  {
   "cell_type": "code",
   "execution_count": 181,
   "metadata": {},
   "outputs": [],
   "source": [
    "# Instanciar modelo\n",
    "model_xgb = XGBRegressor(max_depth=10, n_estimators=300, learning_rate=0.1)\n"
   ]
  },
  {
   "cell_type": "code",
   "execution_count": 182,
   "metadata": {},
   "outputs": [
    {
     "data": {
      "text/plain": [
       "0.14913567347285023"
      ]
     },
     "execution_count": 182,
     "metadata": {},
     "output_type": "execute_result"
    }
   ],
   "source": [
    "# Opção 1: Integrar XGB ao pipeline do Sklearn\n",
    "# Permite GridSearchCV seus melhores hiperparâmetros\n",
    "pipe_xgb = make_pipeline(preproc, model_xgb)\n",
    "\n",
    "cross_val_score(pipe_xgb, X, y_log, cv=5, scoring=rmse, n_jobs=-1).mean()\n"
   ]
  },
  {
   "cell_type": "code",
   "execution_count": 183,
   "metadata": {
    "tags": [
     "delete_end"
    ]
   },
   "outputs": [
    {
     "name": "stderr",
     "output_type": "stream",
     "text": [
      "C:\\Users\\Inteli\\AppData\\Local\\Packages\\PythonSoftwareFoundation.Python.3.11_qbz5n2kfra8p0\\LocalCache\\local-packages\\Python311\\site-packages\\xgboost\\sklearn.py:889: UserWarning: `eval_metric` in `fit` method is deprecated for better compatibility with scikit-learn, use `eval_metric` in constructor or`set_params` instead.\n",
      "  warnings.warn(\n",
      "C:\\Users\\Inteli\\AppData\\Local\\Packages\\PythonSoftwareFoundation.Python.3.11_qbz5n2kfra8p0\\LocalCache\\local-packages\\Python311\\site-packages\\xgboost\\sklearn.py:889: UserWarning: `early_stopping_rounds` in `fit` method is deprecated for better compatibility with scikit-learn, use `early_stopping_rounds` in constructor or`set_params` instead.\n",
      "  warnings.warn(\n"
     ]
    },
    {
     "name": "stdout",
     "output_type": "stream",
     "text": [
      "Best Validation Score 0.15119824299185256\n"
     ]
    },
    {
     "data": {
      "image/png": "[encoded data removed]",
      "text/plain": [
       "<Figure size 640x480 with 1 Axes>"
      ]
     },
     "metadata": {},
     "output_type": "display_data"
    }
   ],
   "source": [
    "# Opção 2: Use a biblioteca XGBoost para ajustá-la\n",
    "# Permite que você use um critério `early_stopping` com uma fenda Train/Val\n",
    "X_train_preproc = preproc.fit_transform(X_train, y_train_log)\n",
    "X_eval_preproc = preproc.transform(X_eval)\n",
    "\n",
    "model_xgb.fit(\n",
    "    X_train_preproc,\n",
    "    y_train_log,\n",
    "    verbose=False,\n",
    "    eval_set=[(X_train_preproc, y_train_log), (X_eval_preproc, y_eval_log)],\n",
    "    eval_metric=[\"rmse\"],\n",
    "    early_stopping_rounds=10\n",
    ")\n",
    "\n",
    "# Retrieve performance metrics\n",
    "results = model_xgb.evals_result()\n",
    "epochs = len(results['validation_0'][\"rmse\"])\n",
    "x_axis = range(0, epochs)\n",
    "\n",
    "# Plot RMSLE loss\n",
    "fig, ax = plt.subplots()\n",
    "\n",
    "ax.plot(x_axis, results['validation_0']['rmse'], label='Train')\n",
    "ax.plot(x_axis, results['validation_1']['rmse'], label='Val')\n",
    "ax.legend(); plt.ylabel('RMSE (of log)'); plt.title('XGBoost Log Loss')\n",
    "\n",
    "print(\"Best Validation Score\", min(results['validation_1']['rmse']))\n"
   ]
  },
  {
   "cell_type": "markdown",
   "metadata": {},
   "source": [
    "# 🏅 APRESENTAÇÃO FINAL"
   ]
  },
  {
   "cell_type": "markdown",
   "metadata": {},
   "source": [
    "Descubra sua pontuação real no teste enviando para o Kaggle!"
   ]
  },
  {
   "cell_type": "code",
   "execution_count": 184,
   "metadata": {
    "tags": [
     "challengify"
    ]
   },
   "outputs": [],
   "source": [
    "X_test = pd.read_csv(\"data/houses_test_raw.csv\")\n",
    "\n",
    "X_test_ids = X_test['Id'] # Keep ids\n",
    "X_test = X_test.drop(columns=['Id'])\n"
   ]
  },
  {
   "cell_type": "code",
   "execution_count": 185,
   "metadata": {},
   "outputs": [],
   "source": [
    "# Adicionando colunas ao X_test de acordo com o que fizemos no X\n",
    "X_test['sin_MoSold'] = np.sin(2 * np.pi * (X_test.MoSold - 1) / months_in_a_year)\n",
    "X_test['cos_MoSold'] = np.cos(2 * np.pi * (X_test.MoSold - 1) / months_in_a_year)\n",
    "\n",
    "X_test.drop(columns=['MoSold'], inplace=True)\n"
   ]
  },
  {
   "cell_type": "code",
   "execution_count": 193,
   "metadata": {
    "tags": [
     "delete_begin"
    ]
   },
   "outputs": [],
   "source": [
    "pipe_stacking.fit(X, y_log)\n",
    "\n",
    "predictions_log = pipe_stacking.predict(X_test)\n",
    "predictions = np.exp(predictions_log)\n"
   ]
  },
  {
   "cell_type": "code",
   "execution_count": 194,
   "metadata": {},
   "outputs": [
    {
     "data": {
      "text/html": [
       "<div>\n",
       "<style scoped>\n",
       "    .dataframe tbody tr th:only-of-type {\n",
       "        vertical-align: middle;\n",
       "    }\n",
       "\n",
       "    .dataframe tbody tr th {\n",
       "        vertical-align: top;\n",
       "    }\n",
       "\n",
       "    .dataframe thead th {\n",
       "        text-align: right;\n",
       "    }\n",
       "</style>\n",
       "<table border=\"1\" class=\"dataframe\">\n",
       "  <thead>\n",
       "    <tr style=\"text-align: right;\">\n",
       "      <th></th>\n",
       "      <th>Id</th>\n",
       "      <th>SalePrice</th>\n",
       "    </tr>\n",
       "  </thead>\n",
       "  <tbody>\n",
       "    <tr>\n",
       "      <th>0</th>\n",
       "      <td>1461</td>\n",
       "      <td>119148.608216</td>\n",
       "    </tr>\n",
       "    <tr>\n",
       "      <th>1</th>\n",
       "      <td>1462</td>\n",
       "      <td>155470.380870</td>\n",
       "    </tr>\n",
       "    <tr>\n",
       "      <th>2</th>\n",
       "      <td>1463</td>\n",
       "      <td>179072.645375</td>\n",
       "    </tr>\n",
       "    <tr>\n",
       "      <th>3</th>\n",
       "      <td>1464</td>\n",
       "      <td>189459.453923</td>\n",
       "    </tr>\n",
       "    <tr>\n",
       "      <th>4</th>\n",
       "      <td>1465</td>\n",
       "      <td>193683.453220</td>\n",
       "    </tr>\n",
       "    <tr>\n",
       "      <th>...</th>\n",
       "      <td>...</td>\n",
       "      <td>...</td>\n",
       "    </tr>\n",
       "    <tr>\n",
       "      <th>1454</th>\n",
       "      <td>2915</td>\n",
       "      <td>77617.240354</td>\n",
       "    </tr>\n",
       "    <tr>\n",
       "      <th>1455</th>\n",
       "      <td>2916</td>\n",
       "      <td>79219.913813</td>\n",
       "    </tr>\n",
       "    <tr>\n",
       "      <th>1456</th>\n",
       "      <td>2917</td>\n",
       "      <td>166845.204197</td>\n",
       "    </tr>\n",
       "    <tr>\n",
       "      <th>1457</th>\n",
       "      <td>2918</td>\n",
       "      <td>113196.965282</td>\n",
       "    </tr>\n",
       "    <tr>\n",
       "      <th>1458</th>\n",
       "      <td>2919</td>\n",
       "      <td>226725.583054</td>\n",
       "    </tr>\n",
       "  </tbody>\n",
       "</table>\n",
       "<p>1459 rows × 2 columns</p>\n",
       "</div>"
      ],
      "text/plain": [
       "        Id      SalePrice\n",
       "0     1461  119148.608216\n",
       "1     1462  155470.380870\n",
       "2     1463  179072.645375\n",
       "3     1464  189459.453923\n",
       "4     1465  193683.453220\n",
       "...    ...            ...\n",
       "1454  2915   77617.240354\n",
       "1455  2916   79219.913813\n",
       "1456  2917  166845.204197\n",
       "1457  2918  113196.965282\n",
       "1458  2919  226725.583054\n",
       "\n",
       "[1459 rows x 2 columns]"
      ]
     },
     "execution_count": 194,
     "metadata": {},
     "output_type": "execute_result"
    }
   ],
   "source": [
    "results = pd.concat([X_test_ids, pd.Series(predictions, name=\"SalePrice\")], axis=1)\n",
    "results\n"
   ]
  },
  {
   "cell_type": "code",
   "execution_count": 195,
   "metadata": {},
   "outputs": [],
   "source": [
    "# Exporte os resultados\n",
    "results.to_csv(\"data/submission_final.csv\", header=True, index=False)\n"
   ]
  },
  {
   "cell_type": "markdown",
   "metadata": {},
   "source": [
    "## Agora vamos para a nossa ponderada!\n",
    "\n",
    "1. Descreva aqui as diferenças de treinamento que você encontrou entre os treinamentos de Ensemble. Passe por todos os métodos. \n",
    "2. Descreva as modificações que você porpôs.\n",
    "\n",
    "Abra uma nova célula para a resposta."
   ]
  },
  {
   "cell_type": "markdown",
   "metadata": {},
   "source": [
    "# **Descrição dos modelos usados no método ensemble**"
   ]
  },
  {
   "cell_type": "markdown",
   "metadata": {},
   "source": [
    "### Modelos Lineares (Lasso, Ridge, ElasticNet, SGDRegressor, etc.)"
   ]
  },
  {
   "cell_type": "markdown",
   "metadata": {},
   "source": [
    "Ao analisar os diferentes treinamentos de Ensemble, começando com modelos lineares como Lasso, Ridge, ElasticNet e SGD Regressor, observam-se nuances interessantes no código. Inicialmente, ao treinar o Ridge sem a transformação do target, utilizando o RMSLE como métrica, o desempenho não é otimizado.\n",
    "\n",
    "Em seguida, exploramos o treinamento do Ridge com o logaritmo natural do target. Essa abordagem, avaliada pelo RMSE, mostra uma melhoria significativa no desempenho do modelo. A transformação logarítmica do target parece ser adequada para lidar com as características específicas dos dados, proporcionando resultados mais precisos.\n",
    "\n",
    "O código também inclui uma etapa de GridSearch para otimizar o hiperparâmetro alpha do Ridge. Esse processo de busca em grade é crucial para encontrar a melhor configuração do modelo. Notavelmente, durante essa otimização, mantivemos a consistência ao manter o target como log-transformado, garantindo uma abordagem coesa em todo o processo.\n",
    "\n",
    "Em resumo, ao incorporar diferentes estratégias de treinamento nos modelos lineares, ajusta-se o desempenho e a eficácia do Ridge, destacando a importância de escolher a abordagem certa para o problema em questão. O uso inteligente de métricas e transformações no target revela-se vital para alcançar resultados mais precisos e robustos no treinamento desses modelos lineares."
   ]
  },
  {
   "cell_type": "markdown",
   "metadata": {},
   "source": [
    "### KNN"
   ]
  },
  {
   "cell_type": "markdown",
   "metadata": {},
   "source": [
    "Ao examinar o treinamento do modelo KNN (K-Nearest Neighbors), notamos uma abordagem sistemática para ajustar seu desempenho. Inicialmente, o código apresenta a construção de um pipeline que inclui o pré-processamento dos dados e o modelo KNN. Ao utilizar a métrica RMSE em um treinamento cruzado com logaritmo natural do target, avaliamos o desempenho médio do modelo.\n",
    "\n",
    "Após a avaliação inicial, o código prossegue com uma busca em grade para otimizar o hiperparâmetro `n_neighbors` do KNN. Esta busca abrange diferentes valores para `n_neighbors` e é realizada utilizando o GridSearchCV. Esta abordagem sistemática permite identificar o número ideal de vizinhos para maximizar a eficácia do modelo.\n",
    "\n",
    "É importante destacar que a escolha da métrica RMSE e a transformação logarítmica do target são consistentes em todo o processo, garantindo uma comparação justa entre as configurações do modelo.\n",
    "\n",
    "Em resumo, ao treinar o modelo KNN, o código demonstra a importância de ajustar cuidadosamente os hiperparâmetros para obter o melhor desempenho. A busca em grade se revela uma ferramenta valiosa para explorar e identificar a configuração ideal do modelo, enquanto a escolha criteriosa da métrica contribui para uma avaliação precisa e coerente do desempenho do KNN."
   ]
  },
  {
   "cell_type": "markdown",
   "metadata": {},
   "source": [
    "### SVM"
   ]
  },
  {
   "cell_type": "markdown",
   "metadata": {},
   "source": [
    "Ao explorar o treinamento do modelo SVM (Support Vector Machine), percebemos uma abordagem estruturada para otimizar seu desempenho. O código começa construindo dois pipelines distintos para SVM: um com kernel linear e outro com kernel RBF (Radial Basis Function).\n",
    "\n",
    "O treinamento inicial avalia o desempenho do SVM com kernel linear usando a métrica RMSE em um processo de validação cruzada com logaritmo natural do target. Essa avaliação fornece uma medida média do desempenho do modelo sob diferentes divisões dos dados.\n",
    "\n",
    "O código prossegue ao treinar um SVM com kernel RBF e um parâmetro de regularização específico (C = 10). Novamente, o desempenho é avaliado por meio de validação cruzada usando RMSE.\n",
    "\n",
    "Uma etapa crucial é a busca em grade realizada para otimizar os hiperparâmetros do SVM com kernel RBF. Essa busca varia os valores de `C` e `epsilon`, permitindo uma exploração abrangente do espaço de hiperparâmetros. O GridSearchCV é empregado para identificar a combinação mais eficaz de hiperparâmetros.\n",
    "\n",
    "É notável que o código incorpora um controle adicional, `allow_grid_searching`, para condicionalmente executar a busca em grade. Isso é útil quando se deseja controlar se a busca em grade deve ser realizada, proporcionando flexibilidade no processo de ajuste do modelo.\n",
    "\n",
    "Em resumo, o código aborda o treinamento do SVM de duas maneiras: primeiro, utilizando kernel linear e, em seguida, empregando kernel RBF com uma busca em grade para ajustar os hiperparâmetros. Isso reflete uma abordagem sistemática e organizada para explorar o espaço de configuração do SVM e maximizar seu desempenho."
   ]
  },
  {
   "cell_type": "markdown",
   "metadata": {},
   "source": [
    "### Decision Tree Regressor"
   ]
  },
  {
   "cell_type": "markdown",
   "metadata": {},
   "source": [
    "A análise do treinamento do modelo Decision Tree Regressor revela uma abordagem específica na configuração do modelo e na avaliação de seu desempenho.\n",
    "\n",
    "O código começa instanciando um Decision Tree Regressor com hiperparâmetros específicos, onde `max_depth` é definido como 50 e `min_samples_leaf` como 20. Esses valores podem influenciar significativamente a complexidade e a generalização do modelo de árvore de decisão.\n",
    "\n",
    "Em seguida, um pipeline é criado, encapsulando o modelo Decision Tree, um processo de pré-processamento (`preproc`), e utilizando armazenamento em cache para otimizar o desempenho computacional.\n",
    "\n",
    "O treinamento do modelo é realizado por meio de validação cruzada com o logaritmo natural do target (`y_log`) como variável resposta. A métrica RMSE é utilizada para avaliar o desempenho do modelo em cada dobra da validação cruzada.\n",
    "\n",
    "Após o treinamento, são apresentados dois resultados importantes. O primeiro é o desvio padrão (`std()`) das pontuações de desempenho em diferentes dobras da validação cruzada. Isso fornece uma medida da variabilidade do desempenho do modelo em conjuntos de dados diferentes. O segundo resultado é a média (`mean()`) das pontuações de desempenho, indicando a eficácia geral do modelo.\n",
    "\n",
    "Essa abordagem evidencia a importância de ajustar cuidadosamente os hiperparâmetros do Decision Tree Regressor para otimizar o equilíbrio entre complexidade e capacidade de generalização do modelo. O uso de validação cruzada fornece uma avaliação robusta e imparcial do desempenho do modelo em diferentes subconjuntos de dados."
   ]
  },
  {
   "cell_type": "markdown",
   "metadata": {},
   "source": [
    "### Random forest"
   ]
  },
  {
   "cell_type": "markdown",
   "metadata": {},
   "source": [
    "A análise do treinamento do modelo RandomForest Regressor destaca uma abordagem semelhante à anterior, mas com a utilização de um ensemble de árvores de decisão.\n",
    "\n",
    "O código começa instanciando um RandomForest Regressor, onde os hiperparâmetros `max_depth` e `min_samples_leaf` são configurados como 50 e 20, respectivamente. Esses valores influenciam a profundidade máxima de cada árvore na floresta e o número mínimo de amostras exigido para ser um nó folha, afetando assim a complexidade e a capacidade de generalização do modelo.\n",
    "\n",
    "Um pipeline é criado para encapsular o modelo RandomForest, juntamente com um processo de pré-processamento (`preproc`) e armazenamento em cache para otimização de desempenho.\n",
    "\n",
    "O treinamento do modelo ocorre por meio de validação cruzada, utilizando o logaritmo natural do target (`y_log`). A métrica RMSE é empregada para avaliar o desempenho do modelo em cada dobra da validação cruzada.\n",
    "\n",
    "Os resultados apresentados após o treinamento são o desvio padrão (`std()`) e a média (`mean()`) das pontuações de desempenho. O desvio padrão fornece uma medida da variabilidade do desempenho entre diferentes dobras da validação cruzada, enquanto a média indica a eficácia geral do modelo.\n",
    "\n",
    "Essa abordagem demonstra como um ensemble de árvores de decisão, como o RandomForest, pode oferecer melhor desempenho em comparação com uma única árvore de decisão, ao mesmo tempo em que mantém a capacidade de ajuste fino dos hiperparâmetros para otimização. A validação cruzada assegura uma avaliação robusta do desempenho do modelo em diferentes subconjuntos de dados."
   ]
  },
  {
   "cell_type": "markdown",
   "metadata": {},
   "source": [
    "### Boosted trees"
   ]
  },
  {
   "cell_type": "markdown",
   "metadata": {},
   "source": [
    "A análise do treinamento dos modelos **AdaBoost Regressor** e **Gradient Boosting Regressor** destaca a utilização de métodos de boosting, que combinam vários modelos mais fracos para formar um modelo mais robusto e preciso.\n",
    "\n",
    "O código começa instanciando um **AdaBoost Regressor**, que utiliza uma árvore de decisão como estimador base. Aqui, a estratégia é treinar iterativamente modelos sequenciais, dando mais peso às instâncias mal previstas em cada iteração. O pipeline encapsula o modelo AdaBoost, juntamente com o pré-processamento (`preproc`) e armazenamento em cache.\n",
    "\n",
    "O treinamento do modelo ocorre por meio de validação cruzada, utilizando o logaritmo natural do target (`y_log`). A métrica RMSE é empregada para avaliar o desempenho do modelo em cada dobra da validação cruzada.\n",
    "\n",
    "Os resultados apresentados após o treinamento são o desvio padrão (`std()`) e a média (`mean()`) das pontuações de desempenho. O desvio padrão fornece uma medida da variabilidade do desempenho entre diferentes dobras da validação cruzada, enquanto a média indica a eficácia geral do modelo.\n",
    "\n",
    "Em seguida, um **Gradient Boosting Regressor** é instanciado com um número fixo de estimadores (100) e sem informações verbosas durante o treinamento. Esse modelo, semelhante ao AdaBoost, constrói uma sequência de modelos mais fracos para corrigir os erros do modelo anterior.\n",
    "\n",
    "O treinamento e avaliação ocorrem da mesma forma que o AdaBoost, e posteriormente é realizado um processo de busca aleatória (`RandomizedSearchCV`) para otimização de hiperparâmetros. Essa busca explora diferentes combinações de hiperparâmetros, como o número de estimadores, a taxa de aprendizado, a profundidade máxima da árvore, entre outros. Os melhores hiperparâmetros e pontuações são exibidos ao final do treinamento.\n",
    "\n",
    "O código também inclui um bloco condicional para a visualização dos resultados da busca aleatória, utilizando gráficos de dispersão para analisar o impacto de alguns hiperparâmetros na pontuação do modelo."
   ]
  },
  {
   "cell_type": "markdown",
   "metadata": {},
   "source": [
    "### Stacking"
   ]
  },
  {
   "cell_type": "markdown",
   "metadata": {},
   "source": [
    "O treinamento e avaliação dos modelos **Voting Regressor** e **Stacking Regressor** envolvem a combinação de diversos modelos individuais para melhorar o desempenho geral. Ambos os métodos pertencem à categoria de *ensemble learning*, buscando explorar a diversidade entre os modelos base para alcançar melhores resultados.\n",
    "\n",
    "No código fornecido, primeiro, um **Voting Regressor** é criado. Ele integra quatro modelos diferentes: **Gradient Boosting Regressor (gboost)**, **AdaBoost Regressor (adaboost)**, **Ridge Regressor (ridge)** e **Support Vector Regressor (svm_rbf)**. Todos os modelos têm peso igual (`weights = [1, 1, 1, 1]`), e o número de estimadores no regressor de boosting é fixado em 100. O pipeline é construído usando o *preprocessamento* (`preproc`), o modelo *Voting Regressor* e o armazenamento em cache.\n",
    "\n",
    "O treinamento do modelo ocorre por meio de validação cruzada, utilizando o logaritmo natural do target (`y_log`). A métrica RMSE é empregada para avaliar o desempenho do modelo em cada dobra da validação cruzada. Os resultados apresentados após o treinamento são o desvio padrão (`std()`) e a média (`mean()`) das pontuações de desempenho.\n",
    "\n",
    "Em seguida, um **Stacking Regressor** é criado, utilizando uma estratégia de empilhamento. Os mesmos modelos base são combinados, e um regressor linear é utilizado como modelo final para aprender a combinação ideal dos resultados dos modelos base. O treinamento, a validação cruzada e a avaliação seguem um processo semelhante ao do *Voting Regressor*.\n",
    "\n",
    "Ambos os métodos (*Voting Regressor* e *Stacking Regressor*) procuram tirar vantagem da complementaridade entre os modelos base, potencialmente melhorando o desempenho em relação a cada modelo individualmente. A análise dos resultados, incluindo desvio padrão e média das pontuações, fornece insights sobre a estabilidade e eficácia geral desses métodos de ensemble no conjunto de dados específico."
   ]
  },
  {
   "cell_type": "markdown",
   "metadata": {},
   "source": [
    "###  XGBoost"
   ]
  },
  {
   "cell_type": "markdown",
   "metadata": {},
   "source": [
    "Neste trecho de código, são abordadas duas opções para treinar e avaliar um modelo **XGBoost** regressor. A escolha entre as opções dependerá das necessidades específicas, como a possibilidade de ajuste de hiperparâmetros através do *GridSearchCV* ou a aplicação de um critério de parada antecipada (*early stopping*) utilizando a biblioteca **XGBoost**.\n",
    "\n",
    "Na **Opção 1**, um modelo **XGBoost** é integrado ao pipeline do **Scikit-Learn**. Isso permite a utilização do método `cross_val_score` para realizar validação cruzada, possibilitando a busca pelos melhores hiperparâmetros através do *GridSearchCV*. O pipeline inclui o pré-processamento (`preproc`) e o modelo **XGBoost**. A métrica RMSE é utilizada durante a validação cruzada.\n",
    "\n",
    "Na **Opção 2**, o treinamento é realizado utilizando diretamente a biblioteca **XGBoost**. Neste caso, o conjunto de dados é dividido em treino (`X_train_preproc`, `y_train_log`) e validação (`X_eval_preproc`, `y_eval_log`). O treinamento ocorre com a função `fit` do **XGBoost**, e um critério de parada antecipada (`early_stopping_rounds=10`) é aplicado. Os resultados de desempenho são registrados ao longo das épocas de treinamento e posteriormente plotados.\n",
    "\n",
    "O código finaliza exibindo o melhor resultado de validação (`Best Validation Score`) obtido durante o treinamento do modelo **XGBoost**.\n",
    "\n",
    "Ambas as abordagens visam otimizar o desempenho do modelo **XGBoost** em relação à métrica RMSE, utilizando diferentes estratégias de integração com o **Scikit-Learn** e a biblioteca **XGBoost**. A análise dos resultados, especialmente o melhor escore de validação, fornece insights sobre a eficácia do modelo treinado."
   ]
  },
  {
   "cell_type": "markdown",
   "metadata": {},
   "source": [
    "# **Diferenças de treinamento encontradas**"
   ]
  },
  {
   "cell_type": "markdown",
   "metadata": {},
   "source": [
    "Analisando os treinamentos dos modelos de ensemble apresentados, podemos identificar algumas diferenças fundamentais em suas abordagens.\n",
    "\n",
    "**Modelos Lineares (Lasso, Ridge, ElasticNet, SGDRegressor):** Modelos lineares que ajustam pesos aos recursos do conjunto de dados, introduzindo diferentes formas de regularização para evitar overfitting.\n",
    "- Utilização de diferentes modelos lineares, como Ridge, Lasso e ElasticNet, que variam na penalização de coeficientes e regularização.\n",
    "- A transformação do target para a forma logarítmica (y_log) é explorada para melhorar o desempenho, especialmente ao usar modelos lineares.\n",
    "- Aplicação de validação cruzada (cross_val_score) para avaliação do desempenho do modelo em termos de RMSLE ou RMSE.\n",
    "- Realização de busca em grade (GridSearchCV) para encontrar os melhores hiperparâmetros, como o valor de alpha no caso do Ridge.\n",
    "\n",
    "No treinamento destes modelos, foi observado o impacto da regularização nos resultados. A escolha entre Ridge, Lasso e ElasticNet envolve o ajuste de hiperparâmetros, como o parâmetro de regularização alpha. O uso de GridSearchCV permite encontrar a melhor configuração para melhorar o desempenho.\n",
    "\n",
    "---\n",
    "\n",
    "**KNN (KNeighborsRegressor):** Um modelo baseado em instâncias que realiza previsões com base nas observações mais próximas no espaço de características, sendo sensível à distribuição local dos dados.\n",
    "- Utilização de um modelo de vizinhos mais próximos para regressão.\n",
    "- Transformação logarítmica do target (y_log) é aplicada.\n",
    "- Validação cruzada (cross_val_score) é utilizada para avaliar o desempenho do modelo.\n",
    "- Busca em grade (GridSearchCV) para encontrar o número ideal de vizinhos.\n",
    "\n",
    "O treinamento do KNN destaca a importância da escolha do número de vizinhos (n_neighbors). A busca por hiperparâmetros usando GridSearchCV destaca-se como uma prática para encontrar a configuração ótima.\n",
    "\n",
    "---\n",
    "\n",
    "**SVM (SVR):** Utiliza Support Vector Machines para regressão, mapeando os dados em um espaço dimensional superior e procurando o hiperplano que melhor se ajusta aos pontos de dados.\n",
    "- Uso de Support Vector Machines para regressão, explorando diferentes kernels (linear e rbf).\n",
    "- Transformação logarítmica do target (y_log) é aplicada.\n",
    "- Validação cruzada (cross_val_score) é usada para avaliar o desempenho do modelo.\n",
    "- Busca em grade (GridSearchCV) para encontrar os melhores hiperparâmetros, como C e epsilon.\n",
    "\n",
    "O treinamento do SVM mostrou variações notáveis entre os kernels linear e rbf. Enquanto o kernel linear é mais rápido, o kernel rbf exige a sintonia de hiperparâmetros adicionais, como C e epsilon. A busca por esses hiperparâmetros foi realizada para otimizar o desempenho.\n",
    "\n",
    "---\n",
    "\n",
    "**Decision Tree Regressor:** Uma árvore de decisão que divide o conjunto de dados em subconjuntos hierárquicos, fazendo previsões com base nas características dos dados.\n",
    "- Implementação de uma árvore de decisão para regressão com controle de profundidade (max_depth) e número mínimo de amostras por folha (min_samples_leaf).\n",
    "- Transformação logarítmica do target (y_log) é aplicada.\n",
    "- Validação cruzada (cross_val_score) é utilizada para avaliar o desempenho do modelo.\n",
    "\n",
    "A árvore de decisão revelou a importância de ajustar parâmetros como max_depth e min_samples_leaf para controlar a complexidade do modelo. Além disso, a variabilidade nos resultados destaca a sensibilidade a ajustes específicos.\n",
    "\n",
    "---\n",
    "\n",
    "**Random Forest Regressor:** Uma coleção de árvores de decisão, onde cada árvore contribui para a previsão final, proporcionando robustez e reduzindo o risco de overfitting.\n",
    "- Utilização de um modelo de floresta aleatória para regressão com parâmetros como profundidade máxima (max_depth) e número mínimo de amostras por folha (min_samples_leaf).\n",
    "- Transformação logarítmica do target (y_log) é aplicada.\n",
    "- Validação cruzada (cross_val_score) é usada para avaliar o desempenho do modelo.\n",
    "\n",
    "O treinamento do Random Forest evidenciou a estabilidade e a resistência ao overfitting oferecidas pela combinação de várias árvores. A variação nos resultados foi menor em comparação com uma única árvore de decisão.\n",
    "\n",
    "---\n",
    "\n",
    "**AdaBoost Regressor:** Um algoritmo que combina várias versões do mesmo modelo de aprendizado, ajustando o peso de cada modelo com base em seu desempenho anterior.\n",
    "- Aplicação do algoritmo AdaBoost com uma árvore de decisão como estimador base.\n",
    "- Transformação logarítmica do target (y_log) é aplicada.\n",
    "- Validação cruzada (cross_val_score) é utilizada para avaliar o desempenho do modelo.\n",
    "\n",
    "A abordagem boosting do AdaBoost destaca-se pelo ajuste dinâmico de pesos para modelos fracos. O desempenho é aprimorado à medida que modelos com desempenho inferior recebem mais ênfase.\n",
    "\n",
    "---\n",
    "\n",
    "**Gradient Boosting Regressor:** Constrói uma sequência de modelos fracos, onde cada novo modelo ajusta-se aos erros residuais dos modelos anteriores, melhorando a previsão global.\n",
    "- Uso do algoritmo Gradient Boosting com ajuste fino de hiperparâmetros, como o número de estimadores (n_estimators), taxa de aprendizado (learning_rate), e outros.\n",
    "- Transformação logarítmica do target (y_log) é aplicada.\n",
    "- Validação cruzada (cross_val_score) é usada para avaliar o desempenho do modelo.\n",
    "- Aplicação de uma pesquisa aleatória (RandomizedSearchCV) para encontrar os melhores hiperparâmetros.\n",
    "\n",
    "O treinamento em etapas iterativas do Gradient Boosting destaca a construção sequencial de modelos para corrigir os erros dos anteriores. A otimização de hiperparâmetros e a busca por configurações ideais são críticas para o sucesso.\n",
    "\n",
    "---\n",
    "\n",
    "**Voting Regressor:** Combina os resultados de vários modelos usando uma votação ponderada, onde a previsão final é uma média ponderada das previsões individuais.\n",
    "- Combinação de vários modelos (Gradient Boosting, AdaBoost, Ridge, SVM) por meio de um voting regressor, ponderando os resultados de cada modelo.\n",
    "- Transformação logarítmica do target (y_log) é aplicada.\n",
    "- Validação cruzada (cross_val_score) é utilizada para avaliar o desempenho do modelo.\n",
    "\n",
    "O ensemble por votação ponderada revela a importância da definição de pesos para diferentes modelos. O ajuste desses pesos pode ser crucial para obter um resultado agregado superior.\n",
    "\n",
    "---\n",
    "\n",
    "**Stacking Regressor:** Combina vários modelos em camadas, onde os resultados de modelos individuais servem como entrada para um modelo final.\n",
    "- Aplicação de um stacking regressor que combina modelos (Gradient Boosting, AdaBoost, Ridge, SVM) utilizando uma regressão linear como estimador final.\n",
    "- Transformação logarítmica do target (y_log) é aplicada.\n",
    "- Validação cruzada (cross_val_score) é utilizada para avaliar o desempenho do modelo.\n",
    "\n",
    "O treinamento em camadas destaca a interconexão de modelos, onde os resultados de modelos individuais são utilizados para treinar um modelo final. O StackingRegressor permite uma abordagem mais sofisticada para combinar os pontos fortes de diferentes modelos.\n",
    "\n",
    "---\n",
    "\n",
    "**XGBoost Regressor:**  Utiliza o algoritmo XGBoost, uma versão aprimorada de gradient boosting, integrado a um pipeline Scikit-Learn ou diretamente com a biblioteca XGBoost, permitindo ajuste de hiperparâmetros eficiente.\n",
    "- Treinamento de um modelo XGBoost integrado a um pipeline do Scikit-Learn, permitindo o uso de GridSearchCV para ajuste de hiperparâmetros.\n",
    "- Transformação logarítmica do target (y_log) é aplicada.\n",
    "- Validação cruzada (cross_val_score) é usada para avaliar o desempenho do modelo.\n",
    "- Outra opção utiliza diretamente a biblioteca XGBoost, permitindo early stopping para melhorar a eficiência do treinamento.\n",
    "\n",
    "O treinamento com XGBoost enfatiza a eficiência do ajuste de hiperparâmetros, permitindo a integração em pipelines do Scikit-Learn ou usando a biblioteca XGBoost diretamente. O uso do critério de early stopping demonstra uma técnica eficaz para evitar overfitting."
   ]
  }
 ],
 "metadata": {
  "kernelspec": {
   "display_name": "Python 3 (ipykernel)",
   "language": "python",
   "name": "python3"
  },
  "language_info": {
   "codemirror_mode": {
    "name": "ipython",
    "version": 3
   },
   "file_extension": ".py",
   "mimetype": "text/x-python",
   "name": "python",
   "nbconvert_exporter": "python",
   "pygments_lexer": "ipython3",
   "version": "3.11.7"
  },
  "toc": {
   "base_numbering": 1,
   "nav_menu": {},
   "number_sections": true,
   "sideBar": true,
   "skip_h1_title": false,
   "title_cell": "Table of Contents",
   "title_sidebar": "Contents",
   "toc_cell": false,
   "toc_position": {},
   "toc_section_display": true,
   "toc_window_display": false
  }
 },
 "nbformat": 4,
 "nbformat_minor": 4
}
